{
 "cells": [
  {
   "cell_type": "markdown",
   "metadata": {},
   "source": [
    "<div style=\"background:#222222; color:#ffffff; padding:20px\">\n",
    "    <h2 align=\"center\">Deep Learning Fundamentals</h2>\n",
    "    <h2 align=\"center\" style=\"color:#01ff84\">Multiclass Clasification: MNIST</h2>\n",
    "<div>"
   ]
  },
  {
   "cell_type": "markdown",
   "metadata": {},
   "source": [
    "## Imports"
   ]
  },
  {
   "cell_type": "code",
   "execution_count": 1,
   "metadata": {},
   "outputs": [],
   "source": [
    "%matplotlib inline\n",
    "%config InlineBackend.figure_format = 'retina'\n",
    "\n",
    "from collections import OrderedDict\n",
    "\n",
    "import numpy as np\n",
    "import matplotlib.pyplot as plt\n",
    "import time\n",
    "\n",
    "import torch\n",
    "from torch import nn\n",
    "from torch import optim\n",
    "import torch.nn.functional as F\n",
    "\n",
    "from torchvision import datasets, transforms"
   ]
  },
  {
   "cell_type": "markdown",
   "metadata": {},
   "source": [
    "## Auxliary plotting function"
   ]
  },
  {
   "cell_type": "code",
   "execution_count": 2,
   "metadata": {},
   "outputs": [],
   "source": [
    "# https://discuss.pytorch.org/t/view-classify-in-module-helper/30279/6\n",
    "\n",
    "def view_classify(img, ps):\n",
    "\n",
    "    ps = ps.data.numpy().squeeze()\n",
    "\n",
    "    fig, (ax1, ax2) = plt.subplots(figsize=(6,9), ncols=2)\n",
    "    ax1.imshow(img.resize_(1, 28, 28).numpy().squeeze())\n",
    "    ax1.axis('off')\n",
    "    ax2.barh(np.arange(10), ps)\n",
    "    ax2.set_aspect(0.1)\n",
    "    ax2.set_yticks(np.arange(10))\n",
    "    ax2.set_yticklabels(np.arange(10))\n",
    "    ax2.set_title('Class Probability')\n",
    "    ax2.set_xlim(0, 1.1)"
   ]
  },
  {
   "cell_type": "markdown",
   "metadata": {},
   "source": [
    "# Load MNIST Dataset\n",
    "First up, we need to get our dataset. This is provided through the `torchvision` package. The code below will download the MNIST dataset, then create training and test datasets for us. Don't worry too much about the details here, you'll learn more about this later."
   ]
  },
  {
   "cell_type": "code",
   "execution_count": 3,
   "metadata": {},
   "outputs": [],
   "source": [
    "# Define a transform to normalize the data (Preprocessing)\n",
    "transform = transforms.Compose([transforms.ToTensor(), transforms.Normalize((0.5), (0.5)) ])\n",
    "\n",
    "# Download and load the training data\n",
    "trainset    = datasets.MNIST('MNIST_data/', download=True, train=True, transform=transform)\n",
    "trainloader = torch.utils.data.DataLoader(trainset, batch_size=64, shuffle=True)\n",
    "\n",
    "# Download and load the test data\n",
    "testset    = datasets.MNIST('MNIST_data/', download=True, train=False, transform=transform)\n",
    "testloader = torch.utils.data.DataLoader(testset, batch_size=64, shuffle=True)"
   ]
  },
  {
   "cell_type": "code",
   "execution_count": 4,
   "metadata": {},
   "outputs": [],
   "source": [
    "dataiter = iter(trainloader)\n",
    "images, labels = dataiter.next()"
   ]
  },
  {
   "cell_type": "markdown",
   "metadata": {},
   "source": [
    "We have the training data loaded into `trainloader` and we make that an iterator with `iter(trainloader)`. We'd use this to loop through the dataset for training, but here I'm just grabbing the first batch so we can check out the data. We can see below that `images` is just a tensor with size (64, 1, 28, 28). So, 64 images per batch, 1 color channel, and 28x28 images."
   ]
  },
  {
   "cell_type": "code",
   "execution_count": 5,
   "metadata": {},
   "outputs": [
    {
     "data": {
      "image/png": "[encoded data removed]",
      "text/plain": [
       "<Figure size 432x288 with 1 Axes>"
      ]
     },
     "metadata": {
      "image/png": {
       "height": 248,
       "width": 251
      },
      "needs_background": "light"
     },
     "output_type": "display_data"
    }
   ],
   "source": [
    "plt.imshow(images[1].numpy().squeeze(), cmap='Greys_r');"
   ]
  },
  {
   "cell_type": "markdown",
   "metadata": {},
   "source": [
    "## Building networks with PyTorch\n",
    "\n",
    "Here I'll use PyTorch to build a simple feedfoward network to classify the MNIST images. That is, the network will receive a digit image as input and predict the digit in the image.\n",
    "\n",
    "<img src=\"assets/mlp_mnist.png\" width=600px>\n",
    "\n",
    "To build a neural network with PyTorch, you use the `torch.nn` module. The network itself is a class inheriting from `torch.nn.Module`. You define each of the operations separately, like `nn.Linear(784, 128)` for a fully connected linear layer with 784 inputs and 128 units.\n",
    "\n",
    "The class needs to include a `forward` method that implements the forward pass through the network. In this method, you pass some input tensor `x` through each of the operations you defined earlier. The `torch.nn` module also has functional equivalents for things like ReLUs in `torch.nn.functional`. This module is usually imported as `F`. Then to use a ReLU activation on some layer (which is just a tensor), you'd do `F.relu(x)`. Below are a few different commonly used activation functions.\n",
    "\n",
    "<img src=\"assets/activation.png\" width=700px>\n",
    "\n",
    "So, for this network, I'll build it with three fully connected layers, then a softmax output for predicting classes. The softmax function is similar to the sigmoid in that it squashes inputs between 0 and 1, but it's also normalized so that all the values sum to one like a proper probability distribution."
   ]
  },
  {
   "cell_type": "code",
   "execution_count": 6,
   "metadata": {},
   "outputs": [
    {
     "data": {
      "text/plain": [
       "Network(\n",
       "  (fc1): Linear(in_features=784, out_features=128, bias=True)\n",
       "  (fc2): Linear(in_features=128, out_features=64, bias=True)\n",
       "  (fc3): Linear(in_features=64, out_features=10, bias=True)\n",
       ")"
      ]
     },
     "execution_count": 6,
     "metadata": {},
     "output_type": "execute_result"
    }
   ],
   "source": [
    "class Network(nn.Module):\n",
    "    \n",
    "    # Defining the layers, 128, 64, 10 units each\n",
    "    def __init__(self):\n",
    "        super().__init__()\n",
    "        self.fc1 = nn.Linear(784, 128)\n",
    "        self.fc2 = nn.Linear(128, 64)\n",
    "        self.fc3 = nn.Linear(64, 10)\n",
    "        \n",
    "    # Forward pass through the network, returns the output logits\n",
    "    def forward(self, x):\n",
    "        x = self.fc1(x)\n",
    "        x = F.relu(x)\n",
    "        x = self.fc2(x)\n",
    "        x = F.relu(x)\n",
    "        x = self.fc3(x)\n",
    "        x = F.softmax(x, dim=1)\n",
    "        return x\n",
    "\n",
    "model = Network()\n",
    "model"
   ]
  },
  {
   "cell_type": "markdown",
   "metadata": {},
   "source": [
    "### Sequential API\n",
    "PyTorch provides a convenient way to build networks like this where a tensor is passed sequentially through operations, `nn.Sequential` ([documentation](https://pytorch.org/docs/master/nn.html#torch.nn.Sequential)). Using this to build the equivalent network:"
   ]
  },
  {
   "cell_type": "code",
   "execution_count": 7,
   "metadata": {},
   "outputs": [
    {
     "name": "stdout",
     "output_type": "stream",
     "text": [
      "Sequential(\n",
      "  (0): Linear(in_features=784, out_features=128, bias=True)\n",
      "  (1): ReLU()\n",
      "  (2): Linear(in_features=128, out_features=64, bias=True)\n",
      "  (3): ReLU()\n",
      "  (4): Linear(in_features=64, out_features=10, bias=True)\n",
      "  (5): Softmax(dim=1)\n",
      ")\n"
     ]
    }
   ],
   "source": [
    "# Hyperparameters for our network\n",
    "input_size   = 784\n",
    "hidden_sizes = [128, 64]\n",
    "output_size   = 10\n",
    "\n",
    "# Build a feed-forward network\n",
    "model = nn.Sequential(nn.Linear(input_size, hidden_sizes[0]),\n",
    "                      nn.ReLU(),\n",
    "                      nn.Linear(hidden_sizes[0], hidden_sizes[1]),\n",
    "                      nn.ReLU(),\n",
    "                      nn.Linear(hidden_sizes[1], output_size),\n",
    "                      nn.Softmax(dim=1))\n",
    "print(model)"
   ]
  },
  {
   "cell_type": "markdown",
   "metadata": {},
   "source": [
    "You can also pass in an `OrderedDict` to name the individual layers and operations. Note that a dictionary keys must be unique, so _each operation must have a different name_."
   ]
  },
  {
   "cell_type": "code",
   "execution_count": 8,
   "metadata": {},
   "outputs": [
    {
     "data": {
      "text/plain": [
       "Sequential(\n",
       "  (fc1): Linear(in_features=784, out_features=128, bias=True)\n",
       "  (relu1): ReLU()\n",
       "  (fc2): Linear(in_features=128, out_features=64, bias=True)\n",
       "  (relu2): ReLU()\n",
       "  (output): Linear(in_features=64, out_features=10, bias=True)\n",
       "  (softmax): Softmax(dim=1)\n",
       ")"
      ]
     },
     "execution_count": 8,
     "metadata": {},
     "output_type": "execute_result"
    }
   ],
   "source": [
    "model = nn.Sequential(OrderedDict([\n",
    "          ('fc1',   nn.Linear(input_size, hidden_sizes[0])),\n",
    "          ('relu1', nn.ReLU()),\n",
    "          ('fc2',   nn.Linear(hidden_sizes[0], hidden_sizes[1])),\n",
    "          ('relu2', nn.ReLU()),\n",
    "          ('output', nn.Linear(hidden_sizes[1], output_size)),\n",
    "          ('softmax', nn.Softmax(dim=1))]))\n",
    "model"
   ]
  },
  {
   "cell_type": "markdown",
   "metadata": {},
   "source": [
    "### Initializing weights and biases\n",
    "\n",
    "The weights and such are automatically initialized for you, but it's possible to customize how they are initialized. The weights and biases are tensors attached to the layer you defined, you can get them with `model.fc1.weight` for instance."
   ]
  },
  {
   "cell_type": "code",
   "execution_count": 9,
   "metadata": {},
   "outputs": [
    {
     "name": "stdout",
     "output_type": "stream",
     "text": [
      "Parameter containing:\n",
      "tensor([[ 2.6930e-02,  5.1760e-03, -3.0816e-02,  ...,  2.5405e-02,\n",
      "          2.1059e-02,  1.1357e-02],\n",
      "        [-1.1511e-03,  1.2379e-03, -2.7165e-02,  ...,  9.3434e-05,\n",
      "         -2.8945e-02, -5.3872e-03],\n",
      "        [ 1.0927e-02, -2.2314e-03, -2.1196e-02,  ..., -2.6866e-02,\n",
      "          2.7343e-02, -3.3868e-02],\n",
      "        ...,\n",
      "        [ 3.1075e-02,  9.4052e-03,  1.9015e-02,  ...,  2.5859e-03,\n",
      "          2.2905e-02, -1.0483e-02],\n",
      "        [-5.4933e-03,  1.8289e-02,  1.5977e-02,  ...,  1.2861e-02,\n",
      "         -2.0460e-02, -1.3136e-02],\n",
      "        [-1.2938e-02,  2.2528e-02,  8.8893e-03,  ..., -1.6228e-02,\n",
      "          9.4643e-03,  3.2286e-02]], requires_grad=True)\n",
      "Parameter containing:\n",
      "tensor([ 0.0171, -0.0148, -0.0064, -0.0313, -0.0200,  0.0068, -0.0258,  0.0148,\n",
      "         0.0143,  0.0210, -0.0234,  0.0056,  0.0202, -0.0233, -0.0194, -0.0035,\n",
      "        -0.0146,  0.0158,  0.0084, -0.0205,  0.0337,  0.0222, -0.0005, -0.0147,\n",
      "         0.0064,  0.0327,  0.0066, -0.0335,  0.0212,  0.0253,  0.0233, -0.0076,\n",
      "         0.0222, -0.0133, -0.0252,  0.0178, -0.0307, -0.0143, -0.0014, -0.0125,\n",
      "         0.0037, -0.0101,  0.0135, -0.0063,  0.0198,  0.0117, -0.0218,  0.0135,\n",
      "        -0.0248,  0.0227, -0.0276,  0.0058, -0.0135, -0.0304,  0.0317,  0.0138,\n",
      "        -0.0156,  0.0161,  0.0029,  0.0078,  0.0067, -0.0086,  0.0132,  0.0030,\n",
      "        -0.0189,  0.0228,  0.0155,  0.0060,  0.0183,  0.0019, -0.0158, -0.0149,\n",
      "        -0.0314,  0.0320,  0.0300,  0.0318, -0.0060, -0.0146, -0.0013,  0.0016,\n",
      "         0.0259,  0.0203,  0.0076, -0.0013,  0.0187,  0.0309, -0.0075, -0.0161,\n",
      "        -0.0338,  0.0350, -0.0109,  0.0190, -0.0123, -0.0275, -0.0038,  0.0221,\n",
      "         0.0239,  0.0340,  0.0152,  0.0200, -0.0028,  0.0173, -0.0158, -0.0060,\n",
      "        -0.0268, -0.0097,  0.0269,  0.0158,  0.0114,  0.0047, -0.0117,  0.0250,\n",
      "         0.0060,  0.0219, -0.0284, -0.0305, -0.0160,  0.0152,  0.0198, -0.0100,\n",
      "         0.0241,  0.0268, -0.0287,  0.0032,  0.0023, -0.0150,  0.0159, -0.0044],\n",
      "       requires_grad=True)\n"
     ]
    }
   ],
   "source": [
    "print(model.fc1.weight)\n",
    "print(model.fc1.bias)"
   ]
  },
  {
   "cell_type": "markdown",
   "metadata": {},
   "source": [
    "For custom initialization, we want to modify these tensors in place. These are actually autograd *Variables*, so we need to get back the actual tensors with `model.fc1.weight.data`. Once we have the tensors, we can fill them with zeros (for biases) or random normal values."
   ]
  },
  {
   "cell_type": "code",
   "execution_count": 10,
   "metadata": {},
   "outputs": [
    {
     "data": {
      "text/plain": [
       "tensor([0., 0., 0., 0., 0., 0., 0., 0., 0., 0., 0., 0., 0., 0., 0., 0., 0., 0., 0., 0., 0., 0., 0., 0.,\n",
       "        0., 0., 0., 0., 0., 0., 0., 0., 0., 0., 0., 0., 0., 0., 0., 0., 0., 0., 0., 0., 0., 0., 0., 0.,\n",
       "        0., 0., 0., 0., 0., 0., 0., 0., 0., 0., 0., 0., 0., 0., 0., 0., 0., 0., 0., 0., 0., 0., 0., 0.,\n",
       "        0., 0., 0., 0., 0., 0., 0., 0., 0., 0., 0., 0., 0., 0., 0., 0., 0., 0., 0., 0., 0., 0., 0., 0.,\n",
       "        0., 0., 0., 0., 0., 0., 0., 0., 0., 0., 0., 0., 0., 0., 0., 0., 0., 0., 0., 0., 0., 0., 0., 0.,\n",
       "        0., 0., 0., 0., 0., 0., 0., 0.])"
      ]
     },
     "execution_count": 10,
     "metadata": {},
     "output_type": "execute_result"
    }
   ],
   "source": [
    "# Set biases to all zeros\n",
    "model.fc1.bias.data.fill_(0)"
   ]
  },
  {
   "cell_type": "code",
   "execution_count": 11,
   "metadata": {},
   "outputs": [
    {
     "data": {
      "text/plain": [
       "tensor([[-5.3254e-03, -1.1352e-03, -9.4341e-03,  ..., -1.7727e-03,\n",
       "          6.1050e-03,  8.0142e-03],\n",
       "        [ 1.3762e-03, -1.2067e-02, -1.1094e-02,  ..., -7.4162e-03,\n",
       "          2.3698e-03,  2.3537e-02],\n",
       "        [ 3.3477e-03,  1.8991e-02, -5.2631e-04,  ...,  2.9532e-03,\n",
       "          9.5014e-03,  4.4105e-04],\n",
       "        ...,\n",
       "        [ 1.0674e-02,  1.1041e-02,  2.4017e-02,  ..., -1.8611e-03,\n",
       "         -1.1658e-02,  2.7582e-04],\n",
       "        [-7.1210e-05,  1.4243e-02,  6.6686e-03,  ..., -2.3748e-03,\n",
       "          1.4672e-02,  3.1454e-03],\n",
       "        [-5.3799e-03,  1.1971e-02,  7.3917e-03,  ...,  5.1727e-03,\n",
       "          2.6033e-02, -5.5125e-03]])"
      ]
     },
     "execution_count": 11,
     "metadata": {},
     "output_type": "execute_result"
    }
   ],
   "source": [
    "# sample from random normal with standard dev = 0.01\n",
    "model.fc1.weight.data.normal_(std=0.01)"
   ]
  },
  {
   "cell_type": "markdown",
   "metadata": {},
   "source": [
    "### STEP 1: Forward pass\n",
    "\n",
    "Now that we have a network, let's see what happens when we pass in an image. This is called the forward pass. We're going to convert the image data into a tensor, then pass it through the operations defined by the network architecture."
   ]
  },
  {
   "cell_type": "code",
   "execution_count": 12,
   "metadata": {},
   "outputs": [
    {
     "data": {
      "image/png": "[encoded data removed]",
      "text/plain": [
       "<Figure size 432x648 with 2 Axes>"
      ]
     },
     "metadata": {
      "image/png": {
       "height": 195,
       "width": 349
      },
      "needs_background": "light"
     },
     "output_type": "display_data"
    }
   ],
   "source": [
    "# Grab some data \n",
    "dataiter = iter(trainloader)\n",
    "images, labels = dataiter.next()\n",
    "\n",
    "# Resize images into a 1D vector, new shape is (batch size, color channels, image pixels) \n",
    "images.resize_(64, 1, 784)\n",
    "# or images.resize_(images.shape[0], 1, 784) to not automatically get batch size\n",
    "\n",
    "# Forward pass through the network\n",
    "img_idx = 0\n",
    "ps = model.forward(images[img_idx,:])\n",
    "\n",
    "img = images[img_idx]\n",
    "view_classify(img.view(1, 28, 28), ps)"
   ]
  },
  {
   "cell_type": "markdown",
   "metadata": {},
   "source": [
    "As you can see above, our network has basically no idea what this digit is. It's because we haven't trained it yet, all the weights are random!"
   ]
  },
  {
   "cell_type": "markdown",
   "metadata": {},
   "source": [
    "# Training Neural Networks\n",
    "\n",
    "The network we built isn't so smart, it doesn't know anything about our handwritten digits. Neural networks with non-linear activations work like universal function approximators. There is some function that maps your input to the output. For example, images of handwritten digits to class probabilities. The power of neural networks is that we can train them to approximate this function, and basically any function given enough data and compute time.\n",
    "\n",
    "<img src=\"assets/function_approx.png\" width=500px>\n",
    "\n",
    "At first the network is naive, it doesn't know the function mapping the inputs to the outputs. We train the network by showing it examples of real data, then adjusting the network parameters such that it approximates this function.\n",
    "\n",
    "To find these parameters, we need to know how poorly the network is predicting the real outputs. For this we calculate a **loss function** (also called the cost), a measure of our prediction error. For example, the mean squared loss is often used in regression and binary classification problems\n",
    "\n",
    "$$\n",
    "\\ell = \\frac{1}{2n}\\sum_i^n{\\left(y_i - \\hat{y}_i\\right)^2}\n",
    "$$\n",
    "\n",
    "where $n$ is the number of training examples, $y_i$ are the true labels, and $\\hat{y}_i$ are the predicted labels.\n",
    "\n",
    "By minimizing this loss with respect to the network parameters, we can find configurations where the loss is at a minimum and the network is able to predict the correct labels with high accuracy. We find this minimum using a process called **gradient descent**. The gradient is the slope of the loss function and points in the direction of fastest change. To get to the minimum in the least amount of time, we then want to follow the gradient (downwards). You can think of this like descending a mountain by following the steepest slope to the base.\n",
    "\n",
    "<img src='assets/gradient_descent.png' width=350px>"
   ]
  },
  {
   "cell_type": "markdown",
   "metadata": {},
   "source": [
    "## Backpropagation\n",
    "\n",
    "For single layer networks, gradient descent is simple to implement. However, it's more complicated for deeper, multilayer neural networks like the one we've built. Complicated enough that it took about 30 years before researchers figured out how to train multilayer networks, although it's straightforward once you learn about it. \n",
    "\n",
    "This is done through **backpropagation** which is really just an application of the chain rule from calculus. It's easiest to understand if we convert a two layer network into a graph representation.\n",
    "\n",
    "<img src='assets/w1_backprop_graph.png' width=400px>\n",
    "\n",
    "In the forward pass through the network, our data and operations go from right to left here. To train the weights with gradient descent, we propagate the gradient of the cost backwards through the network. Mathematically, this is really just calculating the gradient of the loss with respect to the weights using the chain rule.\n",
    "\n",
    "$$\n",
    "\\frac{\\partial \\ell}{\\partial w_1} = \\frac{\\partial l_1}{\\partial w_1} \\frac{\\partial s}{\\partial l_1} \\frac{\\partial l_2}{\\partial s} \\frac{\\partial \\ell}{\\partial l_2}\n",
    "$$\n",
    "\n",
    "We update our weights using this gradient with some learning rate $\\alpha$. \n",
    "\n",
    "$$\n",
    "w^\\prime = w - \\alpha \\frac{\\partial \\ell}{\\partial w}\n",
    "$$\n",
    "\n",
    "The learning rate is set such that the weight update steps are small enough that the iterative method settles in a minimum.\n",
    "\n",
    "The first thing we need to do for training is define our loss function. In PyTorch, you'll usually see this as `criterion`. Here we're using softmax output, so we want to use `criterion = nn.CrossEntropyLoss()` as our loss. Later when training, you use `loss = criterion(output, targets)` to calculate the actual loss.\n",
    "\n",
    "We also need to define the optimizer we're using, SGD or Adam, or something along those lines. Here I'll just use SGD with `torch.optim.SGD`, passing in the network parameters and the learning rate."
   ]
  },
  {
   "cell_type": "markdown",
   "metadata": {},
   "source": [
    "## Autograd\n",
    "\n",
    "Torch provides a module, `autograd`, for automatically calculating the gradient of tensors. It does this by keeping track of operations performed on tensors. To make sure PyTorch keeps track of operations on a tensor and calculates the gradients, you need to set `requires_grad` on a tensor. You can do this at creation with the `requires_grad` keyword, or at any time with `x.requires_grad_(True)`.\n",
    "\n",
    "You can turn off gradients for a block of code with the `torch.no_grad()` content:\n",
    "```python\n",
    "x = torch.zeros(1, requires_grad=True)\n",
    ">>> with torch.no_grad():\n",
    "...     y = x * 2\n",
    ">>> y.requires_grad\n",
    "False\n",
    "```\n",
    "\n",
    "Also, you can turn on or off gradients altogether with `torch.set_grad_enabled(True|False)`.\n",
    "\n",
    "The gradients are computed with respect to some variable `z` with `z.backward()`. This does a backward pass through the operations that created `z`."
   ]
  },
  {
   "cell_type": "code",
   "execution_count": 13,
   "metadata": {},
   "outputs": [
    {
     "name": "stdout",
     "output_type": "stream",
     "text": [
      "tensor([[ 0.1526,  0.7714],\n",
      "        [-1.0304, -0.6019]], requires_grad=True)\n"
     ]
    }
   ],
   "source": [
    "x = torch.randn(2,2, requires_grad=True)\n",
    "print(x)"
   ]
  },
  {
   "cell_type": "code",
   "execution_count": 14,
   "metadata": {},
   "outputs": [
    {
     "name": "stdout",
     "output_type": "stream",
     "text": [
      "tensor([[0.0233, 0.5950],\n",
      "        [1.0618, 0.3622]], grad_fn=<PowBackward0>)\n"
     ]
    }
   ],
   "source": [
    "y = x**2\n",
    "print(y)"
   ]
  },
  {
   "cell_type": "markdown",
   "metadata": {},
   "source": [
    "Below we can see the operation that created `y`, a power operation `PowBackward0`."
   ]
  },
  {
   "cell_type": "code",
   "execution_count": 15,
   "metadata": {},
   "outputs": [
    {
     "name": "stdout",
     "output_type": "stream",
     "text": [
      "<PowBackward0 object at 0x7fa819007610>\n"
     ]
    }
   ],
   "source": [
    "## grad_fn shows the function that generated this variable\n",
    "print(y.grad_fn)"
   ]
  },
  {
   "cell_type": "markdown",
   "metadata": {},
   "source": [
    "The autgrad module keeps track of these operations and knows how to calculate the gradient for each one. In this way, it's able to calculate the gradients for a chain of operations, with respect to any one tensor. Let's reduce the tensor `y` to a scalar value, the mean."
   ]
  },
  {
   "cell_type": "code",
   "execution_count": 16,
   "metadata": {},
   "outputs": [
    {
     "name": "stdout",
     "output_type": "stream",
     "text": [
      "tensor(0.5106, grad_fn=<MeanBackward0>)\n"
     ]
    }
   ],
   "source": [
    "z = y.mean()\n",
    "print(z)"
   ]
  },
  {
   "cell_type": "markdown",
   "metadata": {},
   "source": [
    "You can check the gradients for `x` and `y` but they are empty currently."
   ]
  },
  {
   "cell_type": "code",
   "execution_count": 17,
   "metadata": {},
   "outputs": [
    {
     "name": "stdout",
     "output_type": "stream",
     "text": [
      "None\n"
     ]
    }
   ],
   "source": [
    "print(x.grad)"
   ]
  },
  {
   "cell_type": "markdown",
   "metadata": {},
   "source": [
    "To calculate the gradients, you need to run the `.backward` method on a Variable, `z` for example. This will calculate the gradient for `z` with respect to `x`\n",
    "\n",
    "$$\n",
    "\\frac{\\partial z}{\\partial x} = \\frac{\\partial}{\\partial x}\\left[\\frac{1}{n}\\sum_i^n x_i^2\\right] = \\frac{x}{2}\n",
    "$$"
   ]
  },
  {
   "cell_type": "code",
   "execution_count": 18,
   "metadata": {},
   "outputs": [
    {
     "name": "stdout",
     "output_type": "stream",
     "text": [
      "tensor([[ 0.0763,  0.3857],\n",
      "        [-0.5152, -0.3009]])\n",
      "tensor([[ 0.0763,  0.3857],\n",
      "        [-0.5152, -0.3009]], grad_fn=<DivBackward0>)\n"
     ]
    }
   ],
   "source": [
    "z.backward()\n",
    "print(x.grad)\n",
    "print(x/2)"
   ]
  },
  {
   "cell_type": "markdown",
   "metadata": {},
   "source": [
    "These gradients calculations are particularly useful for neural networks. For training we need the gradients of the weights with respect to the cost. With PyTorch, we run data forward through the network to calculate the cost, then, go backwards to calculate the gradients with respect to the cost. Once we have the gradients we can make a gradient descent step. "
   ]
  },
  {
   "cell_type": "markdown",
   "metadata": {},
   "source": [
    "I'll build a network with `nn.Sequential` here. Only difference from the last part is I'm not actually using softmax on the output, but instead just using the raw output from the last layer. This is because the output from softmax is a probability distribution. Often, the output will have values really close to zero or really close to one. Due to [inaccuracies with representing numbers as floating points](https://docs.python.org/3/tutorial/floatingpoint.html), computations with a softmax output can lose accuracy and become unstable. To get around this, we'll use the raw output, called the **logits**, to calculate the loss."
   ]
  },
  {
   "cell_type": "code",
   "execution_count": 19,
   "metadata": {},
   "outputs": [],
   "source": [
    "# Hyperparameters for our network\n",
    "input_size   = 784\n",
    "hidden_sizes = [128, 64]\n",
    "output_size  = 10\n",
    "\n",
    "# Build a feed-forward network\n",
    "model = nn.Sequential(OrderedDict([\n",
    "          ('fc1', nn.Linear(input_size, hidden_sizes[0])),\n",
    "          ('relu1', nn.ReLU()),\n",
    "          ('fc2', nn.Linear(hidden_sizes[0], hidden_sizes[1])),\n",
    "          ('relu2', nn.ReLU()),\n",
    "          ('logits', nn.Linear(hidden_sizes[1], output_size))]))"
   ]
  },
  {
   "cell_type": "markdown",
   "metadata": {},
   "source": [
    "## Training the network!\n",
    "\n",
    "The first thing we need to do for training is define our loss function. In PyTorch, you'll usually see this as `criterion`. Here we're using softmax output, so we want to use `criterion = nn.CrossEntropyLoss()` as our loss. Later when training, you use `loss = criterion(output, targets)` to calculate the actual loss.\n",
    "\n",
    "We also need to define the optimizer we're using, SGD or Adam, or something along those lines. Here I'll just use SGD with `torch.optim.SGD`, passing in the network parameters and the learning rate."
   ]
  },
  {
   "cell_type": "code",
   "execution_count": 20,
   "metadata": {},
   "outputs": [],
   "source": [
    "criterion = nn.CrossEntropyLoss()\n",
    "optimizer = optim.SGD(model.parameters(), lr=0.01)"
   ]
  },
  {
   "cell_type": "markdown",
   "metadata": {},
   "source": [
    "First, let's consider just one learning step before looping through all the data. The general process with PyTorch:\n",
    "\n",
    "* Make a forward pass through the network to get the logits \n",
    "* Use the logits to calculate the loss\n",
    "* Perform a backward pass through the network with `loss.backward()` to calculate the gradients\n",
    "* Take a step with the optimizer to update the weights\n",
    "\n",
    "Below I'll go through one training step and print out the weights and gradients so you can see how it changes."
   ]
  },
  {
   "cell_type": "code",
   "execution_count": 21,
   "metadata": {},
   "outputs": [
    {
     "name": "stdout",
     "output_type": "stream",
     "text": [
      "Initial weights -  Parameter containing:\n",
      "tensor([[ 0.0190,  0.0194, -0.0045,  ..., -0.0243,  0.0275, -0.0116],\n",
      "        [ 0.0030,  0.0200,  0.0350,  ...,  0.0017,  0.0035, -0.0265],\n",
      "        [ 0.0106,  0.0047,  0.0191,  ..., -0.0043, -0.0119,  0.0040],\n",
      "        ...,\n",
      "        [-0.0232, -0.0303,  0.0003,  ..., -0.0236, -0.0066,  0.0069],\n",
      "        [ 0.0350,  0.0276, -0.0148,  ...,  0.0331, -0.0126, -0.0259],\n",
      "        [-0.0239, -0.0056, -0.0345,  ...,  0.0165, -0.0049,  0.0116]],\n",
      "       requires_grad=True)\n",
      "Gradient - tensor([[ 0.0009,  0.0009,  0.0009,  ...,  0.0009,  0.0009,  0.0009],\n",
      "        [ 0.0003,  0.0003,  0.0003,  ...,  0.0003,  0.0003,  0.0003],\n",
      "        [-0.0013, -0.0013, -0.0013,  ..., -0.0013, -0.0013, -0.0013],\n",
      "        ...,\n",
      "        [ 0.0002,  0.0002,  0.0002,  ...,  0.0002,  0.0002,  0.0002],\n",
      "        [-0.0013, -0.0013, -0.0013,  ..., -0.0013, -0.0013, -0.0013],\n",
      "        [-0.0004, -0.0004, -0.0004,  ..., -0.0004, -0.0004, -0.0004]])\n"
     ]
    }
   ],
   "source": [
    "print('Initial weights - ', model.fc1.weight)\n",
    "\n",
    "images, labels = next(iter(trainloader))\n",
    "images.resize_(64, 784)\n",
    "\n",
    "# Clear the gradients, do this because gradients are accumulated\n",
    "optimizer.zero_grad()\n",
    "\n",
    "# Forward pass, then backward pass, then update weights\n",
    "output = model.forward(images)\n",
    "loss = criterion(output, labels)\n",
    "loss.backward()\n",
    "print('Gradient -', model.fc1.weight.grad)\n",
    "optimizer.step()"
   ]
  },
  {
   "cell_type": "code",
   "execution_count": 22,
   "metadata": {},
   "outputs": [
    {
     "name": "stdout",
     "output_type": "stream",
     "text": [
      "Updated weights -  Parameter containing:\n",
      "tensor([[ 0.0190,  0.0194, -0.0046,  ..., -0.0244,  0.0275, -0.0116],\n",
      "        [ 0.0030,  0.0200,  0.0350,  ...,  0.0017,  0.0035, -0.0265],\n",
      "        [ 0.0106,  0.0047,  0.0191,  ..., -0.0043, -0.0119,  0.0040],\n",
      "        ...,\n",
      "        [-0.0232, -0.0303,  0.0003,  ..., -0.0236, -0.0066,  0.0069],\n",
      "        [ 0.0350,  0.0276, -0.0148,  ...,  0.0332, -0.0126, -0.0259],\n",
      "        [-0.0239, -0.0056, -0.0345,  ...,  0.0165, -0.0049,  0.0116]],\n",
      "       requires_grad=True)\n"
     ]
    }
   ],
   "source": [
    "print('Updated weights - ', model.fc1.weight)"
   ]
  },
  {
   "cell_type": "markdown",
   "metadata": {},
   "source": [
    "### Training for real\n",
    "\n",
    "Now we'll put this algorithm into a loop so we can go through all the images. This is fairly straightforward. We'll loop through the mini-batches in our dataset, pass the data through the network to calculate the losses, get the gradients, then run the optimizer."
   ]
  },
  {
   "cell_type": "code",
   "execution_count": 23,
   "metadata": {},
   "outputs": [],
   "source": [
    "optimizer = optim.SGD(model.parameters(), lr=0.003)"
   ]
  },
  {
   "cell_type": "code",
   "execution_count": 24,
   "metadata": {},
   "outputs": [
    {
     "name": "stdout",
     "output_type": "stream",
     "text": [
      "Epoch: 1/3\n",
      "\tIteration: 0\t Loss: 0.0575\n",
      "\tIteration: 40\t Loss: 2.2986\n",
      "\tIteration: 80\t Loss: 2.2775\n",
      "\tIteration: 120\t Loss: 2.2562\n",
      "\tIteration: 160\t Loss: 2.2337\n",
      "\tIteration: 200\t Loss: 2.2131\n",
      "\tIteration: 240\t Loss: 2.1898\n",
      "\tIteration: 280\t Loss: 2.1587\n",
      "\tIteration: 320\t Loss: 2.1376\n",
      "\tIteration: 360\t Loss: 2.1021\n",
      "\tIteration: 400\t Loss: 2.0619\n",
      "\tIteration: 440\t Loss: 2.0219\n",
      "\tIteration: 480\t Loss: 1.9684\n",
      "\tIteration: 520\t Loss: 1.9273\n",
      "\tIteration: 560\t Loss: 1.8642\n",
      "\tIteration: 600\t Loss: 1.8307\n",
      "\tIteration: 640\t Loss: 1.7453\n",
      "\tIteration: 680\t Loss: 1.6766\n",
      "\tIteration: 720\t Loss: 1.6050\n",
      "\tIteration: 760\t Loss: 1.5702\n",
      "\tIteration: 800\t Loss: 1.4944\n",
      "\tIteration: 840\t Loss: 1.4406\n",
      "\tIteration: 880\t Loss: 1.3496\n",
      "\tIteration: 920\t Loss: 1.2850\n",
      "Epoch: 2/3\n",
      "\tIteration: 0\t Loss: 0.0306\n",
      "\tIteration: 40\t Loss: 1.2098\n",
      "\tIteration: 80\t Loss: 1.1741\n",
      "\tIteration: 120\t Loss: 1.1067\n",
      "\tIteration: 160\t Loss: 1.0608\n",
      "\tIteration: 200\t Loss: 1.0216\n",
      "\tIteration: 240\t Loss: 0.9926\n",
      "\tIteration: 280\t Loss: 0.9401\n",
      "\tIteration: 320\t Loss: 0.9003\n",
      "\tIteration: 360\t Loss: 0.8869\n",
      "\tIteration: 400\t Loss: 0.8747\n",
      "\tIteration: 440\t Loss: 0.8187\n",
      "\tIteration: 480\t Loss: 0.7904\n",
      "\tIteration: 520\t Loss: 0.8037\n",
      "\tIteration: 560\t Loss: 0.7703\n",
      "\tIteration: 600\t Loss: 0.7458\n",
      "\tIteration: 640\t Loss: 0.7017\n",
      "\tIteration: 680\t Loss: 0.7058\n",
      "\tIteration: 720\t Loss: 0.6734\n",
      "\tIteration: 760\t Loss: 0.6697\n",
      "\tIteration: 800\t Loss: 0.6483\n",
      "\tIteration: 840\t Loss: 0.6291\n",
      "\tIteration: 880\t Loss: 0.6208\n",
      "\tIteration: 920\t Loss: 0.6156\n",
      "Epoch: 3/3\n",
      "\tIteration: 0\t Loss: 0.0157\n",
      "\tIteration: 40\t Loss: 0.5724\n",
      "\tIteration: 80\t Loss: 0.5869\n",
      "\tIteration: 120\t Loss: 0.5523\n",
      "\tIteration: 160\t Loss: 0.5851\n",
      "\tIteration: 200\t Loss: 0.5626\n",
      "\tIteration: 240\t Loss: 0.5615\n",
      "\tIteration: 280\t Loss: 0.5486\n",
      "\tIteration: 320\t Loss: 0.5290\n",
      "\tIteration: 360\t Loss: 0.5095\n",
      "\tIteration: 400\t Loss: 0.5203\n",
      "\tIteration: 440\t Loss: 0.5188\n",
      "\tIteration: 480\t Loss: 0.5198\n",
      "\tIteration: 520\t Loss: 0.5172\n",
      "\tIteration: 560\t Loss: 0.4679\n",
      "\tIteration: 600\t Loss: 0.5074\n",
      "\tIteration: 640\t Loss: 0.5100\n",
      "\tIteration: 680\t Loss: 0.4718\n",
      "\tIteration: 720\t Loss: 0.4991\n",
      "\tIteration: 760\t Loss: 0.4669\n",
      "\tIteration: 800\t Loss: 0.4759\n",
      "\tIteration: 840\t Loss: 0.4555\n",
      "\tIteration: 880\t Loss: 0.4710\n",
      "\tIteration: 920\t Loss: 0.4662\n"
     ]
    }
   ],
   "source": [
    "epochs = 3\n",
    "print_every = 40\n",
    "\n",
    "for e in range(epochs):\n",
    "    running_loss = 0\n",
    "    print(f\"Epoch: {e+1}/{epochs}\")\n",
    "\n",
    "    for i, (images, labels) in enumerate(iter(trainloader)):\n",
    "\n",
    "        # Flatten MNIST images into a 784 long vector\n",
    "        images.resize_(images.size()[0], 784)\n",
    "        \n",
    "        optimizer.zero_grad()\n",
    "        \n",
    "        output = model.forward(images)   # 1) Forward pass\n",
    "        loss = criterion(output, labels) # 2) Compute loss\n",
    "        loss.backward()                  # 3) Backward pass\n",
    "        optimizer.step()                 # 4) Update model\n",
    "        \n",
    "        running_loss += loss.item()\n",
    "        \n",
    "        if i % print_every == 0:\n",
    "            print(f\"\\tIteration: {i}\\t Loss: {running_loss/print_every:.4f}\")\n",
    "            running_loss = 0"
   ]
  },
  {
   "cell_type": "markdown",
   "metadata": {},
   "source": [
    "With the network trained, we can check out it's predictions."
   ]
  },
  {
   "cell_type": "code",
   "execution_count": 25,
   "metadata": {},
   "outputs": [
    {
     "data": {
      "image/png": "[encoded data removed]",
      "text/plain": [
       "<Figure size 432x648 with 2 Axes>"
      ]
     },
     "metadata": {
      "image/png": {
       "height": 195,
       "width": 349
      },
      "needs_background": "light"
     },
     "output_type": "display_data"
    }
   ],
   "source": [
    "images, labels = next(iter(trainloader))\n",
    "\n",
    "img = images[0].view(1, 784)\n",
    "# Turn off gradients to speed up this part\n",
    "with torch.no_grad():\n",
    "    logits = model.forward(img)\n",
    "\n",
    "# Output of the network are logits, need to take softmax for probabilities\n",
    "ps = F.softmax(logits, dim=1)\n",
    "view_classify(img.view(1, 28, 28), ps)\n"
   ]
  },
  {
   "cell_type": "markdown",
   "metadata": {},
   "source": [
    "Now our network is brilliant. It can accurately predict the digits in our images."
   ]
  },
  {
   "cell_type": "markdown",
   "metadata": {},
   "source": [
    "<div style=\"background:#222222; color:#ffffff; padding:20px\">\n",
    "    <h2 align=\"center\" style=\"color:#01ff84\">MNIST Clasification: Exercise</h2>\n",
    "<div>"
   ]
  },
  {
   "cell_type": "markdown",
   "metadata": {},
   "source": [
    "<div style=\"background:#222222; color:#ffffff; padding:20px\">\n",
    "  <h3 style=\"color:#01ff84; margin-top:4px\">Exercise 1:</h3>\n",
    "  <p>Now it's your turn to build a simple network, use any method I've covered so far. In the next notebook, you'll learn how to train a network so it can make good predictions.</p>\n",
    "  <p>Build a network to classify the MNIST images with 3 hidden layers. Use 400 units in the first hidden layer, 200 units in the second layer, and 100 units in the third layer. Each hidden layer should have a ReLU activation function, and use softmax on the output layer.</p>\n",
    "<div>"
   ]
  },
  {
   "cell_type": "code",
   "execution_count": 26,
   "metadata": {},
   "outputs": [],
   "source": [
    "## TODO: Your network here\n",
    "input_size = 784\n",
    "hidden_size = [400, 200, 100]\n",
    "outputs = 10\n",
    "model = nn.Sequential(OrderedDict([\n",
    "          ('fc1', nn.Linear(input_size, hidden_size[0])),\n",
    "          ('relu1', nn.ReLU()),\n",
    "          ('fc2', nn.Linear(hidden_size[0], hidden_size[1])),\n",
    "          ('relu2', nn.ReLU()),\n",
    "          ('fc3', nn.Linear(hidden_size[1], hidden_size[2])),\n",
    "          ('relu3', nn.ReLU()),\n",
    "          ('output', nn.Linear(hidden_size[2], outputs))\n",
    "          # ('softmax', nn.Softmax(dim=1))\n",
    "          ]))"
   ]
  },
  {
   "cell_type": "code",
   "execution_count": 27,
   "metadata": {},
   "outputs": [
    {
     "data": {
      "text/plain": [
       "Sequential(\n",
       "  (fc1): Linear(in_features=784, out_features=400, bias=True)\n",
       "  (relu1): ReLU()\n",
       "  (fc2): Linear(in_features=400, out_features=200, bias=True)\n",
       "  (relu2): ReLU()\n",
       "  (fc3): Linear(in_features=200, out_features=100, bias=True)\n",
       "  (relu3): ReLU()\n",
       "  (output): Linear(in_features=100, out_features=10, bias=True)\n",
       ")"
      ]
     },
     "execution_count": 27,
     "metadata": {},
     "output_type": "execute_result"
    }
   ],
   "source": [
    "model"
   ]
  },
  {
   "cell_type": "code",
   "execution_count": 28,
   "metadata": {},
   "outputs": [
    {
     "data": {
      "image/png": "[encoded data removed]",
      "text/plain": [
       "<Figure size 432x648 with 2 Axes>"
      ]
     },
     "metadata": {
      "image/png": {
       "height": 195,
       "width": 349
      },
      "needs_background": "light"
     },
     "output_type": "display_data"
    }
   ],
   "source": [
    "# Run this cell with your model to make sure it works\n",
    "# Forward pass through the network and display output\n",
    "images, labels = next(iter(trainloader))\n",
    "images.resize_(images.shape[0], 1, 784)\n",
    "ps = model.forward(images[0,:])\n",
    "view_classify(images[0].view(1, 28, 28), ps)"
   ]
  },
  {
   "cell_type": "markdown",
   "metadata": {},
   "source": [
    "<div style=\"background:#222222; color:#ffffff; padding:20px\">\n",
    "  <h3 style=\"color:#01ff84; margin-top:4px\">Exercise 2:</h3>\n",
    "  <p>Train your network implementing the Pytorch training loop and <strong style=\"color:#01ff84\">after each epoch, use the model for predicting the test (validation) MNIST data.</strong></p>\n",
    "  <p>Note: If your model does not fit with the final softmax layer, you can remove this layer.</p>\n",
    "  <p>Hint: <a href=\"https://discuss.pytorch.org/t/training-loop-checking-validation-accuracy/78399\">Training loop checking validation accuracy\n",
    "</a></p>\n",
    "  <p>Research about <code>model.train()</code>, <code>model.eval()</code> and <code>with torch.no_grad()</code> in Pytorch.\n",
    "<div>"
   ]
  },
  {
   "cell_type": "code",
   "execution_count": 29,
   "metadata": {},
   "outputs": [],
   "source": [
    "optimizer = optim.Adam(model.parameters(), lr= 0.001)\n",
    "criterion = nn.CrossEntropyLoss()"
   ]
  },
  {
   "cell_type": "code",
   "execution_count": 38,
   "metadata": {},
   "outputs": [
    {
     "name": "stdout",
     "output_type": "stream",
     "text": [
      "Epoch: 1/4\n",
      "\tIteration: 0\t Loss: 0.0000\n",
      "\tIteration: 40\t Loss: 0.0155\n",
      "\tIteration: 80\t Loss: 0.0208\n",
      "\tIteration: 120\t Loss: 0.0273\n",
      "\tIteration: 160\t Loss: 0.0393\n",
      "\tIteration: 200\t Loss: 0.0298\n",
      "\tIteration: 240\t Loss: 0.0184\n",
      "\tIteration: 280\t Loss: 0.0161\n",
      "\tIteration: 320\t Loss: 0.0218\n",
      "\tIteration: 360\t Loss: 0.0238\n",
      "\tIteration: 400\t Loss: 0.0283\n",
      "\tIteration: 440\t Loss: 0.0192\n",
      "\tIteration: 480\t Loss: 0.0222\n",
      "\tIteration: 520\t Loss: 0.0445\n",
      "\tIteration: 560\t Loss: 0.0373\n",
      "\tIteration: 600\t Loss: 0.0259\n",
      "\tIteration: 640\t Loss: 0.0201\n",
      "\tIteration: 680\t Loss: 0.0303\n",
      "\tIteration: 720\t Loss: 0.0365\n",
      "\tIteration: 760\t Loss: 0.0306\n",
      "\tIteration: 800\t Loss: 0.0422\n",
      "\tIteration: 840\t Loss: 0.0290\n",
      "\tIteration: 880\t Loss: 0.0320\n",
      "\tIteration: 920\t Loss: 0.0306\n",
      "Mean accuracy 97.84036254882812 after epoch is 1\n"
     ]
    },
    {
     "data": {
      "image/png": "[encoded data removed]",
      "text/plain": [
       "<Figure size 432x288 with 1 Axes>"
      ]
     },
     "metadata": {
      "image/png": {
       "height": 248,
       "width": 377
      },
      "needs_background": "light"
     },
     "output_type": "display_data"
    },
    {
     "name": "stdout",
     "output_type": "stream",
     "text": [
      "Epoch: 2/4\n",
      "\tIteration: 0\t Loss: 0.0005\n",
      "\tIteration: 40\t Loss: 0.0333\n",
      "\tIteration: 80\t Loss: 0.0234\n",
      "\tIteration: 120\t Loss: 0.0207\n",
      "\tIteration: 160\t Loss: 0.0240\n",
      "\tIteration: 200\t Loss: 0.0212\n",
      "\tIteration: 240\t Loss: 0.0266\n",
      "\tIteration: 280\t Loss: 0.0318\n",
      "\tIteration: 320\t Loss: 0.0330\n",
      "\tIteration: 360\t Loss: 0.0258\n",
      "\tIteration: 400\t Loss: 0.0211\n",
      "\tIteration: 440\t Loss: 0.0324\n",
      "\tIteration: 480\t Loss: 0.0366\n",
      "\tIteration: 520\t Loss: 0.0218\n",
      "\tIteration: 560\t Loss: 0.0180\n",
      "\tIteration: 600\t Loss: 0.0212\n",
      "\tIteration: 640\t Loss: 0.0214\n",
      "\tIteration: 680\t Loss: 0.0322\n",
      "\tIteration: 720\t Loss: 0.0406\n",
      "\tIteration: 760\t Loss: 0.0411\n"
     ]
    },
    {
     "ename": "KeyboardInterrupt",
     "evalue": "",
     "output_type": "error",
     "traceback": [
      "\u001b[0;31m---------------------------------------------------------------------------\u001b[0m",
      "\u001b[0;31mKeyboardInterrupt\u001b[0m                         Traceback (most recent call last)",
      "\u001b[1;32m/Users/szokirov/Documents/GitHub/strive_practice/Chapter 03/02. MLP Muliclass classification (MNIST)/4.3 Pytorch MNIST - Exercise.ipynb Cell 59'\u001b[0m in \u001b[0;36m<cell line: 5>\u001b[0;34m()\u001b[0m\n\u001b[1;32m      <a href='vscode-notebook-cell:/Users/szokirov/Documents/GitHub/strive_practice/Chapter%2003/02.%20MLP%20Muliclass%20classification%20%28MNIST%29/4.3%20Pytorch%20MNIST%20-%20Exercise.ipynb#ch0000056?line=5'>6</a>\u001b[0m current_loss \u001b[39m=\u001b[39m \u001b[39m0\u001b[39m\n\u001b[1;32m      <a href='vscode-notebook-cell:/Users/szokirov/Documents/GitHub/strive_practice/Chapter%2003/02.%20MLP%20Muliclass%20classification%20%28MNIST%29/4.3%20Pytorch%20MNIST%20-%20Exercise.ipynb#ch0000056?line=6'>7</a>\u001b[0m \u001b[39mprint\u001b[39m(\u001b[39mf\u001b[39m\u001b[39m\"\u001b[39m\u001b[39mEpoch: \u001b[39m\u001b[39m{\u001b[39;00mepoch\u001b[39m+\u001b[39m\u001b[39m1\u001b[39m\u001b[39m}\u001b[39;00m\u001b[39m/\u001b[39m\u001b[39m{\u001b[39;00mnum_epochs\u001b[39m}\u001b[39;00m\u001b[39m\"\u001b[39m)\n\u001b[0;32m----> <a href='vscode-notebook-cell:/Users/szokirov/Documents/GitHub/strive_practice/Chapter%2003/02.%20MLP%20Muliclass%20classification%20%28MNIST%29/4.3%20Pytorch%20MNIST%20-%20Exercise.ipynb#ch0000056?line=8'>9</a>\u001b[0m \u001b[39mfor\u001b[39;00m i, (images, labels) \u001b[39min\u001b[39;00m \u001b[39menumerate\u001b[39m(\u001b[39miter\u001b[39m(trainloader)):\n\u001b[1;32m     <a href='vscode-notebook-cell:/Users/szokirov/Documents/GitHub/strive_practice/Chapter%2003/02.%20MLP%20Muliclass%20classification%20%28MNIST%29/4.3%20Pytorch%20MNIST%20-%20Exercise.ipynb#ch0000056?line=10'>11</a>\u001b[0m     images\u001b[39m.\u001b[39mresize_(images\u001b[39m.\u001b[39msize()[\u001b[39m0\u001b[39m], \u001b[39m784\u001b[39m)\n\u001b[1;32m     <a href='vscode-notebook-cell:/Users/szokirov/Documents/GitHub/strive_practice/Chapter%2003/02.%20MLP%20Muliclass%20classification%20%28MNIST%29/4.3%20Pytorch%20MNIST%20-%20Exercise.ipynb#ch0000056?line=12'>13</a>\u001b[0m     optimizer\u001b[39m.\u001b[39mzero_grad()\n",
      "File \u001b[0;32m~/opt/anaconda3/envs/ml/lib/python3.10/site-packages/torch/utils/data/dataloader.py:530\u001b[0m, in \u001b[0;36m_BaseDataLoaderIter.__next__\u001b[0;34m(self)\u001b[0m\n\u001b[1;32m    <a href='file:///Users/szokirov/opt/anaconda3/envs/ml/lib/python3.10/site-packages/torch/utils/data/dataloader.py?line=527'>528</a>\u001b[0m \u001b[39mif\u001b[39;00m \u001b[39mself\u001b[39m\u001b[39m.\u001b[39m_sampler_iter \u001b[39mis\u001b[39;00m \u001b[39mNone\u001b[39;00m:\n\u001b[1;32m    <a href='file:///Users/szokirov/opt/anaconda3/envs/ml/lib/python3.10/site-packages/torch/utils/data/dataloader.py?line=528'>529</a>\u001b[0m     \u001b[39mself\u001b[39m\u001b[39m.\u001b[39m_reset()\n\u001b[0;32m--> <a href='file:///Users/szokirov/opt/anaconda3/envs/ml/lib/python3.10/site-packages/torch/utils/data/dataloader.py?line=529'>530</a>\u001b[0m data \u001b[39m=\u001b[39m \u001b[39mself\u001b[39;49m\u001b[39m.\u001b[39;49m_next_data()\n\u001b[1;32m    <a href='file:///Users/szokirov/opt/anaconda3/envs/ml/lib/python3.10/site-packages/torch/utils/data/dataloader.py?line=530'>531</a>\u001b[0m \u001b[39mself\u001b[39m\u001b[39m.\u001b[39m_num_yielded \u001b[39m+\u001b[39m\u001b[39m=\u001b[39m \u001b[39m1\u001b[39m\n\u001b[1;32m    <a href='file:///Users/szokirov/opt/anaconda3/envs/ml/lib/python3.10/site-packages/torch/utils/data/dataloader.py?line=531'>532</a>\u001b[0m \u001b[39mif\u001b[39;00m \u001b[39mself\u001b[39m\u001b[39m.\u001b[39m_dataset_kind \u001b[39m==\u001b[39m _DatasetKind\u001b[39m.\u001b[39mIterable \u001b[39mand\u001b[39;00m \\\n\u001b[1;32m    <a href='file:///Users/szokirov/opt/anaconda3/envs/ml/lib/python3.10/site-packages/torch/utils/data/dataloader.py?line=532'>533</a>\u001b[0m         \u001b[39mself\u001b[39m\u001b[39m.\u001b[39m_IterableDataset_len_called \u001b[39mis\u001b[39;00m \u001b[39mnot\u001b[39;00m \u001b[39mNone\u001b[39;00m \u001b[39mand\u001b[39;00m \\\n\u001b[1;32m    <a href='file:///Users/szokirov/opt/anaconda3/envs/ml/lib/python3.10/site-packages/torch/utils/data/dataloader.py?line=533'>534</a>\u001b[0m         \u001b[39mself\u001b[39m\u001b[39m.\u001b[39m_num_yielded \u001b[39m>\u001b[39m \u001b[39mself\u001b[39m\u001b[39m.\u001b[39m_IterableDataset_len_called:\n",
      "File \u001b[0;32m~/opt/anaconda3/envs/ml/lib/python3.10/site-packages/torch/utils/data/dataloader.py:570\u001b[0m, in \u001b[0;36m_SingleProcessDataLoaderIter._next_data\u001b[0;34m(self)\u001b[0m\n\u001b[1;32m    <a href='file:///Users/szokirov/opt/anaconda3/envs/ml/lib/python3.10/site-packages/torch/utils/data/dataloader.py?line=567'>568</a>\u001b[0m \u001b[39mdef\u001b[39;00m \u001b[39m_next_data\u001b[39m(\u001b[39mself\u001b[39m):\n\u001b[1;32m    <a href='file:///Users/szokirov/opt/anaconda3/envs/ml/lib/python3.10/site-packages/torch/utils/data/dataloader.py?line=568'>569</a>\u001b[0m     index \u001b[39m=\u001b[39m \u001b[39mself\u001b[39m\u001b[39m.\u001b[39m_next_index()  \u001b[39m# may raise StopIteration\u001b[39;00m\n\u001b[0;32m--> <a href='file:///Users/szokirov/opt/anaconda3/envs/ml/lib/python3.10/site-packages/torch/utils/data/dataloader.py?line=569'>570</a>\u001b[0m     data \u001b[39m=\u001b[39m \u001b[39mself\u001b[39;49m\u001b[39m.\u001b[39;49m_dataset_fetcher\u001b[39m.\u001b[39;49mfetch(index)  \u001b[39m# may raise StopIteration\u001b[39;00m\n\u001b[1;32m    <a href='file:///Users/szokirov/opt/anaconda3/envs/ml/lib/python3.10/site-packages/torch/utils/data/dataloader.py?line=570'>571</a>\u001b[0m     \u001b[39mif\u001b[39;00m \u001b[39mself\u001b[39m\u001b[39m.\u001b[39m_pin_memory:\n\u001b[1;32m    <a href='file:///Users/szokirov/opt/anaconda3/envs/ml/lib/python3.10/site-packages/torch/utils/data/dataloader.py?line=571'>572</a>\u001b[0m         data \u001b[39m=\u001b[39m _utils\u001b[39m.\u001b[39mpin_memory\u001b[39m.\u001b[39mpin_memory(data)\n",
      "File \u001b[0;32m~/opt/anaconda3/envs/ml/lib/python3.10/site-packages/torch/utils/data/_utils/fetch.py:49\u001b[0m, in \u001b[0;36m_MapDatasetFetcher.fetch\u001b[0;34m(self, possibly_batched_index)\u001b[0m\n\u001b[1;32m     <a href='file:///Users/szokirov/opt/anaconda3/envs/ml/lib/python3.10/site-packages/torch/utils/data/_utils/fetch.py?line=46'>47</a>\u001b[0m \u001b[39mdef\u001b[39;00m \u001b[39mfetch\u001b[39m(\u001b[39mself\u001b[39m, possibly_batched_index):\n\u001b[1;32m     <a href='file:///Users/szokirov/opt/anaconda3/envs/ml/lib/python3.10/site-packages/torch/utils/data/_utils/fetch.py?line=47'>48</a>\u001b[0m     \u001b[39mif\u001b[39;00m \u001b[39mself\u001b[39m\u001b[39m.\u001b[39mauto_collation:\n\u001b[0;32m---> <a href='file:///Users/szokirov/opt/anaconda3/envs/ml/lib/python3.10/site-packages/torch/utils/data/_utils/fetch.py?line=48'>49</a>\u001b[0m         data \u001b[39m=\u001b[39m [\u001b[39mself\u001b[39m\u001b[39m.\u001b[39mdataset[idx] \u001b[39mfor\u001b[39;00m idx \u001b[39min\u001b[39;00m possibly_batched_index]\n\u001b[1;32m     <a href='file:///Users/szokirov/opt/anaconda3/envs/ml/lib/python3.10/site-packages/torch/utils/data/_utils/fetch.py?line=49'>50</a>\u001b[0m     \u001b[39melse\u001b[39;00m:\n\u001b[1;32m     <a href='file:///Users/szokirov/opt/anaconda3/envs/ml/lib/python3.10/site-packages/torch/utils/data/_utils/fetch.py?line=50'>51</a>\u001b[0m         data \u001b[39m=\u001b[39m \u001b[39mself\u001b[39m\u001b[39m.\u001b[39mdataset[possibly_batched_index]\n",
      "File \u001b[0;32m~/opt/anaconda3/envs/ml/lib/python3.10/site-packages/torch/utils/data/_utils/fetch.py:49\u001b[0m, in \u001b[0;36m<listcomp>\u001b[0;34m(.0)\u001b[0m\n\u001b[1;32m     <a href='file:///Users/szokirov/opt/anaconda3/envs/ml/lib/python3.10/site-packages/torch/utils/data/_utils/fetch.py?line=46'>47</a>\u001b[0m \u001b[39mdef\u001b[39;00m \u001b[39mfetch\u001b[39m(\u001b[39mself\u001b[39m, possibly_batched_index):\n\u001b[1;32m     <a href='file:///Users/szokirov/opt/anaconda3/envs/ml/lib/python3.10/site-packages/torch/utils/data/_utils/fetch.py?line=47'>48</a>\u001b[0m     \u001b[39mif\u001b[39;00m \u001b[39mself\u001b[39m\u001b[39m.\u001b[39mauto_collation:\n\u001b[0;32m---> <a href='file:///Users/szokirov/opt/anaconda3/envs/ml/lib/python3.10/site-packages/torch/utils/data/_utils/fetch.py?line=48'>49</a>\u001b[0m         data \u001b[39m=\u001b[39m [\u001b[39mself\u001b[39;49m\u001b[39m.\u001b[39;49mdataset[idx] \u001b[39mfor\u001b[39;00m idx \u001b[39min\u001b[39;00m possibly_batched_index]\n\u001b[1;32m     <a href='file:///Users/szokirov/opt/anaconda3/envs/ml/lib/python3.10/site-packages/torch/utils/data/_utils/fetch.py?line=49'>50</a>\u001b[0m     \u001b[39melse\u001b[39;00m:\n\u001b[1;32m     <a href='file:///Users/szokirov/opt/anaconda3/envs/ml/lib/python3.10/site-packages/torch/utils/data/_utils/fetch.py?line=50'>51</a>\u001b[0m         data \u001b[39m=\u001b[39m \u001b[39mself\u001b[39m\u001b[39m.\u001b[39mdataset[possibly_batched_index]\n",
      "File \u001b[0;32m~/opt/anaconda3/envs/ml/lib/python3.10/site-packages/torchvision/datasets/mnist.py:138\u001b[0m, in \u001b[0;36mMNIST.__getitem__\u001b[0;34m(self, index)\u001b[0m\n\u001b[1;32m    <a href='file:///Users/szokirov/opt/anaconda3/envs/ml/lib/python3.10/site-packages/torchvision/datasets/mnist.py?line=129'>130</a>\u001b[0m \u001b[39mdef\u001b[39;00m \u001b[39m__getitem__\u001b[39m(\u001b[39mself\u001b[39m, index: \u001b[39mint\u001b[39m) \u001b[39m-\u001b[39m\u001b[39m>\u001b[39m Tuple[Any, Any]:\n\u001b[1;32m    <a href='file:///Users/szokirov/opt/anaconda3/envs/ml/lib/python3.10/site-packages/torchvision/datasets/mnist.py?line=130'>131</a>\u001b[0m     \u001b[39m\"\"\"\u001b[39;00m\n\u001b[1;32m    <a href='file:///Users/szokirov/opt/anaconda3/envs/ml/lib/python3.10/site-packages/torchvision/datasets/mnist.py?line=131'>132</a>\u001b[0m \u001b[39m    Args:\u001b[39;00m\n\u001b[1;32m    <a href='file:///Users/szokirov/opt/anaconda3/envs/ml/lib/python3.10/site-packages/torchvision/datasets/mnist.py?line=132'>133</a>\u001b[0m \u001b[39m        index (int): Index\u001b[39;00m\n\u001b[0;32m   (...)\u001b[0m\n\u001b[1;32m    <a href='file:///Users/szokirov/opt/anaconda3/envs/ml/lib/python3.10/site-packages/torchvision/datasets/mnist.py?line=135'>136</a>\u001b[0m \u001b[39m        tuple: (image, target) where target is index of the target class.\u001b[39;00m\n\u001b[1;32m    <a href='file:///Users/szokirov/opt/anaconda3/envs/ml/lib/python3.10/site-packages/torchvision/datasets/mnist.py?line=136'>137</a>\u001b[0m \u001b[39m    \"\"\"\u001b[39;00m\n\u001b[0;32m--> <a href='file:///Users/szokirov/opt/anaconda3/envs/ml/lib/python3.10/site-packages/torchvision/datasets/mnist.py?line=137'>138</a>\u001b[0m     img, target \u001b[39m=\u001b[39m \u001b[39mself\u001b[39m\u001b[39m.\u001b[39mdata[index], \u001b[39mint\u001b[39;49m(\u001b[39mself\u001b[39;49m\u001b[39m.\u001b[39;49mtargets[index])\n\u001b[1;32m    <a href='file:///Users/szokirov/opt/anaconda3/envs/ml/lib/python3.10/site-packages/torchvision/datasets/mnist.py?line=139'>140</a>\u001b[0m     \u001b[39m# doing this so that it is consistent with all other datasets\u001b[39;00m\n\u001b[1;32m    <a href='file:///Users/szokirov/opt/anaconda3/envs/ml/lib/python3.10/site-packages/torchvision/datasets/mnist.py?line=140'>141</a>\u001b[0m     \u001b[39m# to return a PIL Image\u001b[39;00m\n\u001b[1;32m    <a href='file:///Users/szokirov/opt/anaconda3/envs/ml/lib/python3.10/site-packages/torchvision/datasets/mnist.py?line=141'>142</a>\u001b[0m     img \u001b[39m=\u001b[39m Image\u001b[39m.\u001b[39mfromarray(img\u001b[39m.\u001b[39mnumpy(), mode\u001b[39m=\u001b[39m\u001b[39m\"\u001b[39m\u001b[39mL\u001b[39m\u001b[39m\"\u001b[39m)\n",
      "\u001b[0;31mKeyboardInterrupt\u001b[0m: "
     ]
    }
   ],
   "source": [
    "## TODO: Your training loop here\n",
    "num_epochs = 4\n",
    "print_every = 40\n",
    "\n",
    "for epoch in range(num_epochs):\n",
    "    current_loss = 0\n",
    "    print(f\"Epoch: {epoch+1}/{num_epochs}\")\n",
    "\n",
    "    for i, (images, labels) in enumerate(iter(trainloader)):\n",
    "\n",
    "        images.resize_(images.size()[0], 784)\n",
    "        \n",
    "        optimizer.zero_grad()\n",
    "        \n",
    "        output = model.forward(images)   # 1) Forward pass\n",
    "        loss = criterion(output, labels) # 2) Compute loss\n",
    "        loss.backward()                  # 3) Backward pass\n",
    "        optimizer.step()                 # 4) Update model\n",
    "        \n",
    "        current_loss += loss.item()\n",
    "        \n",
    "        if i % print_every == 0:\n",
    "            loss_value = current_loss/print_every\n",
    "            print(f\"\\tIteration: {i}\\t Loss: {current_loss/print_every:.4f}\")\n",
    "            current_loss = 0\n",
    "\n",
    "    model.eval()\n",
    "    acc_list = []\n",
    "    with torch.no_grad():\n",
    "        for i, (images, labels) in enumerate(iter(testloader)):\n",
    "                images.resize_(images.size()[0], 784)\n",
    "                probability = F.softmax(model(images), dim=1)\n",
    "                pred = probability.argmax(dim=1)\n",
    "                acc = (pred == labels).sum() / len(labels) * 100\n",
    "                acc_list.append(acc)\n",
    "    print(f'Mean accuracy {np.array(acc_list).mean()} after epoch is {epoch+1}')\n",
    "\n",
    "    model.train()\n",
    "\n",
    "    # plt.plot(acc_list, label=\"Accuracy\")\n",
    "    # plt.plot(loss_value, label=\"Current loss\")\n",
    "    # plt.legend(loc='best')\n",
    "    # plt.show()\n",
    "\n",
    "# plt, (ax1, ax2) = plt.subplot()\n",
    "            "
   ]
  },
  {
   "cell_type": "code",
   "execution_count": 32,
   "metadata": {},
   "outputs": [
    {
     "data": {
      "image/png": "[encoded data removed]",
      "text/plain": [
       "<Figure size 432x648 with 2 Axes>"
      ]
     },
     "metadata": {
      "image/png": {
       "height": 195,
       "width": 349
      },
      "needs_background": "light"
     },
     "output_type": "display_data"
    }
   ],
   "source": [
    "# Run this cell with your model to make sure it works and predicts well for the validation data\n",
    "images, labels = next(iter(testloader))\n",
    "images.resize_(images.shape[0], 1, 784)\n",
    "logits = model.forward(images[0,:])\n",
    "ps = F.softmax(logits, dim=1)\n",
    "view_classify(images[0].view(1, 28, 28), ps)"
   ]
  },
  {
   "cell_type": "markdown",
   "metadata": {},
   "source": [
    "<div style=\"background:#222222; color:#ffffff; padding:20px\">\n",
    "  <h3 style=\"color:#01ff84; margin-top:4px\">Exercise 3:</h3>\n",
    "  <p>Write the code for adding <strong style=\"color:#01ff84\">Early Stopping with patience = 2</strong> to the training loop from scratch.</p>\n",
    "  <p><strong style=\"color:#01ff84\">Hint:</strong> Monitor the Validation loss every epoch, and if in 2 epochs, the validation loss does not improve, stop the training loop with <code>break</code>.</p>\n",
    "<div>"
   ]
  },
  {
   "cell_type": "code",
   "execution_count": 43,
   "metadata": {},
   "outputs": [
    {
     "name": "stdout",
     "output_type": "stream",
     "text": [
      "Epoch 1/4\n",
      "Iteration: 0, Loss: 0.0002\n",
      "Iteration: 40, Loss: 0.0081\n",
      "Iteration: 80, Loss: 0.0070\n",
      "Iteration: 120, Loss: 0.0152\n",
      "Iteration: 160, Loss: 0.0085\n",
      "Iteration: 200, Loss: 0.0036\n",
      "Iteration: 240, Loss: 0.0034\n",
      "Iteration: 280, Loss: 0.0045\n",
      "Iteration: 320, Loss: 0.0078\n",
      "Iteration: 360, Loss: 0.0266\n",
      "Iteration: 400, Loss: 0.0348\n",
      "Iteration: 440, Loss: 0.0234\n",
      "Iteration: 480, Loss: 0.0225\n",
      "Iteration: 520, Loss: 0.0217\n",
      "Iteration: 560, Loss: 0.0270\n",
      "Iteration: 600, Loss: 0.0291\n",
      "Iteration: 640, Loss: 0.0215\n",
      "Iteration: 680, Loss: 0.0121\n",
      "Iteration: 720, Loss: 0.0108\n",
      "Iteration: 760, Loss: 0.0181\n",
      "Iteration: 800, Loss: 0.0107\n",
      "Iteration: 840, Loss: 0.0133\n",
      "Iteration: 880, Loss: 0.0136\n",
      "Iteration: 920, Loss: 0.0183\n",
      "Trigger times: 1\n",
      "Epoch 2/4\n",
      "Iteration: 0, Loss: 0.0002\n",
      "Iteration: 40, Loss: 0.0244\n",
      "Iteration: 80, Loss: 0.0189\n",
      "Iteration: 120, Loss: 0.0155\n",
      "Iteration: 160, Loss: 0.0133\n",
      "Iteration: 200, Loss: 0.0207\n",
      "Iteration: 240, Loss: 0.0151\n",
      "Iteration: 280, Loss: 0.0115\n",
      "Iteration: 320, Loss: 0.0169\n",
      "Iteration: 360, Loss: 0.0211\n",
      "Iteration: 400, Loss: 0.0541\n",
      "Iteration: 440, Loss: 0.0269\n",
      "Iteration: 480, Loss: 0.0345\n",
      "Iteration: 520, Loss: 0.0220\n",
      "Iteration: 560, Loss: 0.0137\n",
      "Iteration: 600, Loss: 0.0237\n",
      "Iteration: 640, Loss: 0.0247\n",
      "Iteration: 680, Loss: 0.0267\n",
      "Iteration: 720, Loss: 0.0179\n",
      "Iteration: 760, Loss: 0.0101\n",
      "Iteration: 800, Loss: 0.0200\n",
      "Iteration: 840, Loss: 0.0188\n",
      "Iteration: 880, Loss: 0.0317\n",
      "Iteration: 920, Loss: 0.0296\n",
      "Trigger times: 1\n",
      "Epoch 3/4\n",
      "Iteration: 0, Loss: 0.0000\n",
      "Iteration: 40, Loss: 0.0098\n",
      "Iteration: 80, Loss: 0.0159\n",
      "Iteration: 120, Loss: 0.0090\n",
      "Iteration: 160, Loss: 0.0060\n",
      "Iteration: 200, Loss: 0.0074\n",
      "Iteration: 240, Loss: 0.0129\n",
      "Iteration: 280, Loss: 0.0207\n",
      "Iteration: 320, Loss: 0.0184\n",
      "Iteration: 360, Loss: 0.0262\n",
      "Iteration: 400, Loss: 0.0223\n",
      "Iteration: 440, Loss: 0.0384\n",
      "Iteration: 480, Loss: 0.0137\n",
      "Iteration: 520, Loss: 0.0150\n",
      "Iteration: 560, Loss: 0.0156\n",
      "Iteration: 600, Loss: 0.0119\n",
      "Iteration: 640, Loss: 0.0189\n",
      "Iteration: 680, Loss: 0.0209\n",
      "Iteration: 720, Loss: 0.0185\n",
      "Iteration: 760, Loss: 0.0203\n",
      "Iteration: 800, Loss: 0.0171\n",
      "Iteration: 840, Loss: 0.0147\n",
      "Iteration: 880, Loss: 0.0358\n",
      "Iteration: 920, Loss: 0.0247\n",
      "Trigger times: 1\n",
      "Epoch 4/4\n",
      "Iteration: 0, Loss: 0.0006\n",
      "Iteration: 40, Loss: 0.0193\n",
      "Iteration: 80, Loss: 0.0133\n",
      "Iteration: 120, Loss: 0.0140\n",
      "Iteration: 160, Loss: 0.0128\n",
      "Iteration: 200, Loss: 0.0208\n",
      "Iteration: 240, Loss: 0.0117\n",
      "Iteration: 280, Loss: 0.0146\n",
      "Iteration: 320, Loss: 0.0192\n",
      "Iteration: 360, Loss: 0.0206\n",
      "Iteration: 400, Loss: 0.0253\n",
      "Iteration: 440, Loss: 0.0205\n",
      "Iteration: 480, Loss: 0.0284\n",
      "Iteration: 520, Loss: 0.0193\n",
      "Iteration: 560, Loss: 0.0232\n",
      "Iteration: 600, Loss: 0.0225\n",
      "Iteration: 640, Loss: 0.0153\n",
      "Iteration: 680, Loss: 0.0053\n",
      "Iteration: 720, Loss: 0.0120\n",
      "Iteration: 760, Loss: 0.0119\n",
      "Iteration: 800, Loss: 0.0148\n",
      "Iteration: 840, Loss: 0.0163\n",
      "Iteration: 880, Loss: 0.0201\n",
      "Iteration: 920, Loss: 0.0306\n",
      "Trigger times: 1\n"
     ]
    }
   ],
   "source": [
    "## TODO: Your training loop here\n",
    "num_epochs = 4\n",
    "print_every = 40\n",
    "for e in range(num_epochs):\n",
    "    current_loss = 0\n",
    "    # Eearly stopping\n",
    "    last_loss = 0\n",
    "    patience = 2\n",
    "    triggertimes = 0\n",
    "    print(f'Epoch {e+1}/{num_epochs}')\n",
    "    for i, (images, labels) in enumerate(iter(trainloader)):\n",
    "        images.resize_(images.size()[0], 784)\n",
    "        optimizer.zero_grad()\n",
    "        output = model.forward(images)\n",
    "        loss = criterion(output, labels)\n",
    "        loss.backward()\n",
    "        optimizer.step()\n",
    "\n",
    "        current_loss += loss.item()\n",
    "\n",
    "        if i % print_every == 0:\n",
    "            loss_value = current_loss/print_every\n",
    "            print(f\"Iteration: {i}, Loss: {current_loss/print_every:.4f}\")\n",
    "            current_loss = 0\n",
    "\n",
    "\n",
    "    if current_loss > last_loss:\n",
    "        triggertimes += 1\n",
    "        print(\"Trigger times:\", triggertimes)\n",
    "\n",
    "        if triggertimes >= patience:\n",
    "            print(\"Early Stopping\")\n",
    "    else:\n",
    "        print('trigger times: 0')\n",
    "        triggertimes = 0\n",
    "\n",
    "    last_loss = current_loss "
   ]
  },
  {
   "cell_type": "code",
   "execution_count": null,
   "metadata": {},
   "outputs": [],
   "source": []
  }
 ],
 "metadata": {
  "interpreter": {
   "hash": "f12c5d7f0baae8022573a61a8d5591a3788530288ea52bc9ad65d8d764f8ff68"
  },
  "kernelspec": {
   "display_name": "Python 3.10.4 ('ml')",
   "language": "python",
   "name": "python3"
  },
  "language_info": {
   "codemirror_mode": {
    "name": "ipython",
    "version": 3
   },
   "file_extension": ".py",
   "mimetype": "text/x-python",
   "name": "python",
   "nbconvert_exporter": "python",
   "pygments_lexer": "ipython3",
   "version": "3.10.4"
  }
 },
 "nbformat": 4,
 "nbformat_minor": 2
}
