{
 "cells": [
  {
   "cell_type": "markdown",
   "metadata": {},
   "source": [
    "<div style=\"background:#222222; color:#ffffff; padding:20px\">\n",
    "    <h2 align=\"center\">Deep Learning Fundamentals</h2>\n",
    "    <h2 align=\"center\" style=\"color:#01ff84\">Multiclass Clasification: MNIST</h2>\n",
    "<div>"
   ]
  },
  {
   "cell_type": "markdown",
   "metadata": {},
   "source": [
    "## Imports"
   ]
  },
  {
   "cell_type": "code",
   "execution_count": 1,
   "metadata": {},
   "outputs": [],
   "source": [
    "%matplotlib inline\n",
    "%config InlineBackend.figure_format = 'retina'\n",
    "\n",
    "from collections import OrderedDict\n",
    "\n",
    "import numpy as np\n",
    "import matplotlib.pyplot as plt\n",
    "import time\n",
    "\n",
    "import torch\n",
    "from torch import nn\n",
    "from torch import optim\n",
    "import torch.nn.functional as F\n",
    "\n",
    "from torchvision import datasets, transforms"
   ]
  },
  {
   "cell_type": "markdown",
   "metadata": {},
   "source": [
    "## Auxliary plotting function"
   ]
  },
  {
   "cell_type": "code",
   "execution_count": 2,
   "metadata": {},
   "outputs": [],
   "source": [
    "# https://discuss.pytorch.org/t/view-classify-in-module-helper/30279/6\n",
    "\n",
    "def view_classify(img, ps):\n",
    "\n",
    "    ps = ps.data.numpy().squeeze()\n",
    "\n",
    "    fig, (ax1, ax2) = plt.subplots(figsize=(6,9), ncols=2)\n",
    "    ax1.imshow(img.resize_(1, 28, 28).numpy().squeeze())\n",
    "    ax1.axis('off')\n",
    "    ax2.barh(np.arange(10), ps)\n",
    "    ax2.set_aspect(0.1)\n",
    "    ax2.set_yticks(np.arange(10))\n",
    "    ax2.set_yticklabels(np.arange(10))\n",
    "    ax2.set_title('Class Probability')\n",
    "    ax2.set_xlim(0, 1.1)"
   ]
  },
  {
   "cell_type": "markdown",
   "metadata": {},
   "source": [
    "# Load MNIST Dataset\n",
    "First up, we need to get our dataset. This is provided through the `torchvision` package. The code below will download the MNIST dataset, then create training and test datasets for us. Don't worry too much about the details here, you'll learn more about this later."
   ]
  },
  {
   "cell_type": "code",
   "execution_count": 3,
   "metadata": {},
   "outputs": [],
   "source": [
    "# Define a transform to normalize the data (Preprocessing)\n",
    "transform = transforms.Compose([transforms.ToTensor(), transforms.Normalize((0.5), (0.5)) ])\n",
    "\n",
    "# Download and load the training data\n",
    "trainset    = datasets.MNIST('MNIST_data/', download=True, train=True, transform=transform)\n",
    "trainloader = torch.utils.data.DataLoader(trainset, batch_size=64, shuffle=True)\n",
    "\n",
    "# Download and load the test data\n",
    "testset    = datasets.MNIST('MNIST_data/', download=True, train=False, transform=transform)\n",
    "testloader = torch.utils.data.DataLoader(testset, batch_size=64, shuffle=True)"
   ]
  },
  {
   "cell_type": "code",
   "execution_count": 4,
   "metadata": {},
   "outputs": [],
   "source": [
    "dataiter = iter(trainloader)\n",
    "images, labels = dataiter.next()"
   ]
  },
  {
   "cell_type": "markdown",
   "metadata": {},
   "source": [
    "We have the training data loaded into `trainloader` and we make that an iterator with `iter(trainloader)`. We'd use this to loop through the dataset for training, but here I'm just grabbing the first batch so we can check out the data. We can see below that `images` is just a tensor with size (64, 1, 28, 28). So, 64 images per batch, 1 color channel, and 28x28 images."
   ]
  },
  {
   "cell_type": "code",
   "execution_count": 5,
   "metadata": {},
   "outputs": [
    {
     "data": {
      "image/png": "[encoded data removed]",
      "text/plain": [
       "<Figure size 432x288 with 1 Axes>"
      ]
     },
     "metadata": {
      "image/png": {
       "height": 248,
       "width": 251
      },
      "needs_background": "light"
     },
     "output_type": "display_data"
    }
   ],
   "source": [
    "plt.imshow(images[1].numpy().squeeze(), cmap='Greys_r');"
   ]
  },
  {
   "cell_type": "markdown",
   "metadata": {},
   "source": [
    "## Building networks with PyTorch\n",
    "\n",
    "Here I'll use PyTorch to build a simple feedfoward network to classify the MNIST images. That is, the network will receive a digit image as input and predict the digit in the image.\n",
    "\n",
    "<img src=\"assets/mlp_mnist.png\" width=600px>\n",
    "\n",
    "To build a neural network with PyTorch, you use the `torch.nn` module. The network itself is a class inheriting from `torch.nn.Module`. You define each of the operations separately, like `nn.Linear(784, 128)` for a fully connected linear layer with 784 inputs and 128 units.\n",
    "\n",
    "The class needs to include a `forward` method that implements the forward pass through the network. In this method, you pass some input tensor `x` through each of the operations you defined earlier. The `torch.nn` module also has functional equivalents for things like ReLUs in `torch.nn.functional`. This module is usually imported as `F`. Then to use a ReLU activation on some layer (which is just a tensor), you'd do `F.relu(x)`. Below are a few different commonly used activation functions.\n",
    "\n",
    "<img src=\"assets/activation.png\" width=700px>\n",
    "\n",
    "So, for this network, I'll build it with three fully connected layers, then a softmax output for predicting classes. The softmax function is similar to the sigmoid in that it squashes inputs between 0 and 1, but it's also normalized so that all the values sum to one like a proper probability distribution."
   ]
  },
  {
   "cell_type": "code",
   "execution_count": 6,
   "metadata": {},
   "outputs": [
    {
     "data": {
      "text/plain": [
       "Network(\n",
       "  (fc1): Linear(in_features=784, out_features=128, bias=True)\n",
       "  (fc2): Linear(in_features=128, out_features=64, bias=True)\n",
       "  (fc3): Linear(in_features=64, out_features=10, bias=True)\n",
       ")"
      ]
     },
     "execution_count": 6,
     "metadata": {},
     "output_type": "execute_result"
    }
   ],
   "source": [
    "class Network(nn.Module):\n",
    "    \n",
    "    # Defining the layers, 128, 64, 10 units each\n",
    "    def __init__(self):\n",
    "        super().__init__()\n",
    "        self.fc1 = nn.Linear(784, 128)\n",
    "        self.fc2 = nn.Linear(128, 64)\n",
    "        self.fc3 = nn.Linear(64, 10)\n",
    "        \n",
    "    # Forward pass through the network, returns the output logits\n",
    "    def forward(self, x):\n",
    "        x = self.fc1(x)\n",
    "        x = F.relu(x)\n",
    "        x = self.fc2(x)\n",
    "        x = F.relu(x)\n",
    "        x = self.fc3(x)\n",
    "        x = F.softmax(x, dim=1)\n",
    "        return x\n",
    "\n",
    "model = Network()\n",
    "model"
   ]
  },
  {
   "cell_type": "markdown",
   "metadata": {},
   "source": [
    "### Sequential API\n",
    "PyTorch provides a convenient way to build networks like this where a tensor is passed sequentially through operations, `nn.Sequential` ([documentation](https://pytorch.org/docs/master/nn.html#torch.nn.Sequential)). Using this to build the equivalent network:"
   ]
  },
  {
   "cell_type": "code",
   "execution_count": 7,
   "metadata": {},
   "outputs": [
    {
     "name": "stdout",
     "output_type": "stream",
     "text": [
      "Sequential(\n",
      "  (0): Linear(in_features=784, out_features=128, bias=True)\n",
      "  (1): ReLU()\n",
      "  (2): Linear(in_features=128, out_features=64, bias=True)\n",
      "  (3): ReLU()\n",
      "  (4): Linear(in_features=64, out_features=10, bias=True)\n",
      "  (5): Softmax(dim=1)\n",
      ")\n"
     ]
    }
   ],
   "source": [
    "# Hyperparameters for our network\n",
    "input_size   = 784\n",
    "hidden_sizes = [128, 64]\n",
    "output_size   = 10\n",
    "\n",
    "# Build a feed-forward network\n",
    "model = nn.Sequential(nn.Linear(input_size, hidden_sizes[0]),\n",
    "                      nn.ReLU(),\n",
    "                      nn.Linear(hidden_sizes[0], hidden_sizes[1]),\n",
    "                      nn.ReLU(),\n",
    "                      nn.Linear(hidden_sizes[1], output_size),\n",
    "                      nn.Softmax(dim=1))\n",
    "print(model)"
   ]
  },
  {
   "cell_type": "markdown",
   "metadata": {},
   "source": [
    "You can also pass in an `OrderedDict` to name the individual layers and operations. Note that a dictionary keys must be unique, so _each operation must have a different name_."
   ]
  },
  {
   "cell_type": "code",
   "execution_count": 8,
   "metadata": {},
   "outputs": [
    {
     "data": {
      "text/plain": [
       "Sequential(\n",
       "  (fc1): Linear(in_features=784, out_features=128, bias=True)\n",
       "  (relu1): ReLU()\n",
       "  (fc2): Linear(in_features=128, out_features=64, bias=True)\n",
       "  (relu2): ReLU()\n",
       "  (output): Linear(in_features=64, out_features=10, bias=True)\n",
       "  (softmax): Softmax(dim=1)\n",
       ")"
      ]
     },
     "execution_count": 8,
     "metadata": {},
     "output_type": "execute_result"
    }
   ],
   "source": [
    "model = nn.Sequential(OrderedDict([\n",
    "          ('fc1',   nn.Linear(input_size, hidden_sizes[0])),\n",
    "          ('relu1', nn.ReLU()),\n",
    "          ('fc2',   nn.Linear(hidden_sizes[0], hidden_sizes[1])),\n",
    "          ('relu2', nn.ReLU()),\n",
    "          ('output', nn.Linear(hidden_sizes[1], output_size)),\n",
    "          ('softmax', nn.Softmax(dim=1))]))\n",
    "model"
   ]
  },
  {
   "cell_type": "markdown",
   "metadata": {},
   "source": [
    "### Initializing weights and biases\n",
    "\n",
    "The weights and such are automatically initialized for you, but it's possible to customize how they are initialized. The weights and biases are tensors attached to the layer you defined, you can get them with `model.fc1.weight` for instance."
   ]
  },
  {
   "cell_type": "code",
   "execution_count": 9,
   "metadata": {},
   "outputs": [
    {
     "name": "stdout",
     "output_type": "stream",
     "text": [
      "Parameter containing:\n",
      "tensor([[ 0.0335,  0.0030,  0.0087,  ...,  0.0212, -0.0137, -0.0346],\n",
      "        [-0.0279,  0.0039,  0.0282,  ..., -0.0034, -0.0040,  0.0091],\n",
      "        [-0.0149, -0.0344,  0.0093,  ..., -0.0149,  0.0049,  0.0187],\n",
      "        ...,\n",
      "        [ 0.0256, -0.0142,  0.0080,  ..., -0.0127,  0.0154, -0.0206],\n",
      "        [-0.0268, -0.0084,  0.0218,  ...,  0.0351, -0.0090, -0.0279],\n",
      "        [-0.0222,  0.0151,  0.0323,  ..., -0.0074,  0.0227,  0.0224]],\n",
      "       requires_grad=True)\n",
      "Parameter containing:\n",
      "tensor([ 0.0002, -0.0027,  0.0296, -0.0350,  0.0039, -0.0218, -0.0046, -0.0166,\n",
      "         0.0132,  0.0081, -0.0343,  0.0249, -0.0216,  0.0238, -0.0175, -0.0289,\n",
      "         0.0345, -0.0055, -0.0198, -0.0141, -0.0278,  0.0242, -0.0324,  0.0233,\n",
      "        -0.0153,  0.0346,  0.0174, -0.0057, -0.0097,  0.0223, -0.0287,  0.0245,\n",
      "        -0.0313,  0.0160, -0.0152,  0.0144,  0.0355,  0.0020,  0.0117, -0.0216,\n",
      "        -0.0182, -0.0076, -0.0257,  0.0122,  0.0052, -0.0116,  0.0274, -0.0071,\n",
      "         0.0134, -0.0003,  0.0296, -0.0136, -0.0340, -0.0116,  0.0036,  0.0216,\n",
      "         0.0237,  0.0078,  0.0338, -0.0007,  0.0105, -0.0001,  0.0284,  0.0117,\n",
      "        -0.0098,  0.0101, -0.0301,  0.0005,  0.0121, -0.0003,  0.0342,  0.0253,\n",
      "         0.0116,  0.0118,  0.0286, -0.0180, -0.0043, -0.0110,  0.0022,  0.0200,\n",
      "        -0.0181,  0.0155, -0.0288, -0.0151,  0.0027,  0.0043, -0.0279, -0.0337,\n",
      "        -0.0188,  0.0049,  0.0337, -0.0251,  0.0239, -0.0341, -0.0274, -0.0066,\n",
      "        -0.0262,  0.0306, -0.0009,  0.0018,  0.0075,  0.0024, -0.0085,  0.0112,\n",
      "        -0.0120, -0.0195,  0.0097, -0.0002, -0.0263,  0.0210, -0.0179,  0.0189,\n",
      "        -0.0218, -0.0049, -0.0337, -0.0310, -0.0179, -0.0198,  0.0179,  0.0075,\n",
      "         0.0253,  0.0101,  0.0072,  0.0087,  0.0140,  0.0018, -0.0015, -0.0289],\n",
      "       requires_grad=True)\n"
     ]
    }
   ],
   "source": [
    "print(model.fc1.weight)\n",
    "print(model.fc1.bias)"
   ]
  },
  {
   "cell_type": "markdown",
   "metadata": {},
   "source": [
    "For custom initialization, we want to modify these tensors in place. These are actually autograd *Variables*, so we need to get back the actual tensors with `model.fc1.weight.data`. Once we have the tensors, we can fill them with zeros (for biases) or random normal values."
   ]
  },
  {
   "cell_type": "code",
   "execution_count": 10,
   "metadata": {},
   "outputs": [
    {
     "data": {
      "text/plain": [
       "tensor([0., 0., 0., 0., 0., 0., 0., 0., 0., 0., 0., 0., 0., 0., 0., 0., 0., 0., 0., 0., 0., 0., 0., 0.,\n",
       "        0., 0., 0., 0., 0., 0., 0., 0., 0., 0., 0., 0., 0., 0., 0., 0., 0., 0., 0., 0., 0., 0., 0., 0.,\n",
       "        0., 0., 0., 0., 0., 0., 0., 0., 0., 0., 0., 0., 0., 0., 0., 0., 0., 0., 0., 0., 0., 0., 0., 0.,\n",
       "        0., 0., 0., 0., 0., 0., 0., 0., 0., 0., 0., 0., 0., 0., 0., 0., 0., 0., 0., 0., 0., 0., 0., 0.,\n",
       "        0., 0., 0., 0., 0., 0., 0., 0., 0., 0., 0., 0., 0., 0., 0., 0., 0., 0., 0., 0., 0., 0., 0., 0.,\n",
       "        0., 0., 0., 0., 0., 0., 0., 0.])"
      ]
     },
     "execution_count": 10,
     "metadata": {},
     "output_type": "execute_result"
    }
   ],
   "source": [
    "# Set biases to all zeros\n",
    "model.fc1.bias.data.fill_(0)"
   ]
  },
  {
   "cell_type": "code",
   "execution_count": 11,
   "metadata": {},
   "outputs": [
    {
     "data": {
      "text/plain": [
       "tensor([[-1.1052e-02, -7.7277e-03, -5.7769e-03,  ...,  2.0006e-02,\n",
       "         -5.3569e-03,  2.7955e-02],\n",
       "        [ 1.1166e-02, -1.7036e-02, -8.4850e-03,  ...,  7.3299e-03,\n",
       "          1.1814e-02, -4.1028e-03],\n",
       "        [ 1.0478e-02,  1.3787e-02,  5.7974e-03,  ...,  1.0523e-02,\n",
       "          4.4731e-03,  2.7722e-03],\n",
       "        ...,\n",
       "        [ 3.8609e-04, -6.0004e-03, -1.9660e-04,  ...,  4.5081e-05,\n",
       "         -1.1807e-02, -3.0972e-04],\n",
       "        [-1.0923e-02,  1.0559e-02, -3.0408e-03,  ..., -5.0451e-03,\n",
       "          6.5278e-03,  5.7886e-03],\n",
       "        [ 1.5951e-03, -1.8222e-02, -4.1206e-03,  ..., -2.0096e-03,\n",
       "         -1.5807e-02, -1.4677e-02]])"
      ]
     },
     "execution_count": 11,
     "metadata": {},
     "output_type": "execute_result"
    }
   ],
   "source": [
    "# sample from random normal with standard dev = 0.01\n",
    "model.fc1.weight.data.normal_(std=0.01)"
   ]
  },
  {
   "cell_type": "markdown",
   "metadata": {},
   "source": [
    "### STEP 1: Forward pass\n",
    "\n",
    "Now that we have a network, let's see what happens when we pass in an image. This is called the forward pass. We're going to convert the image data into a tensor, then pass it through the operations defined by the network architecture."
   ]
  },
  {
   "cell_type": "code",
   "execution_count": 12,
   "metadata": {},
   "outputs": [
    {
     "data": {
      "image/png": "[encoded data removed]",
      "text/plain": [
       "<Figure size 432x648 with 2 Axes>"
      ]
     },
     "metadata": {
      "image/png": {
       "height": 195,
       "width": 349
      },
      "needs_background": "light"
     },
     "output_type": "display_data"
    }
   ],
   "source": [
    "# Grab some data \n",
    "dataiter = iter(trainloader)\n",
    "images, labels = dataiter.next()\n",
    "\n",
    "# Resize images into a 1D vector, new shape is (batch size, color channels, image pixels) \n",
    "images.resize_(64, 1, 784)\n",
    "# or images.resize_(images.shape[0], 1, 784) to not automatically get batch size\n",
    "\n",
    "# Forward pass through the network\n",
    "img_idx = 0\n",
    "ps = model.forward(images[img_idx,:])\n",
    "\n",
    "img = images[img_idx]\n",
    "view_classify(img.view(1, 28, 28), ps)"
   ]
  },
  {
   "cell_type": "markdown",
   "metadata": {},
   "source": [
    "As you can see above, our network has basically no idea what this digit is. It's because we haven't trained it yet, all the weights are random!"
   ]
  },
  {
   "cell_type": "markdown",
   "metadata": {},
   "source": [
    "# Training Neural Networks\n",
    "\n",
    "The network we built isn't so smart, it doesn't know anything about our handwritten digits. Neural networks with non-linear activations work like universal function approximators. There is some function that maps your input to the output. For example, images of handwritten digits to class probabilities. The power of neural networks is that we can train them to approximate this function, and basically any function given enough data and compute time.\n",
    "\n",
    "<img src=\"assets/function_approx.png\" width=500px>\n",
    "\n",
    "At first the network is naive, it doesn't know the function mapping the inputs to the outputs. We train the network by showing it examples of real data, then adjusting the network parameters such that it approximates this function.\n",
    "\n",
    "To find these parameters, we need to know how poorly the network is predicting the real outputs. For this we calculate a **loss function** (also called the cost), a measure of our prediction error. For example, the mean squared loss is often used in regression and binary classification problems\n",
    "\n",
    "$$\n",
    "\\ell = \\frac{1}{2n}\\sum_i^n{\\left(y_i - \\hat{y}_i\\right)^2}\n",
    "$$\n",
    "\n",
    "where $n$ is the number of training examples, $y_i$ are the true labels, and $\\hat{y}_i$ are the predicted labels.\n",
    "\n",
    "By minimizing this loss with respect to the network parameters, we can find configurations where the loss is at a minimum and the network is able to predict the correct labels with high accuracy. We find this minimum using a process called **gradient descent**. The gradient is the slope of the loss function and points in the direction of fastest change. To get to the minimum in the least amount of time, we then want to follow the gradient (downwards). You can think of this like descending a mountain by following the steepest slope to the base.\n",
    "\n",
    "<img src='assets/gradient_descent.png' width=350px>"
   ]
  },
  {
   "cell_type": "markdown",
   "metadata": {},
   "source": [
    "## Backpropagation\n",
    "\n",
    "For single layer networks, gradient descent is simple to implement. However, it's more complicated for deeper, multilayer neural networks like the one we've built. Complicated enough that it took about 30 years before researchers figured out how to train multilayer networks, although it's straightforward once you learn about it. \n",
    "\n",
    "This is done through **backpropagation** which is really just an application of the chain rule from calculus. It's easiest to understand if we convert a two layer network into a graph representation.\n",
    "\n",
    "<img src='assets/w1_backprop_graph.png' width=400px>\n",
    "\n",
    "In the forward pass through the network, our data and operations go from right to left here. To train the weights with gradient descent, we propagate the gradient of the cost backwards through the network. Mathematically, this is really just calculating the gradient of the loss with respect to the weights using the chain rule.\n",
    "\n",
    "$$\n",
    "\\frac{\\partial \\ell}{\\partial w_1} = \\frac{\\partial l_1}{\\partial w_1} \\frac{\\partial s}{\\partial l_1} \\frac{\\partial l_2}{\\partial s} \\frac{\\partial \\ell}{\\partial l_2}\n",
    "$$\n",
    "\n",
    "We update our weights using this gradient with some learning rate $\\alpha$. \n",
    "\n",
    "$$\n",
    "w^\\prime = w - \\alpha \\frac{\\partial \\ell}{\\partial w}\n",
    "$$\n",
    "\n",
    "The learning rate is set such that the weight update steps are small enough that the iterative method settles in a minimum.\n",
    "\n",
    "The first thing we need to do for training is define our loss function. In PyTorch, you'll usually see this as `criterion`. Here we're using softmax output, so we want to use `criterion = nn.CrossEntropyLoss()` as our loss. Later when training, you use `loss = criterion(output, targets)` to calculate the actual loss.\n",
    "\n",
    "We also need to define the optimizer we're using, SGD or Adam, or something along those lines. Here I'll just use SGD with `torch.optim.SGD`, passing in the network parameters and the learning rate."
   ]
  },
  {
   "cell_type": "markdown",
   "metadata": {},
   "source": [
    "## Autograd\n",
    "\n",
    "Torch provides a module, `autograd`, for automatically calculating the gradient of tensors. It does this by keeping track of operations performed on tensors. To make sure PyTorch keeps track of operations on a tensor and calculates the gradients, you need to set `requires_grad` on a tensor. You can do this at creation with the `requires_grad` keyword, or at any time with `x.requires_grad_(True)`.\n",
    "\n",
    "You can turn off gradients for a block of code with the `torch.no_grad()` content:\n",
    "```python\n",
    "x = torch.zeros(1, requires_grad=True)\n",
    ">>> with torch.no_grad():\n",
    "...     y = x * 2\n",
    ">>> y.requires_grad\n",
    "False\n",
    "```\n",
    "\n",
    "Also, you can turn on or off gradients altogether with `torch.set_grad_enabled(True|False)`.\n",
    "\n",
    "The gradients are computed with respect to some variable `z` with `z.backward()`. This does a backward pass through the operations that created `z`."
   ]
  },
  {
   "cell_type": "code",
   "execution_count": 13,
   "metadata": {},
   "outputs": [
    {
     "name": "stdout",
     "output_type": "stream",
     "text": [
      "tensor([[-0.5558,  1.1975],\n",
      "        [-2.5276,  1.0696]], requires_grad=True)\n"
     ]
    }
   ],
   "source": [
    "x = torch.randn(2,2, requires_grad=True)\n",
    "print(x)"
   ]
  },
  {
   "cell_type": "code",
   "execution_count": 14,
   "metadata": {},
   "outputs": [
    {
     "name": "stdout",
     "output_type": "stream",
     "text": [
      "tensor([[0.3090, 1.4340],\n",
      "        [6.3889, 1.1441]], grad_fn=<PowBackward0>)\n"
     ]
    }
   ],
   "source": [
    "y = x**2\n",
    "print(y)"
   ]
  },
  {
   "cell_type": "markdown",
   "metadata": {},
   "source": [
    "Below we can see the operation that created `y`, a power operation `PowBackward0`."
   ]
  },
  {
   "cell_type": "code",
   "execution_count": 15,
   "metadata": {},
   "outputs": [
    {
     "name": "stdout",
     "output_type": "stream",
     "text": [
      "<PowBackward0 object at 0x7f8a11a78220>\n"
     ]
    }
   ],
   "source": [
    "## grad_fn shows the function that generated this variable\n",
    "print(y.grad_fn)"
   ]
  },
  {
   "cell_type": "markdown",
   "metadata": {},
   "source": [
    "The autgrad module keeps track of these operations and knows how to calculate the gradient for each one. In this way, it's able to calculate the gradients for a chain of operations, with respect to any one tensor. Let's reduce the tensor `y` to a scalar value, the mean."
   ]
  },
  {
   "cell_type": "code",
   "execution_count": 16,
   "metadata": {},
   "outputs": [
    {
     "name": "stdout",
     "output_type": "stream",
     "text": [
      "tensor(2.3190, grad_fn=<MeanBackward0>)\n"
     ]
    }
   ],
   "source": [
    "z = y.mean()\n",
    "print(z)"
   ]
  },
  {
   "cell_type": "markdown",
   "metadata": {},
   "source": [
    "You can check the gradients for `x` and `y` but they are empty currently."
   ]
  },
  {
   "cell_type": "code",
   "execution_count": 17,
   "metadata": {},
   "outputs": [
    {
     "name": "stdout",
     "output_type": "stream",
     "text": [
      "None\n"
     ]
    }
   ],
   "source": [
    "print(x.grad)"
   ]
  },
  {
   "cell_type": "markdown",
   "metadata": {},
   "source": [
    "To calculate the gradients, you need to run the `.backward` method on a Variable, `z` for example. This will calculate the gradient for `z` with respect to `x`\n",
    "\n",
    "$$\n",
    "\\frac{\\partial z}{\\partial x} = \\frac{\\partial}{\\partial x}\\left[\\frac{1}{n}\\sum_i^n x_i^2\\right] = \\frac{x}{2}\n",
    "$$"
   ]
  },
  {
   "cell_type": "code",
   "execution_count": 18,
   "metadata": {},
   "outputs": [
    {
     "name": "stdout",
     "output_type": "stream",
     "text": [
      "tensor([[-0.2779,  0.5987],\n",
      "        [-1.2638,  0.5348]])\n",
      "tensor([[-0.2779,  0.5987],\n",
      "        [-1.2638,  0.5348]], grad_fn=<DivBackward0>)\n"
     ]
    }
   ],
   "source": [
    "z.backward()\n",
    "print(x.grad)\n",
    "print(x/2)"
   ]
  },
  {
   "cell_type": "markdown",
   "metadata": {},
   "source": [
    "These gradients calculations are particularly useful for neural networks. For training we need the gradients of the weights with respect to the cost. With PyTorch, we run data forward through the network to calculate the cost, then, go backwards to calculate the gradients with respect to the cost. Once we have the gradients we can make a gradient descent step. "
   ]
  },
  {
   "cell_type": "markdown",
   "metadata": {},
   "source": [
    "I'll build a network with `nn.Sequential` here. Only difference from the last part is I'm not actually using softmax on the output, but instead just using the raw output from the last layer. This is because the output from softmax is a probability distribution. Often, the output will have values really close to zero or really close to one. Due to [inaccuracies with representing numbers as floating points](https://docs.python.org/3/tutorial/floatingpoint.html), computations with a softmax output can lose accuracy and become unstable. To get around this, we'll use the raw output, called the **logits**, to calculate the loss."
   ]
  },
  {
   "cell_type": "code",
   "execution_count": 19,
   "metadata": {},
   "outputs": [],
   "source": [
    "# Hyperparameters for our network\n",
    "input_size   = 784\n",
    "hidden_sizes = [128, 64]\n",
    "output_size  = 10\n",
    "\n",
    "# Build a feed-forward network\n",
    "model = nn.Sequential(OrderedDict([\n",
    "          ('fc1', nn.Linear(input_size, hidden_sizes[0])),\n",
    "          ('relu1', nn.ReLU()),\n",
    "          ('fc2', nn.Linear(hidden_sizes[0], hidden_sizes[1])),\n",
    "          ('relu2', nn.ReLU()),\n",
    "          ('logits', nn.Linear(hidden_sizes[1], output_size))]))"
   ]
  },
  {
   "cell_type": "markdown",
   "metadata": {},
   "source": [
    "## Training the network!\n",
    "\n",
    "The first thing we need to do for training is define our loss function. In PyTorch, you'll usually see this as `criterion`. Here we're using softmax output, so we want to use `criterion = nn.CrossEntropyLoss()` as our loss. Later when training, you use `loss = criterion(output, targets)` to calculate the actual loss.\n",
    "\n",
    "We also need to define the optimizer we're using, SGD or Adam, or something along those lines. Here I'll just use SGD with `torch.optim.SGD`, passing in the network parameters and the learning rate."
   ]
  },
  {
   "cell_type": "code",
   "execution_count": 20,
   "metadata": {},
   "outputs": [],
   "source": [
    "criterion = nn.CrossEntropyLoss()\n",
    "optimizer = optim.SGD(model.parameters(), lr=0.01)"
   ]
  },
  {
   "cell_type": "markdown",
   "metadata": {},
   "source": [
    "First, let's consider just one learning step before looping through all the data. The general process with PyTorch:\n",
    "\n",
    "* Make a forward pass through the network to get the logits \n",
    "* Use the logits to calculate the loss\n",
    "* Perform a backward pass through the network with `loss.backward()` to calculate the gradients\n",
    "* Take a step with the optimizer to update the weights\n",
    "\n",
    "Below I'll go through one training step and print out the weights and gradients so you can see how it changes."
   ]
  },
  {
   "cell_type": "code",
   "execution_count": 21,
   "metadata": {},
   "outputs": [
    {
     "name": "stdout",
     "output_type": "stream",
     "text": [
      "Initial weights -  Parameter containing:\n",
      "tensor([[-0.0024, -0.0349, -0.0183,  ...,  0.0305, -0.0110, -0.0195],\n",
      "        [ 0.0176,  0.0206,  0.0123,  ..., -0.0066, -0.0029,  0.0124],\n",
      "        [-0.0081, -0.0240,  0.0183,  ...,  0.0308, -0.0022,  0.0140],\n",
      "        ...,\n",
      "        [ 0.0219,  0.0217,  0.0253,  ...,  0.0110,  0.0077,  0.0075],\n",
      "        [-0.0142,  0.0227, -0.0153,  ..., -0.0317,  0.0052, -0.0066],\n",
      "        [-0.0234,  0.0234, -0.0329,  ..., -0.0189,  0.0254, -0.0037]],\n",
      "       requires_grad=True)\n",
      "Gradient - tensor([[-0.0043, -0.0043, -0.0043,  ..., -0.0043, -0.0043, -0.0043],\n",
      "        [ 0.0011,  0.0011,  0.0011,  ...,  0.0011,  0.0011,  0.0011],\n",
      "        [ 0.0003,  0.0003,  0.0003,  ...,  0.0003,  0.0003,  0.0003],\n",
      "        ...,\n",
      "        [-0.0001, -0.0001, -0.0001,  ..., -0.0001, -0.0001, -0.0001],\n",
      "        [ 0.0038,  0.0038,  0.0038,  ...,  0.0038,  0.0038,  0.0038],\n",
      "        [-0.0007, -0.0007, -0.0007,  ..., -0.0007, -0.0007, -0.0007]])\n"
     ]
    }
   ],
   "source": [
    "print('Initial weights - ', model.fc1.weight)\n",
    "\n",
    "images, labels = next(iter(trainloader))\n",
    "images.resize_(64, 784)\n",
    "\n",
    "# Clear the gradients, do this because gradients are accumulated\n",
    "optimizer.zero_grad()\n",
    "\n",
    "# Forward pass, then backward pass, then update weights\n",
    "output = model.forward(images)\n",
    "loss = criterion(output, labels)\n",
    "loss.backward()\n",
    "print('Gradient -', model.fc1.weight.grad)\n",
    "optimizer.step()"
   ]
  },
  {
   "cell_type": "code",
   "execution_count": 22,
   "metadata": {},
   "outputs": [
    {
     "name": "stdout",
     "output_type": "stream",
     "text": [
      "Updated weights -  Parameter containing:\n",
      "tensor([[-0.0023, -0.0349, -0.0182,  ...,  0.0306, -0.0109, -0.0195],\n",
      "        [ 0.0176,  0.0206,  0.0123,  ..., -0.0066, -0.0029,  0.0124],\n",
      "        [-0.0081, -0.0240,  0.0183,  ...,  0.0308, -0.0022,  0.0140],\n",
      "        ...,\n",
      "        [ 0.0219,  0.0217,  0.0253,  ...,  0.0110,  0.0077,  0.0075],\n",
      "        [-0.0142,  0.0227, -0.0153,  ..., -0.0318,  0.0052, -0.0066],\n",
      "        [-0.0234,  0.0234, -0.0329,  ..., -0.0189,  0.0254, -0.0037]],\n",
      "       requires_grad=True)\n"
     ]
    }
   ],
   "source": [
    "print('Updated weights - ', model.fc1.weight)"
   ]
  },
  {
   "cell_type": "markdown",
   "metadata": {},
   "source": [
    "### Training for real\n",
    "\n",
    "Now we'll put this algorithm into a loop so we can go through all the images. This is fairly straightforward. We'll loop through the mini-batches in our dataset, pass the data through the network to calculate the losses, get the gradients, then run the optimizer."
   ]
  },
  {
   "cell_type": "code",
   "execution_count": 23,
   "metadata": {},
   "outputs": [],
   "source": [
    "optimizer = optim.SGD(model.parameters(), lr=0.003)"
   ]
  },
  {
   "cell_type": "code",
   "execution_count": 24,
   "metadata": {},
   "outputs": [
    {
     "name": "stdout",
     "output_type": "stream",
     "text": [
      "Epoch: 1/3\n",
      "\tIteration: 0\t Loss: 0.0583\n",
      "\tIteration: 40\t Loss: 2.3045\n",
      "\tIteration: 80\t Loss: 2.2876\n",
      "\tIteration: 120\t Loss: 2.2723\n",
      "\tIteration: 160\t Loss: 2.2570\n",
      "\tIteration: 200\t Loss: 2.2378\n",
      "\tIteration: 240\t Loss: 2.2190\n",
      "\tIteration: 280\t Loss: 2.2024\n",
      "\tIteration: 320\t Loss: 2.1794\n",
      "\tIteration: 360\t Loss: 2.1554\n",
      "\tIteration: 400\t Loss: 2.1338\n",
      "\tIteration: 440\t Loss: 2.0981\n",
      "\tIteration: 480\t Loss: 2.0674\n",
      "\tIteration: 520\t Loss: 2.0317\n",
      "\tIteration: 560\t Loss: 1.9797\n",
      "\tIteration: 600\t Loss: 1.9439\n",
      "\tIteration: 640\t Loss: 1.9049\n",
      "\tIteration: 680\t Loss: 1.8291\n",
      "\tIteration: 720\t Loss: 1.7835\n",
      "\tIteration: 760\t Loss: 1.7171\n",
      "\tIteration: 800\t Loss: 1.6562\n",
      "\tIteration: 840\t Loss: 1.5898\n",
      "\tIteration: 880\t Loss: 1.5175\n",
      "\tIteration: 920\t Loss: 1.4552\n",
      "Epoch: 2/3\n",
      "\tIteration: 0\t Loss: 0.0319\n",
      "\tIteration: 40\t Loss: 1.3515\n",
      "\tIteration: 80\t Loss: 1.2944\n",
      "\tIteration: 120\t Loss: 1.2258\n",
      "\tIteration: 160\t Loss: 1.1748\n",
      "\tIteration: 200\t Loss: 1.1209\n",
      "\tIteration: 240\t Loss: 1.0783\n",
      "\tIteration: 280\t Loss: 1.0182\n",
      "\tIteration: 320\t Loss: 0.9827\n",
      "\tIteration: 360\t Loss: 0.9403\n",
      "\tIteration: 400\t Loss: 0.9124\n",
      "\tIteration: 440\t Loss: 0.8993\n",
      "\tIteration: 480\t Loss: 0.8615\n",
      "\tIteration: 520\t Loss: 0.8329\n",
      "\tIteration: 560\t Loss: 0.7936\n",
      "\tIteration: 600\t Loss: 0.7464\n",
      "\tIteration: 640\t Loss: 0.7481\n",
      "\tIteration: 680\t Loss: 0.7256\n",
      "\tIteration: 720\t Loss: 0.7022\n",
      "\tIteration: 760\t Loss: 0.7140\n",
      "\tIteration: 800\t Loss: 0.6769\n",
      "\tIteration: 840\t Loss: 0.6539\n",
      "\tIteration: 880\t Loss: 0.6481\n",
      "\tIteration: 920\t Loss: 0.6145\n",
      "Epoch: 3/3\n",
      "\tIteration: 0\t Loss: 0.0172\n",
      "\tIteration: 40\t Loss: 0.5932\n",
      "\tIteration: 80\t Loss: 0.5834\n",
      "\tIteration: 120\t Loss: 0.5879\n",
      "\tIteration: 160\t Loss: 0.5559\n",
      "\tIteration: 200\t Loss: 0.5765\n",
      "\tIteration: 240\t Loss: 0.5825\n",
      "\tIteration: 280\t Loss: 0.5461\n",
      "\tIteration: 320\t Loss: 0.5534\n",
      "\tIteration: 360\t Loss: 0.5522\n",
      "\tIteration: 400\t Loss: 0.5481\n",
      "\tIteration: 440\t Loss: 0.5421\n",
      "\tIteration: 480\t Loss: 0.5265\n",
      "\tIteration: 520\t Loss: 0.5098\n",
      "\tIteration: 560\t Loss: 0.4943\n",
      "\tIteration: 600\t Loss: 0.4694\n",
      "\tIteration: 640\t Loss: 0.5101\n",
      "\tIteration: 680\t Loss: 0.4722\n",
      "\tIteration: 720\t Loss: 0.4837\n",
      "\tIteration: 760\t Loss: 0.4684\n",
      "\tIteration: 800\t Loss: 0.4723\n",
      "\tIteration: 840\t Loss: 0.4584\n",
      "\tIteration: 880\t Loss: 0.4614\n",
      "\tIteration: 920\t Loss: 0.4919\n"
     ]
    }
   ],
   "source": [
    "epochs = 3\n",
    "print_every = 40\n",
    "\n",
    "for e in range(epochs):\n",
    "    running_loss = 0\n",
    "    print(f\"Epoch: {e+1}/{epochs}\")\n",
    "\n",
    "    for i, (images, labels) in enumerate(iter(trainloader)):\n",
    "\n",
    "        # Flatten MNIST images into a 784 long vector\n",
    "        images.resize_(images.size()[0], 784)\n",
    "        \n",
    "        optimizer.zero_grad()\n",
    "        \n",
    "        output = model.forward(images)   # 1) Forward pass\n",
    "        loss = criterion(output, labels) # 2) Compute loss\n",
    "        loss.backward()                  # 3) Backward pass\n",
    "        optimizer.step()                 # 4) Update model\n",
    "        \n",
    "        running_loss += loss.item()\n",
    "        \n",
    "        if i % print_every == 0:\n",
    "            print(f\"\\tIteration: {i}\\t Loss: {running_loss/print_every:.4f}\")\n",
    "            running_loss = 0"
   ]
  },
  {
   "cell_type": "markdown",
   "metadata": {},
   "source": [
    "With the network trained, we can check out it's predictions."
   ]
  },
  {
   "cell_type": "code",
   "execution_count": 25,
   "metadata": {},
   "outputs": [
    {
     "data": {
      "image/png": "[encoded data removed]",
      "text/plain": [
       "<Figure size 432x648 with 2 Axes>"
      ]
     },
     "metadata": {
      "image/png": {
       "height": 195,
       "width": 349
      },
      "needs_background": "light"
     },
     "output_type": "display_data"
    }
   ],
   "source": [
    "images, labels = next(iter(trainloader))\n",
    "\n",
    "img = images[0].view(1, 784)\n",
    "# Turn off gradients to speed up this part\n",
    "with torch.no_grad():\n",
    "    logits = model.forward(img)\n",
    "\n",
    "# Output of the network are logits, need to take softmax for probabilities\n",
    "ps = F.softmax(logits, dim=1)\n",
    "view_classify(img.view(1, 28, 28), ps)\n"
   ]
  },
  {
   "cell_type": "markdown",
   "metadata": {},
   "source": [
    "Now our network is brilliant. It can accurately predict the digits in our images."
   ]
  },
  {
   "cell_type": "markdown",
   "metadata": {},
   "source": [
    "<div style=\"background:#222222; color:#ffffff; padding:20px\">\n",
    "    <h2 align=\"center\" style=\"color:#01ff84\">MNIST Clasification: Exercise</h2>\n",
    "<div>"
   ]
  },
  {
   "cell_type": "markdown",
   "metadata": {},
   "source": [
    "<div style=\"background:#222222; color:#ffffff; padding:20px\">\n",
    "  <h3 style=\"color:#01ff84; margin-top:4px\">Exercise 1:</h3>\n",
    "  <p>Now it's your turn to build a simple network, use any method I've covered so far. In the next notebook, you'll learn how to train a network so it can make good predictions.</p>\n",
    "  <p>Build a network to classify the MNIST images with 3 hidden layers. Use 400 units in the first hidden layer, 200 units in the second layer, and 100 units in the third layer. Each hidden layer should have a ReLU activation function, and use softmax on the output layer.</p>\n",
    "<div>"
   ]
  },
  {
   "cell_type": "code",
   "execution_count": 5,
   "metadata": {},
   "outputs": [],
   "source": [
    "## TODO: Your network here\n",
    "input_size = 784\n",
    "hidden_size = [400, 200, 100]\n",
    "outputs = 10\n",
    "model = nn.Sequential(OrderedDict([\n",
    "          ('fc1', nn.Linear(input_size, hidden_size[0])),\n",
    "          ('relu1', nn.ReLU()),\n",
    "          ('fc2', nn.Linear(hidden_size[0], hidden_size[1])),\n",
    "          ('relu2', nn.ReLU()),\n",
    "          ('fc3', nn.Linear(hidden_size[1], hidden_size[2])),\n",
    "          ('relu3', nn.ReLU()),\n",
    "          ('output', nn.Linear(hidden_size[2], outputs))\n",
    "          # ('softmax', nn.Softmax(dim=1))\n",
    "          ]))"
   ]
  },
  {
   "cell_type": "code",
   "execution_count": 6,
   "metadata": {},
   "outputs": [
    {
     "data": {
      "text/plain": [
       "Sequential(\n",
       "  (fc1): Linear(in_features=784, out_features=400, bias=True)\n",
       "  (relu1): ReLU()\n",
       "  (fc2): Linear(in_features=400, out_features=200, bias=True)\n",
       "  (relu2): ReLU()\n",
       "  (fc3): Linear(in_features=200, out_features=100, bias=True)\n",
       "  (relu3): ReLU()\n",
       "  (output): Linear(in_features=100, out_features=10, bias=True)\n",
       ")"
      ]
     },
     "execution_count": 6,
     "metadata": {},
     "output_type": "execute_result"
    }
   ],
   "source": [
    "model"
   ]
  },
  {
   "cell_type": "code",
   "execution_count": 7,
   "metadata": {},
   "outputs": [
    {
     "data": {
      "image/png": "[encoded data removed]",
      "text/plain": [
       "<Figure size 432x648 with 2 Axes>"
      ]
     },
     "metadata": {
      "image/png": {
       "height": 195,
       "width": 349
      },
      "needs_background": "light"
     },
     "output_type": "display_data"
    }
   ],
   "source": [
    "# Run this cell with your model to make sure it works\n",
    "# Forward pass through the network and display output\n",
    "images, labels = next(iter(trainloader))\n",
    "images.resize_(images.shape[0], 1, 784)\n",
    "ps = model.forward(images[0,:])\n",
    "view_classify(images[0].view(1, 28, 28), ps)"
   ]
  },
  {
   "cell_type": "markdown",
   "metadata": {},
   "source": [
    "<div style=\"background:#222222; color:#ffffff; padding:20px\">\n",
    "  <h3 style=\"color:#01ff84; margin-top:4px\">Exercise 2:</h3>\n",
    "  <p>Train your network implementing the Pytorch training loop and <strong style=\"color:#01ff84\">after each epoch, use the model for predicting the test (validation) MNIST data.</strong></p>\n",
    "  <p>Note: If your model does not fit with the final softmax layer, you can remove this layer.</p>\n",
    "  <p>Hint: <a href=\"https://discuss.pytorch.org/t/training-loop-checking-validation-accuracy/78399\">Training loop checking validation accuracy\n",
    "</a></p>\n",
    "  <p>Research about <code>model.train()</code>, <code>model.eval()</code> and <code>with torch.no_grad()</code> in Pytorch.\n",
    "<div>"
   ]
  },
  {
   "cell_type": "code",
   "execution_count": 11,
   "metadata": {},
   "outputs": [],
   "source": [
    "optimizer = optim.Adam(model.parameters(), lr= 0.001)\n",
    "criterion = nn.CrossEntropyLoss()"
   ]
  },
  {
   "cell_type": "code",
   "execution_count": 12,
   "metadata": {},
   "outputs": [
    {
     "name": "stdout",
     "output_type": "stream",
     "text": [
      "Epoch: 1/10\n",
      "\tIteration: 0\t Loss: 0.0575\n",
      "\tIteration: 40\t Loss: 1.4568\n",
      "\tIteration: 80\t Loss: 0.6458\n",
      "\tIteration: 120\t Loss: 0.5550\n",
      "\tIteration: 160\t Loss: 0.3977\n",
      "\tIteration: 200\t Loss: 0.3719\n",
      "\tIteration: 240\t Loss: 0.3439\n",
      "\tIteration: 280\t Loss: 0.3215\n",
      "\tIteration: 320\t Loss: 0.2919\n",
      "\tIteration: 360\t Loss: 0.2900\n",
      "\tIteration: 400\t Loss: 0.2722\n",
      "\tIteration: 440\t Loss: 0.2735\n",
      "\tIteration: 480\t Loss: 0.2676\n",
      "\tIteration: 520\t Loss: 0.2591\n",
      "\tIteration: 560\t Loss: 0.2449\n",
      "\tIteration: 600\t Loss: 0.2157\n",
      "\tIteration: 640\t Loss: 0.2146\n",
      "\tIteration: 680\t Loss: 0.2003\n",
      "\tIteration: 720\t Loss: 0.2155\n",
      "\tIteration: 760\t Loss: 0.1902\n",
      "\tIteration: 800\t Loss: 0.1870\n",
      "\tIteration: 840\t Loss: 0.2044\n",
      "\tIteration: 880\t Loss: 0.1933\n",
      "\tIteration: 920\t Loss: 0.1743\n",
      "Epoch: 2/10\n",
      "\tIteration: 0\t Loss: 0.0081\n",
      "\tIteration: 40\t Loss: 0.1279\n",
      "\tIteration: 80\t Loss: 0.1688\n",
      "\tIteration: 120\t Loss: 0.1590\n",
      "\tIteration: 160\t Loss: 0.1528\n",
      "\tIteration: 200\t Loss: 0.1518\n",
      "\tIteration: 240\t Loss: 0.1786\n",
      "\tIteration: 280\t Loss: 0.1641\n",
      "\tIteration: 320\t Loss: 0.1459\n",
      "\tIteration: 360\t Loss: 0.1650\n",
      "\tIteration: 400\t Loss: 0.1746\n",
      "\tIteration: 440\t Loss: 0.1654\n",
      "\tIteration: 480\t Loss: 0.1501\n",
      "\tIteration: 520\t Loss: 0.1429\n",
      "\tIteration: 560\t Loss: 0.1344\n",
      "\tIteration: 600\t Loss: 0.1279\n",
      "\tIteration: 640\t Loss: 0.1510\n",
      "\tIteration: 680\t Loss: 0.1357\n",
      "\tIteration: 720\t Loss: 0.1311\n",
      "\tIteration: 760\t Loss: 0.1240\n",
      "\tIteration: 800\t Loss: 0.1343\n",
      "\tIteration: 840\t Loss: 0.1549\n",
      "\tIteration: 880\t Loss: 0.1420\n",
      "\tIteration: 920\t Loss: 0.1163\n",
      "Epoch: 3/10\n",
      "\tIteration: 0\t Loss: 0.0040\n",
      "\tIteration: 40\t Loss: 0.1162\n",
      "\tIteration: 80\t Loss: 0.1156\n",
      "\tIteration: 120\t Loss: 0.1298\n",
      "\tIteration: 160\t Loss: 0.1071\n",
      "\tIteration: 200\t Loss: 0.1134\n",
      "\tIteration: 240\t Loss: 0.1081\n",
      "\tIteration: 280\t Loss: 0.1240\n",
      "\tIteration: 320\t Loss: 0.1041\n",
      "\tIteration: 360\t Loss: 0.1171\n",
      "\tIteration: 400\t Loss: 0.1017\n",
      "\tIteration: 440\t Loss: 0.1074\n",
      "\tIteration: 480\t Loss: 0.0961\n",
      "\tIteration: 520\t Loss: 0.1212\n",
      "\tIteration: 560\t Loss: 0.0917\n",
      "\tIteration: 600\t Loss: 0.1145\n",
      "\tIteration: 640\t Loss: 0.1140\n",
      "\tIteration: 680\t Loss: 0.1032\n",
      "\tIteration: 720\t Loss: 0.1074\n",
      "\tIteration: 760\t Loss: 0.1005\n",
      "\tIteration: 800\t Loss: 0.1117\n",
      "\tIteration: 840\t Loss: 0.1195\n",
      "\tIteration: 880\t Loss: 0.0964\n",
      "\tIteration: 920\t Loss: 0.0929\n",
      "Epoch: 4/10\n",
      "\tIteration: 0\t Loss: 0.0048\n",
      "\tIteration: 40\t Loss: 0.0897\n",
      "\tIteration: 80\t Loss: 0.0886\n",
      "\tIteration: 120\t Loss: 0.0772\n",
      "\tIteration: 160\t Loss: 0.1015\n",
      "\tIteration: 200\t Loss: 0.1113\n",
      "\tIteration: 240\t Loss: 0.0945\n",
      "\tIteration: 280\t Loss: 0.0873\n",
      "\tIteration: 320\t Loss: 0.0894\n",
      "\tIteration: 360\t Loss: 0.0881\n",
      "\tIteration: 400\t Loss: 0.1000\n",
      "\tIteration: 440\t Loss: 0.0711\n",
      "\tIteration: 480\t Loss: 0.1016\n",
      "\tIteration: 520\t Loss: 0.0992\n",
      "\tIteration: 560\t Loss: 0.0901\n",
      "\tIteration: 600\t Loss: 0.0854\n",
      "\tIteration: 640\t Loss: 0.0827\n",
      "\tIteration: 680\t Loss: 0.0900\n",
      "\tIteration: 720\t Loss: 0.0832\n",
      "\tIteration: 760\t Loss: 0.0966\n",
      "\tIteration: 800\t Loss: 0.0719\n",
      "\tIteration: 840\t Loss: 0.0770\n",
      "\tIteration: 880\t Loss: 0.0912\n",
      "\tIteration: 920\t Loss: 0.0879\n",
      "Epoch: 5/10\n",
      "\tIteration: 0\t Loss: 0.0039\n",
      "\tIteration: 40\t Loss: 0.0824\n",
      "\tIteration: 80\t Loss: 0.0749\n",
      "\tIteration: 120\t Loss: 0.0865\n",
      "\tIteration: 160\t Loss: 0.0757\n",
      "\tIteration: 200\t Loss: 0.0849\n",
      "\tIteration: 240\t Loss: 0.0606\n",
      "\tIteration: 280\t Loss: 0.0613\n",
      "\tIteration: 320\t Loss: 0.0775\n",
      "\tIteration: 360\t Loss: 0.0806\n",
      "\tIteration: 400\t Loss: 0.0726\n",
      "\tIteration: 440\t Loss: 0.0714\n",
      "\tIteration: 480\t Loss: 0.0772\n",
      "\tIteration: 520\t Loss: 0.0740\n",
      "\tIteration: 560\t Loss: 0.0638\n",
      "\tIteration: 600\t Loss: 0.0891\n",
      "\tIteration: 640\t Loss: 0.0921\n",
      "\tIteration: 680\t Loss: 0.0913\n",
      "\tIteration: 720\t Loss: 0.0829\n",
      "\tIteration: 760\t Loss: 0.0909\n",
      "\tIteration: 800\t Loss: 0.0705\n",
      "\tIteration: 840\t Loss: 0.0767\n",
      "\tIteration: 880\t Loss: 0.0756\n",
      "\tIteration: 920\t Loss: 0.0768\n",
      "Epoch: 6/10\n",
      "\tIteration: 0\t Loss: 0.0005\n",
      "\tIteration: 40\t Loss: 0.0749\n",
      "\tIteration: 80\t Loss: 0.0605\n",
      "\tIteration: 120\t Loss: 0.0607\n",
      "\tIteration: 160\t Loss: 0.0763\n",
      "\tIteration: 200\t Loss: 0.0730\n",
      "\tIteration: 240\t Loss: 0.0773\n",
      "\tIteration: 280\t Loss: 0.0641\n",
      "\tIteration: 320\t Loss: 0.0674\n",
      "\tIteration: 360\t Loss: 0.0812\n",
      "\tIteration: 400\t Loss: 0.0661\n",
      "\tIteration: 440\t Loss: 0.0618\n",
      "\tIteration: 480\t Loss: 0.0872\n",
      "\tIteration: 520\t Loss: 0.0825\n",
      "\tIteration: 560\t Loss: 0.0677\n",
      "\tIteration: 600\t Loss: 0.0667\n",
      "\tIteration: 640\t Loss: 0.0600\n",
      "\tIteration: 680\t Loss: 0.0795\n",
      "\tIteration: 720\t Loss: 0.0704\n",
      "\tIteration: 760\t Loss: 0.0831\n",
      "\tIteration: 800\t Loss: 0.0618\n",
      "\tIteration: 840\t Loss: 0.0798\n",
      "\tIteration: 880\t Loss: 0.0528\n",
      "\tIteration: 920\t Loss: 0.0548\n",
      "Epoch: 7/10\n",
      "\tIteration: 0\t Loss: 0.0022\n",
      "\tIteration: 40\t Loss: 0.0666\n",
      "\tIteration: 80\t Loss: 0.0526\n",
      "\tIteration: 120\t Loss: 0.0539\n",
      "\tIteration: 160\t Loss: 0.0441\n",
      "\tIteration: 200\t Loss: 0.0432\n",
      "\tIteration: 240\t Loss: 0.0653\n",
      "\tIteration: 280\t Loss: 0.0612\n",
      "\tIteration: 320\t Loss: 0.0497\n",
      "\tIteration: 360\t Loss: 0.0570\n",
      "\tIteration: 400\t Loss: 0.0653\n",
      "\tIteration: 440\t Loss: 0.0534\n",
      "\tIteration: 480\t Loss: 0.0653\n",
      "\tIteration: 520\t Loss: 0.0760\n",
      "\tIteration: 560\t Loss: 0.0536\n",
      "\tIteration: 600\t Loss: 0.0500\n",
      "\tIteration: 640\t Loss: 0.0608\n",
      "\tIteration: 680\t Loss: 0.0489\n",
      "\tIteration: 720\t Loss: 0.0677\n",
      "\tIteration: 760\t Loss: 0.0645\n",
      "\tIteration: 800\t Loss: 0.0721\n",
      "\tIteration: 840\t Loss: 0.0566\n",
      "\tIteration: 880\t Loss: 0.0460\n",
      "\tIteration: 920\t Loss: 0.0794\n",
      "Epoch: 8/10\n",
      "\tIteration: 0\t Loss: 0.0016\n",
      "\tIteration: 40\t Loss: 0.0532\n",
      "\tIteration: 80\t Loss: 0.0434\n",
      "\tIteration: 120\t Loss: 0.0339\n",
      "\tIteration: 160\t Loss: 0.0505\n",
      "\tIteration: 200\t Loss: 0.0600\n",
      "\tIteration: 240\t Loss: 0.0413\n",
      "\tIteration: 280\t Loss: 0.0572\n",
      "\tIteration: 320\t Loss: 0.0439\n",
      "\tIteration: 360\t Loss: 0.0602\n",
      "\tIteration: 400\t Loss: 0.0544\n",
      "\tIteration: 440\t Loss: 0.0410\n",
      "\tIteration: 480\t Loss: 0.0339\n",
      "\tIteration: 520\t Loss: 0.0470\n",
      "\tIteration: 560\t Loss: 0.0524\n",
      "\tIteration: 600\t Loss: 0.0606\n",
      "\tIteration: 640\t Loss: 0.0528\n",
      "\tIteration: 680\t Loss: 0.0469\n",
      "\tIteration: 720\t Loss: 0.0525\n",
      "\tIteration: 760\t Loss: 0.0818\n",
      "\tIteration: 800\t Loss: 0.0594\n",
      "\tIteration: 840\t Loss: 0.0601\n",
      "\tIteration: 880\t Loss: 0.0649\n",
      "\tIteration: 920\t Loss: 0.0609\n",
      "Epoch: 9/10\n",
      "\tIteration: 0\t Loss: 0.0006\n",
      "\tIteration: 40\t Loss: 0.0409\n",
      "\tIteration: 80\t Loss: 0.0427\n",
      "\tIteration: 120\t Loss: 0.0401\n",
      "\tIteration: 160\t Loss: 0.0437\n",
      "\tIteration: 200\t Loss: 0.0545\n",
      "\tIteration: 240\t Loss: 0.0506\n",
      "\tIteration: 280\t Loss: 0.0517\n",
      "\tIteration: 320\t Loss: 0.0302\n",
      "\tIteration: 360\t Loss: 0.0389\n",
      "\tIteration: 400\t Loss: 0.0434\n",
      "\tIteration: 440\t Loss: 0.0468\n",
      "\tIteration: 480\t Loss: 0.0524\n",
      "\tIteration: 520\t Loss: 0.0378\n",
      "\tIteration: 560\t Loss: 0.0633\n",
      "\tIteration: 600\t Loss: 0.0440\n",
      "\tIteration: 640\t Loss: 0.0564\n",
      "\tIteration: 680\t Loss: 0.0534\n",
      "\tIteration: 720\t Loss: 0.0558\n",
      "\tIteration: 760\t Loss: 0.0448\n",
      "\tIteration: 800\t Loss: 0.0588\n",
      "\tIteration: 840\t Loss: 0.0568\n",
      "\tIteration: 880\t Loss: 0.0537\n",
      "\tIteration: 920\t Loss: 0.0465\n",
      "Epoch: 10/10\n",
      "\tIteration: 0\t Loss: 0.0004\n",
      "\tIteration: 40\t Loss: 0.0450\n",
      "\tIteration: 80\t Loss: 0.0405\n",
      "\tIteration: 120\t Loss: 0.0396\n",
      "\tIteration: 160\t Loss: 0.0483\n",
      "\tIteration: 200\t Loss: 0.0375\n",
      "\tIteration: 240\t Loss: 0.0392\n",
      "\tIteration: 280\t Loss: 0.0405\n",
      "\tIteration: 320\t Loss: 0.0448\n",
      "\tIteration: 360\t Loss: 0.0504\n",
      "\tIteration: 400\t Loss: 0.0442\n",
      "\tIteration: 440\t Loss: 0.0509\n",
      "\tIteration: 480\t Loss: 0.0407\n",
      "\tIteration: 520\t Loss: 0.0616\n",
      "\tIteration: 560\t Loss: 0.0422\n",
      "\tIteration: 600\t Loss: 0.0352\n",
      "\tIteration: 640\t Loss: 0.0540\n",
      "\tIteration: 680\t Loss: 0.0524\n",
      "\tIteration: 720\t Loss: 0.0703\n",
      "\tIteration: 760\t Loss: 0.0545\n",
      "\tIteration: 800\t Loss: 0.0448\n",
      "\tIteration: 840\t Loss: 0.0309\n",
      "\tIteration: 880\t Loss: 0.0352\n",
      "\tIteration: 920\t Loss: 0.0566\n"
     ]
    }
   ],
   "source": [
    "## TODO: Your training loop here\n",
    "num_epochs = 10\n",
    "print_every = 40\n",
    "\n",
    "for epoch in range(num_epochs):\n",
    "    current_loss = 0\n",
    "    print(f\"Epoch: {epoch+1}/{num_epochs}\")\n",
    "\n",
    "    for i, (images, labels) in enumerate(iter(trainloader)):\n",
    "\n",
    "        images.resize_(images.size()[0], 784)\n",
    "        \n",
    "        optimizer.zero_grad()\n",
    "        \n",
    "        output = model.forward(images)   # 1) Forward pass\n",
    "        loss = criterion(output, labels) # 2) Compute loss\n",
    "        loss.backward()                  # 3) Backward pass\n",
    "        optimizer.step()                 # 4) Update model\n",
    "        \n",
    "        current_loss += loss.item()\n",
    "        \n",
    "        if i % print_every == 0:\n",
    "            print(f\"\\tIteration: {i}\\t Loss: {current_loss/print_every:.4f}\")\n",
    "            current_loss = 0"
   ]
  },
  {
   "cell_type": "code",
   "execution_count": 18,
   "metadata": {},
   "outputs": [
    {
     "data": {
      "image/png": "[encoded data removed]",
      "text/plain": [
       "<Figure size 432x648 with 2 Axes>"
      ]
     },
     "metadata": {
      "image/png": {
       "height": 195,
       "width": 349
      },
      "needs_background": "light"
     },
     "output_type": "display_data"
    }
   ],
   "source": [
    "# Run this cell with your model to make sure it works and predicts well for the validation data\n",
    "images, labels = next(iter(testloader))\n",
    "images.resize_(images.shape[0], 1, 784)\n",
    "logits = model.forward(images[0,:])\n",
    "ps = F.softmax(logits, dim=1)\n",
    "view_classify(images[0].view(1, 28, 28), ps)"
   ]
  },
  {
   "cell_type": "markdown",
   "metadata": {},
   "source": [
    "<div style=\"background:#222222; color:#ffffff; padding:20px\">\n",
    "  <h3 style=\"color:#01ff84; margin-top:4px\">Exercise 3:</h3>\n",
    "  <p>Write the code for adding <strong style=\"color:#01ff84\">Early Stopping with patience = 2</strong> to the training loop from scratch.</p>\n",
    "  <p><strong style=\"color:#01ff84\">Hint:</strong> Monitor the Validation loss every epoch, and if in 2 epochs, the validation loss does not improve, stop the training loop with <code>break</code>.</p>\n",
    "<div>"
   ]
  },
  {
   "cell_type": "code",
   "execution_count": null,
   "metadata": {},
   "outputs": [],
   "source": [
    "## TODO: Your training loop here"
   ]
  }
 ],
 "metadata": {
  "interpreter": {
   "hash": "f12c5d7f0baae8022573a61a8d5591a3788530288ea52bc9ad65d8d764f8ff68"
  },
  "kernelspec": {
   "display_name": "Python 3.10.4 ('ml')",
   "language": "python",
   "name": "python3"
  },
  "language_info": {
   "codemirror_mode": {
    "name": "ipython",
    "version": 3
   },
   "file_extension": ".py",
   "mimetype": "text/x-python",
   "name": "python",
   "nbconvert_exporter": "python",
   "pygments_lexer": "ipython3",
   "version": "3.10.4"
  }
 },
 "nbformat": 4,
 "nbformat_minor": 2
}
