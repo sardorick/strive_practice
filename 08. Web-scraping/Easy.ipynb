{
 "cells": [
  {
   "cell_type": "code",
   "execution_count": 1,
   "metadata": {},
   "outputs": [],
   "source": [
    "import requests\n",
    "from bs4 import BeautifulSoup"
   ]
  },
  {
   "cell_type": "code",
   "execution_count": 2,
   "metadata": {},
   "outputs": [],
   "source": [
    "import pandas as pd"
   ]
  },
  {
   "cell_type": "code",
   "execution_count": 3,
   "metadata": {},
   "outputs": [],
   "source": [
    "url = \"https://forecast.weather.gov/MapClick.php?x=276&y=148&site=lox&zmx=&zmy=&map_x=276&map_y=148#.Yis66-jMK3A\""
   ]
  },
  {
   "cell_type": "code",
   "execution_count": 4,
   "metadata": {},
   "outputs": [],
   "source": [
    "getting_page = requests.get(url)"
   ]
  },
  {
   "cell_type": "code",
   "execution_count": 5,
   "metadata": {},
   "outputs": [
    {
     "data": {
      "text/plain": [
       "<Response [200]>"
      ]
     },
     "execution_count": 5,
     "metadata": {},
     "output_type": "execute_result"
    }
   ],
   "source": [
    "getting_page"
   ]
  },
  {
   "cell_type": "code",
   "execution_count": 6,
   "metadata": {},
   "outputs": [],
   "source": [
    "soup = BeautifulSoup(getting_page.content, \"html.parser\")"
   ]
  },
  {
   "cell_type": "code",
   "execution_count": 77,
   "metadata": {},
   "outputs": [],
   "source": [
    "weekday = soup.find_all(\"div\", class_=\"col-sm-2 forecast-label\")[1:11]\n",
    "conditions_description = soup.find_all(\"div\", class_=\"col-sm-10 forecast-text\")[1:11]\n",
    "high_low = []\n",
    "for i in conditions_description:\n",
    "    high_low.append(i.text.split(\".\")[0].split(\" \")[-1])\n",
    "    \n",
    "dates = pd.date_range(start=pd.to_datetime(\"today\"), periods=7, freq='D')"
   ]
  },
  {
   "cell_type": "code",
   "execution_count": 78,
   "metadata": {},
   "outputs": [
    {
     "data": {
      "text/html": [
       "<div>\n",
       "<style scoped>\n",
       "    .dataframe tbody tr th:only-of-type {\n",
       "        vertical-align: middle;\n",
       "    }\n",
       "\n",
       "    .dataframe tbody tr th {\n",
       "        vertical-align: top;\n",
       "    }\n",
       "\n",
       "    .dataframe thead th {\n",
       "        text-align: right;\n",
       "    }\n",
       "</style>\n",
       "<table border=\"1\" class=\"dataframe\">\n",
       "  <thead>\n",
       "    <tr style=\"text-align: right;\">\n",
       "      <th></th>\n",
       "      <th>1</th>\n",
       "      <th>2</th>\n",
       "      <th>3</th>\n",
       "      <th>4</th>\n",
       "    </tr>\n",
       "  </thead>\n",
       "  <tbody>\n",
       "    <tr>\n",
       "      <th>0</th>\n",
       "      <td>2022-03-11 15:43:00.696083</td>\n",
       "      <td>[[Friday]]</td>\n",
       "      <td>[Sunny, with a high near 74. North wind 5 to 1...</td>\n",
       "      <td>74</td>\n",
       "    </tr>\n",
       "    <tr>\n",
       "      <th>1</th>\n",
       "      <td>2022-03-12 15:43:00.696083</td>\n",
       "      <td>[[Friday Night]]</td>\n",
       "      <td>[Mostly clear, with a low around 45. Northwest...</td>\n",
       "      <td>45</td>\n",
       "    </tr>\n",
       "    <tr>\n",
       "      <th>2</th>\n",
       "      <td>2022-03-13 15:43:00.696083</td>\n",
       "      <td>[[Saturday]]</td>\n",
       "      <td>[Sunny, with a high near 76. North northeast w...</td>\n",
       "      <td>76</td>\n",
       "    </tr>\n",
       "    <tr>\n",
       "      <th>3</th>\n",
       "      <td>2022-03-14 15:43:00.696083</td>\n",
       "      <td>[[Saturday Night]]</td>\n",
       "      <td>[Partly cloudy, with a low around 49. West sou...</td>\n",
       "      <td>49</td>\n",
       "    </tr>\n",
       "    <tr>\n",
       "      <th>4</th>\n",
       "      <td>2022-03-15 15:43:00.696083</td>\n",
       "      <td>[[Sunday]]</td>\n",
       "      <td>[Mostly sunny, with a high near 71.]</td>\n",
       "      <td>71</td>\n",
       "    </tr>\n",
       "    <tr>\n",
       "      <th>5</th>\n",
       "      <td>2022-03-16 15:43:00.696083</td>\n",
       "      <td>[[Sunday Night]]</td>\n",
       "      <td>[Partly cloudy, with a low around 49.]</td>\n",
       "      <td>49</td>\n",
       "    </tr>\n",
       "    <tr>\n",
       "      <th>6</th>\n",
       "      <td>2022-03-17 15:43:00.696083</td>\n",
       "      <td>[[Monday]]</td>\n",
       "      <td>[Sunny, with a high near 76.]</td>\n",
       "      <td>76</td>\n",
       "    </tr>\n",
       "  </tbody>\n",
       "</table>\n",
       "</div>"
      ],
      "text/plain": [
       "                           1                   2  \\\n",
       "0 2022-03-11 15:43:00.696083          [[Friday]]   \n",
       "1 2022-03-12 15:43:00.696083    [[Friday Night]]   \n",
       "2 2022-03-13 15:43:00.696083        [[Saturday]]   \n",
       "3 2022-03-14 15:43:00.696083  [[Saturday Night]]   \n",
       "4 2022-03-15 15:43:00.696083          [[Sunday]]   \n",
       "5 2022-03-16 15:43:00.696083    [[Sunday Night]]   \n",
       "6 2022-03-17 15:43:00.696083          [[Monday]]   \n",
       "\n",
       "                                                   3   4  \n",
       "0  [Sunny, with a high near 74. North wind 5 to 1...  74  \n",
       "1  [Mostly clear, with a low around 45. Northwest...  45  \n",
       "2  [Sunny, with a high near 76. North northeast w...  76  \n",
       "3  [Partly cloudy, with a low around 49. West sou...  49  \n",
       "4               [Mostly sunny, with a high near 71.]  71  \n",
       "5             [Partly cloudy, with a low around 49.]  49  \n",
       "6                      [Sunny, with a high near 76.]  76  "
      ]
     },
     "execution_count": 78,
     "metadata": {},
     "output_type": "execute_result"
    }
   ],
   "source": [
    "# dataframe\n",
    "\n",
    "df = pd.DataFrame(zip(dates, weekday, conditions_description, high_low), columns=[1,2,3,4])\n",
    "df"
   ]
  },
  {
   "cell_type": "code",
   "execution_count": 61,
   "metadata": {},
   "outputs": [],
   "source": [
    "high_low = []\n",
    "for i in conditions_description:\n",
    "    high_low.append(i.text.split(\".\")[0].split(\" \")[-1])"
   ]
  },
  {
   "cell_type": "code",
   "execution_count": 57,
   "metadata": {},
   "outputs": [
    {
     "data": {
      "text/plain": [
       "['74', '45', '76', '49', '71', '49', '76', '53', '75', '52']"
      ]
     },
     "execution_count": 57,
     "metadata": {},
     "output_type": "execute_result"
    }
   ],
   "source": [
    "high_low"
   ]
  },
  {
   "cell_type": "code",
   "execution_count": 34,
   "metadata": {},
   "outputs": [
    {
     "name": "stdout",
     "output_type": "stream",
     "text": [
      "45\n"
     ]
    }
   ],
   "source": [
    "high_low.append(i.text[0].split(\".\")[0].split(\" \")[-1])"
   ]
  },
  {
   "cell_type": "code",
   "execution_count": 23,
   "metadata": {},
   "outputs": [],
   "source": [
    "weekday_list = []\n",
    "for i in weekday:\n",
    "    # print(i.text)\n",
    "    weekday_list.append(i.text)"
   ]
  },
  {
   "cell_type": "code",
   "execution_count": 35,
   "metadata": {},
   "outputs": [
    {
     "data": {
      "text/plain": [
       "['Friday',\n",
       " 'Friday Night',\n",
       " 'Saturday',\n",
       " 'Saturday Night',\n",
       " 'Sunday',\n",
       " 'Sunday Night',\n",
       " 'Monday',\n",
       " 'Monday Night',\n",
       " 'Tuesday',\n",
       " 'Tuesday Night']"
      ]
     },
     "execution_count": 35,
     "metadata": {},
     "output_type": "execute_result"
    }
   ],
   "source": [
    "weekday_list"
   ]
  },
  {
   "cell_type": "code",
   "execution_count": 16,
   "metadata": {},
   "outputs": [],
   "source": [
    "conditions_list = []\n",
    "for i in conditions_description:\n",
    "    # print(i.text)\n",
    "    conditions_list.append(i.text)\n",
    "\n",
    "low_list = []\n",
    "for i in low:\n",
    "    # print(i.text)\n",
    "    low_list.append(i.text)\n",
    "\n",
    "high_list = []\n",
    "for i in high:\n",
    "    # print(i.text)\n",
    "    high_list.append(i.text)"
   ]
  },
  {
   "cell_type": "code",
   "execution_count": 18,
   "metadata": {},
   "outputs": [
    {
     "name": "stdout",
     "output_type": "stream",
     "text": [
      "10\n",
      "3\n",
      "3\n"
     ]
    }
   ],
   "source": [
    "print(len(conditions_list))\n",
    "print(len(low_list))\n",
    "print(len(high_list))\n",
    "\n"
   ]
  },
  {
   "cell_type": "code",
   "execution_count": 11,
   "metadata": {},
   "outputs": [],
   "source": [
    "def fhr_to_celsius(f):\n",
    "    c  = (5/9) * (f - 32)\n",
    "    return c\n",
    "\n"
   ]
  },
  {
   "cell_type": "code",
   "execution_count": 12,
   "metadata": {},
   "outputs": [
    {
     "data": {
      "text/plain": [
       "9"
      ]
     },
     "execution_count": 12,
     "metadata": {},
     "output_type": "execute_result"
    }
   ],
   "source": [
    "round(fhr_to_celsius(49))"
   ]
  },
  {
   "cell_type": "code",
   "execution_count": null,
   "metadata": {},
   "outputs": [],
   "source": []
  }
 ],
 "metadata": {
  "interpreter": {
   "hash": "b800dbeca7ba76140d44d928c46878d80d0628d805871ef6473defab86f621cf"
  },
  "kernelspec": {
   "display_name": "Python 3.9.7 ('strive')",
   "language": "python",
   "name": "python3"
  },
  "language_info": {
   "codemirror_mode": {
    "name": "ipython",
    "version": 3
   },
   "file_extension": ".py",
   "mimetype": "text/x-python",
   "name": "python",
   "nbconvert_exporter": "python",
   "pygments_lexer": "ipython3",
   "version": "3.9.7"
  },
  "orig_nbformat": 4
 },
 "nbformat": 4,
 "nbformat_minor": 2
}
