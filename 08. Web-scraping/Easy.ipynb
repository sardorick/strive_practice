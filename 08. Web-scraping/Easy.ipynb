{
 "cells": [
  {
   "cell_type": "code",
   "execution_count": 97,
   "metadata": {},
   "outputs": [],
   "source": [
    "import requests\n",
    "from bs4 import BeautifulSoup"
   ]
  },
  {
   "cell_type": "code",
   "execution_count": 98,
   "metadata": {},
   "outputs": [],
   "source": [
    "import pandas as pd"
   ]
  },
  {
   "cell_type": "code",
   "execution_count": 99,
   "metadata": {},
   "outputs": [],
   "source": [
    "url = \"https://forecast.weather.gov/MapClick.php?x=276&y=148&site=lox&zmx=&zmy=&map_x=276&map_y=148#.Yis66-jMK3A\""
   ]
  },
  {
   "cell_type": "code",
   "execution_count": 100,
   "metadata": {},
   "outputs": [],
   "source": [
    "getting_page = requests.get(url)"
   ]
  },
  {
   "cell_type": "code",
   "execution_count": 101,
   "metadata": {},
   "outputs": [
    {
     "data": {
      "text/plain": [
       "<Response [200]>"
      ]
     },
     "execution_count": 101,
     "metadata": {},
     "output_type": "execute_result"
    }
   ],
   "source": [
    "getting_page"
   ]
  },
  {
   "cell_type": "code",
   "execution_count": 102,
   "metadata": {},
   "outputs": [],
   "source": [
    "soup = BeautifulSoup(getting_page.content, \"html.parser\")"
   ]
  },
  {
   "cell_type": "code",
   "execution_count": 112,
   "metadata": {},
   "outputs": [],
   "source": [
    "weekday = []\n",
    "for i in soup.find_all(\"div\", class_=\"col-sm-2 forecast-label\"):\n",
    "    weekday.append(i.text)\n",
    "\n",
    "conditions_description = []\n",
    "for i in soup.find_all(\"div\", class_=\"col-sm-10 forecast-text\"):\n",
    "    conditions_description.append(i.text)\n",
    "\n",
    "high_low = []\n",
    "for i in soup.find_all(\"div\", class_=\"col-sm-10 forecast-text\"):\n",
    "    high_low.append(i.text.split(\".\")[0].split(\" \")[-1])\n",
    "    \n",
    "dates = pd.date_range(start=pd.to_datetime(\"today\"), periods=10, freq='D')\n",
    "\n",
    "## Avoid getting two dates for the same day\n",
    "\n",
    "day_night = []\n",
    "for i, j in zip(dates, dates):\n",
    "    day_night.append(i.date())\n",
    "    day_night.append(j.date())\n"
   ]
  },
  {
   "cell_type": "code",
   "execution_count": 116,
   "metadata": {},
   "outputs": [],
   "source": [
    "def fhr_to_celsius(f):\n",
    "    return ((float((f)-32) * 5) / 9)\n",
    "\n",
    "    "
   ]
  },
  {
   "cell_type": "code",
   "execution_count": 117,
   "metadata": {},
   "outputs": [
    {
     "data": {
      "text/html": [
       "<div>\n",
       "<style scoped>\n",
       "    .dataframe tbody tr th:only-of-type {\n",
       "        vertical-align: middle;\n",
       "    }\n",
       "\n",
       "    .dataframe tbody tr th {\n",
       "        vertical-align: top;\n",
       "    }\n",
       "\n",
       "    .dataframe thead th {\n",
       "        text-align: right;\n",
       "    }\n",
       "</style>\n",
       "<table border=\"1\" class=\"dataframe\">\n",
       "  <thead>\n",
       "    <tr style=\"text-align: right;\">\n",
       "      <th></th>\n",
       "      <th>date</th>\n",
       "      <th>weekday</th>\n",
       "      <th>Conditions</th>\n",
       "      <th>highest or lowest temp</th>\n",
       "    </tr>\n",
       "  </thead>\n",
       "  <tbody>\n",
       "    <tr>\n",
       "      <th>0</th>\n",
       "      <td>2022-03-12</td>\n",
       "      <td>Today</td>\n",
       "      <td>Sunny, with a high near 76. Northeast wind 5 t...</td>\n",
       "      <td>76</td>\n",
       "    </tr>\n",
       "    <tr>\n",
       "      <th>1</th>\n",
       "      <td>2022-03-12</td>\n",
       "      <td>Tonight</td>\n",
       "      <td>Mostly clear, with a low around 49. West south...</td>\n",
       "      <td>49</td>\n",
       "    </tr>\n",
       "    <tr>\n",
       "      <th>2</th>\n",
       "      <td>2022-03-13</td>\n",
       "      <td>Sunday</td>\n",
       "      <td>Mostly sunny, with a high near 71. East wind 5...</td>\n",
       "      <td>71</td>\n",
       "    </tr>\n",
       "    <tr>\n",
       "      <th>3</th>\n",
       "      <td>2022-03-13</td>\n",
       "      <td>Sunday Night</td>\n",
       "      <td>Mostly clear, with a low around 50. Northwest ...</td>\n",
       "      <td>50</td>\n",
       "    </tr>\n",
       "    <tr>\n",
       "      <th>4</th>\n",
       "      <td>2022-03-14</td>\n",
       "      <td>Monday</td>\n",
       "      <td>Sunny, with a high near 75. Northeast wind 5 t...</td>\n",
       "      <td>75</td>\n",
       "    </tr>\n",
       "    <tr>\n",
       "      <th>5</th>\n",
       "      <td>2022-03-14</td>\n",
       "      <td>Monday Night</td>\n",
       "      <td>Mostly clear, with a low around 54.</td>\n",
       "      <td>54</td>\n",
       "    </tr>\n",
       "    <tr>\n",
       "      <th>6</th>\n",
       "      <td>2022-03-15</td>\n",
       "      <td>Tuesday</td>\n",
       "      <td>Mostly sunny, with a high near 71.</td>\n",
       "      <td>71</td>\n",
       "    </tr>\n",
       "    <tr>\n",
       "      <th>7</th>\n",
       "      <td>2022-03-15</td>\n",
       "      <td>Tuesday Night</td>\n",
       "      <td>Partly cloudy, with a low around 53.</td>\n",
       "      <td>53</td>\n",
       "    </tr>\n",
       "    <tr>\n",
       "      <th>8</th>\n",
       "      <td>2022-03-16</td>\n",
       "      <td>Wednesday</td>\n",
       "      <td>Sunny, with a high near 78.</td>\n",
       "      <td>78</td>\n",
       "    </tr>\n",
       "    <tr>\n",
       "      <th>9</th>\n",
       "      <td>2022-03-16</td>\n",
       "      <td>Wednesday Night</td>\n",
       "      <td>Mostly clear, with a low around 54.</td>\n",
       "      <td>54</td>\n",
       "    </tr>\n",
       "    <tr>\n",
       "      <th>10</th>\n",
       "      <td>2022-03-17</td>\n",
       "      <td>Thursday</td>\n",
       "      <td>Sunny, with a high near 80.</td>\n",
       "      <td>80</td>\n",
       "    </tr>\n",
       "    <tr>\n",
       "      <th>11</th>\n",
       "      <td>2022-03-17</td>\n",
       "      <td>Thursday Night</td>\n",
       "      <td>Mostly clear, with a low around 55.</td>\n",
       "      <td>55</td>\n",
       "    </tr>\n",
       "    <tr>\n",
       "      <th>12</th>\n",
       "      <td>2022-03-18</td>\n",
       "      <td>Friday</td>\n",
       "      <td>Sunny, with a high near 82.</td>\n",
       "      <td>82</td>\n",
       "    </tr>\n",
       "  </tbody>\n",
       "</table>\n",
       "</div>"
      ],
      "text/plain": [
       "          date          weekday  \\\n",
       "0   2022-03-12            Today   \n",
       "1   2022-03-12          Tonight   \n",
       "2   2022-03-13           Sunday   \n",
       "3   2022-03-13     Sunday Night   \n",
       "4   2022-03-14           Monday   \n",
       "5   2022-03-14     Monday Night   \n",
       "6   2022-03-15          Tuesday   \n",
       "7   2022-03-15    Tuesday Night   \n",
       "8   2022-03-16        Wednesday   \n",
       "9   2022-03-16  Wednesday Night   \n",
       "10  2022-03-17         Thursday   \n",
       "11  2022-03-17   Thursday Night   \n",
       "12  2022-03-18           Friday   \n",
       "\n",
       "                                           Conditions highest or lowest temp  \n",
       "0   Sunny, with a high near 76. Northeast wind 5 t...                     76  \n",
       "1   Mostly clear, with a low around 49. West south...                     49  \n",
       "2   Mostly sunny, with a high near 71. East wind 5...                     71  \n",
       "3   Mostly clear, with a low around 50. Northwest ...                     50  \n",
       "4   Sunny, with a high near 75. Northeast wind 5 t...                     75  \n",
       "5                 Mostly clear, with a low around 54.                     54  \n",
       "6                  Mostly sunny, with a high near 71.                     71  \n",
       "7                Partly cloudy, with a low around 53.                     53  \n",
       "8                         Sunny, with a high near 78.                     78  \n",
       "9                 Mostly clear, with a low around 54.                     54  \n",
       "10                        Sunny, with a high near 80.                     80  \n",
       "11                Mostly clear, with a low around 55.                     55  \n",
       "12                        Sunny, with a high near 82.                     82  "
      ]
     },
     "execution_count": 117,
     "metadata": {},
     "output_type": "execute_result"
    }
   ],
   "source": [
    "# dataframe\n",
    "df = pd.DataFrame(zip(day_night, weekday, conditions_description, high_low), columns=[\"date\",\"weekday\",\"Conditions\",\"highest or lowest temp\"])\n",
    "df"
   ]
  },
  {
   "cell_type": "code",
   "execution_count": null,
   "metadata": {},
   "outputs": [],
   "source": []
  }
 ],
 "metadata": {
  "interpreter": {
   "hash": "b800dbeca7ba76140d44d928c46878d80d0628d805871ef6473defab86f621cf"
  },
  "kernelspec": {
   "display_name": "Python 3.9.7 ('strive')",
   "language": "python",
   "name": "python3"
  },
  "language_info": {
   "codemirror_mode": {
    "name": "ipython",
    "version": 3
   },
   "file_extension": ".py",
   "mimetype": "text/x-python",
   "name": "python",
   "nbconvert_exporter": "python",
   "pygments_lexer": "ipython3",
   "version": "3.9.7"
  },
  "orig_nbformat": 4
 },
 "nbformat": 4,
 "nbformat_minor": 2
}
