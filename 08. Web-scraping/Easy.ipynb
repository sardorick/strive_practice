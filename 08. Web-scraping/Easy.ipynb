{
 "cells": [
  {
   "cell_type": "code",
   "execution_count": null,
   "metadata": {},
   "outputs": [],
   "source": [
    "import requests\n",
    "from bs4 import BeautifulSoup\n",
    "import pandas as pd\n",
    "from datetime import date"
   ]
  },
  {
   "cell_type": "code",
   "execution_count": 43,
   "metadata": {},
   "outputs": [
    {
     "name": "stdout",
     "output_type": "stream",
     "text": [
      "Today is 2022-03-11\n"
     ]
    }
   ],
   "source": [
    "today = date.today()\n",
    "print(\"Today is\", today)"
   ]
  },
  {
   "cell_type": "code",
   "execution_count": 7,
   "metadata": {},
   "outputs": [],
   "source": [
    "url = \"https://forecast.weather.gov/MapClick.php?x=276&y=148&site=lox&zmx=&zmy=&map_x=276&map_y=148#.Yis66-jMK3A\""
   ]
  },
  {
   "cell_type": "code",
   "execution_count": 8,
   "metadata": {},
   "outputs": [],
   "source": [
    "getting_page = requests.get(url)"
   ]
  },
  {
   "cell_type": "code",
   "execution_count": 9,
   "metadata": {},
   "outputs": [
    {
     "data": {
      "text/plain": [
       "<Response [200]>"
      ]
     },
     "execution_count": 9,
     "metadata": {},
     "output_type": "execute_result"
    }
   ],
   "source": [
    "getting_page"
   ]
  },
  {
   "cell_type": "code",
   "execution_count": 10,
   "metadata": {},
   "outputs": [],
   "source": [
    "soup = BeautifulSoup(getting_page.content, \"html.parser\")"
   ]
  },
  {
   "cell_type": "code",
   "execution_count": 46,
   "metadata": {},
   "outputs": [],
   "source": [
    "weekday = soup.find_all(\"div\", class_=\"col-sm-2 forecast-label\")[1:11]\n",
    "conditions_description = soup.find_all(\"div\", class_=\"col-sm-10 forecast-text\")[1:11]"
   ]
  },
  {
   "cell_type": "code",
   "execution_count": 47,
   "metadata": {},
   "outputs": [
    {
     "name": "stdout",
     "output_type": "stream",
     "text": [
      "Friday\n",
      "Friday Night\n",
      "Saturday\n",
      "Saturday Night\n",
      "Sunday\n",
      "Sunday Night\n",
      "Monday\n",
      "Monday Night\n",
      "Tuesday\n",
      "Tuesday Night\n"
     ]
    }
   ],
   "source": [
    "for i in weekday:\n",
    "    print(i.text)"
   ]
  },
  {
   "cell_type": "code",
   "execution_count": 48,
   "metadata": {},
   "outputs": [
    {
     "name": "stdout",
     "output_type": "stream",
     "text": [
      "Sunny, with a high near 74. North wind 5 to 10 mph becoming south southeast in the morning. \n",
      "Mostly clear, with a low around 45. Northwest wind around 5 mph becoming northeast after midnight. \n",
      "Sunny, with a high near 76. North northeast wind 5 to 10 mph becoming west southwest in the afternoon. Winds could gust as high as 15 mph. \n",
      "Partly cloudy, with a low around 49. West southwest wind around 5 mph becoming northeast after midnight. \n",
      "Mostly sunny, with a high near 71.\n",
      "Partly cloudy, with a low around 49.\n",
      "Sunny, with a high near 76.\n",
      "Mostly clear, with a low around 53.\n",
      "Mostly sunny, with a high near 75.\n",
      "Partly cloudy, with a low around 52.\n"
     ]
    }
   ],
   "source": [
    "for i in conditions_description:\n",
    "    print(i.text)"
   ]
  },
  {
   "cell_type": "code",
   "execution_count": null,
   "metadata": {},
   "outputs": [],
   "source": []
  }
 ],
 "metadata": {
  "interpreter": {
   "hash": "b800dbeca7ba76140d44d928c46878d80d0628d805871ef6473defab86f621cf"
  },
  "kernelspec": {
   "display_name": "Python 3.9.7 ('strive')",
   "language": "python",
   "name": "python3"
  },
  "language_info": {
   "codemirror_mode": {
    "name": "ipython",
    "version": 3
   },
   "file_extension": ".py",
   "mimetype": "text/x-python",
   "name": "python",
   "nbconvert_exporter": "python",
   "pygments_lexer": "ipython3",
   "version": "3.9.7"
  },
  "orig_nbformat": 4
 },
 "nbformat": 4,
 "nbformat_minor": 2
}
