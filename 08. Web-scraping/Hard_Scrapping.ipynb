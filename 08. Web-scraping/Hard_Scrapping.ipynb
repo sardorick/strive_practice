{
 "cells": [
  {
   "cell_type": "code",
   "execution_count": 1,
   "id": "1c3d60e1",
   "metadata": {},
   "outputs": [],
   "source": [
    "import requests\n",
    "from bs4 import BeautifulSoup\n",
    "import pandas as pd"
   ]
  },
  {
   "cell_type": "code",
   "execution_count": 2,
   "id": "b02ede42",
   "metadata": {},
   "outputs": [],
   "source": [
    "url = \"https://weather.com/weather/tenday/l/San+Francisco+CA?canonicalCityId=dfdaba8cbe3a4d12a8796e1f7b1ccc7174b4b0a2d5ddb1c8566ae9f154fa638c\""
   ]
  },
  {
   "cell_type": "code",
   "execution_count": 3,
   "id": "700ddf2b",
   "metadata": {},
   "outputs": [],
   "source": [
    "getting_page = requests.get(url)"
   ]
  },
  {
   "cell_type": "code",
   "execution_count": 4,
   "id": "e5adcb1b",
   "metadata": {},
   "outputs": [
    {
     "data": {
      "text/plain": [
       "<Response [200]>"
      ]
     },
     "execution_count": 4,
     "metadata": {},
     "output_type": "execute_result"
    }
   ],
   "source": [
    "getting_page"
   ]
  },
  {
   "cell_type": "code",
   "execution_count": 5,
   "id": "10d96a45",
   "metadata": {},
   "outputs": [],
   "source": [
    "soup = BeautifulSoup(getting_page.content, \"html.parser\")"
   ]
  },
  {
   "cell_type": "code",
   "execution_count": null,
   "id": "ff70ff4c",
   "metadata": {},
   "outputs": [],
   "source": []
  }
 ],
 "metadata": {
  "kernelspec": {
   "display_name": "Python 3 (ipykernel)",
   "language": "python",
   "name": "python3"
  },
  "language_info": {
   "codemirror_mode": {
    "name": "ipython",
    "version": 3
   },
   "file_extension": ".py",
   "mimetype": "text/x-python",
   "name": "python",
   "nbconvert_exporter": "python",
   "pygments_lexer": "ipython3",
   "version": "3.9.7"
  }
 },
 "nbformat": 4,
 "nbformat_minor": 5
}
