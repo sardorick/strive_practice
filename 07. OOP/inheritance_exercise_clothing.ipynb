{
  "cells": [
    {
      "cell_type": "markdown",
      "metadata": {
        "id": "VSIsAF-Enrv5"
      },
      "source": [
        "# Inheritance Exercise Clothing\n",
        "\n",
        "The following code contains a Clothing parent class and two children classes: Shirt Pants and Blouse. Read through the code and fill out the TODOs. "
      ]
    },
    {
      "cell_type": "code",
      "execution_count": 50,
      "metadata": {
        "id": "bO3T1fppnrwB"
      },
      "outputs": [],
      "source": [
        "class Clothing:\n",
        "\n",
        "  #TODO: Create a class called clothing that has following attributes and methods\n",
        "    # attributes: color, size, style, price\n",
        "\n",
        "    # methods: change_price, calculate_discount & calculate shipping\n",
        "    \"\"\" Define the constructor and give attributes \"\"\"\n",
        "    \n",
        "    def __init__(self, color, size, style, price):\n",
        "        self.color = color\n",
        "        self.size = size\n",
        "        self.style = style\n",
        "        self.price = price\n",
        "\n",
        "    # @property\n",
        "\n",
        "    def change_price(self, price):\n",
        "        self.price = price\n",
        "\n",
        "    \n",
        "    # calculate discount by multiplying self price and (1 - discount)\n",
        "    # return the discount value\n",
        "\n",
        "    def calculate_discount(self, discount):\n",
        "        self.discount = self.price * (1-discount)\n",
        "        return self.discount\n",
        "        \n",
        "\n",
        "    # shipping price = weight * rate\n",
        "    # return the shipping value \n",
        "\n",
        "    def calculate_shipping(self, weight, rate):\n",
        "        \"\"\"Creating a calculate shipping method\"\"\"\n",
        "        # self.weight = weight\n",
        "        # self.rate = rate\n",
        "        return weight * rate\n",
        "        \n",
        "        \n",
        "    \n",
        "\n",
        "class Shirt(Clothing):\n",
        "\n",
        "  #TODO: Create a class called shirt that has following attributes and methods\n",
        "    # attributes: color, size, style, price, long_or_short\n",
        "\n",
        "    # methods: double_price, which has no inputs and returns two times\n",
        "    # the price of the blouse\n",
        "    \n",
        "    def __init__(self, color, size, style, price, long_or_short):\n",
        "        super().__init__(color, size, style, price)\n",
        "        self.long_or_short = long_or_short\n",
        "        \n",
        "    \n",
        "    def double_price(self):\n",
        "        return self.price*2\n",
        "\n",
        "    \n",
        "class Pants(Clothing):\n",
        "    \"\"\"Create a Pants class with inheritance\"\"\"\n",
        "    def __init__(self, color, size, style, price, waist):\n",
        "        super().__init__(color, size, style, price)\n",
        "        self.waist = waist\n",
        "\n",
        "        \n",
        "        \n",
        "    # def calculate_discount(self, discount):\n",
        "    #     self.discount = self.price * (1-discount)\n",
        "    #     return self.discount\n",
        "        \n",
        "    \n",
        "# TODO: Write a class called Blouse, that inherits from the Clothing class\n",
        "# and has the the following attributes and methods:\n",
        "#   attributes: color, size, style, price, country_of_origin\n",
        "#     where country_of_origin is a string that holds the name of a \n",
        "#     country\n",
        "#\n",
        "#   methods: triple_price, which has no inputs and returns three times\n",
        "#     the price of the blouse\n",
        "#\n",
        "#\n",
        "class Blouse(Clothing):\n",
        "    def __init__(self, color, size, style, price, country_of_origin):\n",
        "        super().__init__(color, size, style, price)\n",
        "        self.country_of_origin = country_of_origin\n",
        "        \n",
        "    def triple_price(self):\n",
        "        return self.price*3\n",
        "        \n",
        "\n",
        "# TODO: Add a method to the clothing class called calculate_shipping.\n",
        "#   The method has two inputs: weight and rate. Weight is a float\n",
        "#   representing the weight of the article of clothing. Rate is a float\n",
        "#   representing the shipping weight. The method returns weight * rate"
      ]
    },
    {
      "cell_type": "code",
      "execution_count": 62,
      "metadata": {
        "id": "UbeA6QBmnrwE"
      },
      "outputs": [
        {
          "ename": "SyntaxError",
          "evalue": "invalid syntax (Temp/ipykernel_5464/3732938137.py, line 3)",
          "output_type": "error",
          "traceback": [
            "\u001b[1;36m  File \u001b[1;32m\"C:\\Users\\Lenovo\\AppData\\Local\\Temp/ipykernel_5464/3732938137.py\"\u001b[1;36m, line \u001b[1;32m3\u001b[0m\n\u001b[1;33m    print(clothing_class.price)-\u001b[0m\n\u001b[1;37m                                ^\u001b[0m\n\u001b[1;31mSyntaxError\u001b[0m\u001b[1;31m:\u001b[0m invalid syntax\n"
          ]
        }
      ],
      "source": [
        "clothing_class = Clothing('yellow', 45, 'Modern', 14)\n",
        "clothing_class.change_price(60)\n",
        "print(clothing_class.price)-"
      ]
    },
    {
      "cell_type": "code",
      "execution_count": 52,
      "metadata": {
        "id": "nlrkB2OAnrwH"
      },
      "outputs": [],
      "source": [
        "clothing_class1 = Shirt('black', 10, 'classic', 45, 'long' )"
      ]
    },
    {
      "cell_type": "code",
      "execution_count": 53,
      "metadata": {},
      "outputs": [
        {
          "data": {
            "text/plain": [
              "31.499999999999996"
            ]
          },
          "execution_count": 53,
          "metadata": {},
          "output_type": "execute_result"
        }
      ],
      "source": [
        "clothing_class1.calculate_discount(0.3)"
      ]
    },
    {
      "cell_type": "code",
      "execution_count": 54,
      "metadata": {},
      "outputs": [
        {
          "data": {
            "text/plain": [
              "4.95"
            ]
          },
          "execution_count": 54,
          "metadata": {},
          "output_type": "execute_result"
        }
      ],
      "source": [
        "clothing_class1.calculate_shipping(4.5, 1.1)"
      ]
    },
    {
      "cell_type": "code",
      "execution_count": 55,
      "metadata": {},
      "outputs": [],
      "source": [
        "clothing_class2 = Pants('white', 23, 'new', 14.99, 42)"
      ]
    },
    {
      "cell_type": "code",
      "execution_count": 56,
      "metadata": {},
      "outputs": [
        {
          "data": {
            "text/plain": [
              "7.495"
            ]
          },
          "execution_count": 56,
          "metadata": {},
          "output_type": "execute_result"
        }
      ],
      "source": [
        "clothing_class2.calculate_discount(0.5)"
      ]
    },
    {
      "cell_type": "code",
      "execution_count": 57,
      "metadata": {},
      "outputs": [
        {
          "data": {
            "text/plain": [
              "9.3"
            ]
          },
          "execution_count": 57,
          "metadata": {},
          "output_type": "execute_result"
        }
      ],
      "source": [
        "clothing_class2.calculate_shipping(3.0, 3.1)"
      ]
    },
    {
      "cell_type": "code",
      "execution_count": 58,
      "metadata": {},
      "outputs": [],
      "source": [
        "clothing_class3 = Blouse('grey', 38, 'new', 8.99, 'Brazil')"
      ]
    },
    {
      "cell_type": "code",
      "execution_count": 59,
      "metadata": {},
      "outputs": [
        {
          "data": {
            "text/plain": [
              "26.97"
            ]
          },
          "execution_count": 59,
          "metadata": {},
          "output_type": "execute_result"
        }
      ],
      "source": [
        "clothing_class3.triple_price()"
      ]
    },
    {
      "cell_type": "code",
      "execution_count": null,
      "metadata": {},
      "outputs": [],
      "source": []
    }
  ],
  "metadata": {
    "colab": {
      "collapsed_sections": [],
      "name": "inheritance-exercise-clothing.ipynb",
      "provenance": []
    },
    "kernelspec": {
      "display_name": "Python 3",
      "language": "python",
      "name": "python3"
    },
    "language_info": {
      "codemirror_mode": {
        "name": "ipython",
        "version": 3
      },
      "file_extension": ".py",
      "mimetype": "text/x-python",
      "name": "python",
      "nbconvert_exporter": "python",
      "pygments_lexer": "ipython3",
      "version": "3.9.7"
    }
  },
  "nbformat": 4,
  "nbformat_minor": 0
}
