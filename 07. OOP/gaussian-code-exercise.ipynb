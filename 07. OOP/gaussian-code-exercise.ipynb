{
 "cells": [
  {
   "cell_type": "markdown",
   "metadata": {},
   "source": [
    "# Gaussian Code Exercise\n",
    "\n",
    "Read through the code below and fill out the TODOs. You'll find a cell at the end of the Jupyter notebook containing unit tests. After you've run the code cell with the Gaussian class, you can run the final cell to check that your code functions as expected.\n",
    "\n",
    "For this exercise, you will use a file called 'numbers.txt', which is read in by the read_data_file() method. \n",
    "\n",
    "\n",
    "probability density function:\n",
    "\n",
    "$$\\displaystyle f(x | \\mu, \\sigma^2) = \\frac{1}{\\sqrt{2\\pi\\sigma^2}}e^{-(x - \\mu)^2/2\\sigma^2}$$\n",
    "\n",
    "- $\\mu$ is the mean\n",
    "- $\\sigma$ is the standard deviation\n",
    "- $\\sigma^2$ is the variance"
   ]
  },
  {
   "cell_type": "code",
   "execution_count": 2,
   "metadata": {},
   "outputs": [],
   "source": [
    "import math\n",
    "import matplotlib.pyplot as plt\n",
    "\n",
    "class Gaussian():\n",
    "    \"\"\" Gaussian distribution class for calculating and \n",
    "    visualizing a Gaussian distribution.\n",
    "    \n",
    "    Attributes:\n",
    "        mean (float) representing the mean value of the distribution\n",
    "        stdev (float) representing the standard deviation of the distribution\n",
    "        data_list (list of floats) a list of floats extracted from the data file\n",
    "            \n",
    "    \"\"\"\n",
    "    def __init__(self, mu = 0, sigma = 1): # constructor\n",
    "        self.mean = mu\n",
    "        self.stdev = sigma\n",
    "        self.data = []\n",
    "        # reserve underscore double underscore method - dunder method\n",
    "        \n",
    "\n",
    "    def calculate_mean(self): # a function inside a class is method\n",
    "        \"\"\"Method to calculate the mean of the data set.\n",
    "        \n",
    "        Args: \n",
    "            None\n",
    "        \n",
    "        Returns: \n",
    "            float: mean of the data set\n",
    "\n",
    "        \"\"\"\n",
    "        self.mean = sum(self.data) / len(self.data)\n",
    "        return self.mean\n",
    "        # TODO: Calculate the mean of the data set. Remember that the data set is stored in self.data\n",
    "        # Change the value of the mean attribute to be the mean of the data set\n",
    "        # Return the mean of the data set           \n",
    "        # pass\n",
    "\n",
    "    def calculate_stdev(self, sample=True):\n",
    "        \"\"\"Method to calculate the standard deviation of the data set.\n",
    "        \n",
    "        Args: \n",
    "            sample (bool): whether the data represents a sample or population\n",
    "        \n",
    "        Returns: \n",
    "            float: standard deviation of the data set\n",
    "    \n",
    "        \"\"\"\n",
    "       \n",
    "        # TODO:\n",
    "        #   Calculate the standard deviation of the data set\n",
    "        #   \n",
    "        #   The sample variable determines if the data set contains a sample or a population\n",
    "        #   If sample = True, this means the data is a sample. \n",
    "        #   Keep the value of sample in mind for calculating the standard deviation\n",
    "        #\n",
    "        #   Make sure to update self.stdev and return the standard deviation as well\n",
    "\n",
    "        # when sample : N-1\n",
    "        # population : N\n",
    "\n",
    "        # if sample == True:\n",
    "            # sample formula\n",
    "        # else:\n",
    "            # populationformula\n",
    "        n = 1 if sample else 0\n",
    "\n",
    "        variance = sum([(x-self.mean) ** 2 for x in self.data])/(len(self.data)-n)\n",
    "        stdev = math.sqrt(variance)\n",
    "\n",
    "        self.stdev = stdev\n",
    "        return stdev\n",
    "\n",
    "    def read_data_file(self, file_name, sample=True):\n",
    "        \"\"\"Method to read in data from a txt file. The txt file should have\n",
    "        one number (float) per line. The numbers are stored in the data attribute. \n",
    "        After reading in the file, the mean and standard deviation are calculated\n",
    "                \n",
    "        Args:\n",
    "            file_name (string): name of a file to read from\n",
    "        \n",
    "        Returns:\n",
    "            None\n",
    "        \n",
    "        \"\"\"\n",
    "        with open(file_name, 'r') as fp:\n",
    "            self.data_list = []\n",
    "            line = fp.readline()\n",
    "            while line:\n",
    "                self.data_list.append(int(line))\n",
    "                line = fp.readline()\n",
    "\n",
    "\n",
    "        # TODO:\n",
    "        # Open a file containig the data and append them to data_list.\n",
    "        \n",
    "    \n",
    "        # TODO: \n",
    "        #   Update the self.data attribute with the data_list\n",
    "        self.data = self.data_list\n",
    "        #   Update self.mean with the mean of the data_list. \n",
    "        self.mean = self.calculate_mean()\n",
    "        #       You can use the calculate_mean() method with self.calculate_mean()\n",
    "        #   Update self.stdev with the standard deviation of the data_list. Use the \n",
    "        #       calcaulte_stdev() method.\n",
    "\n",
    "        self.stdev = self.calculate_stdev()\n",
    "\n",
    "    def plot_histogram(self):\n",
    "        \"\"\"Method to output a histogram of the instance variable data using \n",
    "        matplotlib pyplot library.\n",
    "        \n",
    "        Args:\n",
    "            None\n",
    "            \n",
    "        Returns:\n",
    "            None\n",
    "        \"\"\"\n",
    "        \n",
    "        # TODO: Plot a histogram of the data_list using the matplotlib package.\n",
    "        #       Be sure to label the x and y axes and also give the chart a title\n",
    "        plt.hist(self.data, density=1)\n",
    "        plt.xlabel('Probability')\n",
    "        plt.ylabel('Frequency')\n",
    "        plt.title('Histogram')\n",
    "\n",
    "    def pdf(self, x):\n",
    "        \"\"\"Probability density function calculator for the gaussian distribution.\n",
    "        \n",
    "        Args:\n",
    "            x (float): point for calculating the probability density function\n",
    "            \n",
    "        \n",
    "        Returns:\n",
    "            float: probability density function output\n",
    "        \"\"\"\n",
    "        \n",
    "        # TODO: Calculate the probability density function of the Gaussian distribution\n",
    "        #       at the value x. You'll need to use self.stdev and self.mean to do the calculation\n",
    "        return (1.0/(self.stdev*math.sqrt(2*math.pi)))*math.exp(-0.5*((x-self.mean)/self.stdev)**2)\n",
    "\n",
    "    def plot_histogram_pdf(self, n_spaces = 50):\n",
    "        \"\"\"Method to plot the normalized histogram of the data and a plot of the \n",
    "        probability density function along the same range\n",
    "        \n",
    "        Args:\n",
    "            n_spaces (int): number of data points \n",
    "        \n",
    "        Returns:\n",
    "            list: x values for the pdf plot\n",
    "            list: y values for the pdf plot\n",
    "            \n",
    "        \"\"\"\n",
    "        \n",
    "        #TODO: Nothing to do for this method. Try it out and see how it works.\n",
    "        \n",
    "        mu = self.mean\n",
    "        sigma = self.stdev\n",
    "\n",
    "        min_range = min(self.data)\n",
    "        max_range = max(self.data)\n",
    "        \n",
    "         # calculates the interval between x values\n",
    "        interval = 1.0 * (max_range - min_range) / n_spaces\n",
    "\n",
    "        x = []\n",
    "        y = []\n",
    "        \n",
    "        # calculate the x values to visualize\n",
    "        for i in range(n_spaces):\n",
    "            tmp = min_range + interval*i\n",
    "            x.append(tmp)\n",
    "            y.append(self.pdf(tmp))\n",
    "\n",
    "        # make the plots\n",
    "        fig, axes = plt.subplots(2,sharex=True)\n",
    "        fig.subplots_adjust(hspace=.5)\n",
    "        axes[0].hist(self.data, density=True)\n",
    "        axes[0].set_title('Normed Histogram of Data')\n",
    "        axes[0].set_ylabel('Density')\n",
    "\n",
    "        axes[1].plot(x, y)\n",
    "        axes[1].set_title('Normal Distribution for \\n Sample Mean and Sample Standard Deviation')\n",
    "        axes[0].set_ylabel('Density')\n",
    "        plt.show()\n",
    "\n",
    "        return x, y"
   ]
  },
  {
   "cell_type": "code",
   "execution_count": 3,
   "metadata": {},
   "outputs": [],
   "source": [
    "gaussian = Gaussian()\n",
    "gaussian.read_data_file('numbers.txt')"
   ]
  },
  {
   "cell_type": "code",
   "execution_count": 4,
   "metadata": {},
   "outputs": [
    {
     "data": {
      "text/plain": [
       "[1, 3, 99, 100, 120, 32, 330, 23, 76, 44, 31]"
      ]
     },
     "execution_count": 4,
     "metadata": {},
     "output_type": "execute_result"
    }
   ],
   "source": [
    "gaussian.data"
   ]
  },
  {
   "cell_type": "code",
   "execution_count": 5,
   "metadata": {},
   "outputs": [
    {
     "data": {
      "text/plain": [
       "78.0909090909091"
      ]
     },
     "execution_count": 5,
     "metadata": {},
     "output_type": "execute_result"
    }
   ],
   "source": [
    "gaussian.mean"
   ]
  },
  {
   "cell_type": "code",
   "execution_count": 6,
   "metadata": {},
   "outputs": [
    {
     "data": {
      "text/plain": [
       "92.87459776004906"
      ]
     },
     "execution_count": 6,
     "metadata": {},
     "output_type": "execute_result"
    }
   ],
   "source": [
    "gaussian.stdev"
   ]
  },
  {
   "cell_type": "code",
   "execution_count": 7,
   "metadata": {},
   "outputs": [
    {
     "data": {
      "image/png": "[encoded data removed]",
      "text/plain": [
       "<Figure size 432x288 with 1 Axes>"
      ]
     },
     "metadata": {
      "needs_background": "light"
     },
     "output_type": "display_data"
    }
   ],
   "source": [
    "gaussian.plot_histogram()"
   ]
  },
  {
   "cell_type": "code",
   "execution_count": 7,
   "metadata": {},
   "outputs": [
    {
     "data": {
      "text/plain": [
       "0.003043694128015039"
      ]
     },
     "execution_count": 7,
     "metadata": {},
     "output_type": "execute_result"
    }
   ],
   "source": [
    "gaussian.pdf(1)"
   ]
  },
  {
   "cell_type": "code",
   "execution_count": 8,
   "metadata": {},
   "outputs": [
    {
     "data": {
      "image/png": "[encoded data removed]",
      "text/plain": [
       "<Figure size 432x288 with 2 Axes>"
      ]
     },
     "metadata": {
      "needs_background": "light"
     },
     "output_type": "display_data"
    },
    {
     "data": {
      "text/plain": [
       "([1.0,\n",
       "  7.58,\n",
       "  14.16,\n",
       "  20.740000000000002,\n",
       "  27.32,\n",
       "  33.9,\n",
       "  40.480000000000004,\n",
       "  47.06,\n",
       "  53.64,\n",
       "  60.22,\n",
       "  66.8,\n",
       "  73.38,\n",
       "  79.96000000000001,\n",
       "  86.54,\n",
       "  93.12,\n",
       "  99.7,\n",
       "  106.28,\n",
       "  112.86,\n",
       "  119.44,\n",
       "  126.02,\n",
       "  132.6,\n",
       "  139.18,\n",
       "  145.76,\n",
       "  152.34,\n",
       "  158.92000000000002,\n",
       "  165.5,\n",
       "  172.08,\n",
       "  178.66,\n",
       "  185.24,\n",
       "  191.82,\n",
       "  198.4,\n",
       "  204.98,\n",
       "  211.56,\n",
       "  218.14000000000001,\n",
       "  224.72,\n",
       "  231.3,\n",
       "  237.88,\n",
       "  244.46,\n",
       "  251.04,\n",
       "  257.62,\n",
       "  264.2,\n",
       "  270.78000000000003,\n",
       "  277.36,\n",
       "  283.94,\n",
       "  290.52,\n",
       "  297.1,\n",
       "  303.68,\n",
       "  310.26,\n",
       "  316.84000000000003,\n",
       "  323.42],\n",
       " [0.003043694128015039,\n",
       "  0.0032199635775976665,\n",
       "  0.003389385629106679,\n",
       "  0.003549858809298968,\n",
       "  0.0036993144412822716,\n",
       "  0.0038357605437130374,\n",
       "  0.003957325730527453,\n",
       "  0.004062301768846044,\n",
       "  0.004149183447609647,\n",
       "  0.004216704458941581,\n",
       "  0.004263868097796145,\n",
       "  0.004289971740008139,\n",
       "  0.004294624258609417,\n",
       "  0.004277755775037969,\n",
       "  0.0042396194054553134,\n",
       "  0.004180784941175556,\n",
       "  0.004102124683731816,\n",
       "  0.004004791926750454,\n",
       "  0.0038901928264981145,\n",
       "  0.003759952619833299,\n",
       "  0.003615877323227138,\n",
       "  0.0034599121726495118,\n",
       "  0.003294098137140098,\n",
       "  0.0031205278572203976,\n",
       "  0.002941302324101445,\n",
       "  0.002758489530620572,\n",
       "  0.002574086195982893,\n",
       "  0.002389983501515617,\n",
       "  0.002207937582926008,\n",
       "  0.002029545315920495,\n",
       "  0.0018562257166269038,\n",
       "  0.0016892070658496407,\n",
       "  0.0015295196657229566,\n",
       "  0.001377993956504496,\n",
       "  0.0012352635662074894,\n",
       "  0.0011017727408934497,\n",
       "  0.000977787511300198,\n",
       "  0.000863409892832734,\n",
       "  0.0007585943899081438,\n",
       "  0.000663166079885683,\n",
       "  0.0005768395828224327,\n",
       "  0.0004992382767035349,\n",
       "  0.00042991318869519757,\n",
       "  0.0003683610762264406,\n",
       "  0.00031404130225771645,\n",
       "  0.00026639120219446505,\n",
       "  0.00022483973132287688,\n",
       "  0.00018881926781767698,\n",
       "  0.00015777552448225903,\n",
       "  0.00013117559039903335])"
      ]
     },
     "execution_count": 8,
     "metadata": {},
     "output_type": "execute_result"
    }
   ],
   "source": [
    "gaussian.plot_histogram_pdf()"
   ]
  },
  {
   "cell_type": "markdown",
   "metadata": {},
   "source": [
    "---\n",
    "\n",
    "## Unit Test"
   ]
  },
  {
   "cell_type": "code",
   "execution_count": 8,
   "metadata": {},
   "outputs": [
    {
     "name": "stderr",
     "output_type": "stream",
     "text": [
      "...F\n",
      "======================================================================\n",
      "FAIL: test_stdevcalculation (__main__.TestGaussianClass)\n",
      "----------------------------------------------------------------------\n",
      "Traceback (most recent call last):\n",
      "  File \"C:\\Users\\Lenovo\\AppData\\Local\\Temp/ipykernel_20300/1087006374.py\", line 26, in test_stdevcalculation\n",
      "    self.assertEqual(round(self.gaussian.stdev, 2), 88.55, 'population standard deviation incorrect')\n",
      "AssertionError: 92.87 != 88.55 : population standard deviation incorrect\n",
      "\n",
      "----------------------------------------------------------------------\n",
      "Ran 4 tests in 0.004s\n",
      "\n",
      "FAILED (failures=1)\n"
     ]
    },
    {
     "data": {
      "text/plain": [
       "<unittest.runner.TextTestResult run=4 errors=0 failures=1>"
      ]
     },
     "execution_count": 8,
     "metadata": {},
     "output_type": "execute_result"
    }
   ],
   "source": [
    "# Unit tests to check your solution\n",
    "\n",
    "import unittest\n",
    "\n",
    "class TestGaussianClass(unittest.TestCase):\n",
    "    def setUp(self):\n",
    "        self.gaussian = Gaussian(25, 2)\n",
    "\n",
    "    def test_initialization(self): \n",
    "        self.assertEqual(self.gaussian.mean, 25, 'incorrect mean')\n",
    "        self.assertEqual(self.gaussian.stdev, 2, 'incorrect standard deviation')\n",
    "\n",
    "    def test_pdf(self):\n",
    "        self.assertEqual(round(self.gaussian.pdf(25), 5), 0.19947,\\\n",
    "         'pdf function does not give expected result') \n",
    "\n",
    "    def test_meancalculation(self):\n",
    "        self.gaussian.read_data_file('numbers.txt', True)\n",
    "        self.assertEqual(self.gaussian.calculate_mean(),\\\n",
    "         sum(self.gaussian.data) / float(len(self.gaussian.data)), 'calculated mean not as expected')\n",
    "\n",
    "    def test_stdevcalculation(self):\n",
    "        self.gaussian.read_data_file('numbers.txt', True)\n",
    "        self.assertEqual(round(self.gaussian.stdev, 2), 92.87, 'sample standard deviation incorrect')\n",
    "        self.gaussian.read_data_file('numbers.txt', False)\n",
    "        self.assertEqual(round(self.gaussian.stdev, 2), 88.55, 'population standard deviation incorrect')\n",
    "                \n",
    "tests = TestGaussianClass()\n",
    "\n",
    "tests_loaded = unittest.TestLoader().loadTestsFromModule(tests)\n",
    "\n",
    "unittest.TextTestRunner().run(tests_loaded)"
   ]
  },
  {
   "cell_type": "code",
   "execution_count": null,
   "metadata": {},
   "outputs": [],
   "source": []
  }
 ],
 "metadata": {
  "kernelspec": {
   "display_name": "Python 3 (ipykernel)",
   "language": "python",
   "name": "python3"
  },
  "language_info": {
   "codemirror_mode": {
    "name": "ipython",
    "version": 3
   },
   "file_extension": ".py",
   "mimetype": "text/x-python",
   "name": "python",
   "nbconvert_exporter": "python",
   "pygments_lexer": "ipython3",
   "version": "3.9.7"
  }
 },
 "nbformat": 4,
 "nbformat_minor": 4
}
