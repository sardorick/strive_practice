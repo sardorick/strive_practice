{
 "cells": [
  {
   "cell_type": "code",
   "execution_count": 3,
   "metadata": {},
   "outputs": [],
   "source": [
    "## Create class with inheritance!\n",
    "\n",
    "class Ikea:\n",
    "    \"\"\"Create constructor with attributes\"\"\"\n",
    "    def __init__(self, color, size, sell_price):\n",
    "        self.color = color\n",
    "        self.size = size\n",
    "        self.__sell_price = sell_price\n",
    "\n",
    "    @property\n",
    "\n",
    "    def sell_price(self):\n",
    "        return self.__sell_price\n",
    "\n",
    "    @sell_price.setter\n",
    "\n",
    "    def sell_price(self, price):\n",
    "        self.__sell_price = price\n",
    "\n",
    "\n",
    "    # Changing prices\n",
    "\n",
    "    def change_price(self, price):\n",
    "        self.price = price\n",
    "\n",
    "    # Define shipping prices\n",
    "\n",
    "    def shipping_price(self, quantity, sell_price):\n",
    "        return sell_price*quantity\n",
    "    \n",
    "        \n",
    "\n",
    "class Sofa(Ikea):\n",
    "    def __init__(self, color, size, sell_price, area):\n",
    "        \"\"\"Additional attribute area\"\"\"\n",
    "        super().__init__(color, size, sell_price)\n",
    "        self.area = area\n",
    "\n",
    "    \n",
    "    def promotion(self, promoted_price):\n",
    "        \"\"\"Creating a promotion for sofas\"\"\"\n",
    "        promoted_price = self * (1 - promoted_price)\n",
    "        return promoted_price\n",
    "\n",
    "class Chair(Ikea):\n",
    "    def __init__(self, color, size, sell_price, package_quantity):\n",
    "        super().__init__(color, size, sell_price)\n",
    "        self.package_quantity = package_quantity\n",
    "\n",
    "    def double_price(self):\n",
    "        return self.sell_price*2\n",
    "\n",
    "\n",
    "class Table(Ikea):\n",
    "    def __init__(self, color, size, sell_price, shape):\n",
    "        \"\"\"Shape is an additional attribute\"\"\"\n",
    "        super().__init__(color, size, sell_price)\n",
    "        self.shape = shape\n",
    "\n"
   ]
  },
  {
   "cell_type": "code",
   "execution_count": 7,
   "metadata": {},
   "outputs": [
    {
     "name": "stdout",
     "output_type": "stream",
     "text": [
      "<bound method Ikea.change_price of <__main__.Ikea object at 0x000002242A6CB9A0>>\n"
     ]
    }
   ],
   "source": [
    "furniture = Ikea(\"yellow\", 20, 14.99)\n",
    "furniture.change_price(99)\n",
    "print(furniture.change_price)"
   ]
  },
  {
   "cell_type": "code",
   "execution_count": 8,
   "metadata": {},
   "outputs": [],
   "source": [
    "furniture_type = Sofa('black', 20, 99.99, 23)"
   ]
  },
  {
   "cell_type": "code",
   "execution_count": 9,
   "metadata": {},
   "outputs": [],
   "source": [
    "furniture_type2 = Chair('no color', 40, 109.99, 8)\n"
   ]
  },
  {
   "cell_type": "code",
   "execution_count": 10,
   "metadata": {},
   "outputs": [
    {
     "data": {
      "text/plain": [
       "1999.8"
      ]
     },
     "execution_count": 10,
     "metadata": {},
     "output_type": "execute_result"
    }
   ],
   "source": [
    "furniture_type.shipping_price(20, 99.99)"
   ]
  },
  {
   "cell_type": "code",
   "execution_count": 14,
   "metadata": {},
   "outputs": [
    {
     "ename": "TypeError",
     "evalue": "unsupported operand type(s) for *: 'Sofa' and 'int'",
     "output_type": "error",
     "traceback": [
      "\u001b[1;31m---------------------------------------------------------------------------\u001b[0m",
      "\u001b[1;31mTypeError\u001b[0m                                 Traceback (most recent call last)",
      "\u001b[1;32m~\\AppData\\Local\\Temp/ipykernel_19480/1966962244.py\u001b[0m in \u001b[0;36m<module>\u001b[1;34m\u001b[0m\n\u001b[1;32m----> 1\u001b[1;33m \u001b[0mfurniture_type\u001b[0m\u001b[1;33m.\u001b[0m\u001b[0mpromotion\u001b[0m\u001b[1;33m(\u001b[0m\u001b[1;36m5\u001b[0m\u001b[1;33m)\u001b[0m\u001b[1;33m\u001b[0m\u001b[1;33m\u001b[0m\u001b[0m\n\u001b[0m",
      "\u001b[1;32m~\\AppData\\Local\\Temp/ipykernel_19480/2049414999.py\u001b[0m in \u001b[0;36mpromotion\u001b[1;34m(self, promoted_price)\u001b[0m\n\u001b[0;32m     40\u001b[0m     \u001b[1;32mdef\u001b[0m \u001b[0mpromotion\u001b[0m\u001b[1;33m(\u001b[0m\u001b[0mself\u001b[0m\u001b[1;33m,\u001b[0m \u001b[0mpromoted_price\u001b[0m\u001b[1;33m)\u001b[0m\u001b[1;33m:\u001b[0m\u001b[1;33m\u001b[0m\u001b[1;33m\u001b[0m\u001b[0m\n\u001b[0;32m     41\u001b[0m         \u001b[1;34m\"\"\"Creating a promotion for sofas\"\"\"\u001b[0m\u001b[1;33m\u001b[0m\u001b[1;33m\u001b[0m\u001b[0m\n\u001b[1;32m---> 42\u001b[1;33m         \u001b[0mpromoted_price\u001b[0m \u001b[1;33m=\u001b[0m \u001b[0mself\u001b[0m \u001b[1;33m*\u001b[0m \u001b[1;33m(\u001b[0m\u001b[1;36m1\u001b[0m \u001b[1;33m-\u001b[0m \u001b[0mpromoted_price\u001b[0m\u001b[1;33m)\u001b[0m\u001b[1;33m\u001b[0m\u001b[1;33m\u001b[0m\u001b[0m\n\u001b[0m\u001b[0;32m     43\u001b[0m         \u001b[1;32mreturn\u001b[0m \u001b[0mpromoted_price\u001b[0m\u001b[1;33m\u001b[0m\u001b[1;33m\u001b[0m\u001b[0m\n\u001b[0;32m     44\u001b[0m \u001b[1;33m\u001b[0m\u001b[0m\n",
      "\u001b[1;31mTypeError\u001b[0m: unsupported operand type(s) for *: 'Sofa' and 'int'"
     ]
    }
   ],
   "source": [
    "furniture_type.promotion(5)"
   ]
  },
  {
   "cell_type": "code",
   "execution_count": null,
   "metadata": {},
   "outputs": [],
   "source": []
  }
 ],
 "metadata": {
  "interpreter": {
   "hash": "b800dbeca7ba76140d44d928c46878d80d0628d805871ef6473defab86f621cf"
  },
  "kernelspec": {
   "display_name": "Python 3.9.7 ('strive')",
   "language": "python",
   "name": "python3"
  },
  "language_info": {
   "codemirror_mode": {
    "name": "ipython",
    "version": 3
   },
   "file_extension": ".py",
   "mimetype": "text/x-python",
   "name": "python",
   "nbconvert_exporter": "python",
   "pygments_lexer": "ipython3",
   "version": "3.9.7"
  },
  "orig_nbformat": 4
 },
 "nbformat": 4,
 "nbformat_minor": 2
}
