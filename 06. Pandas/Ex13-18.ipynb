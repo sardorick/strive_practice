**13.** Change the age in row 'f' to 1.5.

df['age'].replace({2.0:1.5})



**18.** Sort `df` first by the values in the 'age' in *decending* order, then by the value in the 'visit' column in *ascending* order.

df.sort_values(by=['age'], ascending=False)

df.sort_values(by=['visits'])

