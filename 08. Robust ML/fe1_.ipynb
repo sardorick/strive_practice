{
 "cells": [
  {
   "cell_type": "markdown",
   "metadata": {},
   "source": [
    "## Imports"
   ]
  },
  {
   "cell_type": "code",
   "execution_count": 24,
   "metadata": {},
   "outputs": [],
   "source": [
    "# pip install --upgrade scikit-learn"
   ]
  },
  {
   "cell_type": "code",
   "execution_count": 182,
   "metadata": {
    "colab": {},
    "colab_type": "code",
    "id": "mjnuJ19dJV7v"
   },
   "outputs": [
    {
     "name": "stdout",
     "output_type": "stream",
     "text": [
      "Pandas   1.4.1\n",
      "Sklearn  1.0.2\n"
     ]
    }
   ],
   "source": [
    "import time\n",
    "from IPython.display import clear_output\n",
    "import numpy    as np\n",
    "import pandas   as pd\n",
    "import seaborn  as sb\n",
    "import matplotlib.pyplot as plt\n",
    "import sklearn  as skl\n",
    "\n",
    "from sklearn.pipeline import Pipeline      \n",
    "from sklearn import pipeline\n",
    "from sklearn.preprocessing import OrdinalEncoder, LabelEncoder\n",
    "from sklearn.impute import SimpleImputer\n",
    "from sklearn import compose\n",
    "from sklearn.model_selection import train_test_split\n",
    "from sklearn import model_selection\n",
    "from sklearn import metrics\n",
    "from sklearn.metrics import accuracy_score, balanced_accuracy_score, plot_confusion_matrix         # accuracy_score, balanced_accuracy_score, plot_confusion_matrix\n",
    "from sklearn import set_config\n",
    "from sklearn.compose import ColumnTransformer\n",
    "\n",
    "\n",
    "set_config(display='diagram') # Useful for display the pipeline\n",
    "\n",
    "print(\"Pandas  \", pd.__version__)\n",
    "print(\"Sklearn \", skl.__version__) # Try to use 0.24"
   ]
  },
  {
   "cell_type": "markdown",
   "metadata": {},
   "source": [
    "## Get the dataset\n",
    "- **CLOUD = True**: Download dataset from Kaggle. Necesary for cloud enviroments like COLAB. **Specify your [kaggle credentials](https://www.kaggle.com/docs/api)**.\n",
    "- **CLOUD = False**: Get the dataset from your local machine. **Specify the data path**."
   ]
  },
  {
   "cell_type": "code",
   "execution_count": 15,
   "metadata": {},
   "outputs": [],
   "source": [
    "DATA_PATH = \"data/\""
   ]
  },
  {
   "cell_type": "markdown",
   "metadata": {},
   "source": [
    "## Load data"
   ]
  },
  {
   "cell_type": "code",
   "execution_count": 13,
   "metadata": {},
   "outputs": [
    {
     "name": "stdout",
     "output_type": "stream",
     "text": [
      "..08. Robust ML/data\n"
     ]
    }
   ],
   "source": [
    "print(DATA_PATH)"
   ]
  },
  {
   "cell_type": "code",
   "execution_count": 16,
   "metadata": {
    "colab": {},
    "colab_type": "code",
    "id": "wAy8TnVPJV8S"
   },
   "outputs": [
    {
     "name": "stdout",
     "output_type": "stream",
     "text": [
      "Train DataFrame: (891, 11)\n",
      "Test DataFrame:  (418, 10)\n"
     ]
    }
   ],
   "source": [
    "df      = pd.read_csv(DATA_PATH + \"train.csv\", index_col='PassengerId')\n",
    "df_test = pd.read_csv(DATA_PATH + \"test.csv\",  index_col='PassengerId')\n",
    "\n",
    "print(\"Train DataFrame:\", df.shape)\n",
    "print(\"Test DataFrame: \", df_test.shape)"
   ]
  },
  {
   "cell_type": "markdown",
   "metadata": {},
   "source": [
    "## Check missings"
   ]
  },
  {
   "cell_type": "code",
   "execution_count": 17,
   "metadata": {},
   "outputs": [
    {
     "data": {
      "text/plain": [
       "Survived      0\n",
       "Pclass        0\n",
       "Name          0\n",
       "Sex           0\n",
       "Age         177\n",
       "SibSp         0\n",
       "Parch         0\n",
       "Ticket        0\n",
       "Fare          0\n",
       "Cabin       687\n",
       "Embarked      2\n",
       "dtype: int64"
      ]
     },
     "execution_count": 17,
     "metadata": {},
     "output_type": "execute_result"
    }
   ],
   "source": [
    "df.isnull().sum()"
   ]
  },
  {
   "cell_type": "code",
   "execution_count": 18,
   "metadata": {},
   "outputs": [
    {
     "data": {
      "text/plain": [
       "Pclass        0\n",
       "Name          0\n",
       "Sex           0\n",
       "Age          86\n",
       "SibSp         0\n",
       "Parch         0\n",
       "Ticket        0\n",
       "Fare          1\n",
       "Cabin       327\n",
       "Embarked      0\n",
       "dtype: int64"
      ]
     },
     "execution_count": 18,
     "metadata": {},
     "output_type": "execute_result"
    }
   ],
   "source": [
    "df_test.isnull().sum()"
   ]
  },
  {
   "cell_type": "markdown",
   "metadata": {},
   "source": [
    "# Exercise 1 (2pts):\n",
    "Extract the title (Mr, Mrs, ... ) from the \"Name\" column.\n",
    "\n",
    "Tips:\n",
    "- split(',')[1] to get the 2nd part, and remove the surnamename\n",
    "- split('.')[0] to get the 1str part, and remove the name"
   ]
  },
  {
   "cell_type": "code",
   "execution_count": 138,
   "metadata": {
    "nbgrader": {
     "grade": false,
     "grade_id": "cell-d56107842f0f54d2",
     "locked": false,
     "schema_version": 3,
     "solution": true,
     "task": false
    }
   },
   "outputs": [
    {
     "data": {
      "text/plain": [
       "'Rev'"
      ]
     },
     "execution_count": 138,
     "metadata": {},
     "output_type": "execute_result"
    }
   ],
   "source": [
    "# CODE HERE get_Title_from_Name funtion\n",
    "# Create this function using lambda (not def)\n",
    "import re\n",
    "# def name_title(df):\n",
    "#     df['Title'] = [i.split(',')[1].split('.')[0] for i in df['Name'].to_list()]\n",
    "#     return df['Title']\n",
    "    \n",
    "get_Title_from_Name = lambda x: x.split(',')[1].split('.')[0].strip()\n",
    "df['Title'] = df['Name'].apply(get_Title_from_Name)\n",
    "df_test['Title'] = df_test['Name'].apply(get_Title_from_Name)\n",
    "\n",
    "\n",
    "df['Title'].values[886]"
   ]
  },
  {
   "cell_type": "code",
   "execution_count": 83,
   "metadata": {
    "nbgrader": {
     "grade": true,
     "grade_id": "cell-f3d989a17018344b",
     "locked": true,
     "points": 2,
     "schema_version": 3,
     "solution": false,
     "task": false
    }
   },
   "outputs": [],
   "source": [
    "assert df['Title'].values[0] == \"Mr\"\n",
    "assert df['Title'].values[1] == \"Mrs\"\n",
    "assert df['Title'].values[2] == \"Miss\"\n",
    "\n",
    "assert df_test['Title'].values[0] == \"Mr\"\n",
    "assert df_test['Title'].values[1] == \"Mrs\"\n",
    "assert df_test['Title'].values[414] == \"Dona\""
   ]
  },
  {
   "cell_type": "markdown",
   "metadata": {},
   "source": [
    "# Exercise 2 (1pts):\n",
    "Apply the title_dictionary to get a better information about the title. You have to overwrite the Title variable."
   ]
  },
  {
   "cell_type": "code",
   "execution_count": 139,
   "metadata": {},
   "outputs": [],
   "source": [
    "title_dictionary = {\n",
    "    \"Capt\": \"Officer\",\n",
    "    \"Col\": \"Officer\",\n",
    "    \"Major\": \"Officer\",\n",
    "    \"Jonkheer\": \"Royalty\",\n",
    "    \"Don\": \"Royalty\",\n",
    "    \"Sir\" : \"Royalty\",\n",
    "    \"Dr\": \"Officer\",\n",
    "    \"Rev\": \"Officer\",\n",
    "    \"the Countess\":\"Royalty\",\n",
    "    \"Mme\": \"Mrs\",\n",
    "    \"Mlle\": \"Miss\",\n",
    "    \"Ms\": \"Mrs\",\n",
    "    \"Mr\" : \"Mr\",\n",
    "    \"Mrs\" : \"Mrs\",\n",
    "    \"Miss\" : \"Miss\",\n",
    "    \"Master\" : \"Master\",\n",
    "    \"Lady\" : \"Royalty\"\n",
    "}"
   ]
  },
  {
   "cell_type": "code",
   "execution_count": 140,
   "metadata": {
    "nbgrader": {
     "grade": false,
     "grade_id": "cell-5c6a842c812fafda",
     "locked": false,
     "schema_version": 3,
     "solution": true,
     "task": false
    }
   },
   "outputs": [],
   "source": [
    "# Use map to apply the prevous dict\n",
    "# titles = df['Title']\n",
    "# titles_test = df_test['Title']\n",
    "df[\"Title\"] = df[\"Title\"].map(title_dictionary) \n",
    "df_test[\"Title\"] = df_test[\"Title\"].map(title_dictionary) \n",
    "\n",
    "\n"
   ]
  },
  {
   "cell_type": "code",
   "execution_count": 141,
   "metadata": {
    "nbgrader": {
     "grade": true,
     "grade_id": "cell-669f5a637e57e835",
     "locked": true,
     "points": 1,
     "schema_version": 3,
     "solution": false,
     "task": false
    }
   },
   "outputs": [],
   "source": [
    "assert df['Title'].values[886] == \"Officer\"\n",
    "assert df_test['Title'].values[417] == \"Master\""
   ]
  },
  {
   "cell_type": "markdown",
   "metadata": {},
   "source": [
    "# Exercise OPTINAL (0pts):\n",
    "Try to extract some information from the feature **Ticket**. Search on Internet if that colum has some kind of information."
   ]
  },
  {
   "cell_type": "code",
   "execution_count": 35,
   "metadata": {},
   "outputs": [
    {
     "data": {
      "text/plain": [
       "PassengerId\n",
       "892                 330911\n",
       "893                 363272\n",
       "894                 240276\n",
       "895                 315154\n",
       "896                3101298\n",
       "               ...        \n",
       "1305             A.5. 3236\n",
       "1306              PC 17758\n",
       "1307    SOTON/O.Q. 3101262\n",
       "1308                359309\n",
       "1309                  2668\n",
       "Name: Ticket, Length: 418, dtype: object"
      ]
     },
     "execution_count": 35,
     "metadata": {},
     "output_type": "execute_result"
    }
   ],
   "source": []
  },
  {
   "cell_type": "markdown",
   "metadata": {},
   "source": [
    "# Exercise OPTIONAL (0pts):\n",
    "Try to extract some information from the feature **Cabin**. Search on Internet if that colum has some kind of information."
   ]
  },
  {
   "cell_type": "code",
   "execution_count": 36,
   "metadata": {},
   "outputs": [
    {
     "data": {
      "text/plain": [
       "PassengerId\n",
       "892      NaN\n",
       "893      NaN\n",
       "894      NaN\n",
       "895      NaN\n",
       "896      NaN\n",
       "        ... \n",
       "1305     NaN\n",
       "1306    C105\n",
       "1307     NaN\n",
       "1308     NaN\n",
       "1309     NaN\n",
       "Name: Cabin, Length: 418, dtype: object"
      ]
     },
     "execution_count": 36,
     "metadata": {},
     "output_type": "execute_result"
    }
   ],
   "source": []
  },
  {
   "cell_type": "markdown",
   "metadata": {},
   "source": [
    "# Preprocessing\n",
    "For X data, notice that...\n",
    "- We drop Survived because is the target variable\n",
    "- We drop Name because we have extracted the Title: Mr, Mrs, ...\n",
    "- We drop Ticket because it has no information -> see df.Ticket.nunique()\n",
    "- We drop Cabin because it has a lot of missings (77% are missings)\n",
    "\n",
    "Then, we identify **numerical** variables and **categorical** variables,"
   ]
  },
  {
   "cell_type": "code",
   "execution_count": 147,
   "metadata": {},
   "outputs": [],
   "source": [
    "x = df.drop(columns=[\"Survived\", 'Name', 'Ticket', 'Cabin', 'Titles']) # X DATA (WILL BE TRAIN+VALID DATA)\n",
    "y = df[\"Survived\"] # 0 = No, 1 = Yes\n",
    "\n",
    "x_test = df_test.drop(columns=['Name', 'Ticket', 'Cabin']) # # X_TEST DATA (NEW DATA)"
   ]
  },
  {
   "cell_type": "code",
   "execution_count": 148,
   "metadata": {},
   "outputs": [
    {
     "name": "stdout",
     "output_type": "stream",
     "text": [
      "\n",
      "Numerical features:\n",
      " ['Pclass', 'SibSp', 'Parch', 'Fare', 'Age']\n",
      "\n",
      "Categorical features:\n",
      " ['Sex', 'Embarked', 'Title']\n"
     ]
    }
   ],
   "source": [
    "cat_vars  = ['Sex', 'Embarked', 'Title']         # x.select_dtypes(include=[object]).columns.values.tolist()\n",
    "num_vars  = ['Pclass', 'SibSp', 'Parch', 'Fare', 'Age'] # x.select_dtypes(exclude=[object]).columns.values.tolist()\n",
    "\n",
    "print(\"\\nNumerical features:\\n\", num_vars)\n",
    "print(\"\\nCategorical features:\\n\", cat_vars)"
   ]
  },
  {
   "cell_type": "markdown",
   "metadata": {},
   "source": [
    "# Exercise 3 (2pts):\n",
    "Create a **ColumnTransformer for Tree Models**. You need to create 2 pipelines (one for numerical and other for categories). Remember:\n",
    "- Categorical pipeline: Some SimpleImputer -> Some Encoder\n",
    "- Numerical pipeline: Some SimpleImputer -> NO Encoder"
   ]
  },
  {
   "cell_type": "code",
   "execution_count": 170,
   "metadata": {},
   "outputs": [
    {
     "data": {
      "text/html": [
       "<div>\n",
       "<style scoped>\n",
       "    .dataframe tbody tr th:only-of-type {\n",
       "        vertical-align: middle;\n",
       "    }\n",
       "\n",
       "    .dataframe tbody tr th {\n",
       "        vertical-align: top;\n",
       "    }\n",
       "\n",
       "    .dataframe thead th {\n",
       "        text-align: right;\n",
       "    }\n",
       "</style>\n",
       "<table border=\"1\" class=\"dataframe\">\n",
       "  <thead>\n",
       "    <tr style=\"text-align: right;\">\n",
       "      <th></th>\n",
       "      <th>Pclass</th>\n",
       "      <th>Sex</th>\n",
       "      <th>Age</th>\n",
       "      <th>SibSp</th>\n",
       "      <th>Parch</th>\n",
       "      <th>Fare</th>\n",
       "      <th>Embarked</th>\n",
       "      <th>Title</th>\n",
       "    </tr>\n",
       "    <tr>\n",
       "      <th>PassengerId</th>\n",
       "      <th></th>\n",
       "      <th></th>\n",
       "      <th></th>\n",
       "      <th></th>\n",
       "      <th></th>\n",
       "      <th></th>\n",
       "      <th></th>\n",
       "      <th></th>\n",
       "    </tr>\n",
       "  </thead>\n",
       "  <tbody>\n",
       "    <tr>\n",
       "      <th>1</th>\n",
       "      <td>3</td>\n",
       "      <td>male</td>\n",
       "      <td>22.0</td>\n",
       "      <td>1</td>\n",
       "      <td>0</td>\n",
       "      <td>7.2500</td>\n",
       "      <td>S</td>\n",
       "      <td>Mr</td>\n",
       "    </tr>\n",
       "    <tr>\n",
       "      <th>2</th>\n",
       "      <td>1</td>\n",
       "      <td>female</td>\n",
       "      <td>38.0</td>\n",
       "      <td>1</td>\n",
       "      <td>0</td>\n",
       "      <td>71.2833</td>\n",
       "      <td>C</td>\n",
       "      <td>Mrs</td>\n",
       "    </tr>\n",
       "    <tr>\n",
       "      <th>3</th>\n",
       "      <td>3</td>\n",
       "      <td>female</td>\n",
       "      <td>26.0</td>\n",
       "      <td>0</td>\n",
       "      <td>0</td>\n",
       "      <td>7.9250</td>\n",
       "      <td>S</td>\n",
       "      <td>Miss</td>\n",
       "    </tr>\n",
       "    <tr>\n",
       "      <th>4</th>\n",
       "      <td>1</td>\n",
       "      <td>female</td>\n",
       "      <td>35.0</td>\n",
       "      <td>1</td>\n",
       "      <td>0</td>\n",
       "      <td>53.1000</td>\n",
       "      <td>S</td>\n",
       "      <td>Mrs</td>\n",
       "    </tr>\n",
       "    <tr>\n",
       "      <th>5</th>\n",
       "      <td>3</td>\n",
       "      <td>male</td>\n",
       "      <td>35.0</td>\n",
       "      <td>0</td>\n",
       "      <td>0</td>\n",
       "      <td>8.0500</td>\n",
       "      <td>S</td>\n",
       "      <td>Mr</td>\n",
       "    </tr>\n",
       "    <tr>\n",
       "      <th>...</th>\n",
       "      <td>...</td>\n",
       "      <td>...</td>\n",
       "      <td>...</td>\n",
       "      <td>...</td>\n",
       "      <td>...</td>\n",
       "      <td>...</td>\n",
       "      <td>...</td>\n",
       "      <td>...</td>\n",
       "    </tr>\n",
       "    <tr>\n",
       "      <th>887</th>\n",
       "      <td>2</td>\n",
       "      <td>male</td>\n",
       "      <td>27.0</td>\n",
       "      <td>0</td>\n",
       "      <td>0</td>\n",
       "      <td>13.0000</td>\n",
       "      <td>S</td>\n",
       "      <td>Officer</td>\n",
       "    </tr>\n",
       "    <tr>\n",
       "      <th>888</th>\n",
       "      <td>1</td>\n",
       "      <td>female</td>\n",
       "      <td>19.0</td>\n",
       "      <td>0</td>\n",
       "      <td>0</td>\n",
       "      <td>30.0000</td>\n",
       "      <td>S</td>\n",
       "      <td>Miss</td>\n",
       "    </tr>\n",
       "    <tr>\n",
       "      <th>889</th>\n",
       "      <td>3</td>\n",
       "      <td>female</td>\n",
       "      <td>NaN</td>\n",
       "      <td>1</td>\n",
       "      <td>2</td>\n",
       "      <td>23.4500</td>\n",
       "      <td>S</td>\n",
       "      <td>Miss</td>\n",
       "    </tr>\n",
       "    <tr>\n",
       "      <th>890</th>\n",
       "      <td>1</td>\n",
       "      <td>male</td>\n",
       "      <td>26.0</td>\n",
       "      <td>0</td>\n",
       "      <td>0</td>\n",
       "      <td>30.0000</td>\n",
       "      <td>C</td>\n",
       "      <td>Mr</td>\n",
       "    </tr>\n",
       "    <tr>\n",
       "      <th>891</th>\n",
       "      <td>3</td>\n",
       "      <td>male</td>\n",
       "      <td>32.0</td>\n",
       "      <td>0</td>\n",
       "      <td>0</td>\n",
       "      <td>7.7500</td>\n",
       "      <td>Q</td>\n",
       "      <td>Mr</td>\n",
       "    </tr>\n",
       "  </tbody>\n",
       "</table>\n",
       "<p>891 rows × 8 columns</p>\n",
       "</div>"
      ],
      "text/plain": [
       "             Pclass     Sex   Age  SibSp  Parch     Fare Embarked    Title\n",
       "PassengerId                                                               \n",
       "1                 3    male  22.0      1      0   7.2500        S       Mr\n",
       "2                 1  female  38.0      1      0  71.2833        C      Mrs\n",
       "3                 3  female  26.0      0      0   7.9250        S     Miss\n",
       "4                 1  female  35.0      1      0  53.1000        S      Mrs\n",
       "5                 3    male  35.0      0      0   8.0500        S       Mr\n",
       "...             ...     ...   ...    ...    ...      ...      ...      ...\n",
       "887               2    male  27.0      0      0  13.0000        S  Officer\n",
       "888               1  female  19.0      0      0  30.0000        S     Miss\n",
       "889               3  female   NaN      1      2  23.4500        S     Miss\n",
       "890               1    male  26.0      0      0  30.0000        C       Mr\n",
       "891               3    male  32.0      0      0   7.7500        Q       Mr\n",
       "\n",
       "[891 rows x 8 columns]"
      ]
     },
     "execution_count": 170,
     "metadata": {},
     "output_type": "execute_result"
    }
   ],
   "source": [
    "x"
   ]
  },
  {
   "cell_type": "code",
   "execution_count": 178,
   "metadata": {
    "nbgrader": {
     "grade": false,
     "grade_id": "cell-c607e75fb38ea248",
     "locked": false,
     "schema_version": 3,
     "solution": true,
     "task": false
    }
   },
   "outputs": [
    {
     "data": {
      "text/html": [
       "<style>#sk-72cc260b-90b0-4955-9d54-193ab6b6e84c {color: black;background-color: white;}#sk-72cc260b-90b0-4955-9d54-193ab6b6e84c pre{padding: 0;}#sk-72cc260b-90b0-4955-9d54-193ab6b6e84c div.sk-toggleable {background-color: white;}#sk-72cc260b-90b0-4955-9d54-193ab6b6e84c label.sk-toggleable__label {cursor: pointer;display: block;width: 100%;margin-bottom: 0;padding: 0.3em;box-sizing: border-box;text-align: center;}#sk-72cc260b-90b0-4955-9d54-193ab6b6e84c label.sk-toggleable__label-arrow:before {content: \"▸\";float: left;margin-right: 0.25em;color: #696969;}#sk-72cc260b-90b0-4955-9d54-193ab6b6e84c label.sk-toggleable__label-arrow:hover:before {color: black;}#sk-72cc260b-90b0-4955-9d54-193ab6b6e84c div.sk-estimator:hover label.sk-toggleable__label-arrow:before {color: black;}#sk-72cc260b-90b0-4955-9d54-193ab6b6e84c div.sk-toggleable__content {max-height: 0;max-width: 0;overflow: hidden;text-align: left;background-color: #f0f8ff;}#sk-72cc260b-90b0-4955-9d54-193ab6b6e84c div.sk-toggleable__content pre {margin: 0.2em;color: black;border-radius: 0.25em;background-color: #f0f8ff;}#sk-72cc260b-90b0-4955-9d54-193ab6b6e84c input.sk-toggleable__control:checked~div.sk-toggleable__content {max-height: 200px;max-width: 100%;overflow: auto;}#sk-72cc260b-90b0-4955-9d54-193ab6b6e84c input.sk-toggleable__control:checked~label.sk-toggleable__label-arrow:before {content: \"▾\";}#sk-72cc260b-90b0-4955-9d54-193ab6b6e84c div.sk-estimator input.sk-toggleable__control:checked~label.sk-toggleable__label {background-color: #d4ebff;}#sk-72cc260b-90b0-4955-9d54-193ab6b6e84c div.sk-label input.sk-toggleable__control:checked~label.sk-toggleable__label {background-color: #d4ebff;}#sk-72cc260b-90b0-4955-9d54-193ab6b6e84c input.sk-hidden--visually {border: 0;clip: rect(1px 1px 1px 1px);clip: rect(1px, 1px, 1px, 1px);height: 1px;margin: -1px;overflow: hidden;padding: 0;position: absolute;width: 1px;}#sk-72cc260b-90b0-4955-9d54-193ab6b6e84c div.sk-estimator {font-family: monospace;background-color: #f0f8ff;border: 1px dotted black;border-radius: 0.25em;box-sizing: border-box;margin-bottom: 0.5em;}#sk-72cc260b-90b0-4955-9d54-193ab6b6e84c div.sk-estimator:hover {background-color: #d4ebff;}#sk-72cc260b-90b0-4955-9d54-193ab6b6e84c div.sk-parallel-item::after {content: \"\";width: 100%;border-bottom: 1px solid gray;flex-grow: 1;}#sk-72cc260b-90b0-4955-9d54-193ab6b6e84c div.sk-label:hover label.sk-toggleable__label {background-color: #d4ebff;}#sk-72cc260b-90b0-4955-9d54-193ab6b6e84c div.sk-serial::before {content: \"\";position: absolute;border-left: 1px solid gray;box-sizing: border-box;top: 2em;bottom: 0;left: 50%;}#sk-72cc260b-90b0-4955-9d54-193ab6b6e84c div.sk-serial {display: flex;flex-direction: column;align-items: center;background-color: white;padding-right: 0.2em;padding-left: 0.2em;}#sk-72cc260b-90b0-4955-9d54-193ab6b6e84c div.sk-item {z-index: 1;}#sk-72cc260b-90b0-4955-9d54-193ab6b6e84c div.sk-parallel {display: flex;align-items: stretch;justify-content: center;background-color: white;}#sk-72cc260b-90b0-4955-9d54-193ab6b6e84c div.sk-parallel::before {content: \"\";position: absolute;border-left: 1px solid gray;box-sizing: border-box;top: 2em;bottom: 0;left: 50%;}#sk-72cc260b-90b0-4955-9d54-193ab6b6e84c div.sk-parallel-item {display: flex;flex-direction: column;position: relative;background-color: white;}#sk-72cc260b-90b0-4955-9d54-193ab6b6e84c div.sk-parallel-item:first-child::after {align-self: flex-end;width: 50%;}#sk-72cc260b-90b0-4955-9d54-193ab6b6e84c div.sk-parallel-item:last-child::after {align-self: flex-start;width: 50%;}#sk-72cc260b-90b0-4955-9d54-193ab6b6e84c div.sk-parallel-item:only-child::after {width: 0;}#sk-72cc260b-90b0-4955-9d54-193ab6b6e84c div.sk-dashed-wrapped {border: 1px dashed gray;margin: 0 0.4em 0.5em 0.4em;box-sizing: border-box;padding-bottom: 0.4em;background-color: white;position: relative;}#sk-72cc260b-90b0-4955-9d54-193ab6b6e84c div.sk-label label {font-family: monospace;font-weight: bold;background-color: white;display: inline-block;line-height: 1.2em;}#sk-72cc260b-90b0-4955-9d54-193ab6b6e84c div.sk-label-container {position: relative;z-index: 2;text-align: center;}#sk-72cc260b-90b0-4955-9d54-193ab6b6e84c div.sk-container {/* jupyter's `normalize.less` sets `[hidden] { display: none; }` but bootstrap.min.css set `[hidden] { display: none !important; }` so we also need the `!important` here to be able to override the default hidden behavior on the sphinx rendered scikit-learn.org. See: https://github.com/scikit-learn/scikit-learn/issues/21755 */display: inline-block !important;position: relative;}#sk-72cc260b-90b0-4955-9d54-193ab6b6e84c div.sk-text-repr-fallback {display: none;}</style><div id=\"sk-72cc260b-90b0-4955-9d54-193ab6b6e84c\" class=\"sk-top-container\"><div class=\"sk-text-repr-fallback\"><pre>ColumnTransformer(transformers=[(&#x27;num&#x27;,\n",
       "                                 Pipeline(steps=[(&#x27;imputer&#x27;, SimpleImputer())]),\n",
       "                                 [&#x27;Pclass&#x27;, &#x27;SibSp&#x27;, &#x27;Parch&#x27;, &#x27;Fare&#x27;, &#x27;Age&#x27;]),\n",
       "                                (&#x27;cat&#x27;,\n",
       "                                 Pipeline(steps=[(&#x27;imputer&#x27;, SimpleImputer()),\n",
       "                                                 (&#x27;ordinal&#x27;,\n",
       "                                                  OrdinalEncoder(handle_unknown=&#x27;use_encoded_value&#x27;,\n",
       "                                                                 unknown_value=-1))]),\n",
       "                                 [&#x27;Sex&#x27;, &#x27;Embarked&#x27;, &#x27;Title&#x27;])])</pre><b>Please rerun this cell to show the HTML repr or trust the notebook.</b></div><div class=\"sk-container\" hidden><div class=\"sk-item sk-dashed-wrapped\"><div class=\"sk-label-container\"><div class=\"sk-label sk-toggleable\"><input class=\"sk-toggleable__control sk-hidden--visually\" id=\"6ca3f978-6856-45c8-b228-4c8fd1bf15f6\" type=\"checkbox\" ><label for=\"6ca3f978-6856-45c8-b228-4c8fd1bf15f6\" class=\"sk-toggleable__label sk-toggleable__label-arrow\">ColumnTransformer</label><div class=\"sk-toggleable__content\"><pre>ColumnTransformer(transformers=[(&#x27;num&#x27;,\n",
       "                                 Pipeline(steps=[(&#x27;imputer&#x27;, SimpleImputer())]),\n",
       "                                 [&#x27;Pclass&#x27;, &#x27;SibSp&#x27;, &#x27;Parch&#x27;, &#x27;Fare&#x27;, &#x27;Age&#x27;]),\n",
       "                                (&#x27;cat&#x27;,\n",
       "                                 Pipeline(steps=[(&#x27;imputer&#x27;, SimpleImputer()),\n",
       "                                                 (&#x27;ordinal&#x27;,\n",
       "                                                  OrdinalEncoder(handle_unknown=&#x27;use_encoded_value&#x27;,\n",
       "                                                                 unknown_value=-1))]),\n",
       "                                 [&#x27;Sex&#x27;, &#x27;Embarked&#x27;, &#x27;Title&#x27;])])</pre></div></div></div><div class=\"sk-parallel\"><div class=\"sk-parallel-item\"><div class=\"sk-item\"><div class=\"sk-label-container\"><div class=\"sk-label sk-toggleable\"><input class=\"sk-toggleable__control sk-hidden--visually\" id=\"692d2a20-b71e-4c0f-adb8-246425fe4314\" type=\"checkbox\" ><label for=\"692d2a20-b71e-4c0f-adb8-246425fe4314\" class=\"sk-toggleable__label sk-toggleable__label-arrow\">num</label><div class=\"sk-toggleable__content\"><pre>[&#x27;Pclass&#x27;, &#x27;SibSp&#x27;, &#x27;Parch&#x27;, &#x27;Fare&#x27;, &#x27;Age&#x27;]</pre></div></div></div><div class=\"sk-serial\"><div class=\"sk-item\"><div class=\"sk-serial\"><div class=\"sk-item\"><div class=\"sk-estimator sk-toggleable\"><input class=\"sk-toggleable__control sk-hidden--visually\" id=\"54d9018e-923d-4bb6-a7a4-8c4fdd11b0fd\" type=\"checkbox\" ><label for=\"54d9018e-923d-4bb6-a7a4-8c4fdd11b0fd\" class=\"sk-toggleable__label sk-toggleable__label-arrow\">SimpleImputer</label><div class=\"sk-toggleable__content\"><pre>SimpleImputer()</pre></div></div></div></div></div></div></div></div><div class=\"sk-parallel-item\"><div class=\"sk-item\"><div class=\"sk-label-container\"><div class=\"sk-label sk-toggleable\"><input class=\"sk-toggleable__control sk-hidden--visually\" id=\"500c4b10-fcb1-402b-9a46-ffd47c50c9bc\" type=\"checkbox\" ><label for=\"500c4b10-fcb1-402b-9a46-ffd47c50c9bc\" class=\"sk-toggleable__label sk-toggleable__label-arrow\">cat</label><div class=\"sk-toggleable__content\"><pre>[&#x27;Sex&#x27;, &#x27;Embarked&#x27;, &#x27;Title&#x27;]</pre></div></div></div><div class=\"sk-serial\"><div class=\"sk-item\"><div class=\"sk-serial\"><div class=\"sk-item\"><div class=\"sk-estimator sk-toggleable\"><input class=\"sk-toggleable__control sk-hidden--visually\" id=\"46dfc47e-b744-4702-8d0f-a7cb582d06c0\" type=\"checkbox\" ><label for=\"46dfc47e-b744-4702-8d0f-a7cb582d06c0\" class=\"sk-toggleable__label sk-toggleable__label-arrow\">SimpleImputer</label><div class=\"sk-toggleable__content\"><pre>SimpleImputer()</pre></div></div></div><div class=\"sk-item\"><div class=\"sk-estimator sk-toggleable\"><input class=\"sk-toggleable__control sk-hidden--visually\" id=\"10935086-f67f-4b63-85fe-38f58d003768\" type=\"checkbox\" ><label for=\"10935086-f67f-4b63-85fe-38f58d003768\" class=\"sk-toggleable__label sk-toggleable__label-arrow\">OrdinalEncoder</label><div class=\"sk-toggleable__content\"><pre>OrdinalEncoder(handle_unknown=&#x27;use_encoded_value&#x27;, unknown_value=-1)</pre></div></div></div></div></div></div></div></div></div></div></div></div>"
      ],
      "text/plain": [
       "ColumnTransformer(transformers=[('num',\n",
       "                                 Pipeline(steps=[('imputer', SimpleImputer())]),\n",
       "                                 ['Pclass', 'SibSp', 'Parch', 'Fare', 'Age']),\n",
       "                                ('cat',\n",
       "                                 Pipeline(steps=[('imputer', SimpleImputer()),\n",
       "                                                 ('ordinal',\n",
       "                                                  OrdinalEncoder(handle_unknown='use_encoded_value',\n",
       "                                                                 unknown_value=-1))]),\n",
       "                                 ['Sex', 'Embarked', 'Title'])])"
      ]
     },
     "execution_count": 178,
     "metadata": {},
     "output_type": "execute_result"
    }
   ],
   "source": [
    "\"\"\"\n",
    "num_preprocessing = pipeline.Pipeline(steps=[\n",
    "  # Some SimpleImputer here\n",
    "])\n",
    "\n",
    "cat_preporcessing = pipeline.Pipeline(steps=[\n",
    "  # Some SimpleImputer here\n",
    "  # Some Encoder here. Remember to handle_unknown\n",
    "])\n",
    "\n",
    "tree_prepro = compose.ColumnTransformer(transformers=[\n",
    "    ('num', num_preprocessing, num_vars),\n",
    "    ('cat', cat_preporcessing, cat_vars),\n",
    "], remainder='drop') # Drop other vars not specified in num_vars or cat_vars\n",
    "\n",
    "tree_prepro\n",
    "\"\"\";\n",
    "### BEGIN SOLUTION\n",
    "num_4_treeModels = Pipeline( [ ('imputer', SimpleImputer()) ] )\n",
    "cat_4_treeModels = Pipeline( [ ('imputer', SimpleImputer()), ('ordinal', OrdinalEncoder(handle_unknown= 'use_encoded_value', unknown_value = -1))])\n",
    "tree_prepro = ColumnTransformer( [ ('num', num_4_treeModels, num_vars), ('cat', cat_4_treeModels, cat_vars) ], remainder='drop' )\n",
    "tree_prepro\n"
   ]
  },
  {
   "cell_type": "code",
   "execution_count": 179,
   "metadata": {
    "nbgrader": {
     "grade": true,
     "grade_id": "cell-e636558135fb5975",
     "locked": true,
     "points": 2,
     "schema_version": 3,
     "solution": false,
     "task": false
    }
   },
   "outputs": [],
   "source": [
    "assert type(tree_prepro)      is compose._column_transformer.ColumnTransformer\n",
    "assert type(num_4_treeModels) is pipeline.Pipeline\n",
    "assert type(cat_4_treeModels) is pipeline.Pipeline\n",
    "assert len(num_4_treeModels) == 1\n",
    "assert len(cat_4_treeModels) == 2"
   ]
  },
  {
   "cell_type": "markdown",
   "metadata": {},
   "source": [
    "# Exercise 4 (1pts):\n",
    "1. Complete the diccionary with some Tree Models.\n",
    "2. Then we put each model in a Pipeline where:\n",
    "   - first is the prepocessing with the column Transformer\n",
    "   - Then is the Tree model\n",
    "3. Display the fullpipeline of the LGBMClassifier"
   ]
  },
  {
   "cell_type": "code",
   "execution_count": 159,
   "metadata": {},
   "outputs": [],
   "source": [
    "from sklearn.tree          import DecisionTreeClassifier\n",
    "from sklearn.ensemble      import RandomForestClassifier\n",
    "from sklearn.ensemble      import ExtraTreesClassifier\n",
    "from sklearn.ensemble      import AdaBoostClassifier\n",
    "from sklearn.ensemble      import GradientBoostingClassifier\n",
    "from sklearn.ensemble      import HistGradientBoostingClassifier\n",
    "from xgboost               import XGBClassifier\n",
    "from lightgbm              import LGBMClassifier\n",
    "from catboost              import CatBoostClassifier"
   ]
  },
  {
   "cell_type": "code",
   "execution_count": 176,
   "metadata": {
    "nbgrader": {
     "grade": false,
     "grade_id": "cell-76a3be8223730c5a",
     "locked": false,
     "schema_version": 3,
     "solution": true,
     "task": false
    }
   },
   "outputs": [
    {
     "data": {
      "text/html": [
       "<style>#sk-39bab21a-5606-48d5-a2a6-88c237286ed1 {color: black;background-color: white;}#sk-39bab21a-5606-48d5-a2a6-88c237286ed1 pre{padding: 0;}#sk-39bab21a-5606-48d5-a2a6-88c237286ed1 div.sk-toggleable {background-color: white;}#sk-39bab21a-5606-48d5-a2a6-88c237286ed1 label.sk-toggleable__label {cursor: pointer;display: block;width: 100%;margin-bottom: 0;padding: 0.3em;box-sizing: border-box;text-align: center;}#sk-39bab21a-5606-48d5-a2a6-88c237286ed1 label.sk-toggleable__label-arrow:before {content: \"▸\";float: left;margin-right: 0.25em;color: #696969;}#sk-39bab21a-5606-48d5-a2a6-88c237286ed1 label.sk-toggleable__label-arrow:hover:before {color: black;}#sk-39bab21a-5606-48d5-a2a6-88c237286ed1 div.sk-estimator:hover label.sk-toggleable__label-arrow:before {color: black;}#sk-39bab21a-5606-48d5-a2a6-88c237286ed1 div.sk-toggleable__content {max-height: 0;max-width: 0;overflow: hidden;text-align: left;background-color: #f0f8ff;}#sk-39bab21a-5606-48d5-a2a6-88c237286ed1 div.sk-toggleable__content pre {margin: 0.2em;color: black;border-radius: 0.25em;background-color: #f0f8ff;}#sk-39bab21a-5606-48d5-a2a6-88c237286ed1 input.sk-toggleable__control:checked~div.sk-toggleable__content {max-height: 200px;max-width: 100%;overflow: auto;}#sk-39bab21a-5606-48d5-a2a6-88c237286ed1 input.sk-toggleable__control:checked~label.sk-toggleable__label-arrow:before {content: \"▾\";}#sk-39bab21a-5606-48d5-a2a6-88c237286ed1 div.sk-estimator input.sk-toggleable__control:checked~label.sk-toggleable__label {background-color: #d4ebff;}#sk-39bab21a-5606-48d5-a2a6-88c237286ed1 div.sk-label input.sk-toggleable__control:checked~label.sk-toggleable__label {background-color: #d4ebff;}#sk-39bab21a-5606-48d5-a2a6-88c237286ed1 input.sk-hidden--visually {border: 0;clip: rect(1px 1px 1px 1px);clip: rect(1px, 1px, 1px, 1px);height: 1px;margin: -1px;overflow: hidden;padding: 0;position: absolute;width: 1px;}#sk-39bab21a-5606-48d5-a2a6-88c237286ed1 div.sk-estimator {font-family: monospace;background-color: #f0f8ff;border: 1px dotted black;border-radius: 0.25em;box-sizing: border-box;margin-bottom: 0.5em;}#sk-39bab21a-5606-48d5-a2a6-88c237286ed1 div.sk-estimator:hover {background-color: #d4ebff;}#sk-39bab21a-5606-48d5-a2a6-88c237286ed1 div.sk-parallel-item::after {content: \"\";width: 100%;border-bottom: 1px solid gray;flex-grow: 1;}#sk-39bab21a-5606-48d5-a2a6-88c237286ed1 div.sk-label:hover label.sk-toggleable__label {background-color: #d4ebff;}#sk-39bab21a-5606-48d5-a2a6-88c237286ed1 div.sk-serial::before {content: \"\";position: absolute;border-left: 1px solid gray;box-sizing: border-box;top: 2em;bottom: 0;left: 50%;}#sk-39bab21a-5606-48d5-a2a6-88c237286ed1 div.sk-serial {display: flex;flex-direction: column;align-items: center;background-color: white;padding-right: 0.2em;padding-left: 0.2em;}#sk-39bab21a-5606-48d5-a2a6-88c237286ed1 div.sk-item {z-index: 1;}#sk-39bab21a-5606-48d5-a2a6-88c237286ed1 div.sk-parallel {display: flex;align-items: stretch;justify-content: center;background-color: white;}#sk-39bab21a-5606-48d5-a2a6-88c237286ed1 div.sk-parallel::before {content: \"\";position: absolute;border-left: 1px solid gray;box-sizing: border-box;top: 2em;bottom: 0;left: 50%;}#sk-39bab21a-5606-48d5-a2a6-88c237286ed1 div.sk-parallel-item {display: flex;flex-direction: column;position: relative;background-color: white;}#sk-39bab21a-5606-48d5-a2a6-88c237286ed1 div.sk-parallel-item:first-child::after {align-self: flex-end;width: 50%;}#sk-39bab21a-5606-48d5-a2a6-88c237286ed1 div.sk-parallel-item:last-child::after {align-self: flex-start;width: 50%;}#sk-39bab21a-5606-48d5-a2a6-88c237286ed1 div.sk-parallel-item:only-child::after {width: 0;}#sk-39bab21a-5606-48d5-a2a6-88c237286ed1 div.sk-dashed-wrapped {border: 1px dashed gray;margin: 0 0.4em 0.5em 0.4em;box-sizing: border-box;padding-bottom: 0.4em;background-color: white;position: relative;}#sk-39bab21a-5606-48d5-a2a6-88c237286ed1 div.sk-label label {font-family: monospace;font-weight: bold;background-color: white;display: inline-block;line-height: 1.2em;}#sk-39bab21a-5606-48d5-a2a6-88c237286ed1 div.sk-label-container {position: relative;z-index: 2;text-align: center;}#sk-39bab21a-5606-48d5-a2a6-88c237286ed1 div.sk-container {/* jupyter's `normalize.less` sets `[hidden] { display: none; }` but bootstrap.min.css set `[hidden] { display: none !important; }` so we also need the `!important` here to be able to override the default hidden behavior on the sphinx rendered scikit-learn.org. See: https://github.com/scikit-learn/scikit-learn/issues/21755 */display: inline-block !important;position: relative;}#sk-39bab21a-5606-48d5-a2a6-88c237286ed1 div.sk-text-repr-fallback {display: none;}</style><div id=\"sk-39bab21a-5606-48d5-a2a6-88c237286ed1\" class=\"sk-top-container\"><div class=\"sk-text-repr-fallback\"><pre>Pipeline(steps=[(&#x27;columntransformer&#x27;,\n",
       "                 ColumnTransformer(transformers=[(&#x27;num&#x27;,\n",
       "                                                  Pipeline(steps=[(&#x27;imputer&#x27;,\n",
       "                                                                   SimpleImputer())]),\n",
       "                                                  [&#x27;Pclass&#x27;, &#x27;SibSp&#x27;, &#x27;Parch&#x27;,\n",
       "                                                   &#x27;Fare&#x27;, &#x27;Age&#x27;]),\n",
       "                                                 (&#x27;cat&#x27;,\n",
       "                                                  Pipeline(steps=[(&#x27;imputer&#x27;,\n",
       "                                                                   SimpleImputer()),\n",
       "                                                                  (&#x27;ordinal&#x27;,\n",
       "                                                                   OrdinalEncoder(handle_unknown=&#x27;use_encoded_value&#x27;,\n",
       "                                                                                  unknown_value=-1))]),\n",
       "                                                  [&#x27;Sex&#x27;, &#x27;Embarked&#x27;,\n",
       "                                                   &#x27;Title&#x27;])])),\n",
       "                (&#x27;lgbmclassifier&#x27;, LGBMClassifier())])</pre><b>Please rerun this cell to show the HTML repr or trust the notebook.</b></div><div class=\"sk-container\" hidden><div class=\"sk-item sk-dashed-wrapped\"><div class=\"sk-label-container\"><div class=\"sk-label sk-toggleable\"><input class=\"sk-toggleable__control sk-hidden--visually\" id=\"4cfec8d9-0fea-479b-a16b-a516258232bd\" type=\"checkbox\" ><label for=\"4cfec8d9-0fea-479b-a16b-a516258232bd\" class=\"sk-toggleable__label sk-toggleable__label-arrow\">Pipeline</label><div class=\"sk-toggleable__content\"><pre>Pipeline(steps=[(&#x27;columntransformer&#x27;,\n",
       "                 ColumnTransformer(transformers=[(&#x27;num&#x27;,\n",
       "                                                  Pipeline(steps=[(&#x27;imputer&#x27;,\n",
       "                                                                   SimpleImputer())]),\n",
       "                                                  [&#x27;Pclass&#x27;, &#x27;SibSp&#x27;, &#x27;Parch&#x27;,\n",
       "                                                   &#x27;Fare&#x27;, &#x27;Age&#x27;]),\n",
       "                                                 (&#x27;cat&#x27;,\n",
       "                                                  Pipeline(steps=[(&#x27;imputer&#x27;,\n",
       "                                                                   SimpleImputer()),\n",
       "                                                                  (&#x27;ordinal&#x27;,\n",
       "                                                                   OrdinalEncoder(handle_unknown=&#x27;use_encoded_value&#x27;,\n",
       "                                                                                  unknown_value=-1))]),\n",
       "                                                  [&#x27;Sex&#x27;, &#x27;Embarked&#x27;,\n",
       "                                                   &#x27;Title&#x27;])])),\n",
       "                (&#x27;lgbmclassifier&#x27;, LGBMClassifier())])</pre></div></div></div><div class=\"sk-serial\"><div class=\"sk-item sk-dashed-wrapped\"><div class=\"sk-label-container\"><div class=\"sk-label sk-toggleable\"><input class=\"sk-toggleable__control sk-hidden--visually\" id=\"3bdc2d5c-278b-42a8-913c-42fe8aebf608\" type=\"checkbox\" ><label for=\"3bdc2d5c-278b-42a8-913c-42fe8aebf608\" class=\"sk-toggleable__label sk-toggleable__label-arrow\">columntransformer: ColumnTransformer</label><div class=\"sk-toggleable__content\"><pre>ColumnTransformer(transformers=[(&#x27;num&#x27;,\n",
       "                                 Pipeline(steps=[(&#x27;imputer&#x27;, SimpleImputer())]),\n",
       "                                 [&#x27;Pclass&#x27;, &#x27;SibSp&#x27;, &#x27;Parch&#x27;, &#x27;Fare&#x27;, &#x27;Age&#x27;]),\n",
       "                                (&#x27;cat&#x27;,\n",
       "                                 Pipeline(steps=[(&#x27;imputer&#x27;, SimpleImputer()),\n",
       "                                                 (&#x27;ordinal&#x27;,\n",
       "                                                  OrdinalEncoder(handle_unknown=&#x27;use_encoded_value&#x27;,\n",
       "                                                                 unknown_value=-1))]),\n",
       "                                 [&#x27;Sex&#x27;, &#x27;Embarked&#x27;, &#x27;Title&#x27;])])</pre></div></div></div><div class=\"sk-parallel\"><div class=\"sk-parallel-item\"><div class=\"sk-item\"><div class=\"sk-label-container\"><div class=\"sk-label sk-toggleable\"><input class=\"sk-toggleable__control sk-hidden--visually\" id=\"d80e0e74-0978-4a9b-8c09-caca40fd8ac6\" type=\"checkbox\" ><label for=\"d80e0e74-0978-4a9b-8c09-caca40fd8ac6\" class=\"sk-toggleable__label sk-toggleable__label-arrow\">num</label><div class=\"sk-toggleable__content\"><pre>[&#x27;Pclass&#x27;, &#x27;SibSp&#x27;, &#x27;Parch&#x27;, &#x27;Fare&#x27;, &#x27;Age&#x27;]</pre></div></div></div><div class=\"sk-serial\"><div class=\"sk-item\"><div class=\"sk-serial\"><div class=\"sk-item\"><div class=\"sk-estimator sk-toggleable\"><input class=\"sk-toggleable__control sk-hidden--visually\" id=\"5d23159d-8b1f-44a5-abbd-5f054e5b1bd3\" type=\"checkbox\" ><label for=\"5d23159d-8b1f-44a5-abbd-5f054e5b1bd3\" class=\"sk-toggleable__label sk-toggleable__label-arrow\">SimpleImputer</label><div class=\"sk-toggleable__content\"><pre>SimpleImputer()</pre></div></div></div></div></div></div></div></div><div class=\"sk-parallel-item\"><div class=\"sk-item\"><div class=\"sk-label-container\"><div class=\"sk-label sk-toggleable\"><input class=\"sk-toggleable__control sk-hidden--visually\" id=\"0d5c5701-139d-4370-a145-e2446691ddd1\" type=\"checkbox\" ><label for=\"0d5c5701-139d-4370-a145-e2446691ddd1\" class=\"sk-toggleable__label sk-toggleable__label-arrow\">cat</label><div class=\"sk-toggleable__content\"><pre>[&#x27;Sex&#x27;, &#x27;Embarked&#x27;, &#x27;Title&#x27;]</pre></div></div></div><div class=\"sk-serial\"><div class=\"sk-item\"><div class=\"sk-serial\"><div class=\"sk-item\"><div class=\"sk-estimator sk-toggleable\"><input class=\"sk-toggleable__control sk-hidden--visually\" id=\"de5dfda6-4dbd-46ce-97d4-ff22065ff31f\" type=\"checkbox\" ><label for=\"de5dfda6-4dbd-46ce-97d4-ff22065ff31f\" class=\"sk-toggleable__label sk-toggleable__label-arrow\">SimpleImputer</label><div class=\"sk-toggleable__content\"><pre>SimpleImputer()</pre></div></div></div><div class=\"sk-item\"><div class=\"sk-estimator sk-toggleable\"><input class=\"sk-toggleable__control sk-hidden--visually\" id=\"afc53e0a-dc78-48dc-b9bd-c92c0e13b2ca\" type=\"checkbox\" ><label for=\"afc53e0a-dc78-48dc-b9bd-c92c0e13b2ca\" class=\"sk-toggleable__label sk-toggleable__label-arrow\">OrdinalEncoder</label><div class=\"sk-toggleable__content\"><pre>OrdinalEncoder(handle_unknown=&#x27;use_encoded_value&#x27;, unknown_value=-1)</pre></div></div></div></div></div></div></div></div></div></div><div class=\"sk-item\"><div class=\"sk-estimator sk-toggleable\"><input class=\"sk-toggleable__control sk-hidden--visually\" id=\"cc43dac4-3a37-4540-bf39-67c2baf9c966\" type=\"checkbox\" ><label for=\"cc43dac4-3a37-4540-bf39-67c2baf9c966\" class=\"sk-toggleable__label sk-toggleable__label-arrow\">LGBMClassifier</label><div class=\"sk-toggleable__content\"><pre>LGBMClassifier()</pre></div></div></div></div></div></div></div>"
      ],
      "text/plain": [
       "Pipeline(steps=[('columntransformer',\n",
       "                 ColumnTransformer(transformers=[('num',\n",
       "                                                  Pipeline(steps=[('imputer',\n",
       "                                                                   SimpleImputer())]),\n",
       "                                                  ['Pclass', 'SibSp', 'Parch',\n",
       "                                                   'Fare', 'Age']),\n",
       "                                                 ('cat',\n",
       "                                                  Pipeline(steps=[('imputer',\n",
       "                                                                   SimpleImputer()),\n",
       "                                                                  ('ordinal',\n",
       "                                                                   OrdinalEncoder(handle_unknown='use_encoded_value',\n",
       "                                                                                  unknown_value=-1))]),\n",
       "                                                  ['Sex', 'Embarked',\n",
       "                                                   'Title'])])),\n",
       "                ('lgbmclassifier', LGBMClassifier())])"
      ]
     },
     "execution_count": 176,
     "metadata": {},
     "output_type": "execute_result"
    }
   ],
   "source": [
    "\"\"\"\n",
    "tree_classifiers = {\n",
    "  \"Decision Tree\": DecisionTreeClassifier(),\n",
    "  \"Extra Trees\":\n",
    "  \"Random Forest\":\n",
    "  \"AdaBoost\":\n",
    "  \"Skl GBM\":\n",
    "  \"Skl HistGBM\":\n",
    "  \"XGBoost\":\n",
    "  \"LightGBM\":\n",
    "  \"CatBoost\":\n",
    "tree_classifiers = {name: pipeline.make_pipeline(tree_prepro, model) for name, model in tree_classifiers.items()}\n",
    "tree_classifiers[\"LightGBM\"]\n",
    "\"\"\"\n",
    "tree_classifiers = {\n",
    "  \"Decision Tree\": DecisionTreeClassifier(),\n",
    "  \"Extra Trees\": ExtraTreesClassifier(),\n",
    "  \"AdaBoost\": AdaBoostClassifier(),\n",
    "  \"Skl GBM\": GradientBoostingClassifier(),\n",
    "  \"Skl HistGBM\": HistGradientBoostingClassifier(),\n",
    "  \"XGBoost\": XGBClassifier(),\n",
    "  \"LightGBM\": LGBMClassifier(),\n",
    "  \"Catboost\": CatBoostClassifier()\n",
    "}\n",
    "tree_classifiers = {name: pipeline.make_pipeline(tree_prepro, model) for name, model in tree_classifiers.items()}\n",
    "tree_classifiers[\"LightGBM\"]"
   ]
  },
  {
   "cell_type": "code",
   "execution_count": 174,
   "metadata": {
    "nbgrader": {
     "grade": true,
     "grade_id": "cell-d4744022b37e2e9b",
     "locked": true,
     "points": 1,
     "schema_version": 3,
     "solution": false,
     "task": false
    }
   },
   "outputs": [],
   "source": [
    "for pipe in tree_classifiers.values():\n",
    "    assert type(pipe) is pipeline.Pipeline"
   ]
  },
  {
   "cell_type": "markdown",
   "metadata": {},
   "source": [
    "# Exercise 5 (3pts):\n",
    "Define a simple split validation strategy with:\n",
    "- 80% for train\n",
    "- 20% for validation\n",
    "- With stratification\n",
    "- random_state=0\n",
    "\n",
    "And train all the models in a for loop"
   ]
  },
  {
   "cell_type": "code",
   "execution_count": 181,
   "metadata": {
    "colab": {
     "base_uri": "https://localhost:8080/",
     "height": 173
    },
    "colab_type": "code",
    "id": "kY1uWk6-OcLw",
    "nbgrader": {
     "grade": false,
     "grade_id": "cell-64f17e0d448bca7e",
     "locked": false,
     "schema_version": 3,
     "solution": true,
     "task": false
    },
    "outputId": "3562463f-3197-424c-dc82-b07ad579e9cc"
   },
   "outputs": [
    {
     "ename": "ValueError",
     "evalue": "Cannot use mean strategy with non-numeric data:\ncould not convert string to float: 'female'",
     "output_type": "error",
     "traceback": [
      "\u001b[1;31m---------------------------------------------------------------------------\u001b[0m",
      "\u001b[1;31mValueError\u001b[0m                                Traceback (most recent call last)",
      "\u001b[1;32mc:\\Users\\Lenovo\\OneDrive\\Documents\\Strive repos\\strive_practice\\08. Robust ML\\fe1_.ipynb Cell 35'\u001b[0m in \u001b[0;36m<cell line: 10>\u001b[1;34m()\u001b[0m\n\u001b[0;32m     <a href='vscode-notebook-cell:/c%3A/Users/Lenovo/OneDrive/Documents/Strive%20repos/strive_practice/08.%20Robust%20ML/fe1_.ipynb#ch0000032?line=10'>11</a>\u001b[0m start_time \u001b[39m=\u001b[39m time\u001b[39m.\u001b[39mtime()\n\u001b[0;32m     <a href='vscode-notebook-cell:/c%3A/Users/Lenovo/OneDrive/Documents/Strive%20repos/strive_practice/08.%20Robust%20ML/fe1_.ipynb#ch0000032?line=12'>13</a>\u001b[0m \u001b[39m# FOR EVERY PIPELINE (PREPRO + MODEL) -> TRAIN WITH TRAIN DATA (x_train)\u001b[39;00m\n\u001b[1;32m---> <a href='vscode-notebook-cell:/c%3A/Users/Lenovo/OneDrive/Documents/Strive%20repos/strive_practice/08.%20Robust%20ML/fe1_.ipynb#ch0000032?line=13'>14</a>\u001b[0m model\u001b[39m.\u001b[39;49mfit(x_train, y_train)\n\u001b[0;32m     <a href='vscode-notebook-cell:/c%3A/Users/Lenovo/OneDrive/Documents/Strive%20repos/strive_practice/08.%20Robust%20ML/fe1_.ipynb#ch0000032?line=16'>17</a>\u001b[0m \u001b[39m# GET PREDICTIONS USING x_val\u001b[39;00m\n\u001b[0;32m     <a href='vscode-notebook-cell:/c%3A/Users/Lenovo/OneDrive/Documents/Strive%20repos/strive_practice/08.%20Robust%20ML/fe1_.ipynb#ch0000032?line=17'>18</a>\u001b[0m pred \u001b[39m=\u001b[39m model\u001b[39m.\u001b[39mpredict(x_val)\n",
      "File \u001b[1;32m~\\anaconda3\\envs\\strive2\\lib\\site-packages\\sklearn\\pipeline.py:390\u001b[0m, in \u001b[0;36mPipeline.fit\u001b[1;34m(self, X, y, **fit_params)\u001b[0m\n\u001b[0;32m    <a href='file:///c%3A/Users/Lenovo/anaconda3/envs/strive2/lib/site-packages/sklearn/pipeline.py?line=363'>364</a>\u001b[0m \u001b[39m\"\"\"Fit the model.\u001b[39;00m\n\u001b[0;32m    <a href='file:///c%3A/Users/Lenovo/anaconda3/envs/strive2/lib/site-packages/sklearn/pipeline.py?line=364'>365</a>\u001b[0m \n\u001b[0;32m    <a href='file:///c%3A/Users/Lenovo/anaconda3/envs/strive2/lib/site-packages/sklearn/pipeline.py?line=365'>366</a>\u001b[0m \u001b[39mFit all the transformers one after the other and transform the\u001b[39;00m\n\u001b[1;32m   (...)\u001b[0m\n\u001b[0;32m    <a href='file:///c%3A/Users/Lenovo/anaconda3/envs/strive2/lib/site-packages/sklearn/pipeline.py?line=386'>387</a>\u001b[0m \u001b[39m    Pipeline with fitted steps.\u001b[39;00m\n\u001b[0;32m    <a href='file:///c%3A/Users/Lenovo/anaconda3/envs/strive2/lib/site-packages/sklearn/pipeline.py?line=387'>388</a>\u001b[0m \u001b[39m\"\"\"\u001b[39;00m\n\u001b[0;32m    <a href='file:///c%3A/Users/Lenovo/anaconda3/envs/strive2/lib/site-packages/sklearn/pipeline.py?line=388'>389</a>\u001b[0m fit_params_steps \u001b[39m=\u001b[39m \u001b[39mself\u001b[39m\u001b[39m.\u001b[39m_check_fit_params(\u001b[39m*\u001b[39m\u001b[39m*\u001b[39mfit_params)\n\u001b[1;32m--> <a href='file:///c%3A/Users/Lenovo/anaconda3/envs/strive2/lib/site-packages/sklearn/pipeline.py?line=389'>390</a>\u001b[0m Xt \u001b[39m=\u001b[39m \u001b[39mself\u001b[39m\u001b[39m.\u001b[39m_fit(X, y, \u001b[39m*\u001b[39m\u001b[39m*\u001b[39mfit_params_steps)\n\u001b[0;32m    <a href='file:///c%3A/Users/Lenovo/anaconda3/envs/strive2/lib/site-packages/sklearn/pipeline.py?line=390'>391</a>\u001b[0m \u001b[39mwith\u001b[39;00m _print_elapsed_time(\u001b[39m\"\u001b[39m\u001b[39mPipeline\u001b[39m\u001b[39m\"\u001b[39m, \u001b[39mself\u001b[39m\u001b[39m.\u001b[39m_log_message(\u001b[39mlen\u001b[39m(\u001b[39mself\u001b[39m\u001b[39m.\u001b[39msteps) \u001b[39m-\u001b[39m \u001b[39m1\u001b[39m)):\n\u001b[0;32m    <a href='file:///c%3A/Users/Lenovo/anaconda3/envs/strive2/lib/site-packages/sklearn/pipeline.py?line=391'>392</a>\u001b[0m     \u001b[39mif\u001b[39;00m \u001b[39mself\u001b[39m\u001b[39m.\u001b[39m_final_estimator \u001b[39m!=\u001b[39m \u001b[39m\"\u001b[39m\u001b[39mpassthrough\u001b[39m\u001b[39m\"\u001b[39m:\n",
      "File \u001b[1;32m~\\anaconda3\\envs\\strive2\\lib\\site-packages\\sklearn\\pipeline.py:348\u001b[0m, in \u001b[0;36mPipeline._fit\u001b[1;34m(self, X, y, **fit_params_steps)\u001b[0m\n\u001b[0;32m    <a href='file:///c%3A/Users/Lenovo/anaconda3/envs/strive2/lib/site-packages/sklearn/pipeline.py?line=345'>346</a>\u001b[0m     cloned_transformer \u001b[39m=\u001b[39m clone(transformer)\n\u001b[0;32m    <a href='file:///c%3A/Users/Lenovo/anaconda3/envs/strive2/lib/site-packages/sklearn/pipeline.py?line=346'>347</a>\u001b[0m \u001b[39m# Fit or load from cache the current transformer\u001b[39;00m\n\u001b[1;32m--> <a href='file:///c%3A/Users/Lenovo/anaconda3/envs/strive2/lib/site-packages/sklearn/pipeline.py?line=347'>348</a>\u001b[0m X, fitted_transformer \u001b[39m=\u001b[39m fit_transform_one_cached(\n\u001b[0;32m    <a href='file:///c%3A/Users/Lenovo/anaconda3/envs/strive2/lib/site-packages/sklearn/pipeline.py?line=348'>349</a>\u001b[0m     cloned_transformer,\n\u001b[0;32m    <a href='file:///c%3A/Users/Lenovo/anaconda3/envs/strive2/lib/site-packages/sklearn/pipeline.py?line=349'>350</a>\u001b[0m     X,\n\u001b[0;32m    <a href='file:///c%3A/Users/Lenovo/anaconda3/envs/strive2/lib/site-packages/sklearn/pipeline.py?line=350'>351</a>\u001b[0m     y,\n\u001b[0;32m    <a href='file:///c%3A/Users/Lenovo/anaconda3/envs/strive2/lib/site-packages/sklearn/pipeline.py?line=351'>352</a>\u001b[0m     \u001b[39mNone\u001b[39;00m,\n\u001b[0;32m    <a href='file:///c%3A/Users/Lenovo/anaconda3/envs/strive2/lib/site-packages/sklearn/pipeline.py?line=352'>353</a>\u001b[0m     message_clsname\u001b[39m=\u001b[39m\u001b[39m\"\u001b[39m\u001b[39mPipeline\u001b[39m\u001b[39m\"\u001b[39m,\n\u001b[0;32m    <a href='file:///c%3A/Users/Lenovo/anaconda3/envs/strive2/lib/site-packages/sklearn/pipeline.py?line=353'>354</a>\u001b[0m     message\u001b[39m=\u001b[39m\u001b[39mself\u001b[39m\u001b[39m.\u001b[39m_log_message(step_idx),\n\u001b[0;32m    <a href='file:///c%3A/Users/Lenovo/anaconda3/envs/strive2/lib/site-packages/sklearn/pipeline.py?line=354'>355</a>\u001b[0m     \u001b[39m*\u001b[39m\u001b[39m*\u001b[39mfit_params_steps[name],\n\u001b[0;32m    <a href='file:///c%3A/Users/Lenovo/anaconda3/envs/strive2/lib/site-packages/sklearn/pipeline.py?line=355'>356</a>\u001b[0m )\n\u001b[0;32m    <a href='file:///c%3A/Users/Lenovo/anaconda3/envs/strive2/lib/site-packages/sklearn/pipeline.py?line=356'>357</a>\u001b[0m \u001b[39m# Replace the transformer of the step with the fitted\u001b[39;00m\n\u001b[0;32m    <a href='file:///c%3A/Users/Lenovo/anaconda3/envs/strive2/lib/site-packages/sklearn/pipeline.py?line=357'>358</a>\u001b[0m \u001b[39m# transformer. This is necessary when loading the transformer\u001b[39;00m\n\u001b[0;32m    <a href='file:///c%3A/Users/Lenovo/anaconda3/envs/strive2/lib/site-packages/sklearn/pipeline.py?line=358'>359</a>\u001b[0m \u001b[39m# from the cache.\u001b[39;00m\n\u001b[0;32m    <a href='file:///c%3A/Users/Lenovo/anaconda3/envs/strive2/lib/site-packages/sklearn/pipeline.py?line=359'>360</a>\u001b[0m \u001b[39mself\u001b[39m\u001b[39m.\u001b[39msteps[step_idx] \u001b[39m=\u001b[39m (name, fitted_transformer)\n",
      "File \u001b[1;32m~\\anaconda3\\envs\\strive2\\lib\\site-packages\\joblib\\memory.py:352\u001b[0m, in \u001b[0;36mNotMemorizedFunc.__call__\u001b[1;34m(self, *args, **kwargs)\u001b[0m\n\u001b[0;32m    <a href='file:///c%3A/Users/Lenovo/anaconda3/envs/strive2/lib/site-packages/joblib/memory.py?line=350'>351</a>\u001b[0m \u001b[39mdef\u001b[39;00m \u001b[39m__call__\u001b[39m(\u001b[39mself\u001b[39m, \u001b[39m*\u001b[39margs, \u001b[39m*\u001b[39m\u001b[39m*\u001b[39mkwargs):\n\u001b[1;32m--> <a href='file:///c%3A/Users/Lenovo/anaconda3/envs/strive2/lib/site-packages/joblib/memory.py?line=351'>352</a>\u001b[0m     \u001b[39mreturn\u001b[39;00m \u001b[39mself\u001b[39m\u001b[39m.\u001b[39mfunc(\u001b[39m*\u001b[39margs, \u001b[39m*\u001b[39m\u001b[39m*\u001b[39mkwargs)\n",
      "File \u001b[1;32m~\\anaconda3\\envs\\strive2\\lib\\site-packages\\sklearn\\pipeline.py:893\u001b[0m, in \u001b[0;36m_fit_transform_one\u001b[1;34m(transformer, X, y, weight, message_clsname, message, **fit_params)\u001b[0m\n\u001b[0;32m    <a href='file:///c%3A/Users/Lenovo/anaconda3/envs/strive2/lib/site-packages/sklearn/pipeline.py?line=890'>891</a>\u001b[0m \u001b[39mwith\u001b[39;00m _print_elapsed_time(message_clsname, message):\n\u001b[0;32m    <a href='file:///c%3A/Users/Lenovo/anaconda3/envs/strive2/lib/site-packages/sklearn/pipeline.py?line=891'>892</a>\u001b[0m     \u001b[39mif\u001b[39;00m \u001b[39mhasattr\u001b[39m(transformer, \u001b[39m\"\u001b[39m\u001b[39mfit_transform\u001b[39m\u001b[39m\"\u001b[39m):\n\u001b[1;32m--> <a href='file:///c%3A/Users/Lenovo/anaconda3/envs/strive2/lib/site-packages/sklearn/pipeline.py?line=892'>893</a>\u001b[0m         res \u001b[39m=\u001b[39m transformer\u001b[39m.\u001b[39mfit_transform(X, y, \u001b[39m*\u001b[39m\u001b[39m*\u001b[39mfit_params)\n\u001b[0;32m    <a href='file:///c%3A/Users/Lenovo/anaconda3/envs/strive2/lib/site-packages/sklearn/pipeline.py?line=893'>894</a>\u001b[0m     \u001b[39melse\u001b[39;00m:\n\u001b[0;32m    <a href='file:///c%3A/Users/Lenovo/anaconda3/envs/strive2/lib/site-packages/sklearn/pipeline.py?line=894'>895</a>\u001b[0m         res \u001b[39m=\u001b[39m transformer\u001b[39m.\u001b[39mfit(X, y, \u001b[39m*\u001b[39m\u001b[39m*\u001b[39mfit_params)\u001b[39m.\u001b[39mtransform(X)\n",
      "File \u001b[1;32m~\\anaconda3\\envs\\strive2\\lib\\site-packages\\sklearn\\compose\\_column_transformer.py:675\u001b[0m, in \u001b[0;36mColumnTransformer.fit_transform\u001b[1;34m(self, X, y)\u001b[0m\n\u001b[0;32m    <a href='file:///c%3A/Users/Lenovo/anaconda3/envs/strive2/lib/site-packages/sklearn/compose/_column_transformer.py?line=671'>672</a>\u001b[0m \u001b[39mself\u001b[39m\u001b[39m.\u001b[39m_validate_column_callables(X)\n\u001b[0;32m    <a href='file:///c%3A/Users/Lenovo/anaconda3/envs/strive2/lib/site-packages/sklearn/compose/_column_transformer.py?line=672'>673</a>\u001b[0m \u001b[39mself\u001b[39m\u001b[39m.\u001b[39m_validate_remainder(X)\n\u001b[1;32m--> <a href='file:///c%3A/Users/Lenovo/anaconda3/envs/strive2/lib/site-packages/sklearn/compose/_column_transformer.py?line=674'>675</a>\u001b[0m result \u001b[39m=\u001b[39m \u001b[39mself\u001b[39;49m\u001b[39m.\u001b[39;49m_fit_transform(X, y, _fit_transform_one)\n\u001b[0;32m    <a href='file:///c%3A/Users/Lenovo/anaconda3/envs/strive2/lib/site-packages/sklearn/compose/_column_transformer.py?line=676'>677</a>\u001b[0m \u001b[39mif\u001b[39;00m \u001b[39mnot\u001b[39;00m result:\n\u001b[0;32m    <a href='file:///c%3A/Users/Lenovo/anaconda3/envs/strive2/lib/site-packages/sklearn/compose/_column_transformer.py?line=677'>678</a>\u001b[0m     \u001b[39mself\u001b[39m\u001b[39m.\u001b[39m_update_fitted_transformers([])\n",
      "File \u001b[1;32m~\\anaconda3\\envs\\strive2\\lib\\site-packages\\sklearn\\compose\\_column_transformer.py:606\u001b[0m, in \u001b[0;36mColumnTransformer._fit_transform\u001b[1;34m(self, X, y, func, fitted, column_as_strings)\u001b[0m\n\u001b[0;32m    <a href='file:///c%3A/Users/Lenovo/anaconda3/envs/strive2/lib/site-packages/sklearn/compose/_column_transformer.py?line=599'>600</a>\u001b[0m transformers \u001b[39m=\u001b[39m \u001b[39mlist\u001b[39m(\n\u001b[0;32m    <a href='file:///c%3A/Users/Lenovo/anaconda3/envs/strive2/lib/site-packages/sklearn/compose/_column_transformer.py?line=600'>601</a>\u001b[0m     \u001b[39mself\u001b[39m\u001b[39m.\u001b[39m_iter(\n\u001b[0;32m    <a href='file:///c%3A/Users/Lenovo/anaconda3/envs/strive2/lib/site-packages/sklearn/compose/_column_transformer.py?line=601'>602</a>\u001b[0m         fitted\u001b[39m=\u001b[39mfitted, replace_strings\u001b[39m=\u001b[39m\u001b[39mTrue\u001b[39;00m, column_as_strings\u001b[39m=\u001b[39mcolumn_as_strings\n\u001b[0;32m    <a href='file:///c%3A/Users/Lenovo/anaconda3/envs/strive2/lib/site-packages/sklearn/compose/_column_transformer.py?line=602'>603</a>\u001b[0m     )\n\u001b[0;32m    <a href='file:///c%3A/Users/Lenovo/anaconda3/envs/strive2/lib/site-packages/sklearn/compose/_column_transformer.py?line=603'>604</a>\u001b[0m )\n\u001b[0;32m    <a href='file:///c%3A/Users/Lenovo/anaconda3/envs/strive2/lib/site-packages/sklearn/compose/_column_transformer.py?line=604'>605</a>\u001b[0m \u001b[39mtry\u001b[39;00m:\n\u001b[1;32m--> <a href='file:///c%3A/Users/Lenovo/anaconda3/envs/strive2/lib/site-packages/sklearn/compose/_column_transformer.py?line=605'>606</a>\u001b[0m     \u001b[39mreturn\u001b[39;00m Parallel(n_jobs\u001b[39m=\u001b[39;49m\u001b[39mself\u001b[39;49m\u001b[39m.\u001b[39;49mn_jobs)(\n\u001b[0;32m    <a href='file:///c%3A/Users/Lenovo/anaconda3/envs/strive2/lib/site-packages/sklearn/compose/_column_transformer.py?line=606'>607</a>\u001b[0m         delayed(func)(\n\u001b[0;32m    <a href='file:///c%3A/Users/Lenovo/anaconda3/envs/strive2/lib/site-packages/sklearn/compose/_column_transformer.py?line=607'>608</a>\u001b[0m             transformer\u001b[39m=\u001b[39;49mclone(trans) \u001b[39mif\u001b[39;49;00m \u001b[39mnot\u001b[39;49;00m fitted \u001b[39melse\u001b[39;49;00m trans,\n\u001b[0;32m    <a href='file:///c%3A/Users/Lenovo/anaconda3/envs/strive2/lib/site-packages/sklearn/compose/_column_transformer.py?line=608'>609</a>\u001b[0m             X\u001b[39m=\u001b[39;49m_safe_indexing(X, column, axis\u001b[39m=\u001b[39;49m\u001b[39m1\u001b[39;49m),\n\u001b[0;32m    <a href='file:///c%3A/Users/Lenovo/anaconda3/envs/strive2/lib/site-packages/sklearn/compose/_column_transformer.py?line=609'>610</a>\u001b[0m             y\u001b[39m=\u001b[39;49my,\n\u001b[0;32m    <a href='file:///c%3A/Users/Lenovo/anaconda3/envs/strive2/lib/site-packages/sklearn/compose/_column_transformer.py?line=610'>611</a>\u001b[0m             weight\u001b[39m=\u001b[39;49mweight,\n\u001b[0;32m    <a href='file:///c%3A/Users/Lenovo/anaconda3/envs/strive2/lib/site-packages/sklearn/compose/_column_transformer.py?line=611'>612</a>\u001b[0m             message_clsname\u001b[39m=\u001b[39;49m\u001b[39m\"\u001b[39;49m\u001b[39mColumnTransformer\u001b[39;49m\u001b[39m\"\u001b[39;49m,\n\u001b[0;32m    <a href='file:///c%3A/Users/Lenovo/anaconda3/envs/strive2/lib/site-packages/sklearn/compose/_column_transformer.py?line=612'>613</a>\u001b[0m             message\u001b[39m=\u001b[39;49m\u001b[39mself\u001b[39;49m\u001b[39m.\u001b[39;49m_log_message(name, idx, \u001b[39mlen\u001b[39;49m(transformers)),\n\u001b[0;32m    <a href='file:///c%3A/Users/Lenovo/anaconda3/envs/strive2/lib/site-packages/sklearn/compose/_column_transformer.py?line=613'>614</a>\u001b[0m         )\n\u001b[0;32m    <a href='file:///c%3A/Users/Lenovo/anaconda3/envs/strive2/lib/site-packages/sklearn/compose/_column_transformer.py?line=614'>615</a>\u001b[0m         \u001b[39mfor\u001b[39;49;00m idx, (name, trans, column, weight) \u001b[39min\u001b[39;49;00m \u001b[39menumerate\u001b[39;49m(transformers, \u001b[39m1\u001b[39;49m)\n\u001b[0;32m    <a href='file:///c%3A/Users/Lenovo/anaconda3/envs/strive2/lib/site-packages/sklearn/compose/_column_transformer.py?line=615'>616</a>\u001b[0m     )\n\u001b[0;32m    <a href='file:///c%3A/Users/Lenovo/anaconda3/envs/strive2/lib/site-packages/sklearn/compose/_column_transformer.py?line=616'>617</a>\u001b[0m \u001b[39mexcept\u001b[39;00m \u001b[39mValueError\u001b[39;00m \u001b[39mas\u001b[39;00m e:\n\u001b[0;32m    <a href='file:///c%3A/Users/Lenovo/anaconda3/envs/strive2/lib/site-packages/sklearn/compose/_column_transformer.py?line=617'>618</a>\u001b[0m     \u001b[39mif\u001b[39;00m \u001b[39m\"\u001b[39m\u001b[39mExpected 2D array, got 1D array instead\u001b[39m\u001b[39m\"\u001b[39m \u001b[39min\u001b[39;00m \u001b[39mstr\u001b[39m(e):\n",
      "File \u001b[1;32m~\\anaconda3\\envs\\strive2\\lib\\site-packages\\joblib\\parallel.py:1051\u001b[0m, in \u001b[0;36mParallel.__call__\u001b[1;34m(self, iterable)\u001b[0m\n\u001b[0;32m   <a href='file:///c%3A/Users/Lenovo/anaconda3/envs/strive2/lib/site-packages/joblib/parallel.py?line=1047'>1048</a>\u001b[0m \u001b[39mif\u001b[39;00m \u001b[39mself\u001b[39m\u001b[39m.\u001b[39mdispatch_one_batch(iterator):\n\u001b[0;32m   <a href='file:///c%3A/Users/Lenovo/anaconda3/envs/strive2/lib/site-packages/joblib/parallel.py?line=1048'>1049</a>\u001b[0m     \u001b[39mself\u001b[39m\u001b[39m.\u001b[39m_iterating \u001b[39m=\u001b[39m \u001b[39mself\u001b[39m\u001b[39m.\u001b[39m_original_iterator \u001b[39mis\u001b[39;00m \u001b[39mnot\u001b[39;00m \u001b[39mNone\u001b[39;00m\n\u001b[1;32m-> <a href='file:///c%3A/Users/Lenovo/anaconda3/envs/strive2/lib/site-packages/joblib/parallel.py?line=1050'>1051</a>\u001b[0m \u001b[39mwhile\u001b[39;00m \u001b[39mself\u001b[39;49m\u001b[39m.\u001b[39;49mdispatch_one_batch(iterator):\n\u001b[0;32m   <a href='file:///c%3A/Users/Lenovo/anaconda3/envs/strive2/lib/site-packages/joblib/parallel.py?line=1051'>1052</a>\u001b[0m     \u001b[39mpass\u001b[39;00m\n\u001b[0;32m   <a href='file:///c%3A/Users/Lenovo/anaconda3/envs/strive2/lib/site-packages/joblib/parallel.py?line=1053'>1054</a>\u001b[0m \u001b[39mif\u001b[39;00m pre_dispatch \u001b[39m==\u001b[39m \u001b[39m\"\u001b[39m\u001b[39mall\u001b[39m\u001b[39m\"\u001b[39m \u001b[39mor\u001b[39;00m n_jobs \u001b[39m==\u001b[39m \u001b[39m1\u001b[39m:\n\u001b[0;32m   <a href='file:///c%3A/Users/Lenovo/anaconda3/envs/strive2/lib/site-packages/joblib/parallel.py?line=1054'>1055</a>\u001b[0m     \u001b[39m# The iterable was consumed all at once by the above for loop.\u001b[39;00m\n\u001b[0;32m   <a href='file:///c%3A/Users/Lenovo/anaconda3/envs/strive2/lib/site-packages/joblib/parallel.py?line=1055'>1056</a>\u001b[0m     \u001b[39m# No need to wait for async callbacks to trigger to\u001b[39;00m\n\u001b[0;32m   <a href='file:///c%3A/Users/Lenovo/anaconda3/envs/strive2/lib/site-packages/joblib/parallel.py?line=1056'>1057</a>\u001b[0m     \u001b[39m# consumption.\u001b[39;00m\n",
      "File \u001b[1;32m~\\anaconda3\\envs\\strive2\\lib\\site-packages\\joblib\\parallel.py:866\u001b[0m, in \u001b[0;36mParallel.dispatch_one_batch\u001b[1;34m(self, iterator)\u001b[0m\n\u001b[0;32m    <a href='file:///c%3A/Users/Lenovo/anaconda3/envs/strive2/lib/site-packages/joblib/parallel.py?line=863'>864</a>\u001b[0m     \u001b[39mreturn\u001b[39;00m \u001b[39mFalse\u001b[39;00m\n\u001b[0;32m    <a href='file:///c%3A/Users/Lenovo/anaconda3/envs/strive2/lib/site-packages/joblib/parallel.py?line=864'>865</a>\u001b[0m \u001b[39melse\u001b[39;00m:\n\u001b[1;32m--> <a href='file:///c%3A/Users/Lenovo/anaconda3/envs/strive2/lib/site-packages/joblib/parallel.py?line=865'>866</a>\u001b[0m     \u001b[39mself\u001b[39;49m\u001b[39m.\u001b[39;49m_dispatch(tasks)\n\u001b[0;32m    <a href='file:///c%3A/Users/Lenovo/anaconda3/envs/strive2/lib/site-packages/joblib/parallel.py?line=866'>867</a>\u001b[0m     \u001b[39mreturn\u001b[39;00m \u001b[39mTrue\u001b[39;00m\n",
      "File \u001b[1;32m~\\anaconda3\\envs\\strive2\\lib\\site-packages\\joblib\\parallel.py:784\u001b[0m, in \u001b[0;36mParallel._dispatch\u001b[1;34m(self, batch)\u001b[0m\n\u001b[0;32m    <a href='file:///c%3A/Users/Lenovo/anaconda3/envs/strive2/lib/site-packages/joblib/parallel.py?line=781'>782</a>\u001b[0m \u001b[39mwith\u001b[39;00m \u001b[39mself\u001b[39m\u001b[39m.\u001b[39m_lock:\n\u001b[0;32m    <a href='file:///c%3A/Users/Lenovo/anaconda3/envs/strive2/lib/site-packages/joblib/parallel.py?line=782'>783</a>\u001b[0m     job_idx \u001b[39m=\u001b[39m \u001b[39mlen\u001b[39m(\u001b[39mself\u001b[39m\u001b[39m.\u001b[39m_jobs)\n\u001b[1;32m--> <a href='file:///c%3A/Users/Lenovo/anaconda3/envs/strive2/lib/site-packages/joblib/parallel.py?line=783'>784</a>\u001b[0m     job \u001b[39m=\u001b[39m \u001b[39mself\u001b[39;49m\u001b[39m.\u001b[39;49m_backend\u001b[39m.\u001b[39;49mapply_async(batch, callback\u001b[39m=\u001b[39;49mcb)\n\u001b[0;32m    <a href='file:///c%3A/Users/Lenovo/anaconda3/envs/strive2/lib/site-packages/joblib/parallel.py?line=784'>785</a>\u001b[0m     \u001b[39m# A job can complete so quickly than its callback is\u001b[39;00m\n\u001b[0;32m    <a href='file:///c%3A/Users/Lenovo/anaconda3/envs/strive2/lib/site-packages/joblib/parallel.py?line=785'>786</a>\u001b[0m     \u001b[39m# called before we get here, causing self._jobs to\u001b[39;00m\n\u001b[0;32m    <a href='file:///c%3A/Users/Lenovo/anaconda3/envs/strive2/lib/site-packages/joblib/parallel.py?line=786'>787</a>\u001b[0m     \u001b[39m# grow. To ensure correct results ordering, .insert is\u001b[39;00m\n\u001b[0;32m    <a href='file:///c%3A/Users/Lenovo/anaconda3/envs/strive2/lib/site-packages/joblib/parallel.py?line=787'>788</a>\u001b[0m     \u001b[39m# used (rather than .append) in the following line\u001b[39;00m\n\u001b[0;32m    <a href='file:///c%3A/Users/Lenovo/anaconda3/envs/strive2/lib/site-packages/joblib/parallel.py?line=788'>789</a>\u001b[0m     \u001b[39mself\u001b[39m\u001b[39m.\u001b[39m_jobs\u001b[39m.\u001b[39minsert(job_idx, job)\n",
      "File \u001b[1;32m~\\anaconda3\\envs\\strive2\\lib\\site-packages\\joblib\\_parallel_backends.py:208\u001b[0m, in \u001b[0;36mSequentialBackend.apply_async\u001b[1;34m(self, func, callback)\u001b[0m\n\u001b[0;32m    <a href='file:///c%3A/Users/Lenovo/anaconda3/envs/strive2/lib/site-packages/joblib/_parallel_backends.py?line=205'>206</a>\u001b[0m \u001b[39mdef\u001b[39;00m \u001b[39mapply_async\u001b[39m(\u001b[39mself\u001b[39m, func, callback\u001b[39m=\u001b[39m\u001b[39mNone\u001b[39;00m):\n\u001b[0;32m    <a href='file:///c%3A/Users/Lenovo/anaconda3/envs/strive2/lib/site-packages/joblib/_parallel_backends.py?line=206'>207</a>\u001b[0m     \u001b[39m\"\"\"Schedule a func to be run\"\"\"\u001b[39;00m\n\u001b[1;32m--> <a href='file:///c%3A/Users/Lenovo/anaconda3/envs/strive2/lib/site-packages/joblib/_parallel_backends.py?line=207'>208</a>\u001b[0m     result \u001b[39m=\u001b[39m ImmediateResult(func)\n\u001b[0;32m    <a href='file:///c%3A/Users/Lenovo/anaconda3/envs/strive2/lib/site-packages/joblib/_parallel_backends.py?line=208'>209</a>\u001b[0m     \u001b[39mif\u001b[39;00m callback:\n\u001b[0;32m    <a href='file:///c%3A/Users/Lenovo/anaconda3/envs/strive2/lib/site-packages/joblib/_parallel_backends.py?line=209'>210</a>\u001b[0m         callback(result)\n",
      "File \u001b[1;32m~\\anaconda3\\envs\\strive2\\lib\\site-packages\\joblib\\_parallel_backends.py:572\u001b[0m, in \u001b[0;36mImmediateResult.__init__\u001b[1;34m(self, batch)\u001b[0m\n\u001b[0;32m    <a href='file:///c%3A/Users/Lenovo/anaconda3/envs/strive2/lib/site-packages/joblib/_parallel_backends.py?line=568'>569</a>\u001b[0m \u001b[39mdef\u001b[39;00m \u001b[39m__init__\u001b[39m(\u001b[39mself\u001b[39m, batch):\n\u001b[0;32m    <a href='file:///c%3A/Users/Lenovo/anaconda3/envs/strive2/lib/site-packages/joblib/_parallel_backends.py?line=569'>570</a>\u001b[0m     \u001b[39m# Don't delay the application, to avoid keeping the input\u001b[39;00m\n\u001b[0;32m    <a href='file:///c%3A/Users/Lenovo/anaconda3/envs/strive2/lib/site-packages/joblib/_parallel_backends.py?line=570'>571</a>\u001b[0m     \u001b[39m# arguments in memory\u001b[39;00m\n\u001b[1;32m--> <a href='file:///c%3A/Users/Lenovo/anaconda3/envs/strive2/lib/site-packages/joblib/_parallel_backends.py?line=571'>572</a>\u001b[0m     \u001b[39mself\u001b[39m\u001b[39m.\u001b[39mresults \u001b[39m=\u001b[39m batch()\n",
      "File \u001b[1;32m~\\anaconda3\\envs\\strive2\\lib\\site-packages\\joblib\\parallel.py:262\u001b[0m, in \u001b[0;36mBatchedCalls.__call__\u001b[1;34m(self)\u001b[0m\n\u001b[0;32m    <a href='file:///c%3A/Users/Lenovo/anaconda3/envs/strive2/lib/site-packages/joblib/parallel.py?line=257'>258</a>\u001b[0m \u001b[39mdef\u001b[39;00m \u001b[39m__call__\u001b[39m(\u001b[39mself\u001b[39m):\n\u001b[0;32m    <a href='file:///c%3A/Users/Lenovo/anaconda3/envs/strive2/lib/site-packages/joblib/parallel.py?line=258'>259</a>\u001b[0m     \u001b[39m# Set the default nested backend to self._backend but do not set the\u001b[39;00m\n\u001b[0;32m    <a href='file:///c%3A/Users/Lenovo/anaconda3/envs/strive2/lib/site-packages/joblib/parallel.py?line=259'>260</a>\u001b[0m     \u001b[39m# change the default number of processes to -1\u001b[39;00m\n\u001b[0;32m    <a href='file:///c%3A/Users/Lenovo/anaconda3/envs/strive2/lib/site-packages/joblib/parallel.py?line=260'>261</a>\u001b[0m     \u001b[39mwith\u001b[39;00m parallel_backend(\u001b[39mself\u001b[39m\u001b[39m.\u001b[39m_backend, n_jobs\u001b[39m=\u001b[39m\u001b[39mself\u001b[39m\u001b[39m.\u001b[39m_n_jobs):\n\u001b[1;32m--> <a href='file:///c%3A/Users/Lenovo/anaconda3/envs/strive2/lib/site-packages/joblib/parallel.py?line=261'>262</a>\u001b[0m         \u001b[39mreturn\u001b[39;00m [func(\u001b[39m*\u001b[39margs, \u001b[39m*\u001b[39m\u001b[39m*\u001b[39mkwargs)\n\u001b[0;32m    <a href='file:///c%3A/Users/Lenovo/anaconda3/envs/strive2/lib/site-packages/joblib/parallel.py?line=262'>263</a>\u001b[0m                 \u001b[39mfor\u001b[39;00m func, args, kwargs \u001b[39min\u001b[39;00m \u001b[39mself\u001b[39m\u001b[39m.\u001b[39mitems]\n",
      "File \u001b[1;32m~\\anaconda3\\envs\\strive2\\lib\\site-packages\\joblib\\parallel.py:262\u001b[0m, in \u001b[0;36m<listcomp>\u001b[1;34m(.0)\u001b[0m\n\u001b[0;32m    <a href='file:///c%3A/Users/Lenovo/anaconda3/envs/strive2/lib/site-packages/joblib/parallel.py?line=257'>258</a>\u001b[0m \u001b[39mdef\u001b[39;00m \u001b[39m__call__\u001b[39m(\u001b[39mself\u001b[39m):\n\u001b[0;32m    <a href='file:///c%3A/Users/Lenovo/anaconda3/envs/strive2/lib/site-packages/joblib/parallel.py?line=258'>259</a>\u001b[0m     \u001b[39m# Set the default nested backend to self._backend but do not set the\u001b[39;00m\n\u001b[0;32m    <a href='file:///c%3A/Users/Lenovo/anaconda3/envs/strive2/lib/site-packages/joblib/parallel.py?line=259'>260</a>\u001b[0m     \u001b[39m# change the default number of processes to -1\u001b[39;00m\n\u001b[0;32m    <a href='file:///c%3A/Users/Lenovo/anaconda3/envs/strive2/lib/site-packages/joblib/parallel.py?line=260'>261</a>\u001b[0m     \u001b[39mwith\u001b[39;00m parallel_backend(\u001b[39mself\u001b[39m\u001b[39m.\u001b[39m_backend, n_jobs\u001b[39m=\u001b[39m\u001b[39mself\u001b[39m\u001b[39m.\u001b[39m_n_jobs):\n\u001b[1;32m--> <a href='file:///c%3A/Users/Lenovo/anaconda3/envs/strive2/lib/site-packages/joblib/parallel.py?line=261'>262</a>\u001b[0m         \u001b[39mreturn\u001b[39;00m [func(\u001b[39m*\u001b[39margs, \u001b[39m*\u001b[39m\u001b[39m*\u001b[39mkwargs)\n\u001b[0;32m    <a href='file:///c%3A/Users/Lenovo/anaconda3/envs/strive2/lib/site-packages/joblib/parallel.py?line=262'>263</a>\u001b[0m                 \u001b[39mfor\u001b[39;00m func, args, kwargs \u001b[39min\u001b[39;00m \u001b[39mself\u001b[39m\u001b[39m.\u001b[39mitems]\n",
      "File \u001b[1;32m~\\anaconda3\\envs\\strive2\\lib\\site-packages\\sklearn\\utils\\fixes.py:216\u001b[0m, in \u001b[0;36m_FuncWrapper.__call__\u001b[1;34m(self, *args, **kwargs)\u001b[0m\n\u001b[0;32m    <a href='file:///c%3A/Users/Lenovo/anaconda3/envs/strive2/lib/site-packages/sklearn/utils/fixes.py?line=213'>214</a>\u001b[0m \u001b[39mdef\u001b[39;00m \u001b[39m__call__\u001b[39m(\u001b[39mself\u001b[39m, \u001b[39m*\u001b[39margs, \u001b[39m*\u001b[39m\u001b[39m*\u001b[39mkwargs):\n\u001b[0;32m    <a href='file:///c%3A/Users/Lenovo/anaconda3/envs/strive2/lib/site-packages/sklearn/utils/fixes.py?line=214'>215</a>\u001b[0m     \u001b[39mwith\u001b[39;00m config_context(\u001b[39m*\u001b[39m\u001b[39m*\u001b[39m\u001b[39mself\u001b[39m\u001b[39m.\u001b[39mconfig):\n\u001b[1;32m--> <a href='file:///c%3A/Users/Lenovo/anaconda3/envs/strive2/lib/site-packages/sklearn/utils/fixes.py?line=215'>216</a>\u001b[0m         \u001b[39mreturn\u001b[39;00m \u001b[39mself\u001b[39m\u001b[39m.\u001b[39mfunction(\u001b[39m*\u001b[39margs, \u001b[39m*\u001b[39m\u001b[39m*\u001b[39mkwargs)\n",
      "File \u001b[1;32m~\\anaconda3\\envs\\strive2\\lib\\site-packages\\sklearn\\pipeline.py:893\u001b[0m, in \u001b[0;36m_fit_transform_one\u001b[1;34m(transformer, X, y, weight, message_clsname, message, **fit_params)\u001b[0m\n\u001b[0;32m    <a href='file:///c%3A/Users/Lenovo/anaconda3/envs/strive2/lib/site-packages/sklearn/pipeline.py?line=890'>891</a>\u001b[0m \u001b[39mwith\u001b[39;00m _print_elapsed_time(message_clsname, message):\n\u001b[0;32m    <a href='file:///c%3A/Users/Lenovo/anaconda3/envs/strive2/lib/site-packages/sklearn/pipeline.py?line=891'>892</a>\u001b[0m     \u001b[39mif\u001b[39;00m \u001b[39mhasattr\u001b[39m(transformer, \u001b[39m\"\u001b[39m\u001b[39mfit_transform\u001b[39m\u001b[39m\"\u001b[39m):\n\u001b[1;32m--> <a href='file:///c%3A/Users/Lenovo/anaconda3/envs/strive2/lib/site-packages/sklearn/pipeline.py?line=892'>893</a>\u001b[0m         res \u001b[39m=\u001b[39m transformer\u001b[39m.\u001b[39mfit_transform(X, y, \u001b[39m*\u001b[39m\u001b[39m*\u001b[39mfit_params)\n\u001b[0;32m    <a href='file:///c%3A/Users/Lenovo/anaconda3/envs/strive2/lib/site-packages/sklearn/pipeline.py?line=893'>894</a>\u001b[0m     \u001b[39melse\u001b[39;00m:\n\u001b[0;32m    <a href='file:///c%3A/Users/Lenovo/anaconda3/envs/strive2/lib/site-packages/sklearn/pipeline.py?line=894'>895</a>\u001b[0m         res \u001b[39m=\u001b[39m transformer\u001b[39m.\u001b[39mfit(X, y, \u001b[39m*\u001b[39m\u001b[39m*\u001b[39mfit_params)\u001b[39m.\u001b[39mtransform(X)\n",
      "File \u001b[1;32m~\\anaconda3\\envs\\strive2\\lib\\site-packages\\sklearn\\pipeline.py:426\u001b[0m, in \u001b[0;36mPipeline.fit_transform\u001b[1;34m(self, X, y, **fit_params)\u001b[0m\n\u001b[0;32m    <a href='file:///c%3A/Users/Lenovo/anaconda3/envs/strive2/lib/site-packages/sklearn/pipeline.py?line=398'>399</a>\u001b[0m \u001b[39m\"\"\"Fit the model and transform with the final estimator.\u001b[39;00m\n\u001b[0;32m    <a href='file:///c%3A/Users/Lenovo/anaconda3/envs/strive2/lib/site-packages/sklearn/pipeline.py?line=399'>400</a>\u001b[0m \n\u001b[0;32m    <a href='file:///c%3A/Users/Lenovo/anaconda3/envs/strive2/lib/site-packages/sklearn/pipeline.py?line=400'>401</a>\u001b[0m \u001b[39mFits all the transformers one after the other and transform the\u001b[39;00m\n\u001b[1;32m   (...)\u001b[0m\n\u001b[0;32m    <a href='file:///c%3A/Users/Lenovo/anaconda3/envs/strive2/lib/site-packages/sklearn/pipeline.py?line=422'>423</a>\u001b[0m \u001b[39m    Transformed samples.\u001b[39;00m\n\u001b[0;32m    <a href='file:///c%3A/Users/Lenovo/anaconda3/envs/strive2/lib/site-packages/sklearn/pipeline.py?line=423'>424</a>\u001b[0m \u001b[39m\"\"\"\u001b[39;00m\n\u001b[0;32m    <a href='file:///c%3A/Users/Lenovo/anaconda3/envs/strive2/lib/site-packages/sklearn/pipeline.py?line=424'>425</a>\u001b[0m fit_params_steps \u001b[39m=\u001b[39m \u001b[39mself\u001b[39m\u001b[39m.\u001b[39m_check_fit_params(\u001b[39m*\u001b[39m\u001b[39m*\u001b[39mfit_params)\n\u001b[1;32m--> <a href='file:///c%3A/Users/Lenovo/anaconda3/envs/strive2/lib/site-packages/sklearn/pipeline.py?line=425'>426</a>\u001b[0m Xt \u001b[39m=\u001b[39m \u001b[39mself\u001b[39m\u001b[39m.\u001b[39m_fit(X, y, \u001b[39m*\u001b[39m\u001b[39m*\u001b[39mfit_params_steps)\n\u001b[0;32m    <a href='file:///c%3A/Users/Lenovo/anaconda3/envs/strive2/lib/site-packages/sklearn/pipeline.py?line=427'>428</a>\u001b[0m last_step \u001b[39m=\u001b[39m \u001b[39mself\u001b[39m\u001b[39m.\u001b[39m_final_estimator\n\u001b[0;32m    <a href='file:///c%3A/Users/Lenovo/anaconda3/envs/strive2/lib/site-packages/sklearn/pipeline.py?line=428'>429</a>\u001b[0m \u001b[39mwith\u001b[39;00m _print_elapsed_time(\u001b[39m\"\u001b[39m\u001b[39mPipeline\u001b[39m\u001b[39m\"\u001b[39m, \u001b[39mself\u001b[39m\u001b[39m.\u001b[39m_log_message(\u001b[39mlen\u001b[39m(\u001b[39mself\u001b[39m\u001b[39m.\u001b[39msteps) \u001b[39m-\u001b[39m \u001b[39m1\u001b[39m)):\n",
      "File \u001b[1;32m~\\anaconda3\\envs\\strive2\\lib\\site-packages\\sklearn\\pipeline.py:348\u001b[0m, in \u001b[0;36mPipeline._fit\u001b[1;34m(self, X, y, **fit_params_steps)\u001b[0m\n\u001b[0;32m    <a href='file:///c%3A/Users/Lenovo/anaconda3/envs/strive2/lib/site-packages/sklearn/pipeline.py?line=345'>346</a>\u001b[0m     cloned_transformer \u001b[39m=\u001b[39m clone(transformer)\n\u001b[0;32m    <a href='file:///c%3A/Users/Lenovo/anaconda3/envs/strive2/lib/site-packages/sklearn/pipeline.py?line=346'>347</a>\u001b[0m \u001b[39m# Fit or load from cache the current transformer\u001b[39;00m\n\u001b[1;32m--> <a href='file:///c%3A/Users/Lenovo/anaconda3/envs/strive2/lib/site-packages/sklearn/pipeline.py?line=347'>348</a>\u001b[0m X, fitted_transformer \u001b[39m=\u001b[39m fit_transform_one_cached(\n\u001b[0;32m    <a href='file:///c%3A/Users/Lenovo/anaconda3/envs/strive2/lib/site-packages/sklearn/pipeline.py?line=348'>349</a>\u001b[0m     cloned_transformer,\n\u001b[0;32m    <a href='file:///c%3A/Users/Lenovo/anaconda3/envs/strive2/lib/site-packages/sklearn/pipeline.py?line=349'>350</a>\u001b[0m     X,\n\u001b[0;32m    <a href='file:///c%3A/Users/Lenovo/anaconda3/envs/strive2/lib/site-packages/sklearn/pipeline.py?line=350'>351</a>\u001b[0m     y,\n\u001b[0;32m    <a href='file:///c%3A/Users/Lenovo/anaconda3/envs/strive2/lib/site-packages/sklearn/pipeline.py?line=351'>352</a>\u001b[0m     \u001b[39mNone\u001b[39;00m,\n\u001b[0;32m    <a href='file:///c%3A/Users/Lenovo/anaconda3/envs/strive2/lib/site-packages/sklearn/pipeline.py?line=352'>353</a>\u001b[0m     message_clsname\u001b[39m=\u001b[39m\u001b[39m\"\u001b[39m\u001b[39mPipeline\u001b[39m\u001b[39m\"\u001b[39m,\n\u001b[0;32m    <a href='file:///c%3A/Users/Lenovo/anaconda3/envs/strive2/lib/site-packages/sklearn/pipeline.py?line=353'>354</a>\u001b[0m     message\u001b[39m=\u001b[39m\u001b[39mself\u001b[39m\u001b[39m.\u001b[39m_log_message(step_idx),\n\u001b[0;32m    <a href='file:///c%3A/Users/Lenovo/anaconda3/envs/strive2/lib/site-packages/sklearn/pipeline.py?line=354'>355</a>\u001b[0m     \u001b[39m*\u001b[39m\u001b[39m*\u001b[39mfit_params_steps[name],\n\u001b[0;32m    <a href='file:///c%3A/Users/Lenovo/anaconda3/envs/strive2/lib/site-packages/sklearn/pipeline.py?line=355'>356</a>\u001b[0m )\n\u001b[0;32m    <a href='file:///c%3A/Users/Lenovo/anaconda3/envs/strive2/lib/site-packages/sklearn/pipeline.py?line=356'>357</a>\u001b[0m \u001b[39m# Replace the transformer of the step with the fitted\u001b[39;00m\n\u001b[0;32m    <a href='file:///c%3A/Users/Lenovo/anaconda3/envs/strive2/lib/site-packages/sklearn/pipeline.py?line=357'>358</a>\u001b[0m \u001b[39m# transformer. This is necessary when loading the transformer\u001b[39;00m\n\u001b[0;32m    <a href='file:///c%3A/Users/Lenovo/anaconda3/envs/strive2/lib/site-packages/sklearn/pipeline.py?line=358'>359</a>\u001b[0m \u001b[39m# from the cache.\u001b[39;00m\n\u001b[0;32m    <a href='file:///c%3A/Users/Lenovo/anaconda3/envs/strive2/lib/site-packages/sklearn/pipeline.py?line=359'>360</a>\u001b[0m \u001b[39mself\u001b[39m\u001b[39m.\u001b[39msteps[step_idx] \u001b[39m=\u001b[39m (name, fitted_transformer)\n",
      "File \u001b[1;32m~\\anaconda3\\envs\\strive2\\lib\\site-packages\\joblib\\memory.py:352\u001b[0m, in \u001b[0;36mNotMemorizedFunc.__call__\u001b[1;34m(self, *args, **kwargs)\u001b[0m\n\u001b[0;32m    <a href='file:///c%3A/Users/Lenovo/anaconda3/envs/strive2/lib/site-packages/joblib/memory.py?line=350'>351</a>\u001b[0m \u001b[39mdef\u001b[39;00m \u001b[39m__call__\u001b[39m(\u001b[39mself\u001b[39m, \u001b[39m*\u001b[39margs, \u001b[39m*\u001b[39m\u001b[39m*\u001b[39mkwargs):\n\u001b[1;32m--> <a href='file:///c%3A/Users/Lenovo/anaconda3/envs/strive2/lib/site-packages/joblib/memory.py?line=351'>352</a>\u001b[0m     \u001b[39mreturn\u001b[39;00m \u001b[39mself\u001b[39m\u001b[39m.\u001b[39mfunc(\u001b[39m*\u001b[39margs, \u001b[39m*\u001b[39m\u001b[39m*\u001b[39mkwargs)\n",
      "File \u001b[1;32m~\\anaconda3\\envs\\strive2\\lib\\site-packages\\sklearn\\pipeline.py:893\u001b[0m, in \u001b[0;36m_fit_transform_one\u001b[1;34m(transformer, X, y, weight, message_clsname, message, **fit_params)\u001b[0m\n\u001b[0;32m    <a href='file:///c%3A/Users/Lenovo/anaconda3/envs/strive2/lib/site-packages/sklearn/pipeline.py?line=890'>891</a>\u001b[0m \u001b[39mwith\u001b[39;00m _print_elapsed_time(message_clsname, message):\n\u001b[0;32m    <a href='file:///c%3A/Users/Lenovo/anaconda3/envs/strive2/lib/site-packages/sklearn/pipeline.py?line=891'>892</a>\u001b[0m     \u001b[39mif\u001b[39;00m \u001b[39mhasattr\u001b[39m(transformer, \u001b[39m\"\u001b[39m\u001b[39mfit_transform\u001b[39m\u001b[39m\"\u001b[39m):\n\u001b[1;32m--> <a href='file:///c%3A/Users/Lenovo/anaconda3/envs/strive2/lib/site-packages/sklearn/pipeline.py?line=892'>893</a>\u001b[0m         res \u001b[39m=\u001b[39m transformer\u001b[39m.\u001b[39mfit_transform(X, y, \u001b[39m*\u001b[39m\u001b[39m*\u001b[39mfit_params)\n\u001b[0;32m    <a href='file:///c%3A/Users/Lenovo/anaconda3/envs/strive2/lib/site-packages/sklearn/pipeline.py?line=893'>894</a>\u001b[0m     \u001b[39melse\u001b[39;00m:\n\u001b[0;32m    <a href='file:///c%3A/Users/Lenovo/anaconda3/envs/strive2/lib/site-packages/sklearn/pipeline.py?line=894'>895</a>\u001b[0m         res \u001b[39m=\u001b[39m transformer\u001b[39m.\u001b[39mfit(X, y, \u001b[39m*\u001b[39m\u001b[39m*\u001b[39mfit_params)\u001b[39m.\u001b[39mtransform(X)\n",
      "File \u001b[1;32m~\\anaconda3\\envs\\strive2\\lib\\site-packages\\sklearn\\base.py:855\u001b[0m, in \u001b[0;36mTransformerMixin.fit_transform\u001b[1;34m(self, X, y, **fit_params)\u001b[0m\n\u001b[0;32m    <a href='file:///c%3A/Users/Lenovo/anaconda3/envs/strive2/lib/site-packages/sklearn/base.py?line=851'>852</a>\u001b[0m     \u001b[39mreturn\u001b[39;00m \u001b[39mself\u001b[39m\u001b[39m.\u001b[39mfit(X, \u001b[39m*\u001b[39m\u001b[39m*\u001b[39mfit_params)\u001b[39m.\u001b[39mtransform(X)\n\u001b[0;32m    <a href='file:///c%3A/Users/Lenovo/anaconda3/envs/strive2/lib/site-packages/sklearn/base.py?line=852'>853</a>\u001b[0m \u001b[39melse\u001b[39;00m:\n\u001b[0;32m    <a href='file:///c%3A/Users/Lenovo/anaconda3/envs/strive2/lib/site-packages/sklearn/base.py?line=853'>854</a>\u001b[0m     \u001b[39m# fit method of arity 2 (supervised transformation)\u001b[39;00m\n\u001b[1;32m--> <a href='file:///c%3A/Users/Lenovo/anaconda3/envs/strive2/lib/site-packages/sklearn/base.py?line=854'>855</a>\u001b[0m     \u001b[39mreturn\u001b[39;00m \u001b[39mself\u001b[39m\u001b[39m.\u001b[39mfit(X, y, \u001b[39m*\u001b[39m\u001b[39m*\u001b[39mfit_params)\u001b[39m.\u001b[39mtransform(X)\n",
      "File \u001b[1;32m~\\anaconda3\\envs\\strive2\\lib\\site-packages\\sklearn\\impute\\_base.py:319\u001b[0m, in \u001b[0;36mSimpleImputer.fit\u001b[1;34m(self, X, y)\u001b[0m\n\u001b[0;32m    <a href='file:///c%3A/Users/Lenovo/anaconda3/envs/strive2/lib/site-packages/sklearn/impute/_base.py?line=301'>302</a>\u001b[0m \u001b[39mdef\u001b[39;00m \u001b[39mfit\u001b[39m(\u001b[39mself\u001b[39m, X, y\u001b[39m=\u001b[39m\u001b[39mNone\u001b[39;00m):\n\u001b[0;32m    <a href='file:///c%3A/Users/Lenovo/anaconda3/envs/strive2/lib/site-packages/sklearn/impute/_base.py?line=302'>303</a>\u001b[0m     \u001b[39m\"\"\"Fit the imputer on `X`.\u001b[39;00m\n\u001b[0;32m    <a href='file:///c%3A/Users/Lenovo/anaconda3/envs/strive2/lib/site-packages/sklearn/impute/_base.py?line=303'>304</a>\u001b[0m \n\u001b[0;32m    <a href='file:///c%3A/Users/Lenovo/anaconda3/envs/strive2/lib/site-packages/sklearn/impute/_base.py?line=304'>305</a>\u001b[0m \u001b[39m    Parameters\u001b[39;00m\n\u001b[1;32m   (...)\u001b[0m\n\u001b[0;32m    <a href='file:///c%3A/Users/Lenovo/anaconda3/envs/strive2/lib/site-packages/sklearn/impute/_base.py?line=316'>317</a>\u001b[0m \u001b[39m        Fitted estimator.\u001b[39;00m\n\u001b[0;32m    <a href='file:///c%3A/Users/Lenovo/anaconda3/envs/strive2/lib/site-packages/sklearn/impute/_base.py?line=317'>318</a>\u001b[0m \u001b[39m    \"\"\"\u001b[39;00m\n\u001b[1;32m--> <a href='file:///c%3A/Users/Lenovo/anaconda3/envs/strive2/lib/site-packages/sklearn/impute/_base.py?line=318'>319</a>\u001b[0m     X \u001b[39m=\u001b[39m \u001b[39mself\u001b[39;49m\u001b[39m.\u001b[39;49m_validate_input(X, in_fit\u001b[39m=\u001b[39;49m\u001b[39mTrue\u001b[39;49;00m)\n\u001b[0;32m    <a href='file:///c%3A/Users/Lenovo/anaconda3/envs/strive2/lib/site-packages/sklearn/impute/_base.py?line=320'>321</a>\u001b[0m     \u001b[39m# default fill_value is 0 for numerical input and \"missing_value\"\u001b[39;00m\n\u001b[0;32m    <a href='file:///c%3A/Users/Lenovo/anaconda3/envs/strive2/lib/site-packages/sklearn/impute/_base.py?line=321'>322</a>\u001b[0m     \u001b[39m# otherwise\u001b[39;00m\n\u001b[0;32m    <a href='file:///c%3A/Users/Lenovo/anaconda3/envs/strive2/lib/site-packages/sklearn/impute/_base.py?line=322'>323</a>\u001b[0m     \u001b[39mif\u001b[39;00m \u001b[39mself\u001b[39m\u001b[39m.\u001b[39mfill_value \u001b[39mis\u001b[39;00m \u001b[39mNone\u001b[39;00m:\n",
      "File \u001b[1;32m~\\anaconda3\\envs\\strive2\\lib\\site-packages\\sklearn\\impute\\_base.py:285\u001b[0m, in \u001b[0;36mSimpleImputer._validate_input\u001b[1;34m(self, X, in_fit)\u001b[0m\n\u001b[0;32m    <a href='file:///c%3A/Users/Lenovo/anaconda3/envs/strive2/lib/site-packages/sklearn/impute/_base.py?line=278'>279</a>\u001b[0m \u001b[39mif\u001b[39;00m \u001b[39m\"\u001b[39m\u001b[39mcould not convert\u001b[39m\u001b[39m\"\u001b[39m \u001b[39min\u001b[39;00m \u001b[39mstr\u001b[39m(ve):\n\u001b[0;32m    <a href='file:///c%3A/Users/Lenovo/anaconda3/envs/strive2/lib/site-packages/sklearn/impute/_base.py?line=279'>280</a>\u001b[0m     new_ve \u001b[39m=\u001b[39m \u001b[39mValueError\u001b[39;00m(\n\u001b[0;32m    <a href='file:///c%3A/Users/Lenovo/anaconda3/envs/strive2/lib/site-packages/sklearn/impute/_base.py?line=280'>281</a>\u001b[0m         \u001b[39m\"\u001b[39m\u001b[39mCannot use \u001b[39m\u001b[39m{}\u001b[39;00m\u001b[39m strategy with non-numeric data:\u001b[39m\u001b[39m\\n\u001b[39;00m\u001b[39m{}\u001b[39;00m\u001b[39m\"\u001b[39m\u001b[39m.\u001b[39mformat(\n\u001b[0;32m    <a href='file:///c%3A/Users/Lenovo/anaconda3/envs/strive2/lib/site-packages/sklearn/impute/_base.py?line=281'>282</a>\u001b[0m             \u001b[39mself\u001b[39m\u001b[39m.\u001b[39mstrategy, ve\n\u001b[0;32m    <a href='file:///c%3A/Users/Lenovo/anaconda3/envs/strive2/lib/site-packages/sklearn/impute/_base.py?line=282'>283</a>\u001b[0m         )\n\u001b[0;32m    <a href='file:///c%3A/Users/Lenovo/anaconda3/envs/strive2/lib/site-packages/sklearn/impute/_base.py?line=283'>284</a>\u001b[0m     )\n\u001b[1;32m--> <a href='file:///c%3A/Users/Lenovo/anaconda3/envs/strive2/lib/site-packages/sklearn/impute/_base.py?line=284'>285</a>\u001b[0m     \u001b[39mraise\u001b[39;00m new_ve \u001b[39mfrom\u001b[39;00m \u001b[39mNone\u001b[39m\n\u001b[0;32m    <a href='file:///c%3A/Users/Lenovo/anaconda3/envs/strive2/lib/site-packages/sklearn/impute/_base.py?line=285'>286</a>\u001b[0m \u001b[39melse\u001b[39;00m:\n\u001b[0;32m    <a href='file:///c%3A/Users/Lenovo/anaconda3/envs/strive2/lib/site-packages/sklearn/impute/_base.py?line=286'>287</a>\u001b[0m     \u001b[39mraise\u001b[39;00m ve\n",
      "\u001b[1;31mValueError\u001b[0m: Cannot use mean strategy with non-numeric data:\ncould not convert string to float: 'female'"
     ]
    }
   ],
   "source": [
    "train_ratio = 0.8\n",
    "validation_ratio = 0.2\n",
    "x_train, x_val, y_train, y_val = train_test_split(x, y, test_size=0.2, stratify=y, random_state=0)\n",
    "\n",
    "\n",
    "results = pd.DataFrame({'Model': [], 'Accuracy': [], 'Bal Acc.': [], 'Time': []})\n",
    "\n",
    "\n",
    "for model_name, model in tree_classifiers.items():\n",
    "    start_time = time.time()\n",
    "    \n",
    "    # FOR EVERY PIPELINE (PREPRO + MODEL) -> TRAIN WITH TRAIN DATA (x_train)\n",
    "    model.fit(x_train, y_train)\n",
    "\n",
    "    \n",
    "    # GET PREDICTIONS USING x_val\n",
    "    pred = model.predict(x_val)\n",
    "    \n",
    "\n",
    "    total_time = time.time() - start_time\n",
    "\n",
    "    results = results.append({\"Model\":    model_name,\n",
    "                              \"Accuracy\": metrics.accuracy_score(y_val, pred)*100,\n",
    "                              \"Bal Acc.\": metrics.balanced_accuracy_score(y_val, pred)*100,\n",
    "                              \"Time\":     total_time},\n",
    "                              ignore_index=True)\n",
    "                              \n",
    "                              \n",
    "\n",
    "\n",
    "### BEGIN SOLUTION\n",
    "\n",
    "\n",
    "\n",
    "\n",
    "results_ord = results.sort_values(by=['Accuracy'], ascending=False, ignore_index=True)\n",
    "results_ord.index += 1 \n",
    "results_ord.style.bar(subset=['Accuracy', 'Bal Acc.'], vmin=0, vmax=100, color='#5fba7d')"
   ]
  },
  {
   "cell_type": "code",
   "execution_count": 45,
   "metadata": {
    "nbgrader": {
     "grade": true,
     "grade_id": "cell-af27b33fe88ad384",
     "locked": true,
     "points": 3,
     "schema_version": 3,
     "solution": false,
     "task": false
    }
   },
   "outputs": [],
   "source": [
    "assert results_ord[\"Accuracy\"].min() > 75\n",
    "assert results_ord[\"Bal Acc.\"].min() > 75\n",
    "assert len(results_ord) == 9"
   ]
  },
  {
   "cell_type": "markdown",
   "metadata": {},
   "source": [
    "# Exercise 6 (3pts):\n",
    "Define a 10 Fold cross validation strategy with:\n",
    "- With stratification\n",
    "- shuffle=True\n",
    "- random_state=0\n",
    "\n",
    "And train all the models in a for loop.\n",
    "\n",
    "Tip you can use **[cross_val_predict](https://scikit-learn.org/stable/modules/generated/sklearn.model_selection.cross_val_predict.html)** for both training and predict with "
   ]
  },
  {
   "cell_type": "code",
   "execution_count": 183,
   "metadata": {},
   "outputs": [
    {
     "ename": "TypeError",
     "evalue": "Cannot clone object '             Pclass     Sex   Age  SibSp  Parch     Fare Embarked    Title\nPassengerId                                                               \n1                 3    male  22.0      1      0   7.2500        S       Mr\n2                 1  female  38.0      1      0  71.2833        C      Mrs\n3                 3  female  26.0      0      0   7.9250        S     Miss\n4                 1  female  35.0      1      0  53.1000        S      Mrs\n5                 3    male  35.0      0      0   8.0500        S       Mr\n...             ...     ...   ...    ...    ...      ...      ...      ...\n887               2    male  27.0      0      0  13.0000        S  Officer\n888               1  female  19.0      0      0  30.0000        S     Miss\n889               3  female   NaN      1      2  23.4500        S     Miss\n890               1    male  26.0      0      0  30.0000        C       Mr\n891               3    male  32.0      0      0   7.7500        Q       Mr\n\n[891 rows x 8 columns]' (type <class 'pandas.core.frame.DataFrame'>): it does not seem to be a scikit-learn estimator as it does not implement a 'get_params' method.",
     "output_type": "error",
     "traceback": [
      "\u001b[1;31m---------------------------------------------------------------------------\u001b[0m",
      "\u001b[1;31mEmpty\u001b[0m                                     Traceback (most recent call last)",
      "File \u001b[1;32m~\\anaconda3\\envs\\strive2\\lib\\site-packages\\joblib\\parallel.py:827\u001b[0m, in \u001b[0;36mParallel.dispatch_one_batch\u001b[1;34m(self, iterator)\u001b[0m\n\u001b[0;32m    <a href='file:///c%3A/Users/Lenovo/anaconda3/envs/strive2/lib/site-packages/joblib/parallel.py?line=825'>826</a>\u001b[0m \u001b[39mtry\u001b[39;00m:\n\u001b[1;32m--> <a href='file:///c%3A/Users/Lenovo/anaconda3/envs/strive2/lib/site-packages/joblib/parallel.py?line=826'>827</a>\u001b[0m     tasks \u001b[39m=\u001b[39m \u001b[39mself\u001b[39;49m\u001b[39m.\u001b[39;49m_ready_batches\u001b[39m.\u001b[39;49mget(block\u001b[39m=\u001b[39;49m\u001b[39mFalse\u001b[39;49;00m)\n\u001b[0;32m    <a href='file:///c%3A/Users/Lenovo/anaconda3/envs/strive2/lib/site-packages/joblib/parallel.py?line=827'>828</a>\u001b[0m \u001b[39mexcept\u001b[39;00m queue\u001b[39m.\u001b[39mEmpty:\n\u001b[0;32m    <a href='file:///c%3A/Users/Lenovo/anaconda3/envs/strive2/lib/site-packages/joblib/parallel.py?line=828'>829</a>\u001b[0m     \u001b[39m# slice the iterator n_jobs * batchsize items at a time. If the\u001b[39;00m\n\u001b[0;32m    <a href='file:///c%3A/Users/Lenovo/anaconda3/envs/strive2/lib/site-packages/joblib/parallel.py?line=829'>830</a>\u001b[0m     \u001b[39m# slice returns less than that, then the current batchsize puts\u001b[39;00m\n\u001b[1;32m   (...)\u001b[0m\n\u001b[0;32m    <a href='file:///c%3A/Users/Lenovo/anaconda3/envs/strive2/lib/site-packages/joblib/parallel.py?line=832'>833</a>\u001b[0m     \u001b[39m# accordingly to distribute evenly the last items between all\u001b[39;00m\n\u001b[0;32m    <a href='file:///c%3A/Users/Lenovo/anaconda3/envs/strive2/lib/site-packages/joblib/parallel.py?line=833'>834</a>\u001b[0m     \u001b[39m# workers.\u001b[39;00m\n",
      "File \u001b[1;32m~\\anaconda3\\envs\\strive2\\lib\\queue.py:168\u001b[0m, in \u001b[0;36mQueue.get\u001b[1;34m(self, block, timeout)\u001b[0m\n\u001b[0;32m    <a href='file:///c%3A/Users/Lenovo/anaconda3/envs/strive2/lib/queue.py?line=166'>167</a>\u001b[0m     \u001b[39mif\u001b[39;00m \u001b[39mnot\u001b[39;00m \u001b[39mself\u001b[39m\u001b[39m.\u001b[39m_qsize():\n\u001b[1;32m--> <a href='file:///c%3A/Users/Lenovo/anaconda3/envs/strive2/lib/queue.py?line=167'>168</a>\u001b[0m         \u001b[39mraise\u001b[39;00m Empty\n\u001b[0;32m    <a href='file:///c%3A/Users/Lenovo/anaconda3/envs/strive2/lib/queue.py?line=168'>169</a>\u001b[0m \u001b[39melif\u001b[39;00m timeout \u001b[39mis\u001b[39;00m \u001b[39mNone\u001b[39;00m:\n",
      "\u001b[1;31mEmpty\u001b[0m: ",
      "\nDuring handling of the above exception, another exception occurred:\n",
      "\u001b[1;31mTypeError\u001b[0m                                 Traceback (most recent call last)",
      "\u001b[1;32mc:\\Users\\Lenovo\\OneDrive\\Documents\\Strive repos\\strive_practice\\08. Robust ML\\fe1_.ipynb Cell 38'\u001b[0m in \u001b[0;36m<cell line: 12>\u001b[1;34m()\u001b[0m\n\u001b[0;32m     <a href='vscode-notebook-cell:/c%3A/Users/Lenovo/OneDrive/Documents/Strive%20repos/strive_practice/08.%20Robust%20ML/fe1_.ipynb#ch0000050?line=12'>13</a>\u001b[0m start_time \u001b[39m=\u001b[39m time\u001b[39m.\u001b[39mtime()\n\u001b[0;32m     <a href='vscode-notebook-cell:/c%3A/Users/Lenovo/OneDrive/Documents/Strive%20repos/strive_practice/08.%20Robust%20ML/fe1_.ipynb#ch0000050?line=14'>15</a>\u001b[0m \u001b[39m# TRAIN AND GET PREDICTIONS USING cross_val_predict() and x,y\u001b[39;00m\n\u001b[1;32m---> <a href='vscode-notebook-cell:/c%3A/Users/Lenovo/OneDrive/Documents/Strive%20repos/strive_practice/08.%20Robust%20ML/fe1_.ipynb#ch0000050?line=16'>17</a>\u001b[0m pred \u001b[39m=\u001b[39m model_selection\u001b[39m.\u001b[39;49mcross_val_predict(x, y)\n\u001b[0;32m     <a href='vscode-notebook-cell:/c%3A/Users/Lenovo/OneDrive/Documents/Strive%20repos/strive_practice/08.%20Robust%20ML/fe1_.ipynb#ch0000050?line=18'>19</a>\u001b[0m total_time \u001b[39m=\u001b[39m time\u001b[39m.\u001b[39mtime() \u001b[39m-\u001b[39m start_time\n\u001b[0;32m     <a href='vscode-notebook-cell:/c%3A/Users/Lenovo/OneDrive/Documents/Strive%20repos/strive_practice/08.%20Robust%20ML/fe1_.ipynb#ch0000050?line=20'>21</a>\u001b[0m results \u001b[39m=\u001b[39m results\u001b[39m.\u001b[39mappend({\u001b[39m\"\u001b[39m\u001b[39mModel\u001b[39m\u001b[39m\"\u001b[39m:    model_name,\n\u001b[0;32m     <a href='vscode-notebook-cell:/c%3A/Users/Lenovo/OneDrive/Documents/Strive%20repos/strive_practice/08.%20Robust%20ML/fe1_.ipynb#ch0000050?line=21'>22</a>\u001b[0m                           \u001b[39m\"\u001b[39m\u001b[39mAccuracy\u001b[39m\u001b[39m\"\u001b[39m: metrics\u001b[39m.\u001b[39maccuracy_score(y_val, pred)\u001b[39m*\u001b[39m\u001b[39m100\u001b[39m,\n\u001b[0;32m     <a href='vscode-notebook-cell:/c%3A/Users/Lenovo/OneDrive/Documents/Strive%20repos/strive_practice/08.%20Robust%20ML/fe1_.ipynb#ch0000050?line=22'>23</a>\u001b[0m                           \u001b[39m\"\u001b[39m\u001b[39mBal Acc.\u001b[39m\u001b[39m\"\u001b[39m: metrics\u001b[39m.\u001b[39mbalanced_accuracy_score(y_val, pred)\u001b[39m*\u001b[39m\u001b[39m100\u001b[39m,\n\u001b[0;32m     <a href='vscode-notebook-cell:/c%3A/Users/Lenovo/OneDrive/Documents/Strive%20repos/strive_practice/08.%20Robust%20ML/fe1_.ipynb#ch0000050?line=23'>24</a>\u001b[0m                           \u001b[39m\"\u001b[39m\u001b[39mTime\u001b[39m\u001b[39m\"\u001b[39m:     total_time},\n\u001b[0;32m     <a href='vscode-notebook-cell:/c%3A/Users/Lenovo/OneDrive/Documents/Strive%20repos/strive_practice/08.%20Robust%20ML/fe1_.ipynb#ch0000050?line=24'>25</a>\u001b[0m                           ignore_index\u001b[39m=\u001b[39m\u001b[39mTrue\u001b[39;00m)\n",
      "File \u001b[1;32m~\\anaconda3\\envs\\strive2\\lib\\site-packages\\sklearn\\model_selection\\_validation.py:962\u001b[0m, in \u001b[0;36mcross_val_predict\u001b[1;34m(estimator, X, y, groups, cv, n_jobs, verbose, fit_params, pre_dispatch, method)\u001b[0m\n\u001b[0;32m    <a href='file:///c%3A/Users/Lenovo/anaconda3/envs/strive2/lib/site-packages/sklearn/model_selection/_validation.py?line=958'>959</a>\u001b[0m \u001b[39m# We clone the estimator to make sure that all the folds are\u001b[39;00m\n\u001b[0;32m    <a href='file:///c%3A/Users/Lenovo/anaconda3/envs/strive2/lib/site-packages/sklearn/model_selection/_validation.py?line=959'>960</a>\u001b[0m \u001b[39m# independent, and that it is pickle-able.\u001b[39;00m\n\u001b[0;32m    <a href='file:///c%3A/Users/Lenovo/anaconda3/envs/strive2/lib/site-packages/sklearn/model_selection/_validation.py?line=960'>961</a>\u001b[0m parallel \u001b[39m=\u001b[39m Parallel(n_jobs\u001b[39m=\u001b[39mn_jobs, verbose\u001b[39m=\u001b[39mverbose, pre_dispatch\u001b[39m=\u001b[39mpre_dispatch)\n\u001b[1;32m--> <a href='file:///c%3A/Users/Lenovo/anaconda3/envs/strive2/lib/site-packages/sklearn/model_selection/_validation.py?line=961'>962</a>\u001b[0m predictions \u001b[39m=\u001b[39m parallel(\n\u001b[0;32m    <a href='file:///c%3A/Users/Lenovo/anaconda3/envs/strive2/lib/site-packages/sklearn/model_selection/_validation.py?line=962'>963</a>\u001b[0m     delayed(_fit_and_predict)(\n\u001b[0;32m    <a href='file:///c%3A/Users/Lenovo/anaconda3/envs/strive2/lib/site-packages/sklearn/model_selection/_validation.py?line=963'>964</a>\u001b[0m         clone(estimator), X, y, train, test, verbose, fit_params, method\n\u001b[0;32m    <a href='file:///c%3A/Users/Lenovo/anaconda3/envs/strive2/lib/site-packages/sklearn/model_selection/_validation.py?line=964'>965</a>\u001b[0m     )\n\u001b[0;32m    <a href='file:///c%3A/Users/Lenovo/anaconda3/envs/strive2/lib/site-packages/sklearn/model_selection/_validation.py?line=965'>966</a>\u001b[0m     \u001b[39mfor\u001b[39;49;00m train, test \u001b[39min\u001b[39;49;00m splits\n\u001b[0;32m    <a href='file:///c%3A/Users/Lenovo/anaconda3/envs/strive2/lib/site-packages/sklearn/model_selection/_validation.py?line=966'>967</a>\u001b[0m )\n\u001b[0;32m    <a href='file:///c%3A/Users/Lenovo/anaconda3/envs/strive2/lib/site-packages/sklearn/model_selection/_validation.py?line=968'>969</a>\u001b[0m inv_test_indices \u001b[39m=\u001b[39m np\u001b[39m.\u001b[39mempty(\u001b[39mlen\u001b[39m(test_indices), dtype\u001b[39m=\u001b[39m\u001b[39mint\u001b[39m)\n\u001b[0;32m    <a href='file:///c%3A/Users/Lenovo/anaconda3/envs/strive2/lib/site-packages/sklearn/model_selection/_validation.py?line=969'>970</a>\u001b[0m inv_test_indices[test_indices] \u001b[39m=\u001b[39m np\u001b[39m.\u001b[39marange(\u001b[39mlen\u001b[39m(test_indices))\n",
      "File \u001b[1;32m~\\anaconda3\\envs\\strive2\\lib\\site-packages\\joblib\\parallel.py:1048\u001b[0m, in \u001b[0;36mParallel.__call__\u001b[1;34m(self, iterable)\u001b[0m\n\u001b[0;32m   <a href='file:///c%3A/Users/Lenovo/anaconda3/envs/strive2/lib/site-packages/joblib/parallel.py?line=1038'>1039</a>\u001b[0m \u001b[39mtry\u001b[39;00m:\n\u001b[0;32m   <a href='file:///c%3A/Users/Lenovo/anaconda3/envs/strive2/lib/site-packages/joblib/parallel.py?line=1039'>1040</a>\u001b[0m     \u001b[39m# Only set self._iterating to True if at least a batch\u001b[39;00m\n\u001b[0;32m   <a href='file:///c%3A/Users/Lenovo/anaconda3/envs/strive2/lib/site-packages/joblib/parallel.py?line=1040'>1041</a>\u001b[0m     \u001b[39m# was dispatched. In particular this covers the edge\u001b[39;00m\n\u001b[1;32m   (...)\u001b[0m\n\u001b[0;32m   <a href='file:///c%3A/Users/Lenovo/anaconda3/envs/strive2/lib/site-packages/joblib/parallel.py?line=1044'>1045</a>\u001b[0m     \u001b[39m# was very quick and its callback already dispatched all the\u001b[39;00m\n\u001b[0;32m   <a href='file:///c%3A/Users/Lenovo/anaconda3/envs/strive2/lib/site-packages/joblib/parallel.py?line=1045'>1046</a>\u001b[0m     \u001b[39m# remaining jobs.\u001b[39;00m\n\u001b[0;32m   <a href='file:///c%3A/Users/Lenovo/anaconda3/envs/strive2/lib/site-packages/joblib/parallel.py?line=1046'>1047</a>\u001b[0m     \u001b[39mself\u001b[39m\u001b[39m.\u001b[39m_iterating \u001b[39m=\u001b[39m \u001b[39mFalse\u001b[39;00m\n\u001b[1;32m-> <a href='file:///c%3A/Users/Lenovo/anaconda3/envs/strive2/lib/site-packages/joblib/parallel.py?line=1047'>1048</a>\u001b[0m     \u001b[39mif\u001b[39;00m \u001b[39mself\u001b[39;49m\u001b[39m.\u001b[39;49mdispatch_one_batch(iterator):\n\u001b[0;32m   <a href='file:///c%3A/Users/Lenovo/anaconda3/envs/strive2/lib/site-packages/joblib/parallel.py?line=1048'>1049</a>\u001b[0m         \u001b[39mself\u001b[39m\u001b[39m.\u001b[39m_iterating \u001b[39m=\u001b[39m \u001b[39mself\u001b[39m\u001b[39m.\u001b[39m_original_iterator \u001b[39mis\u001b[39;00m \u001b[39mnot\u001b[39;00m \u001b[39mNone\u001b[39;00m\n\u001b[0;32m   <a href='file:///c%3A/Users/Lenovo/anaconda3/envs/strive2/lib/site-packages/joblib/parallel.py?line=1050'>1051</a>\u001b[0m     \u001b[39mwhile\u001b[39;00m \u001b[39mself\u001b[39m\u001b[39m.\u001b[39mdispatch_one_batch(iterator):\n",
      "File \u001b[1;32m~\\anaconda3\\envs\\strive2\\lib\\site-packages\\joblib\\parallel.py:838\u001b[0m, in \u001b[0;36mParallel.dispatch_one_batch\u001b[1;34m(self, iterator)\u001b[0m\n\u001b[0;32m    <a href='file:///c%3A/Users/Lenovo/anaconda3/envs/strive2/lib/site-packages/joblib/parallel.py?line=834'>835</a>\u001b[0m n_jobs \u001b[39m=\u001b[39m \u001b[39mself\u001b[39m\u001b[39m.\u001b[39m_cached_effective_n_jobs\n\u001b[0;32m    <a href='file:///c%3A/Users/Lenovo/anaconda3/envs/strive2/lib/site-packages/joblib/parallel.py?line=835'>836</a>\u001b[0m big_batch_size \u001b[39m=\u001b[39m batch_size \u001b[39m*\u001b[39m n_jobs\n\u001b[1;32m--> <a href='file:///c%3A/Users/Lenovo/anaconda3/envs/strive2/lib/site-packages/joblib/parallel.py?line=837'>838</a>\u001b[0m islice \u001b[39m=\u001b[39m \u001b[39mlist\u001b[39;49m(itertools\u001b[39m.\u001b[39;49mislice(iterator, big_batch_size))\n\u001b[0;32m    <a href='file:///c%3A/Users/Lenovo/anaconda3/envs/strive2/lib/site-packages/joblib/parallel.py?line=838'>839</a>\u001b[0m \u001b[39mif\u001b[39;00m \u001b[39mlen\u001b[39m(islice) \u001b[39m==\u001b[39m \u001b[39m0\u001b[39m:\n\u001b[0;32m    <a href='file:///c%3A/Users/Lenovo/anaconda3/envs/strive2/lib/site-packages/joblib/parallel.py?line=839'>840</a>\u001b[0m     \u001b[39mreturn\u001b[39;00m \u001b[39mFalse\u001b[39;00m\n",
      "File \u001b[1;32m~\\anaconda3\\envs\\strive2\\lib\\site-packages\\sklearn\\model_selection\\_validation.py:964\u001b[0m, in \u001b[0;36m<genexpr>\u001b[1;34m(.0)\u001b[0m\n\u001b[0;32m    <a href='file:///c%3A/Users/Lenovo/anaconda3/envs/strive2/lib/site-packages/sklearn/model_selection/_validation.py?line=958'>959</a>\u001b[0m \u001b[39m# We clone the estimator to make sure that all the folds are\u001b[39;00m\n\u001b[0;32m    <a href='file:///c%3A/Users/Lenovo/anaconda3/envs/strive2/lib/site-packages/sklearn/model_selection/_validation.py?line=959'>960</a>\u001b[0m \u001b[39m# independent, and that it is pickle-able.\u001b[39;00m\n\u001b[0;32m    <a href='file:///c%3A/Users/Lenovo/anaconda3/envs/strive2/lib/site-packages/sklearn/model_selection/_validation.py?line=960'>961</a>\u001b[0m parallel \u001b[39m=\u001b[39m Parallel(n_jobs\u001b[39m=\u001b[39mn_jobs, verbose\u001b[39m=\u001b[39mverbose, pre_dispatch\u001b[39m=\u001b[39mpre_dispatch)\n\u001b[0;32m    <a href='file:///c%3A/Users/Lenovo/anaconda3/envs/strive2/lib/site-packages/sklearn/model_selection/_validation.py?line=961'>962</a>\u001b[0m predictions \u001b[39m=\u001b[39m parallel(\n\u001b[0;32m    <a href='file:///c%3A/Users/Lenovo/anaconda3/envs/strive2/lib/site-packages/sklearn/model_selection/_validation.py?line=962'>963</a>\u001b[0m     delayed(_fit_and_predict)(\n\u001b[1;32m--> <a href='file:///c%3A/Users/Lenovo/anaconda3/envs/strive2/lib/site-packages/sklearn/model_selection/_validation.py?line=963'>964</a>\u001b[0m         clone(estimator), X, y, train, test, verbose, fit_params, method\n\u001b[0;32m    <a href='file:///c%3A/Users/Lenovo/anaconda3/envs/strive2/lib/site-packages/sklearn/model_selection/_validation.py?line=964'>965</a>\u001b[0m     )\n\u001b[0;32m    <a href='file:///c%3A/Users/Lenovo/anaconda3/envs/strive2/lib/site-packages/sklearn/model_selection/_validation.py?line=965'>966</a>\u001b[0m     \u001b[39mfor\u001b[39;00m train, test \u001b[39min\u001b[39;00m splits\n\u001b[0;32m    <a href='file:///c%3A/Users/Lenovo/anaconda3/envs/strive2/lib/site-packages/sklearn/model_selection/_validation.py?line=966'>967</a>\u001b[0m )\n\u001b[0;32m    <a href='file:///c%3A/Users/Lenovo/anaconda3/envs/strive2/lib/site-packages/sklearn/model_selection/_validation.py?line=968'>969</a>\u001b[0m inv_test_indices \u001b[39m=\u001b[39m np\u001b[39m.\u001b[39mempty(\u001b[39mlen\u001b[39m(test_indices), dtype\u001b[39m=\u001b[39m\u001b[39mint\u001b[39m)\n\u001b[0;32m    <a href='file:///c%3A/Users/Lenovo/anaconda3/envs/strive2/lib/site-packages/sklearn/model_selection/_validation.py?line=969'>970</a>\u001b[0m inv_test_indices[test_indices] \u001b[39m=\u001b[39m np\u001b[39m.\u001b[39marange(\u001b[39mlen\u001b[39m(test_indices))\n",
      "File \u001b[1;32m~\\anaconda3\\envs\\strive2\\lib\\site-packages\\sklearn\\base.py:76\u001b[0m, in \u001b[0;36mclone\u001b[1;34m(estimator, safe)\u001b[0m\n\u001b[0;32m     <a href='file:///c%3A/Users/Lenovo/anaconda3/envs/strive2/lib/site-packages/sklearn/base.py?line=69'>70</a>\u001b[0m             \u001b[39mraise\u001b[39;00m \u001b[39mTypeError\u001b[39;00m(\n\u001b[0;32m     <a href='file:///c%3A/Users/Lenovo/anaconda3/envs/strive2/lib/site-packages/sklearn/base.py?line=70'>71</a>\u001b[0m                 \u001b[39m\"\u001b[39m\u001b[39mCannot clone object. \u001b[39m\u001b[39m\"\u001b[39m\n\u001b[0;32m     <a href='file:///c%3A/Users/Lenovo/anaconda3/envs/strive2/lib/site-packages/sklearn/base.py?line=71'>72</a>\u001b[0m                 \u001b[39m+\u001b[39m \u001b[39m\"\u001b[39m\u001b[39mYou should provide an instance of \u001b[39m\u001b[39m\"\u001b[39m\n\u001b[0;32m     <a href='file:///c%3A/Users/Lenovo/anaconda3/envs/strive2/lib/site-packages/sklearn/base.py?line=72'>73</a>\u001b[0m                 \u001b[39m+\u001b[39m \u001b[39m\"\u001b[39m\u001b[39mscikit-learn estimator instead of a class.\u001b[39m\u001b[39m\"\u001b[39m\n\u001b[0;32m     <a href='file:///c%3A/Users/Lenovo/anaconda3/envs/strive2/lib/site-packages/sklearn/base.py?line=73'>74</a>\u001b[0m             )\n\u001b[0;32m     <a href='file:///c%3A/Users/Lenovo/anaconda3/envs/strive2/lib/site-packages/sklearn/base.py?line=74'>75</a>\u001b[0m         \u001b[39melse\u001b[39;00m:\n\u001b[1;32m---> <a href='file:///c%3A/Users/Lenovo/anaconda3/envs/strive2/lib/site-packages/sklearn/base.py?line=75'>76</a>\u001b[0m             \u001b[39mraise\u001b[39;00m \u001b[39mTypeError\u001b[39;00m(\n\u001b[0;32m     <a href='file:///c%3A/Users/Lenovo/anaconda3/envs/strive2/lib/site-packages/sklearn/base.py?line=76'>77</a>\u001b[0m                 \u001b[39m\"\u001b[39m\u001b[39mCannot clone object \u001b[39m\u001b[39m'\u001b[39m\u001b[39m%s\u001b[39;00m\u001b[39m'\u001b[39m\u001b[39m (type \u001b[39m\u001b[39m%s\u001b[39;00m\u001b[39m): \u001b[39m\u001b[39m\"\u001b[39m\n\u001b[0;32m     <a href='file:///c%3A/Users/Lenovo/anaconda3/envs/strive2/lib/site-packages/sklearn/base.py?line=77'>78</a>\u001b[0m                 \u001b[39m\"\u001b[39m\u001b[39mit does not seem to be a scikit-learn \u001b[39m\u001b[39m\"\u001b[39m\n\u001b[0;32m     <a href='file:///c%3A/Users/Lenovo/anaconda3/envs/strive2/lib/site-packages/sklearn/base.py?line=78'>79</a>\u001b[0m                 \u001b[39m\"\u001b[39m\u001b[39mestimator as it does not implement a \u001b[39m\u001b[39m\"\u001b[39m\n\u001b[0;32m     <a href='file:///c%3A/Users/Lenovo/anaconda3/envs/strive2/lib/site-packages/sklearn/base.py?line=79'>80</a>\u001b[0m                 \u001b[39m\"\u001b[39m\u001b[39m'\u001b[39m\u001b[39mget_params\u001b[39m\u001b[39m'\u001b[39m\u001b[39m method.\u001b[39m\u001b[39m\"\u001b[39m \u001b[39m%\u001b[39m (\u001b[39mrepr\u001b[39m(estimator), \u001b[39mtype\u001b[39m(estimator))\n\u001b[0;32m     <a href='file:///c%3A/Users/Lenovo/anaconda3/envs/strive2/lib/site-packages/sklearn/base.py?line=80'>81</a>\u001b[0m             )\n\u001b[0;32m     <a href='file:///c%3A/Users/Lenovo/anaconda3/envs/strive2/lib/site-packages/sklearn/base.py?line=82'>83</a>\u001b[0m klass \u001b[39m=\u001b[39m estimator\u001b[39m.\u001b[39m\u001b[39m__class__\u001b[39m\n\u001b[0;32m     <a href='file:///c%3A/Users/Lenovo/anaconda3/envs/strive2/lib/site-packages/sklearn/base.py?line=83'>84</a>\u001b[0m new_object_params \u001b[39m=\u001b[39m estimator\u001b[39m.\u001b[39mget_params(deep\u001b[39m=\u001b[39m\u001b[39mFalse\u001b[39;00m)\n",
      "\u001b[1;31mTypeError\u001b[0m: Cannot clone object '             Pclass     Sex   Age  SibSp  Parch     Fare Embarked    Title\nPassengerId                                                               \n1                 3    male  22.0      1      0   7.2500        S       Mr\n2                 1  female  38.0      1      0  71.2833        C      Mrs\n3                 3  female  26.0      0      0   7.9250        S     Miss\n4                 1  female  35.0      1      0  53.1000        S      Mrs\n5                 3    male  35.0      0      0   8.0500        S       Mr\n...             ...     ...   ...    ...    ...      ...      ...      ...\n887               2    male  27.0      0      0  13.0000        S  Officer\n888               1  female  19.0      0      0  30.0000        S     Miss\n889               3  female   NaN      1      2  23.4500        S     Miss\n890               1    male  26.0      0      0  30.0000        C       Mr\n891               3    male  32.0      0      0   7.7500        Q       Mr\n\n[891 rows x 8 columns]' (type <class 'pandas.core.frame.DataFrame'>): it does not seem to be a scikit-learn estimator as it does not implement a 'get_params' method."
     ]
    }
   ],
   "source": [
    "\"\"\"\n",
    "skf = model_selection.StratifiedKFold(\n",
    "    # CODE HERE\n",
    ")\n",
    "\"\"\"\n",
    "skf = model_selection.StratifiedKFold(shuffle=True, random_state=0).split(x, y)\n",
    "\n",
    "\n",
    "results = pd.DataFrame({'Model': [], 'Accuracy': [], 'Bal Acc.': [], 'Time': []})\n",
    "\n",
    "\n",
    "for model_name, model in tree_classifiers.items():\n",
    "    start_time = time.time()\n",
    "        \n",
    "    # TRAIN AND GET PREDICTIONS USING cross_val_predict() and x,y\n",
    "    \n",
    "    pred = model_selection.cross_val_predict(x, y)\n",
    "\n",
    "    total_time = time.time() - start_time\n",
    "\n",
    "    results = results.append({\"Model\":    model_name,\n",
    "                              \"Accuracy\": metrics.accuracy_score(y_val, pred)*100,\n",
    "                              \"Bal Acc.\": metrics.balanced_accuracy_score(y_val, pred)*100,\n",
    "                              \"Time\":     total_time},\n",
    "                              ignore_index=True)\n",
    "                              \n",
    "                              \n",
    "\n",
    "\n",
    "\n",
    "results_ord = results.sort_values(by=['Accuracy'], ascending=False, ignore_index=True)\n",
    "results_ord.index += 1 \n",
    "results_ord.style.bar(subset=['Accuracy', 'Bal Acc.'], vmin=0, vmax=100, color='#5fba7d')"
   ]
  },
  {
   "cell_type": "code",
   "execution_count": 46,
   "metadata": {
    "nbgrader": {
     "grade": false,
     "grade_id": "cell-37bf16dc25b43732",
     "locked": false,
     "schema_version": 3,
     "solution": true,
     "task": false
    },
    "scrolled": true,
    "tags": [
     "outputPrepend"
    ]
   },
   "outputs": [
    {
     "name": "stderr",
     "output_type": "stream",
     "text": [
      "ms\tremaining: 190ms\n",
      "20:\tlearn: 0.4379520\ttotal: 48.4ms\tremaining: 182ms\n",
      "21:\tlearn: 0.4337524\ttotal: 49.1ms\tremaining: 174ms\n",
      "22:\tlearn: 0.4304046\ttotal: 49.7ms\tremaining: 166ms\n",
      "23:\tlearn: 0.4268015\ttotal: 50.7ms\tremaining: 160ms\n",
      "24:\tlearn: 0.4234316\ttotal: 51.7ms\tremaining: 155ms\n",
      "25:\tlearn: 0.4199055\ttotal: 52.7ms\tremaining: 150ms\n",
      "26:\tlearn: 0.4162630\ttotal: 53.6ms\tremaining: 145ms\n",
      "27:\tlearn: 0.4137693\ttotal: 54.3ms\tremaining: 140ms\n",
      "28:\tlearn: 0.4119374\ttotal: 55.2ms\tremaining: 135ms\n",
      "29:\tlearn: 0.4097722\ttotal: 56ms\tremaining: 131ms\n",
      "30:\tlearn: 0.4074941\ttotal: 56.9ms\tremaining: 127ms\n",
      "31:\tlearn: 0.4055535\ttotal: 57.8ms\tremaining: 123ms\n",
      "32:\tlearn: 0.4033087\ttotal: 58.8ms\tremaining: 119ms\n",
      "33:\tlearn: 0.4012196\ttotal: 59.7ms\tremaining: 116ms\n",
      "34:\tlearn: 0.3991772\ttotal: 60.6ms\tremaining: 113ms\n",
      "35:\tlearn: 0.3972488\ttotal: 61.5ms\tremaining: 109ms\n",
      "36:\tlearn: 0.3961493\ttotal: 62.4ms\tremaining: 106ms\n",
      "37:\tlearn: 0.3944826\ttotal: 63.3ms\tremaining: 103ms\n",
      "38:\tlearn: 0.3928820\ttotal: 64.3ms\tremaining: 101ms\n",
      "39:\tlearn: 0.3912769\ttotal: 65.2ms\tremaining: 97.8ms\n",
      "40:\tlearn: 0.3896937\ttotal: 66.1ms\tremaining: 95.1ms\n",
      "41:\tlearn: 0.3879917\ttotal: 67ms\tremaining: 92.5ms\n",
      "42:\tlearn: 0.3875442\ttotal: 67.3ms\tremaining: 89.3ms\n",
      "43:\tlearn: 0.3868660\ttotal: 68.2ms\tremaining: 86.8ms\n",
      "44:\tlearn: 0.3859336\ttotal: 69.1ms\tremaining: 84.5ms\n",
      "45:\tlearn: 0.3851891\ttotal: 70.2ms\tremaining: 82.4ms\n",
      "46:\tlearn: 0.3842449\ttotal: 71.1ms\tremaining: 80.2ms\n",
      "47:\tlearn: 0.3833089\ttotal: 72ms\tremaining: 78ms\n",
      "48:\tlearn: 0.3824549\ttotal: 73.3ms\tremaining: 76.3ms\n",
      "49:\tlearn: 0.3813960\ttotal: 74ms\tremaining: 74ms\n",
      "50:\tlearn: 0.3805620\ttotal: 74.9ms\tremaining: 72ms\n",
      "51:\tlearn: 0.3800199\ttotal: 75.5ms\tremaining: 69.7ms\n",
      "52:\tlearn: 0.3791736\ttotal: 76.5ms\tremaining: 67.8ms\n",
      "53:\tlearn: 0.3783466\ttotal: 77.4ms\tremaining: 65.9ms\n",
      "54:\tlearn: 0.3771890\ttotal: 78.3ms\tremaining: 64.1ms\n",
      "55:\tlearn: 0.3766600\ttotal: 79.2ms\tremaining: 62.3ms\n",
      "56:\tlearn: 0.3760883\ttotal: 80.1ms\tremaining: 60.5ms\n",
      "57:\tlearn: 0.3749525\ttotal: 81ms\tremaining: 58.7ms\n",
      "58:\tlearn: 0.3741758\ttotal: 82.1ms\tremaining: 57.1ms\n",
      "59:\tlearn: 0.3732669\ttotal: 83.1ms\tremaining: 55.4ms\n",
      "60:\tlearn: 0.3722816\ttotal: 84.1ms\tremaining: 53.8ms\n",
      "61:\tlearn: 0.3715193\ttotal: 85ms\tremaining: 52.1ms\n",
      "62:\tlearn: 0.3706813\ttotal: 85.9ms\tremaining: 50.5ms\n",
      "63:\tlearn: 0.3699717\ttotal: 86.9ms\tremaining: 48.9ms\n",
      "64:\tlearn: 0.3690821\ttotal: 88ms\tremaining: 47.4ms\n",
      "65:\tlearn: 0.3682106\ttotal: 89.2ms\tremaining: 46ms\n",
      "66:\tlearn: 0.3677131\ttotal: 90.1ms\tremaining: 44.4ms\n",
      "67:\tlearn: 0.3668377\ttotal: 91ms\tremaining: 42.8ms\n",
      "68:\tlearn: 0.3657685\ttotal: 91.9ms\tremaining: 41.3ms\n",
      "69:\tlearn: 0.3650544\ttotal: 92.8ms\tremaining: 39.8ms\n",
      "70:\tlearn: 0.3643853\ttotal: 93.7ms\tremaining: 38.3ms\n",
      "71:\tlearn: 0.3638582\ttotal: 94.8ms\tremaining: 36.9ms\n",
      "72:\tlearn: 0.3633064\ttotal: 95.7ms\tremaining: 35.4ms\n",
      "73:\tlearn: 0.3626485\ttotal: 96.6ms\tremaining: 34ms\n",
      "74:\tlearn: 0.3622217\ttotal: 97.5ms\tremaining: 32.5ms\n",
      "75:\tlearn: 0.3618840\ttotal: 98.3ms\tremaining: 31ms\n",
      "76:\tlearn: 0.3614554\ttotal: 99.1ms\tremaining: 29.6ms\n",
      "77:\tlearn: 0.3607552\ttotal: 100ms\tremaining: 28.2ms\n",
      "78:\tlearn: 0.3601870\ttotal: 101ms\tremaining: 26.9ms\n",
      "79:\tlearn: 0.3596629\ttotal: 102ms\tremaining: 25.5ms\n",
      "80:\tlearn: 0.3591310\ttotal: 103ms\tremaining: 24.1ms\n",
      "81:\tlearn: 0.3581503\ttotal: 104ms\tremaining: 22.8ms\n",
      "82:\tlearn: 0.3581043\ttotal: 104ms\tremaining: 21.3ms\n",
      "83:\tlearn: 0.3577958\ttotal: 105ms\tremaining: 20ms\n",
      "84:\tlearn: 0.3575690\ttotal: 106ms\tremaining: 18.7ms\n",
      "85:\tlearn: 0.3571328\ttotal: 107ms\tremaining: 17.4ms\n",
      "86:\tlearn: 0.3566626\ttotal: 108ms\tremaining: 16.1ms\n",
      "87:\tlearn: 0.3566047\ttotal: 108ms\tremaining: 14.7ms\n",
      "88:\tlearn: 0.3561147\ttotal: 109ms\tremaining: 13.5ms\n",
      "89:\tlearn: 0.3554312\ttotal: 110ms\tremaining: 12.2ms\n",
      "90:\tlearn: 0.3552164\ttotal: 111ms\tremaining: 10.9ms\n",
      "91:\tlearn: 0.3548224\ttotal: 111ms\tremaining: 9.69ms\n",
      "92:\tlearn: 0.3541306\ttotal: 112ms\tremaining: 8.46ms\n",
      "93:\tlearn: 0.3533702\ttotal: 113ms\tremaining: 7.24ms\n",
      "94:\tlearn: 0.3525723\ttotal: 114ms\tremaining: 6.02ms\n",
      "95:\tlearn: 0.3520421\ttotal: 115ms\tremaining: 4.8ms\n",
      "96:\tlearn: 0.3518523\ttotal: 116ms\tremaining: 3.59ms\n",
      "97:\tlearn: 0.3511069\ttotal: 117ms\tremaining: 2.39ms\n",
      "98:\tlearn: 0.3506882\ttotal: 118ms\tremaining: 1.19ms\n",
      "99:\tlearn: 0.3502745\ttotal: 119ms\tremaining: 0us\n",
      "Learning rate set to 0.077449\n",
      "0:\tlearn: 0.6681700\ttotal: 368us\tremaining: 36.5ms\n",
      "1:\tlearn: 0.6453214\ttotal: 1.42ms\tremaining: 69.8ms\n",
      "2:\tlearn: 0.6239057\ttotal: 2.39ms\tremaining: 77.3ms\n",
      "3:\tlearn: 0.6058621\ttotal: 2.97ms\tremaining: 71.3ms\n",
      "4:\tlearn: 0.5915812\ttotal: 3.35ms\tremaining: 63.7ms\n",
      "5:\tlearn: 0.5738311\ttotal: 4.05ms\tremaining: 63.4ms\n",
      "6:\tlearn: 0.5592978\ttotal: 4.97ms\tremaining: 66ms\n",
      "7:\tlearn: 0.5465018\ttotal: 5.87ms\tremaining: 67.5ms\n",
      "8:\tlearn: 0.5333130\ttotal: 6.71ms\tremaining: 67.8ms\n",
      "9:\tlearn: 0.5215385\ttotal: 7.59ms\tremaining: 68.4ms\n",
      "10:\tlearn: 0.5119954\ttotal: 8.52ms\tremaining: 69ms\n",
      "11:\tlearn: 0.5024708\ttotal: 9.49ms\tremaining: 69.6ms\n",
      "12:\tlearn: 0.4950629\ttotal: 10.4ms\tremaining: 69.8ms\n",
      "13:\tlearn: 0.4868877\ttotal: 11.3ms\tremaining: 69.6ms\n",
      "14:\tlearn: 0.4796885\ttotal: 12.3ms\tremaining: 69.8ms\n",
      "15:\tlearn: 0.4728423\ttotal: 13.2ms\tremaining: 69.1ms\n",
      "16:\tlearn: 0.4666498\ttotal: 14ms\tremaining: 68.3ms\n",
      "17:\tlearn: 0.4614822\ttotal: 14.9ms\tremaining: 68ms\n",
      "18:\tlearn: 0.4562264\ttotal: 16ms\tremaining: 68.3ms\n",
      "19:\tlearn: 0.4519265\ttotal: 17.1ms\tremaining: 68.4ms\n",
      "20:\tlearn: 0.4495937\ttotal: 18ms\tremaining: 67.7ms\n",
      "21:\tlearn: 0.4450086\ttotal: 18.9ms\tremaining: 66.9ms\n",
      "22:\tlearn: 0.4417306\ttotal: 19.5ms\tremaining: 65.3ms\n",
      "23:\tlearn: 0.4378110\ttotal: 20.4ms\tremaining: 64.5ms\n",
      "24:\tlearn: 0.4349696\ttotal: 21.3ms\tremaining: 63.8ms\n",
      "25:\tlearn: 0.4323819\ttotal: 22.2ms\tremaining: 63.2ms\n",
      "26:\tlearn: 0.4295865\ttotal: 23.1ms\tremaining: 62.6ms\n",
      "27:\tlearn: 0.4270657\ttotal: 24.1ms\tremaining: 62ms\n",
      "28:\tlearn: 0.4244475\ttotal: 25ms\tremaining: 61.3ms\n",
      "29:\tlearn: 0.4236726\ttotal: 25.3ms\tremaining: 59.1ms\n",
      "30:\tlearn: 0.4214266\ttotal: 26.2ms\tremaining: 58.3ms\n",
      "31:\tlearn: 0.4189632\ttotal: 27.1ms\tremaining: 57.6ms\n",
      "32:\tlearn: 0.4169722\ttotal: 28.1ms\tremaining: 57ms\n",
      "33:\tlearn: 0.4157245\ttotal: 29ms\tremaining: 56.3ms\n",
      "34:\tlearn: 0.4143646\ttotal: 30ms\tremaining: 55.7ms\n",
      "35:\tlearn: 0.4126238\ttotal: 31ms\tremaining: 55.1ms\n",
      "36:\tlearn: 0.4105712\ttotal: 31.9ms\tremaining: 54.4ms\n",
      "37:\tlearn: 0.4092906\ttotal: 32.8ms\tremaining: 53.5ms\n",
      "38:\tlearn: 0.4080289\ttotal: 33.7ms\tremaining: 52.8ms\n",
      "39:\tlearn: 0.4072882\ttotal: 34.8ms\tremaining: 52.2ms\n",
      "40:\tlearn: 0.4063506\ttotal: 35.9ms\tremaining: 51.7ms\n",
      "41:\tlearn: 0.4047731\ttotal: 36.8ms\tremaining: 50.9ms\n",
      "42:\tlearn: 0.4036642\ttotal: 37.7ms\tremaining: 50ms\n",
      "43:\tlearn: 0.4021044\ttotal: 38.7ms\tremaining: 49.2ms\n",
      "44:\tlearn: 0.4018748\ttotal: 39ms\tremaining: 47.7ms\n",
      "45:\tlearn: 0.4008461\ttotal: 39.9ms\tremaining: 46.8ms\n",
      "46:\tlearn: 0.3992696\ttotal: 40.9ms\tremaining: 46.1ms\n",
      "47:\tlearn: 0.3984400\ttotal: 41.8ms\tremaining: 45.3ms\n",
      "48:\tlearn: 0.3974512\ttotal: 42.9ms\tremaining: 44.6ms\n",
      "49:\tlearn: 0.3959803\ttotal: 43.8ms\tremaining: 43.8ms\n",
      "50:\tlearn: 0.3951061\ttotal: 44.7ms\tremaining: 42.9ms\n",
      "51:\tlearn: 0.3945670\ttotal: 45.7ms\tremaining: 42.2ms\n",
      "52:\tlearn: 0.3938449\ttotal: 46.8ms\tremaining: 41.5ms\n",
      "53:\tlearn: 0.3928878\ttotal: 47.7ms\tremaining: 40.6ms\n",
      "54:\tlearn: 0.3921299\ttotal: 48.6ms\tremaining: 39.8ms\n",
      "55:\tlearn: 0.3914992\ttotal: 49.5ms\tremaining: 38.9ms\n",
      "56:\tlearn: 0.3902287\ttotal: 50.4ms\tremaining: 38ms\n",
      "57:\tlearn: 0.3892440\ttotal: 51.3ms\tremaining: 37.1ms\n",
      "58:\tlearn: 0.3887654\ttotal: 52.2ms\tremaining: 36.3ms\n",
      "59:\tlearn: 0.3884982\ttotal: 52.9ms\tremaining: 35.3ms\n",
      "60:\tlearn: 0.3876849\ttotal: 53.8ms\tremaining: 34.4ms\n",
      "61:\tlearn: 0.3876296\ttotal: 54.2ms\tremaining: 33.2ms\n",
      "62:\tlearn: 0.3866691\ttotal: 55ms\tremaining: 32.3ms\n",
      "63:\tlearn: 0.3857995\ttotal: 56ms\tremaining: 31.5ms\n",
      "64:\tlearn: 0.3848756\ttotal: 56.8ms\tremaining: 30.6ms\n",
      "65:\tlearn: 0.3839935\ttotal: 57.8ms\tremaining: 29.8ms\n",
      "66:\tlearn: 0.3829708\ttotal: 58.8ms\tremaining: 29ms\n",
      "67:\tlearn: 0.3822416\ttotal: 59.7ms\tremaining: 28.1ms\n",
      "68:\tlearn: 0.3817416\ttotal: 60.6ms\tremaining: 27.2ms\n",
      "69:\tlearn: 0.3809632\ttotal: 61.4ms\tremaining: 26.3ms\n",
      "70:\tlearn: 0.3805422\ttotal: 62.3ms\tremaining: 25.4ms\n",
      "71:\tlearn: 0.3801772\ttotal: 63.2ms\tremaining: 24.6ms\n",
      "72:\tlearn: 0.3793841\ttotal: 64.1ms\tremaining: 23.7ms\n",
      "73:\tlearn: 0.3790662\ttotal: 65.1ms\tremaining: 22.9ms\n",
      "74:\tlearn: 0.3783981\ttotal: 65.9ms\tremaining: 22ms\n",
      "75:\tlearn: 0.3777384\ttotal: 66.8ms\tremaining: 21.1ms\n",
      "76:\tlearn: 0.3768872\ttotal: 67.8ms\tremaining: 20.2ms\n",
      "77:\tlearn: 0.3758716\ttotal: 68.7ms\tremaining: 19.4ms\n",
      "78:\tlearn: 0.3752517\ttotal: 69.5ms\tremaining: 18.5ms\n",
      "79:\tlearn: 0.3746124\ttotal: 70.4ms\tremaining: 17.6ms\n",
      "80:\tlearn: 0.3740686\ttotal: 71.4ms\tremaining: 16.7ms\n",
      "81:\tlearn: 0.3737263\ttotal: 72.4ms\tremaining: 15.9ms\n",
      "82:\tlearn: 0.3734571\ttotal: 73.3ms\tremaining: 15ms\n",
      "83:\tlearn: 0.3725736\ttotal: 74.1ms\tremaining: 14.1ms\n",
      "84:\tlearn: 0.3719535\ttotal: 75ms\tremaining: 13.2ms\n",
      "85:\tlearn: 0.3714906\ttotal: 75.7ms\tremaining: 12.3ms\n",
      "86:\tlearn: 0.3710024\ttotal: 76.6ms\tremaining: 11.5ms\n",
      "87:\tlearn: 0.3708258\ttotal: 77.2ms\tremaining: 10.5ms\n",
      "88:\tlearn: 0.3698322\ttotal: 78.2ms\tremaining: 9.66ms\n",
      "89:\tlearn: 0.3697321\ttotal: 78.9ms\tremaining: 8.77ms\n",
      "90:\tlearn: 0.3692441\ttotal: 79.8ms\tremaining: 7.89ms\n",
      "91:\tlearn: 0.3685158\ttotal: 80.6ms\tremaining: 7.01ms\n",
      "92:\tlearn: 0.3677563\ttotal: 81.4ms\tremaining: 6.13ms\n",
      "93:\tlearn: 0.3674781\ttotal: 82.2ms\tremaining: 5.25ms\n",
      "94:\tlearn: 0.3672804\ttotal: 83.1ms\tremaining: 4.37ms\n",
      "95:\tlearn: 0.3667955\ttotal: 84ms\tremaining: 3.5ms\n",
      "96:\tlearn: 0.3658856\ttotal: 84.8ms\tremaining: 2.62ms\n",
      "97:\tlearn: 0.3654766\ttotal: 85.7ms\tremaining: 1.75ms\n",
      "98:\tlearn: 0.3650997\ttotal: 86.6ms\tremaining: 874us\n",
      "99:\tlearn: 0.3648556\ttotal: 87.4ms\tremaining: 0us\n",
      "Learning rate set to 0.077449\n",
      "0:\tlearn: 0.6679232\ttotal: 319us\tremaining: 31.6ms\n",
      "1:\tlearn: 0.6406360\ttotal: 1.27ms\tremaining: 62.4ms\n",
      "2:\tlearn: 0.6171670\ttotal: 2.33ms\tremaining: 75.3ms\n",
      "3:\tlearn: 0.5989228\ttotal: 2.94ms\tremaining: 70.6ms\n",
      "4:\tlearn: 0.5794281\ttotal: 3.85ms\tremaining: 73.1ms\n",
      "5:\tlearn: 0.5603757\ttotal: 4.78ms\tremaining: 74.9ms\n",
      "6:\tlearn: 0.5434853\ttotal: 5.63ms\tremaining: 74.8ms\n",
      "7:\tlearn: 0.5322030\ttotal: 6.21ms\tremaining: 71.5ms\n",
      "8:\tlearn: 0.5200342\ttotal: 7.08ms\tremaining: 71.6ms\n",
      "9:\tlearn: 0.5072969\ttotal: 7.99ms\tremaining: 71.9ms\n",
      "10:\tlearn: 0.4965485\ttotal: 8.9ms\tremaining: 72ms\n",
      "11:\tlearn: 0.4862140\ttotal: 9.86ms\tremaining: 72.3ms\n",
      "12:\tlearn: 0.4776136\ttotal: 10.8ms\tremaining: 72ms\n",
      "13:\tlearn: 0.4692137\ttotal: 11.7ms\tremaining: 71.7ms\n",
      "14:\tlearn: 0.4611474\ttotal: 12.5ms\tremaining: 70.8ms\n",
      "15:\tlearn: 0.4535263\ttotal: 13.1ms\tremaining: 68.6ms\n",
      "16:\tlearn: 0.4480525\ttotal: 14ms\tremaining: 68.3ms\n",
      "17:\tlearn: 0.4431286\ttotal: 15.4ms\tremaining: 70.3ms\n",
      "18:\tlearn: 0.4378559\ttotal: 16.3ms\tremaining: 69.5ms\n",
      "19:\tlearn: 0.4332030\ttotal: 17.2ms\tremaining: 68.8ms\n",
      "20:\tlearn: 0.4289549\ttotal: 18ms\tremaining: 67.9ms\n",
      "21:\tlearn: 0.4255272\ttotal: 19.1ms\tremaining: 67.6ms\n",
      "22:\tlearn: 0.4214991\ttotal: 20ms\tremaining: 67ms\n",
      "23:\tlearn: 0.4205887\ttotal: 20.6ms\tremaining: 65.1ms\n",
      "24:\tlearn: 0.4167285\ttotal: 21.5ms\tremaining: 64.6ms\n",
      "25:\tlearn: 0.4142754\ttotal: 22.4ms\tremaining: 63.7ms\n",
      "26:\tlearn: 0.4114497\ttotal: 23.2ms\tremaining: 62.8ms\n",
      "27:\tlearn: 0.4090374\ttotal: 24.1ms\tremaining: 62ms\n",
      "28:\tlearn: 0.4063990\ttotal: 25.1ms\tremaining: 61.4ms\n",
      "29:\tlearn: 0.4038175\ttotal: 26ms\tremaining: 60.7ms\n",
      "30:\tlearn: 0.4018450\ttotal: 26.9ms\tremaining: 60ms\n",
      "31:\tlearn: 0.3997701\ttotal: 27.8ms\tremaining: 59.2ms\n",
      "32:\tlearn: 0.3975442\ttotal: 28.7ms\tremaining: 58.4ms\n",
      "33:\tlearn: 0.3958803\ttotal: 29.6ms\tremaining: 57.4ms\n",
      "34:\tlearn: 0.3943829\ttotal: 30.4ms\tremaining: 56.4ms\n",
      "35:\tlearn: 0.3919303\ttotal: 31.2ms\tremaining: 55.5ms\n",
      "36:\tlearn: 0.3906622\ttotal: 32.1ms\tremaining: 54.6ms\n",
      "37:\tlearn: 0.3891557\ttotal: 32.9ms\tremaining: 53.8ms\n",
      "38:\tlearn: 0.3878020\ttotal: 33.9ms\tremaining: 53.1ms\n",
      "39:\tlearn: 0.3869076\ttotal: 34.9ms\tremaining: 52.3ms\n",
      "40:\tlearn: 0.3855221\ttotal: 35.8ms\tremaining: 51.5ms\n",
      "41:\tlearn: 0.3844886\ttotal: 36.6ms\tremaining: 50.5ms\n",
      "42:\tlearn: 0.3830972\ttotal: 37.4ms\tremaining: 49.6ms\n",
      "43:\tlearn: 0.3828338\ttotal: 37.8ms\tremaining: 48ms\n",
      "44:\tlearn: 0.3817662\ttotal: 38.8ms\tremaining: 47.4ms\n",
      "45:\tlearn: 0.3809324\ttotal: 39.9ms\tremaining: 46.8ms\n",
      "46:\tlearn: 0.3801256\ttotal: 40.8ms\tremaining: 46.1ms\n",
      "47:\tlearn: 0.3788901\ttotal: 41.8ms\tremaining: 45.3ms\n",
      "48:\tlearn: 0.3773842\ttotal: 42.9ms\tremaining: 44.6ms\n",
      "49:\tlearn: 0.3762620\ttotal: 43.9ms\tremaining: 43.9ms\n",
      "50:\tlearn: 0.3752125\ttotal: 45.2ms\tremaining: 43.4ms\n",
      "51:\tlearn: 0.3741671\ttotal: 46.4ms\tremaining: 42.8ms\n",
      "52:\tlearn: 0.3727397\ttotal: 47.3ms\tremaining: 42ms\n",
      "53:\tlearn: 0.3720142\ttotal: 48.2ms\tremaining: 41.1ms\n",
      "54:\tlearn: 0.3713616\ttotal: 49.2ms\tremaining: 40.2ms\n",
      "55:\tlearn: 0.3704248\ttotal: 50.1ms\tremaining: 39.4ms\n",
      "56:\tlearn: 0.3693825\ttotal: 51ms\tremaining: 38.5ms\n",
      "57:\tlearn: 0.3684862\ttotal: 51.9ms\tremaining: 37.6ms\n",
      "58:\tlearn: 0.3682298\ttotal: 52.8ms\tremaining: 36.7ms\n",
      "59:\tlearn: 0.3676728\ttotal: 53.7ms\tremaining: 35.8ms\n",
      "60:\tlearn: 0.3668811\ttotal: 54.5ms\tremaining: 34.9ms\n",
      "61:\tlearn: 0.3664665\ttotal: 55.3ms\tremaining: 33.9ms\n",
      "62:\tlearn: 0.3656192\ttotal: 56.2ms\tremaining: 33ms\n",
      "63:\tlearn: 0.3651379\ttotal: 56.9ms\tremaining: 32ms\n",
      "64:\tlearn: 0.3647421\ttotal: 57.9ms\tremaining: 31.2ms\n",
      "65:\tlearn: 0.3642122\ttotal: 58.7ms\tremaining: 30.3ms\n",
      "66:\tlearn: 0.3633955\ttotal: 59.5ms\tremaining: 29.3ms\n",
      "67:\tlearn: 0.3627734\ttotal: 60.4ms\tremaining: 28.4ms\n",
      "68:\tlearn: 0.3619048\ttotal: 61.2ms\tremaining: 27.5ms\n",
      "69:\tlearn: 0.3611527\ttotal: 62ms\tremaining: 26.6ms\n",
      "70:\tlearn: 0.3607436\ttotal: 62.8ms\tremaining: 25.6ms\n",
      "71:\tlearn: 0.3599232\ttotal: 63.6ms\tremaining: 24.7ms\n",
      "72:\tlearn: 0.3593670\ttotal: 64.6ms\tremaining: 23.9ms\n",
      "73:\tlearn: 0.3588556\ttotal: 65.5ms\tremaining: 23ms\n",
      "74:\tlearn: 0.3581454\ttotal: 66.3ms\tremaining: 22.1ms\n",
      "75:\tlearn: 0.3578175\ttotal: 67.2ms\tremaining: 21.2ms\n",
      "76:\tlearn: 0.3572546\ttotal: 68.1ms\tremaining: 20.3ms\n",
      "77:\tlearn: 0.3567149\ttotal: 69ms\tremaining: 19.4ms\n",
      "78:\tlearn: 0.3564469\ttotal: 69.8ms\tremaining: 18.6ms\n",
      "79:\tlearn: 0.3558518\ttotal: 70.7ms\tremaining: 17.7ms\n",
      "80:\tlearn: 0.3555057\ttotal: 71.5ms\tremaining: 16.8ms\n",
      "81:\tlearn: 0.3549942\ttotal: 72.4ms\tremaining: 15.9ms\n",
      "82:\tlearn: 0.3545238\ttotal: 73.3ms\tremaining: 15ms\n",
      "83:\tlearn: 0.3539453\ttotal: 74ms\tremaining: 14.1ms\n",
      "84:\tlearn: 0.3533060\ttotal: 74.9ms\tremaining: 13.2ms\n",
      "85:\tlearn: 0.3524348\ttotal: 75.7ms\tremaining: 12.3ms\n",
      "86:\tlearn: 0.3520737\ttotal: 76.7ms\tremaining: 11.5ms\n",
      "87:\tlearn: 0.3514742\ttotal: 77.7ms\tremaining: 10.6ms\n",
      "88:\tlearn: 0.3510482\ttotal: 78.6ms\tremaining: 9.71ms\n",
      "89:\tlearn: 0.3505808\ttotal: 79.5ms\tremaining: 8.83ms\n",
      "90:\tlearn: 0.3503821\ttotal: 80.4ms\tremaining: 7.95ms\n",
      "91:\tlearn: 0.3498788\ttotal: 81.2ms\tremaining: 7.06ms\n",
      "92:\tlearn: 0.3494778\ttotal: 82.2ms\tremaining: 6.18ms\n",
      "93:\tlearn: 0.3490281\ttotal: 83.3ms\tremaining: 5.32ms\n",
      "94:\tlearn: 0.3486982\ttotal: 84.5ms\tremaining: 4.45ms\n",
      "95:\tlearn: 0.3486190\ttotal: 85.5ms\tremaining: 3.56ms\n",
      "96:\tlearn: 0.3482126\ttotal: 86.3ms\tremaining: 2.67ms\n",
      "97:\tlearn: 0.3481618\ttotal: 87.2ms\tremaining: 1.78ms\n",
      "98:\tlearn: 0.3474229\ttotal: 88.2ms\tremaining: 890us\n",
      "99:\tlearn: 0.3472994\ttotal: 89.3ms\tremaining: 0us\n",
      "Learning rate set to 0.077449\n",
      "0:\tlearn: 0.6616642\ttotal: 1.04ms\tremaining: 104ms\n",
      "1:\tlearn: 0.6349719\ttotal: 2.01ms\tremaining: 98.7ms\n",
      "2:\tlearn: 0.6111454\ttotal: 2.84ms\tremaining: 91.8ms\n",
      "3:\tlearn: 0.5925255\ttotal: 3.65ms\tremaining: 87.7ms\n",
      "4:\tlearn: 0.5716520\ttotal: 4.48ms\tremaining: 85.1ms\n",
      "5:\tlearn: 0.5540348\ttotal: 5.43ms\tremaining: 85.1ms\n",
      "6:\tlearn: 0.5384341\ttotal: 6.32ms\tremaining: 83.9ms\n",
      "7:\tlearn: 0.5244677\ttotal: 6.92ms\tremaining: 79.5ms\n",
      "8:\tlearn: 0.5126523\ttotal: 7.7ms\tremaining: 77.8ms\n",
      "9:\tlearn: 0.5021704\ttotal: 8.57ms\tremaining: 77.1ms\n",
      "10:\tlearn: 0.4930164\ttotal: 9.38ms\tremaining: 75.9ms\n",
      "11:\tlearn: 0.4835093\ttotal: 10.2ms\tremaining: 74.9ms\n",
      "12:\tlearn: 0.4775324\ttotal: 10.6ms\tremaining: 71ms\n",
      "13:\tlearn: 0.4692855\ttotal: 11.5ms\tremaining: 70.7ms\n",
      "14:\tlearn: 0.4620020\ttotal: 12.4ms\tremaining: 70ms\n",
      "15:\tlearn: 0.4559288\ttotal: 13.2ms\tremaining: 69.4ms\n",
      "16:\tlearn: 0.4511378\ttotal: 14.1ms\tremaining: 69ms\n",
      "17:\tlearn: 0.4455615\ttotal: 14.9ms\tremaining: 68ms\n",
      "18:\tlearn: 0.4408086\ttotal: 15.7ms\tremaining: 67.1ms\n",
      "19:\tlearn: 0.4360139\ttotal: 16.6ms\tremaining: 66.4ms\n",
      "20:\tlearn: 0.4320732\ttotal: 17.6ms\tremaining: 66.4ms\n",
      "21:\tlearn: 0.4282295\ttotal: 18.6ms\tremaining: 66ms\n",
      "22:\tlearn: 0.4242723\ttotal: 19.4ms\tremaining: 65.1ms\n",
      "23:\tlearn: 0.4205929\ttotal: 20.3ms\tremaining: 64.2ms\n",
      "24:\tlearn: 0.4174783\ttotal: 21.1ms\tremaining: 63.2ms\n",
      "25:\tlearn: 0.4149993\ttotal: 21.9ms\tremaining: 62.3ms\n",
      "26:\tlearn: 0.4125549\ttotal: 22.7ms\tremaining: 61.4ms\n",
      "27:\tlearn: 0.4100389\ttotal: 23.7ms\tremaining: 60.9ms\n",
      "28:\tlearn: 0.4072327\ttotal: 24.6ms\tremaining: 60.2ms\n",
      "29:\tlearn: 0.4052468\ttotal: 25.4ms\tremaining: 59.3ms\n",
      "30:\tlearn: 0.4032997\ttotal: 26.3ms\tremaining: 58.6ms\n",
      "31:\tlearn: 0.4018589\ttotal: 27.1ms\tremaining: 57.6ms\n",
      "32:\tlearn: 0.3999792\ttotal: 28.1ms\tremaining: 57ms\n",
      "33:\tlearn: 0.3982360\ttotal: 28.9ms\tremaining: 56.2ms\n",
      "34:\tlearn: 0.3973178\ttotal: 29.8ms\tremaining: 55.3ms\n",
      "35:\tlearn: 0.3968601\ttotal: 30.3ms\tremaining: 53.8ms\n",
      "36:\tlearn: 0.3951102\ttotal: 31.1ms\tremaining: 52.9ms\n",
      "37:\tlearn: 0.3945429\ttotal: 31.6ms\tremaining: 51.5ms\n",
      "38:\tlearn: 0.3935761\ttotal: 32.4ms\tremaining: 50.7ms\n",
      "39:\tlearn: 0.3920085\ttotal: 33.2ms\tremaining: 49.8ms\n",
      "40:\tlearn: 0.3906691\ttotal: 34ms\tremaining: 49ms\n",
      "41:\tlearn: 0.3892450\ttotal: 34.9ms\tremaining: 48.2ms\n",
      "42:\tlearn: 0.3883533\ttotal: 35.9ms\tremaining: 47.5ms\n",
      "43:\tlearn: 0.3873670\ttotal: 36.8ms\tremaining: 46.8ms\n",
      "44:\tlearn: 0.3863536\ttotal: 37.6ms\tremaining: 46ms\n",
      "45:\tlearn: 0.3860665\ttotal: 38ms\tremaining: 44.6ms\n",
      "46:\tlearn: 0.3855363\ttotal: 38.8ms\tremaining: 43.8ms\n",
      "47:\tlearn: 0.3841546\ttotal: 39.6ms\tremaining: 42.9ms\n",
      "48:\tlearn: 0.3830880\ttotal: 40.4ms\tremaining: 42.1ms\n",
      "49:\tlearn: 0.3824592\ttotal: 41.2ms\tremaining: 41.2ms\n",
      "50:\tlearn: 0.3818964\ttotal: 42.2ms\tremaining: 40.5ms\n",
      "51:\tlearn: 0.3807601\ttotal: 43ms\tremaining: 39.7ms\n",
      "52:\tlearn: 0.3799742\ttotal: 43.8ms\tremaining: 38.9ms\n",
      "53:\tlearn: 0.3792303\ttotal: 44.7ms\tremaining: 38.1ms\n",
      "54:\tlearn: 0.3781801\ttotal: 45.5ms\tremaining: 37.2ms\n",
      "55:\tlearn: 0.3774055\ttotal: 46.3ms\tremaining: 36.4ms\n",
      "56:\tlearn: 0.3767694\ttotal: 47.1ms\tremaining: 35.5ms\n",
      "57:\tlearn: 0.3758830\ttotal: 48ms\tremaining: 34.8ms\n",
      "58:\tlearn: 0.3753058\ttotal: 49.1ms\tremaining: 34.1ms\n",
      "59:\tlearn: 0.3744072\ttotal: 49.9ms\tremaining: 33.3ms\n",
      "60:\tlearn: 0.3735640\ttotal: 50.7ms\tremaining: 32.4ms\n",
      "61:\tlearn: 0.3726326\ttotal: 51.6ms\tremaining: 31.6ms\n",
      "62:\tlearn: 0.3714119\ttotal: 52.5ms\tremaining: 30.8ms\n",
      "63:\tlearn: 0.3707617\ttotal: 53.3ms\tremaining: 30ms\n",
      "64:\tlearn: 0.3703183\ttotal: 54.2ms\tremaining: 29.2ms\n",
      "65:\tlearn: 0.3701171\ttotal: 55ms\tremaining: 28.3ms\n",
      "66:\tlearn: 0.3696003\ttotal: 56ms\tremaining: 27.6ms\n",
      "67:\tlearn: 0.3694314\ttotal: 56.4ms\tremaining: 26.5ms\n",
      "68:\tlearn: 0.3686832\ttotal: 57.3ms\tremaining: 25.7ms\n",
      "69:\tlearn: 0.3681083\ttotal: 58.2ms\tremaining: 24.9ms\n",
      "70:\tlearn: 0.3668584\ttotal: 59.1ms\tremaining: 24.1ms\n",
      "71:\tlearn: 0.3661915\ttotal: 59.9ms\tremaining: 23.3ms\n",
      "72:\tlearn: 0.3655572\ttotal: 61.5ms\tremaining: 22.7ms\n",
      "73:\tlearn: 0.3649456\ttotal: 62.5ms\tremaining: 22ms\n",
      "74:\tlearn: 0.3641487\ttotal: 63.4ms\tremaining: 21.1ms\n",
      "75:\tlearn: 0.3632019\ttotal: 64.2ms\tremaining: 20.3ms\n",
      "76:\tlearn: 0.3629077\ttotal: 65.1ms\tremaining: 19.4ms\n",
      "77:\tlearn: 0.3622391\ttotal: 66ms\tremaining: 18.6ms\n",
      "78:\tlearn: 0.3620525\ttotal: 66.9ms\tremaining: 17.8ms\n",
      "79:\tlearn: 0.3616766\ttotal: 67.8ms\tremaining: 17ms\n",
      "80:\tlearn: 0.3614571\ttotal: 68.7ms\tremaining: 16.1ms\n",
      "81:\tlearn: 0.3601979\ttotal: 84.8ms\tremaining: 18.6ms\n",
      "82:\tlearn: 0.3593976\ttotal: 86ms\tremaining: 17.6ms\n",
      "83:\tlearn: 0.3588815\ttotal: 87.1ms\tremaining: 16.6ms\n",
      "84:\tlearn: 0.3582492\ttotal: 88ms\tremaining: 15.5ms\n",
      "85:\tlearn: 0.3578110\ttotal: 88.8ms\tremaining: 14.5ms\n",
      "86:\tlearn: 0.3573592\ttotal: 89.7ms\tremaining: 13.4ms\n",
      "87:\tlearn: 0.3571606\ttotal: 90.6ms\tremaining: 12.3ms\n",
      "88:\tlearn: 0.3570836\ttotal: 91.4ms\tremaining: 11.3ms\n",
      "89:\tlearn: 0.3566104\ttotal: 92.1ms\tremaining: 10.2ms\n",
      "90:\tlearn: 0.3563310\ttotal: 93ms\tremaining: 9.2ms\n",
      "91:\tlearn: 0.3557371\ttotal: 94.1ms\tremaining: 8.18ms\n",
      "92:\tlearn: 0.3555090\ttotal: 94.9ms\tremaining: 7.14ms\n",
      "93:\tlearn: 0.3547144\ttotal: 95.7ms\tremaining: 6.11ms\n",
      "94:\tlearn: 0.3546173\ttotal: 96.5ms\tremaining: 5.08ms\n",
      "95:\tlearn: 0.3540275\ttotal: 97.3ms\tremaining: 4.05ms\n",
      "96:\tlearn: 0.3534640\ttotal: 98.1ms\tremaining: 3.03ms\n",
      "97:\tlearn: 0.3531991\ttotal: 99.1ms\tremaining: 2.02ms\n",
      "98:\tlearn: 0.3527897\ttotal: 100ms\tremaining: 1.01ms\n",
      "99:\tlearn: 0.3523493\ttotal: 101ms\tremaining: 0us\n"
     ]
    },
    {
     "data": {
      "text/html": [
       "<style  type=\"text/css\" >\n",
       "#T_60bbe_row0_col1{\n",
       "            width:  10em;\n",
       "             height:  80%;\n",
       "            background:  linear-gradient(90deg,#5fba7d 83.3%, transparent 83.3%);\n",
       "        }#T_60bbe_row0_col2{\n",
       "            width:  10em;\n",
       "             height:  80%;\n",
       "            background:  linear-gradient(90deg,#5fba7d 81.0%, transparent 81.0%);\n",
       "        }#T_60bbe_row1_col1{\n",
       "            width:  10em;\n",
       "             height:  80%;\n",
       "            background:  linear-gradient(90deg,#5fba7d 82.7%, transparent 82.7%);\n",
       "        }#T_60bbe_row1_col2{\n",
       "            width:  10em;\n",
       "             height:  80%;\n",
       "            background:  linear-gradient(90deg,#5fba7d 80.2%, transparent 80.2%);\n",
       "        }#T_60bbe_row2_col1,#T_60bbe_row3_col1{\n",
       "            width:  10em;\n",
       "             height:  80%;\n",
       "            background:  linear-gradient(90deg,#5fba7d 82.5%, transparent 82.5%);\n",
       "        }#T_60bbe_row2_col2,#T_60bbe_row7_col1{\n",
       "            width:  10em;\n",
       "             height:  80%;\n",
       "            background:  linear-gradient(90deg,#5fba7d 80.8%, transparent 80.8%);\n",
       "        }#T_60bbe_row3_col2,#T_60bbe_row5_col2{\n",
       "            width:  10em;\n",
       "             height:  80%;\n",
       "            background:  linear-gradient(90deg,#5fba7d 80.9%, transparent 80.9%);\n",
       "        }#T_60bbe_row4_col1{\n",
       "            width:  10em;\n",
       "             height:  80%;\n",
       "            background:  linear-gradient(90deg,#5fba7d 82.0%, transparent 82.0%);\n",
       "        }#T_60bbe_row4_col2{\n",
       "            width:  10em;\n",
       "             height:  80%;\n",
       "            background:  linear-gradient(90deg,#5fba7d 80.7%, transparent 80.7%);\n",
       "        }#T_60bbe_row5_col1,#T_60bbe_row6_col1{\n",
       "            width:  10em;\n",
       "             height:  80%;\n",
       "            background:  linear-gradient(90deg,#5fba7d 81.9%, transparent 81.9%);\n",
       "        }#T_60bbe_row6_col2{\n",
       "            width:  10em;\n",
       "             height:  80%;\n",
       "            background:  linear-gradient(90deg,#5fba7d 80.4%, transparent 80.4%);\n",
       "        }#T_60bbe_row7_col2{\n",
       "            width:  10em;\n",
       "             height:  80%;\n",
       "            background:  linear-gradient(90deg,#5fba7d 79.4%, transparent 79.4%);\n",
       "        }#T_60bbe_row8_col1{\n",
       "            width:  10em;\n",
       "             height:  80%;\n",
       "            background:  linear-gradient(90deg,#5fba7d 79.1%, transparent 79.1%);\n",
       "        }#T_60bbe_row8_col2{\n",
       "            width:  10em;\n",
       "             height:  80%;\n",
       "            background:  linear-gradient(90deg,#5fba7d 77.9%, transparent 77.9%);\n",
       "        }</style><table id=\"T_60bbe_\" ><thead>    <tr>        <th class=\"blank level0\" ></th>        <th class=\"col_heading level0 col0\" >Model</th>        <th class=\"col_heading level0 col1\" >Accuracy</th>        <th class=\"col_heading level0 col2\" >Bal Acc.</th>        <th class=\"col_heading level0 col3\" >Time</th>    </tr></thead><tbody>\n",
       "                <tr>\n",
       "                        <th id=\"T_60bbe_level0_row0\" class=\"row_heading level0 row0\" >1</th>\n",
       "                        <td id=\"T_60bbe_row0_col0\" class=\"data row0 col0\" >Skl GBM</td>\n",
       "                        <td id=\"T_60bbe_row0_col1\" class=\"data row0 col1\" >83.277217</td>\n",
       "                        <td id=\"T_60bbe_row0_col2\" class=\"data row0 col2\" >81.027706</td>\n",
       "                        <td id=\"T_60bbe_row0_col3\" class=\"data row0 col3\" >0.782907</td>\n",
       "            </tr>\n",
       "            <tr>\n",
       "                        <th id=\"T_60bbe_level0_row1\" class=\"row_heading level0 row1\" >2</th>\n",
       "                        <td id=\"T_60bbe_row1_col0\" class=\"data row1 col0\" >CatBoost</td>\n",
       "                        <td id=\"T_60bbe_row1_col1\" class=\"data row1 col1\" >82.716049</td>\n",
       "                        <td id=\"T_60bbe_row1_col2\" class=\"data row1 col2\" >80.241588</td>\n",
       "                        <td id=\"T_60bbe_row1_col3\" class=\"data row1 col3\" >1.593758</td>\n",
       "            </tr>\n",
       "            <tr>\n",
       "                        <th id=\"T_60bbe_level0_row2\" class=\"row_heading level0 row2\" >3</th>\n",
       "                        <td id=\"T_60bbe_row2_col0\" class=\"data row2 col0\" >Skl HistGBM</td>\n",
       "                        <td id=\"T_60bbe_row2_col1\" class=\"data row2 col1\" >82.491582</td>\n",
       "                        <td id=\"T_60bbe_row2_col2\" class=\"data row2 col2\" >80.831176</td>\n",
       "                        <td id=\"T_60bbe_row2_col3\" class=\"data row2 col3\" >3.700102</td>\n",
       "            </tr>\n",
       "            <tr>\n",
       "                        <th id=\"T_60bbe_level0_row3\" class=\"row_heading level0 row3\" >4</th>\n",
       "                        <td id=\"T_60bbe_row3_col0\" class=\"data row3 col0\" >LightGBM</td>\n",
       "                        <td id=\"T_60bbe_row3_col1\" class=\"data row3 col1\" >82.491582</td>\n",
       "                        <td id=\"T_60bbe_row3_col2\" class=\"data row3 col2\" >80.886300</td>\n",
       "                        <td id=\"T_60bbe_row3_col3\" class=\"data row3 col3\" >1.059167</td>\n",
       "            </tr>\n",
       "            <tr>\n",
       "                        <th id=\"T_60bbe_level0_row4\" class=\"row_heading level0 row4\" >5</th>\n",
       "                        <td id=\"T_60bbe_row4_col0\" class=\"data row4 col0\" >Random Forest</td>\n",
       "                        <td id=\"T_60bbe_row4_col1\" class=\"data row4 col1\" >82.042649</td>\n",
       "                        <td id=\"T_60bbe_row4_col2\" class=\"data row4 col2\" >80.687374</td>\n",
       "                        <td id=\"T_60bbe_row4_col3\" class=\"data row4 col3\" >1.328446</td>\n",
       "            </tr>\n",
       "            <tr>\n",
       "                        <th id=\"T_60bbe_level0_row5\" class=\"row_heading level0 row5\" >6</th>\n",
       "                        <td id=\"T_60bbe_row5_col0\" class=\"data row5 col0\" >AdaBoost</td>\n",
       "                        <td id=\"T_60bbe_row5_col1\" class=\"data row5 col1\" >81.930415</td>\n",
       "                        <td id=\"T_60bbe_row5_col2\" class=\"data row5 col2\" >80.927044</td>\n",
       "                        <td id=\"T_60bbe_row5_col3\" class=\"data row5 col3\" >1.246664</td>\n",
       "            </tr>\n",
       "            <tr>\n",
       "                        <th id=\"T_60bbe_level0_row6\" class=\"row_heading level0 row6\" >7</th>\n",
       "                        <td id=\"T_60bbe_row6_col0\" class=\"data row6 col0\" >XGBoost</td>\n",
       "                        <td id=\"T_60bbe_row6_col1\" class=\"data row6 col1\" >81.930415</td>\n",
       "                        <td id=\"T_60bbe_row6_col2\" class=\"data row6 col2\" >80.430927</td>\n",
       "                        <td id=\"T_60bbe_row6_col3\" class=\"data row6 col3\" >0.744010</td>\n",
       "            </tr>\n",
       "            <tr>\n",
       "                        <th id=\"T_60bbe_level0_row7\" class=\"row_heading level0 row7\" >8</th>\n",
       "                        <td id=\"T_60bbe_row7_col0\" class=\"data row7 col0\" >Extra Trees</td>\n",
       "                        <td id=\"T_60bbe_row7_col1\" class=\"data row7 col1\" >80.808081</td>\n",
       "                        <td id=\"T_60bbe_row7_col2\" class=\"data row7 col2\" >79.354808</td>\n",
       "                        <td id=\"T_60bbe_row7_col3\" class=\"data row7 col3\" >1.219739</td>\n",
       "            </tr>\n",
       "            <tr>\n",
       "                        <th id=\"T_60bbe_level0_row8\" class=\"row_heading level0 row8\" >9</th>\n",
       "                        <td id=\"T_60bbe_row8_col0\" class=\"data row8 col0\" >Decision Tree</td>\n",
       "                        <td id=\"T_60bbe_row8_col1\" class=\"data row8 col1\" >79.124579</td>\n",
       "                        <td id=\"T_60bbe_row8_col2\" class=\"data row8 col2\" >77.933563</td>\n",
       "                        <td id=\"T_60bbe_row8_col3\" class=\"data row8 col3\" >0.143615</td>\n",
       "            </tr>\n",
       "    </tbody></table>"
      ],
      "text/plain": [
       "<pandas.io.formats.style.Styler at 0x201c8db2790>"
      ]
     },
     "execution_count": 46,
     "metadata": {},
     "output_type": "execute_result"
    }
   ],
   "source": [
    "\"\"\"\n",
    "skf = model_selection.StratifiedKFold(\n",
    "    # CODE HERE\n",
    ")\n",
    "\"\"\"\n",
    "skf = model_selection.StratifiedKFold(shuffle=True, random_state=0).split(x, y)\n",
    "\n",
    "\n",
    "results = pd.DataFrame({'Model': [], 'Accuracy': [], 'Bal Acc.': [], 'Time': []})\n",
    "\n",
    "\n",
    "for model_name, model in tree_classifiers.items():\n",
    "    start_time = time.time()\n",
    "        \n",
    "    # TRAIN AND GET PREDICTIONS USING cross_val_predict() and x,y\n",
    "    \n",
    "    pred = model_selection.cross_val_predict(x, y)\n",
    "\n",
    "    total_time = time.time() - start_time\n",
    "\n",
    "    results = results.append({\"Model\":    model_name,\n",
    "                              \"Accuracy\": metrics.accuracy_score(y_val, pred)*100,\n",
    "                              \"Bal Acc.\": metrics.balanced_accuracy_score(y_val, pred)*100,\n",
    "                              \"Time\":     total_time},\n",
    "                              ignore_index=True)\n",
    "                              \n",
    "                              \n",
    "\n",
    "\n",
    "\n",
    "results_ord = results.sort_values(by=['Accuracy'], ascending=False, ignore_index=True)\n",
    "results_ord.index += 1 \n",
    "results_ord.style.bar(subset=['Accuracy', 'Bal Acc.'], vmin=0, vmax=100, color='#5fba7d')"
   ]
  },
  {
   "cell_type": "code",
   "execution_count": 47,
   "metadata": {
    "nbgrader": {
     "grade": true,
     "grade_id": "cell-57cc085faad513cf",
     "locked": true,
     "points": 3,
     "schema_version": 3,
     "solution": false,
     "task": false
    }
   },
   "outputs": [],
   "source": [
    "assert results_ord[\"Accuracy\"].min() > 75\n",
    "assert results_ord[\"Bal Acc.\"].min() > 75\n",
    "assert len(results_ord) == 9"
   ]
  },
  {
   "cell_type": "markdown",
   "metadata": {},
   "source": [
    "# Exercise 7.1\n",
    "Train with all data the best model"
   ]
  },
  {
   "cell_type": "code",
   "execution_count": 48,
   "metadata": {
    "colab": {},
    "colab_type": "code",
    "id": "monuuQhHL7B_"
   },
   "outputs": [
    {
     "data": {
      "text/html": [
       "<style>#sk-61b79b43-3cb2-4041-b11f-9e37c8aa1183 {color: black;background-color: white;}#sk-61b79b43-3cb2-4041-b11f-9e37c8aa1183 pre{padding: 0;}#sk-61b79b43-3cb2-4041-b11f-9e37c8aa1183 div.sk-toggleable {background-color: white;}#sk-61b79b43-3cb2-4041-b11f-9e37c8aa1183 label.sk-toggleable__label {cursor: pointer;display: block;width: 100%;margin-bottom: 0;padding: 0.2em 0.3em;box-sizing: border-box;text-align: center;}#sk-61b79b43-3cb2-4041-b11f-9e37c8aa1183 div.sk-toggleable__content {max-height: 0;max-width: 0;overflow: hidden;text-align: left;background-color: #f0f8ff;}#sk-61b79b43-3cb2-4041-b11f-9e37c8aa1183 div.sk-toggleable__content pre {margin: 0.2em;color: black;border-radius: 0.25em;background-color: #f0f8ff;}#sk-61b79b43-3cb2-4041-b11f-9e37c8aa1183 input.sk-toggleable__control:checked~div.sk-toggleable__content {max-height: 200px;max-width: 100%;overflow: auto;}#sk-61b79b43-3cb2-4041-b11f-9e37c8aa1183 div.sk-estimator input.sk-toggleable__control:checked~label.sk-toggleable__label {background-color: #d4ebff;}#sk-61b79b43-3cb2-4041-b11f-9e37c8aa1183 div.sk-label input.sk-toggleable__control:checked~label.sk-toggleable__label {background-color: #d4ebff;}#sk-61b79b43-3cb2-4041-b11f-9e37c8aa1183 input.sk-hidden--visually {border: 0;clip: rect(1px 1px 1px 1px);clip: rect(1px, 1px, 1px, 1px);height: 1px;margin: -1px;overflow: hidden;padding: 0;position: absolute;width: 1px;}#sk-61b79b43-3cb2-4041-b11f-9e37c8aa1183 div.sk-estimator {font-family: monospace;background-color: #f0f8ff;margin: 0.25em 0.25em;border: 1px dotted black;border-radius: 0.25em;box-sizing: border-box;}#sk-61b79b43-3cb2-4041-b11f-9e37c8aa1183 div.sk-estimator:hover {background-color: #d4ebff;}#sk-61b79b43-3cb2-4041-b11f-9e37c8aa1183 div.sk-parallel-item::after {content: \"\";width: 100%;border-bottom: 1px solid gray;flex-grow: 1;}#sk-61b79b43-3cb2-4041-b11f-9e37c8aa1183 div.sk-label:hover label.sk-toggleable__label {background-color: #d4ebff;}#sk-61b79b43-3cb2-4041-b11f-9e37c8aa1183 div.sk-serial::before {content: \"\";position: absolute;border-left: 1px solid gray;box-sizing: border-box;top: 2em;bottom: 0;left: 50%;}#sk-61b79b43-3cb2-4041-b11f-9e37c8aa1183 div.sk-serial {display: flex;flex-direction: column;align-items: center;background-color: white;}#sk-61b79b43-3cb2-4041-b11f-9e37c8aa1183 div.sk-item {z-index: 1;}#sk-61b79b43-3cb2-4041-b11f-9e37c8aa1183 div.sk-parallel {display: flex;align-items: stretch;justify-content: center;background-color: white;}#sk-61b79b43-3cb2-4041-b11f-9e37c8aa1183 div.sk-parallel-item {display: flex;flex-direction: column;position: relative;background-color: white;}#sk-61b79b43-3cb2-4041-b11f-9e37c8aa1183 div.sk-parallel-item:first-child::after {align-self: flex-end;width: 50%;}#sk-61b79b43-3cb2-4041-b11f-9e37c8aa1183 div.sk-parallel-item:last-child::after {align-self: flex-start;width: 50%;}#sk-61b79b43-3cb2-4041-b11f-9e37c8aa1183 div.sk-parallel-item:only-child::after {width: 0;}#sk-61b79b43-3cb2-4041-b11f-9e37c8aa1183 div.sk-dashed-wrapped {border: 1px dashed gray;margin: 0.2em;box-sizing: border-box;padding-bottom: 0.1em;background-color: white;position: relative;}#sk-61b79b43-3cb2-4041-b11f-9e37c8aa1183 div.sk-label label {font-family: monospace;font-weight: bold;background-color: white;display: inline-block;line-height: 1.2em;}#sk-61b79b43-3cb2-4041-b11f-9e37c8aa1183 div.sk-label-container {position: relative;z-index: 2;text-align: center;}#sk-61b79b43-3cb2-4041-b11f-9e37c8aa1183 div.sk-container {display: inline-block;position: relative;}</style><div id=\"sk-61b79b43-3cb2-4041-b11f-9e37c8aa1183\" class\"sk-top-container\"><div class=\"sk-container\"><div class=\"sk-item sk-dashed-wrapped\"><div class=\"sk-label-container\"><div class=\"sk-label sk-toggleable\"><input class=\"sk-toggleable__control sk-hidden--visually\" id=\"b1ec087c-007d-404a-b7ab-bbb74b73acfe\" type=\"checkbox\" ><label class=\"sk-toggleable__label\" for=\"b1ec087c-007d-404a-b7ab-bbb74b73acfe\">Pipeline</label><div class=\"sk-toggleable__content\"><pre>Pipeline(steps=[('columntransformer',\n",
       "                 ColumnTransformer(transformers=[('num',\n",
       "                                                  Pipeline(steps=[('imputer',\n",
       "                                                                   SimpleImputer())]),\n",
       "                                                  ['Pclass', 'SibSp', 'Parch',\n",
       "                                                   'Fare', 'Age']),\n",
       "                                                 ('cat',\n",
       "                                                  Pipeline(steps=[('imputer',\n",
       "                                                                   SimpleImputer(fill_value='missing',\n",
       "                                                                                 strategy='constant')),\n",
       "                                                                  ('ordinal',\n",
       "                                                                   OrdinalEncoder(handle_unknown='use_encoded_value',\n",
       "                                                                                  unknown_value=10))]),\n",
       "                                                  ['Sex', 'Embarked',\n",
       "                                                   'Title'])])),\n",
       "                ('gradientboostingclassifier', GradientBoostingClassifier())])</pre></div></div></div><div class=\"sk-serial\"><div class=\"sk-item sk-dashed-wrapped\"><div class=\"sk-label-container\"><div class=\"sk-label sk-toggleable\"><input class=\"sk-toggleable__control sk-hidden--visually\" id=\"5b5ea099-2751-4ac6-acb4-6a128083e42a\" type=\"checkbox\" ><label class=\"sk-toggleable__label\" for=\"5b5ea099-2751-4ac6-acb4-6a128083e42a\">columntransformer: ColumnTransformer</label><div class=\"sk-toggleable__content\"><pre>ColumnTransformer(transformers=[('num',\n",
       "                                 Pipeline(steps=[('imputer', SimpleImputer())]),\n",
       "                                 ['Pclass', 'SibSp', 'Parch', 'Fare', 'Age']),\n",
       "                                ('cat',\n",
       "                                 Pipeline(steps=[('imputer',\n",
       "                                                  SimpleImputer(fill_value='missing',\n",
       "                                                                strategy='constant')),\n",
       "                                                 ('ordinal',\n",
       "                                                  OrdinalEncoder(handle_unknown='use_encoded_value',\n",
       "                                                                 unknown_value=10))]),\n",
       "                                 ['Sex', 'Embarked', 'Title'])])</pre></div></div></div><div class=\"sk-parallel\"><div class=\"sk-parallel-item\"><div class=\"sk-item\"><div class=\"sk-label-container\"><div class=\"sk-label sk-toggleable\"><input class=\"sk-toggleable__control sk-hidden--visually\" id=\"099effa0-f05c-44be-af2e-36de956f1e76\" type=\"checkbox\" ><label class=\"sk-toggleable__label\" for=\"099effa0-f05c-44be-af2e-36de956f1e76\">num</label><div class=\"sk-toggleable__content\"><pre>['Pclass', 'SibSp', 'Parch', 'Fare', 'Age']</pre></div></div></div><div class=\"sk-serial\"><div class=\"sk-item\"><div class=\"sk-serial\"><div class=\"sk-item\"><div class=\"sk-estimator sk-toggleable\"><input class=\"sk-toggleable__control sk-hidden--visually\" id=\"781be353-462d-409b-ba02-aa7dd93ba474\" type=\"checkbox\" ><label class=\"sk-toggleable__label\" for=\"781be353-462d-409b-ba02-aa7dd93ba474\">SimpleImputer</label><div class=\"sk-toggleable__content\"><pre>SimpleImputer()</pre></div></div></div></div></div></div></div></div><div class=\"sk-parallel-item\"><div class=\"sk-item\"><div class=\"sk-label-container\"><div class=\"sk-label sk-toggleable\"><input class=\"sk-toggleable__control sk-hidden--visually\" id=\"fe07f7e5-6d68-4853-b4ef-094f23b520ec\" type=\"checkbox\" ><label class=\"sk-toggleable__label\" for=\"fe07f7e5-6d68-4853-b4ef-094f23b520ec\">cat</label><div class=\"sk-toggleable__content\"><pre>['Sex', 'Embarked', 'Title']</pre></div></div></div><div class=\"sk-serial\"><div class=\"sk-item\"><div class=\"sk-serial\"><div class=\"sk-item\"><div class=\"sk-estimator sk-toggleable\"><input class=\"sk-toggleable__control sk-hidden--visually\" id=\"a0b21b9d-cf5d-4bed-985c-b60d74581cc5\" type=\"checkbox\" ><label class=\"sk-toggleable__label\" for=\"a0b21b9d-cf5d-4bed-985c-b60d74581cc5\">SimpleImputer</label><div class=\"sk-toggleable__content\"><pre>SimpleImputer(fill_value='missing', strategy='constant')</pre></div></div></div><div class=\"sk-item\"><div class=\"sk-estimator sk-toggleable\"><input class=\"sk-toggleable__control sk-hidden--visually\" id=\"7609413a-4457-4864-ac40-3e806a2b64a5\" type=\"checkbox\" ><label class=\"sk-toggleable__label\" for=\"7609413a-4457-4864-ac40-3e806a2b64a5\">OrdinalEncoder</label><div class=\"sk-toggleable__content\"><pre>OrdinalEncoder(handle_unknown='use_encoded_value', unknown_value=10)</pre></div></div></div></div></div></div></div></div></div></div><div class=\"sk-item\"><div class=\"sk-estimator sk-toggleable\"><input class=\"sk-toggleable__control sk-hidden--visually\" id=\"c68ce10e-1678-4540-bfe4-0a1e1ec85718\" type=\"checkbox\" ><label class=\"sk-toggleable__label\" for=\"c68ce10e-1678-4540-bfe4-0a1e1ec85718\">GradientBoostingClassifier</label><div class=\"sk-toggleable__content\"><pre>GradientBoostingClassifier()</pre></div></div></div></div></div></div></div>"
      ],
      "text/plain": [
       "Pipeline(steps=[('columntransformer',\n",
       "                 ColumnTransformer(transformers=[('num',\n",
       "                                                  Pipeline(steps=[('imputer',\n",
       "                                                                   SimpleImputer())]),\n",
       "                                                  ['Pclass', 'SibSp', 'Parch',\n",
       "                                                   'Fare', 'Age']),\n",
       "                                                 ('cat',\n",
       "                                                  Pipeline(steps=[('imputer',\n",
       "                                                                   SimpleImputer(fill_value='missing',\n",
       "                                                                                 strategy='constant')),\n",
       "                                                                  ('ordinal',\n",
       "                                                                   OrdinalEncoder(handle_unknown='use_encoded_value',\n",
       "                                                                                  unknown_value=10))]),\n",
       "                                                  ['Sex', 'Embarked',\n",
       "                                                   'Title'])])),\n",
       "                ('gradientboostingclassifier', GradientBoostingClassifier())])"
      ]
     },
     "execution_count": 48,
     "metadata": {},
     "output_type": "execute_result"
    }
   ],
   "source": [
    "# best_model = tree_classifiers[\"SELECT MY BEST MODEL HERE\"]\n",
    "\n",
    "# Fit best model with all data\n",
    "\n"
   ]
  },
  {
   "cell_type": "markdown",
   "metadata": {},
   "source": [
    "# Exercise 7.2 (2pts)\n",
    "With your best model, generate the predicitions for test data (x_test)"
   ]
  },
  {
   "cell_type": "code",
   "execution_count": 49,
   "metadata": {
    "nbgrader": {
     "grade": false,
     "grade_id": "cell-44b93a0dbd4eb6fc",
     "locked": false,
     "schema_version": 3,
     "solution": true,
     "task": false
    }
   },
   "outputs": [],
   "source": [
    "# test_pred = # Get the predictions for x_test\n",
    "\n"
   ]
  },
  {
   "cell_type": "code",
   "execution_count": 50,
   "metadata": {
    "nbgrader": {
     "grade": true,
     "grade_id": "cell-a29fc8d24284520e",
     "locked": true,
     "points": 2,
     "schema_version": 3,
     "solution": false,
     "task": false
    }
   },
   "outputs": [],
   "source": [
    "assert len(test_pred) == 418\n",
    "assert np.unique(test_pred).tolist() == [0,1]"
   ]
  },
  {
   "cell_type": "markdown",
   "metadata": {},
   "source": [
    "# Exercise 7.3\n",
    "\n",
    "Submit to kaggle.\n",
    "\n",
    "- You can use the kaggle command line app. Check https://github.com/Kaggle/kaggle-api"
   ]
  },
  {
   "cell_type": "code",
   "execution_count": 51,
   "metadata": {},
   "outputs": [
    {
     "data": {
      "text/html": [
       "<div>\n",
       "<style scoped>\n",
       "    .dataframe tbody tr th:only-of-type {\n",
       "        vertical-align: middle;\n",
       "    }\n",
       "\n",
       "    .dataframe tbody tr th {\n",
       "        vertical-align: top;\n",
       "    }\n",
       "\n",
       "    .dataframe thead th {\n",
       "        text-align: right;\n",
       "    }\n",
       "</style>\n",
       "<table border=\"1\" class=\"dataframe\">\n",
       "  <thead>\n",
       "    <tr style=\"text-align: right;\">\n",
       "      <th></th>\n",
       "      <th>Survived</th>\n",
       "    </tr>\n",
       "    <tr>\n",
       "      <th>PassengerId</th>\n",
       "      <th></th>\n",
       "    </tr>\n",
       "  </thead>\n",
       "  <tbody>\n",
       "    <tr>\n",
       "      <th>892</th>\n",
       "      <td>0</td>\n",
       "    </tr>\n",
       "    <tr>\n",
       "      <th>893</th>\n",
       "      <td>0</td>\n",
       "    </tr>\n",
       "    <tr>\n",
       "      <th>894</th>\n",
       "      <td>0</td>\n",
       "    </tr>\n",
       "    <tr>\n",
       "      <th>895</th>\n",
       "      <td>0</td>\n",
       "    </tr>\n",
       "    <tr>\n",
       "      <th>896</th>\n",
       "      <td>1</td>\n",
       "    </tr>\n",
       "  </tbody>\n",
       "</table>\n",
       "</div>"
      ],
      "text/plain": [
       "             Survived\n",
       "PassengerId          \n",
       "892                 0\n",
       "893                 0\n",
       "894                 0\n",
       "895                 0\n",
       "896                 1"
      ]
     },
     "execution_count": 51,
     "metadata": {},
     "output_type": "execute_result"
    }
   ],
   "source": [
    "\"\"\"sub = pd.DataFrame(test_pred, index=x_test.index, columns=[\"Survived\"])\n",
    "sub.head()\"\"\""
   ]
  },
  {
   "cell_type": "code",
   "execution_count": 52,
   "metadata": {},
   "outputs": [],
   "source": [
    "'''sub.to_csv(\"sub.csv\")'''"
   ]
  },
  {
   "cell_type": "code",
   "execution_count": 53,
   "metadata": {},
   "outputs": [
    {
     "name": "stderr",
     "output_type": "stream",
     "text": [
      "'kaggle' is not recognized as an internal or external command,\n",
      "operable program or batch file.\n"
     ]
    }
   ],
   "source": [
    "!kaggle competitions submit -c titanic -f sub.csv -m \"My submission message\""
   ]
  }
 ],
 "metadata": {
  "anaconda-cloud": {},
  "celltoolbar": "Create Assignment",
  "colab": {
   "collapsed_sections": [],
   "name": "Titanic LogReg.ipynb",
   "provenance": []
  },
  "interpreter": {
   "hash": "c2ad988b83bc3032ab0bc6c9b326315d9b3145f093b7c28f6f9e14e1089dbd73"
  },
  "kernelspec": {
   "display_name": "Python 3.8.10 64-bit ('NLP': conda)",
   "name": "python3"
  },
  "language_info": {
   "codemirror_mode": {
    "name": "ipython",
    "version": 3
   },
   "file_extension": ".py",
   "mimetype": "text/x-python",
   "name": "python",
   "nbconvert_exporter": "python",
   "pygments_lexer": "ipython3",
   "version": "3.10.4"
  },
  "name": "seminar13_optional_practice_trees_titanic.ipynb"
 },
 "nbformat": 4,
 "nbformat_minor": 4
}
