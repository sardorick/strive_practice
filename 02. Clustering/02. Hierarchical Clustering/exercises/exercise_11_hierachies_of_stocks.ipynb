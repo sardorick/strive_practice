{
 "cells": [
  {
   "cell_type": "markdown",
   "metadata": {},
   "source": [
    "# Exercise 11: Hierarchies of stocks\n",
    "\n",
    "Previously, you used k-means clustering to cluster companies according to their stock price movements. This time, perform _hierarchical_ clustering of the companies.  You are given a NumPy array of price movements `movements`, where the rows correspond to companies, and a list of the company names `companies`.\n",
    "\n",
    "SciPy hierarchical clustering doesn't fit into a sklearn pipeline, so you'll need to use the `normalize()` function from `sklearn.preprocessing` instead of `Normalizer`."
   ]
  },
  {
   "cell_type": "markdown",
   "metadata": {},
   "source": [
    "**Step 1:** Load the data _(written for you)_"
   ]
  },
  {
   "cell_type": "code",
   "execution_count": 1,
   "metadata": {
    "collapsed": true,
    "exercise": false
   },
   "outputs": [],
   "source": [
    "import pandas as pd\n",
    "\n",
    "fn = '../datasets/company-stock-movements-2010-2015-incl.csv'\n",
    "stocks_df = pd.read_csv(fn, index_col=0)\n",
    "\n",
    "companies = list(stocks_df.index)\n",
    "movements = stocks_df.values"
   ]
  },
  {
   "cell_type": "markdown",
   "metadata": {},
   "source": [
    "**Step 2:** Make the necessary imports:\n",
    "\n",
    " + `normalize` from `sklearn.preprocessing`.\n",
    " + `linkage` and `dendrogram` from `scipy.cluster.hierarchy`.\n",
    " + `matplotlib.pyplot` as `plt`."
   ]
  },
  {
   "cell_type": "code",
   "execution_count": 2,
   "metadata": {
    "collapsed": true
   },
   "outputs": [],
   "source": [
    "from sklearn.preprocessing import normalize\n",
    "from scipy.cluster.hierarchy import linkage, dendrogram\n",
    "import matplotlib.pyplot as plt"
   ]
  },
  {
   "cell_type": "markdown",
   "metadata": {},
   "source": [
    "**Step 3:** Rescale the price movements for each stock by using the `normalize()` function on `movements`."
   ]
  },
  {
   "cell_type": "code",
   "execution_count": 6,
   "metadata": {
    "collapsed": true
   },
   "outputs": [],
   "source": [
    "normalized_movements = normalize(movements)"
   ]
  },
  {
   "cell_type": "markdown",
   "metadata": {},
   "source": [
    "**Step 4:** Apply the `linkage()` function to `normalized_movements`, using `'complete'` linkage, to calculate the hierarchical clustering. Assign the result to `mergings`."
   ]
  },
  {
   "cell_type": "code",
   "execution_count": 7,
   "metadata": {
    "collapsed": true
   },
   "outputs": [],
   "source": [
    "mergings = linkage(normalized_movements, method='complete')"
   ]
  },
  {
   "cell_type": "markdown",
   "metadata": {},
   "source": [
    "**Step 5:** Plot a dendrogram of the hierarchical clustering, using the list `companies` of company names as the `labels`. In addition, specify the `leaf_rotation=90`, and `leaf_font_size=10` keyword arguments as you did in the previous exercise."
   ]
  },
  {
   "cell_type": "code",
   "execution_count": 9,
   "metadata": {},
   "outputs": [
    {
     "data": {
      "text/plain": [
       "['Apple',\n",
       " 'AIG',\n",
       " 'Amazon',\n",
       " 'American express',\n",
       " 'Boeing',\n",
       " 'Bank of America',\n",
       " 'British American Tobacco',\n",
       " 'Canon',\n",
       " 'Caterpillar',\n",
       " 'Colgate-Palmolive',\n",
       " 'ConocoPhillips',\n",
       " 'Cisco',\n",
       " 'Chevron',\n",
       " 'DuPont de Nemours',\n",
       " 'Dell',\n",
       " 'Ford',\n",
       " 'General Electrics',\n",
       " 'Google/Alphabet',\n",
       " 'Goldman Sachs',\n",
       " 'GlaxoSmithKline',\n",
       " 'Home Depot',\n",
       " 'Honda',\n",
       " 'HP',\n",
       " 'IBM',\n",
       " 'Intel',\n",
       " 'Johnson & Johnson',\n",
       " 'JPMorgan Chase',\n",
       " 'Kimberly-Clark',\n",
       " 'Coca Cola',\n",
       " 'Lookheed Martin',\n",
       " 'MasterCard',\n",
       " 'McDonalds',\n",
       " '3M',\n",
       " 'Microsoft',\n",
       " 'Mitsubishi',\n",
       " 'Navistar',\n",
       " 'Northrop Grumman',\n",
       " 'Novartis',\n",
       " 'Pepsi',\n",
       " 'Pfizer',\n",
       " 'Procter Gamble',\n",
       " 'Philip Morris',\n",
       " 'Royal Dutch Shell',\n",
       " 'SAP',\n",
       " 'Schlumberger',\n",
       " 'Sony',\n",
       " 'Sanofi-Aventis',\n",
       " 'Symantec',\n",
       " 'Toyota',\n",
       " 'Total',\n",
       " 'Taiwan Semiconductor Manufacturing',\n",
       " 'Texas instruments',\n",
       " 'Unilever',\n",
       " 'Valero Energy',\n",
       " 'Walgreen',\n",
       " 'Wells Fargo',\n",
       " 'Wal-Mart',\n",
       " 'Exxon',\n",
       " 'Xerox',\n",
       " 'Yahoo']"
      ]
     },
     "execution_count": 9,
     "metadata": {},
     "output_type": "execute_result"
    }
   ],
   "source": [
    "companies"
   ]
  },
  {
   "cell_type": "code",
   "execution_count": 12,
   "metadata": {},
   "outputs": [
    {
     "data": {
      "image/png": "[encoded data removed]",
      "text/plain": [
       "<Figure size 1080x360 with 1 Axes>"
      ]
     },
     "metadata": {
      "needs_background": "light"
     },
     "output_type": "display_data"
    }
   ],
   "source": [
    "plt.figure(figsize=(15, 5))\n",
    "dendrogram(mergings, leaf_rotation=90, leaf_font_size=10) # getting an error with labels as 'companies'\n",
    "plt.show()"
   ]
  },
  {
   "cell_type": "code",
   "execution_count": null,
   "metadata": {},
   "outputs": [],
   "source": []
  }
 ],
 "metadata": {
  "kernelspec": {
   "display_name": "Python 3",
   "language": "python",
   "name": "python3"
  },
  "language_info": {
   "codemirror_mode": {
    "name": "ipython",
    "version": 3
   },
   "file_extension": ".py",
   "mimetype": "text/x-python",
   "name": "python",
   "nbconvert_exporter": "python",
   "pygments_lexer": "ipython3",
   "version": "3.10.4"
  }
 },
 "nbformat": 4,
 "nbformat_minor": 2
}
